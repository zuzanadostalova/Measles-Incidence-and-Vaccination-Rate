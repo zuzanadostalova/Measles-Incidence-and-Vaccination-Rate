{
 "cells": [
  {
   "cell_type": "code",
   "execution_count": 13,
   "metadata": {
    "collapsed": false,
    "jupyter": {
     "outputs_hidden": false
    },
    "pycharm": {
     "name": "#%%\n"
    }
   },
   "outputs": [],
   "source": [
    "import pandas as pd\n",
    "import plotly.express as px"
   ]
  },
  {
   "cell_type": "code",
   "execution_count": 14,
   "metadata": {
    "collapsed": false,
    "jupyter": {
     "outputs_hidden": false
    },
    "pycharm": {
     "name": "#%%\n"
    }
   },
   "outputs": [
    {
     "data": {
      "text/html": [
       "<div>\n",
       "<style scoped>\n",
       "    .dataframe tbody tr th:only-of-type {\n",
       "        vertical-align: middle;\n",
       "    }\n",
       "\n",
       "    .dataframe tbody tr th {\n",
       "        vertical-align: top;\n",
       "    }\n",
       "\n",
       "    .dataframe thead th {\n",
       "        text-align: right;\n",
       "    }\n",
       "</style>\n",
       "<table border=\"1\" class=\"dataframe\">\n",
       "  <thead>\n",
       "    <tr style=\"text-align: right;\">\n",
       "      <th></th>\n",
       "      <th>Country Name</th>\n",
       "      <th>Country Code</th>\n",
       "      <th>Indicator Name</th>\n",
       "      <th>Indicator Code</th>\n",
       "      <th>1960</th>\n",
       "      <th>1961</th>\n",
       "      <th>1962</th>\n",
       "      <th>1963</th>\n",
       "      <th>1964</th>\n",
       "      <th>1965</th>\n",
       "      <th>...</th>\n",
       "      <th>2011</th>\n",
       "      <th>2012</th>\n",
       "      <th>2013</th>\n",
       "      <th>2014</th>\n",
       "      <th>2015</th>\n",
       "      <th>2016</th>\n",
       "      <th>2017</th>\n",
       "      <th>2018</th>\n",
       "      <th>2019</th>\n",
       "      <th>2020</th>\n",
       "    </tr>\n",
       "  </thead>\n",
       "  <tbody>\n",
       "    <tr>\n",
       "      <th>0</th>\n",
       "      <td>Aruba</td>\n",
       "      <td>ABW</td>\n",
       "      <td>Immunization, measles (% of children ages 12-2...</td>\n",
       "      <td>SH.IMM.MEAS</td>\n",
       "      <td>NaN</td>\n",
       "      <td>NaN</td>\n",
       "      <td>NaN</td>\n",
       "      <td>NaN</td>\n",
       "      <td>NaN</td>\n",
       "      <td>NaN</td>\n",
       "      <td>...</td>\n",
       "      <td>NaN</td>\n",
       "      <td>NaN</td>\n",
       "      <td>NaN</td>\n",
       "      <td>NaN</td>\n",
       "      <td>NaN</td>\n",
       "      <td>NaN</td>\n",
       "      <td>NaN</td>\n",
       "      <td>NaN</td>\n",
       "      <td>NaN</td>\n",
       "      <td>NaN</td>\n",
       "    </tr>\n",
       "    <tr>\n",
       "      <th>1</th>\n",
       "      <td>Africa Eastern and Southern</td>\n",
       "      <td>AFE</td>\n",
       "      <td>Immunization, measles (% of children ages 12-2...</td>\n",
       "      <td>SH.IMM.MEAS</td>\n",
       "      <td>NaN</td>\n",
       "      <td>NaN</td>\n",
       "      <td>NaN</td>\n",
       "      <td>NaN</td>\n",
       "      <td>NaN</td>\n",
       "      <td>NaN</td>\n",
       "      <td>...</td>\n",
       "      <td>77.374535</td>\n",
       "      <td>77.674580</td>\n",
       "      <td>76.376861</td>\n",
       "      <td>75.879152</td>\n",
       "      <td>74.835942</td>\n",
       "      <td>72.331390</td>\n",
       "      <td>72.335194</td>\n",
       "      <td>72.083187</td>\n",
       "      <td>73.258272</td>\n",
       "      <td>NaN</td>\n",
       "    </tr>\n",
       "    <tr>\n",
       "      <th>2</th>\n",
       "      <td>Afghanistan</td>\n",
       "      <td>AFG</td>\n",
       "      <td>Immunization, measles (% of children ages 12-2...</td>\n",
       "      <td>SH.IMM.MEAS</td>\n",
       "      <td>NaN</td>\n",
       "      <td>NaN</td>\n",
       "      <td>NaN</td>\n",
       "      <td>NaN</td>\n",
       "      <td>NaN</td>\n",
       "      <td>NaN</td>\n",
       "      <td>...</td>\n",
       "      <td>64.000000</td>\n",
       "      <td>59.000000</td>\n",
       "      <td>57.000000</td>\n",
       "      <td>60.000000</td>\n",
       "      <td>63.000000</td>\n",
       "      <td>64.000000</td>\n",
       "      <td>64.000000</td>\n",
       "      <td>64.000000</td>\n",
       "      <td>64.000000</td>\n",
       "      <td>NaN</td>\n",
       "    </tr>\n",
       "    <tr>\n",
       "      <th>3</th>\n",
       "      <td>Africa Western and Central</td>\n",
       "      <td>AFW</td>\n",
       "      <td>Immunization, measles (% of children ages 12-2...</td>\n",
       "      <td>SH.IMM.MEAS</td>\n",
       "      <td>NaN</td>\n",
       "      <td>NaN</td>\n",
       "      <td>NaN</td>\n",
       "      <td>NaN</td>\n",
       "      <td>NaN</td>\n",
       "      <td>NaN</td>\n",
       "      <td>...</td>\n",
       "      <td>61.771312</td>\n",
       "      <td>60.518764</td>\n",
       "      <td>59.875803</td>\n",
       "      <td>59.145345</td>\n",
       "      <td>58.886435</td>\n",
       "      <td>62.947706</td>\n",
       "      <td>64.598951</td>\n",
       "      <td>64.182419</td>\n",
       "      <td>64.625093</td>\n",
       "      <td>NaN</td>\n",
       "    </tr>\n",
       "    <tr>\n",
       "      <th>4</th>\n",
       "      <td>Angola</td>\n",
       "      <td>AGO</td>\n",
       "      <td>Immunization, measles (% of children ages 12-2...</td>\n",
       "      <td>SH.IMM.MEAS</td>\n",
       "      <td>NaN</td>\n",
       "      <td>NaN</td>\n",
       "      <td>NaN</td>\n",
       "      <td>NaN</td>\n",
       "      <td>NaN</td>\n",
       "      <td>NaN</td>\n",
       "      <td>...</td>\n",
       "      <td>57.000000</td>\n",
       "      <td>65.000000</td>\n",
       "      <td>59.000000</td>\n",
       "      <td>56.000000</td>\n",
       "      <td>51.000000</td>\n",
       "      <td>45.000000</td>\n",
       "      <td>42.000000</td>\n",
       "      <td>50.000000</td>\n",
       "      <td>51.000000</td>\n",
       "      <td>NaN</td>\n",
       "    </tr>\n",
       "  </tbody>\n",
       "</table>\n",
       "<p>5 rows × 65 columns</p>\n",
       "</div>"
      ],
      "text/plain": [
       "                  Country Name Country Code  \\\n",
       "0                        Aruba          ABW   \n",
       "1  Africa Eastern and Southern          AFE   \n",
       "2                  Afghanistan          AFG   \n",
       "3   Africa Western and Central          AFW   \n",
       "4                       Angola          AGO   \n",
       "\n",
       "                                      Indicator Name Indicator Code  1960  \\\n",
       "0  Immunization, measles (% of children ages 12-2...    SH.IMM.MEAS   NaN   \n",
       "1  Immunization, measles (% of children ages 12-2...    SH.IMM.MEAS   NaN   \n",
       "2  Immunization, measles (% of children ages 12-2...    SH.IMM.MEAS   NaN   \n",
       "3  Immunization, measles (% of children ages 12-2...    SH.IMM.MEAS   NaN   \n",
       "4  Immunization, measles (% of children ages 12-2...    SH.IMM.MEAS   NaN   \n",
       "\n",
       "   1961  1962  1963  1964  1965  ...       2011       2012       2013  \\\n",
       "0   NaN   NaN   NaN   NaN   NaN  ...        NaN        NaN        NaN   \n",
       "1   NaN   NaN   NaN   NaN   NaN  ...  77.374535  77.674580  76.376861   \n",
       "2   NaN   NaN   NaN   NaN   NaN  ...  64.000000  59.000000  57.000000   \n",
       "3   NaN   NaN   NaN   NaN   NaN  ...  61.771312  60.518764  59.875803   \n",
       "4   NaN   NaN   NaN   NaN   NaN  ...  57.000000  65.000000  59.000000   \n",
       "\n",
       "        2014       2015       2016       2017       2018       2019  2020  \n",
       "0        NaN        NaN        NaN        NaN        NaN        NaN   NaN  \n",
       "1  75.879152  74.835942  72.331390  72.335194  72.083187  73.258272   NaN  \n",
       "2  60.000000  63.000000  64.000000  64.000000  64.000000  64.000000   NaN  \n",
       "3  59.145345  58.886435  62.947706  64.598951  64.182419  64.625093   NaN  \n",
       "4  56.000000  51.000000  45.000000  42.000000  50.000000  51.000000   NaN  \n",
       "\n",
       "[5 rows x 65 columns]"
      ]
     },
     "execution_count": 14,
     "metadata": {},
     "output_type": "execute_result"
    }
   ],
   "source": [
    "# Create a dataframe from the immunization of children csv\n",
    "df_immun_child_world_years = pd.read_csv(\"../data/API_SH.IMM.MEAS_DS2_en_csv_v2_3692853.csv\", skiprows=0)\n",
    "df_immun_child_world_years.head(5)"
   ]
  },
  {
   "cell_type": "code",
   "execution_count": 15,
   "metadata": {
    "collapsed": false,
    "jupyter": {
     "outputs_hidden": false
    },
    "pycharm": {
     "name": "#%%\n"
    }
   },
   "outputs": [
    {
     "data": {
      "text/html": [
       "<div>\n",
       "<style scoped>\n",
       "    .dataframe tbody tr th:only-of-type {\n",
       "        vertical-align: middle;\n",
       "    }\n",
       "\n",
       "    .dataframe tbody tr th {\n",
       "        vertical-align: top;\n",
       "    }\n",
       "\n",
       "    .dataframe thead th {\n",
       "        text-align: right;\n",
       "    }\n",
       "</style>\n",
       "<table border=\"1\" class=\"dataframe\">\n",
       "  <thead>\n",
       "    <tr style=\"text-align: right;\">\n",
       "      <th></th>\n",
       "      <th>Country Name</th>\n",
       "      <th>Country Code</th>\n",
       "      <th>Indicator Name</th>\n",
       "      <th>Indicator Code</th>\n",
       "      <th>1980</th>\n",
       "      <th>1981</th>\n",
       "      <th>1982</th>\n",
       "      <th>1983</th>\n",
       "      <th>1984</th>\n",
       "      <th>1985</th>\n",
       "      <th>...</th>\n",
       "      <th>2010</th>\n",
       "      <th>2011</th>\n",
       "      <th>2012</th>\n",
       "      <th>2013</th>\n",
       "      <th>2014</th>\n",
       "      <th>2015</th>\n",
       "      <th>2016</th>\n",
       "      <th>2017</th>\n",
       "      <th>2018</th>\n",
       "      <th>2019</th>\n",
       "    </tr>\n",
       "  </thead>\n",
       "  <tbody>\n",
       "    <tr>\n",
       "      <th>0</th>\n",
       "      <td>Aruba</td>\n",
       "      <td>ABW</td>\n",
       "      <td>Immunization, measles (% of children ages 12-2...</td>\n",
       "      <td>SH.IMM.MEAS</td>\n",
       "      <td>NaN</td>\n",
       "      <td>NaN</td>\n",
       "      <td>NaN</td>\n",
       "      <td>NaN</td>\n",
       "      <td>NaN</td>\n",
       "      <td>NaN</td>\n",
       "      <td>...</td>\n",
       "      <td>NaN</td>\n",
       "      <td>NaN</td>\n",
       "      <td>NaN</td>\n",
       "      <td>NaN</td>\n",
       "      <td>NaN</td>\n",
       "      <td>NaN</td>\n",
       "      <td>NaN</td>\n",
       "      <td>NaN</td>\n",
       "      <td>NaN</td>\n",
       "      <td>NaN</td>\n",
       "    </tr>\n",
       "    <tr>\n",
       "      <th>1</th>\n",
       "      <td>Africa Eastern and Southern</td>\n",
       "      <td>AFE</td>\n",
       "      <td>Immunization, measles (% of children ages 12-2...</td>\n",
       "      <td>SH.IMM.MEAS</td>\n",
       "      <td>8.960347</td>\n",
       "      <td>16.991750</td>\n",
       "      <td>19.526201</td>\n",
       "      <td>31.738697</td>\n",
       "      <td>35.738475</td>\n",
       "      <td>40.470586</td>\n",
       "      <td>...</td>\n",
       "      <td>77.152899</td>\n",
       "      <td>77.374535</td>\n",
       "      <td>77.674580</td>\n",
       "      <td>76.376861</td>\n",
       "      <td>75.879152</td>\n",
       "      <td>74.835942</td>\n",
       "      <td>72.331390</td>\n",
       "      <td>72.335194</td>\n",
       "      <td>72.083187</td>\n",
       "      <td>73.258272</td>\n",
       "    </tr>\n",
       "    <tr>\n",
       "      <th>2</th>\n",
       "      <td>Afghanistan</td>\n",
       "      <td>AFG</td>\n",
       "      <td>Immunization, measles (% of children ages 12-2...</td>\n",
       "      <td>SH.IMM.MEAS</td>\n",
       "      <td>11.000000</td>\n",
       "      <td>NaN</td>\n",
       "      <td>8.000000</td>\n",
       "      <td>9.000000</td>\n",
       "      <td>14.000000</td>\n",
       "      <td>14.000000</td>\n",
       "      <td>...</td>\n",
       "      <td>62.000000</td>\n",
       "      <td>64.000000</td>\n",
       "      <td>59.000000</td>\n",
       "      <td>57.000000</td>\n",
       "      <td>60.000000</td>\n",
       "      <td>63.000000</td>\n",
       "      <td>64.000000</td>\n",
       "      <td>64.000000</td>\n",
       "      <td>64.000000</td>\n",
       "      <td>64.000000</td>\n",
       "    </tr>\n",
       "    <tr>\n",
       "      <th>3</th>\n",
       "      <td>Africa Western and Central</td>\n",
       "      <td>AFW</td>\n",
       "      <td>Immunization, measles (% of children ages 12-2...</td>\n",
       "      <td>SH.IMM.MEAS</td>\n",
       "      <td>2.069974</td>\n",
       "      <td>5.162453</td>\n",
       "      <td>5.911768</td>\n",
       "      <td>5.777068</td>\n",
       "      <td>12.381664</td>\n",
       "      <td>21.387994</td>\n",
       "      <td>...</td>\n",
       "      <td>65.486174</td>\n",
       "      <td>61.771312</td>\n",
       "      <td>60.518764</td>\n",
       "      <td>59.875803</td>\n",
       "      <td>59.145345</td>\n",
       "      <td>58.886435</td>\n",
       "      <td>62.947706</td>\n",
       "      <td>64.598951</td>\n",
       "      <td>64.182419</td>\n",
       "      <td>64.625093</td>\n",
       "    </tr>\n",
       "    <tr>\n",
       "      <th>4</th>\n",
       "      <td>Angola</td>\n",
       "      <td>AGO</td>\n",
       "      <td>Immunization, measles (% of children ages 12-2...</td>\n",
       "      <td>SH.IMM.MEAS</td>\n",
       "      <td>NaN</td>\n",
       "      <td>NaN</td>\n",
       "      <td>NaN</td>\n",
       "      <td>26.000000</td>\n",
       "      <td>35.000000</td>\n",
       "      <td>44.000000</td>\n",
       "      <td>...</td>\n",
       "      <td>62.000000</td>\n",
       "      <td>57.000000</td>\n",
       "      <td>65.000000</td>\n",
       "      <td>59.000000</td>\n",
       "      <td>56.000000</td>\n",
       "      <td>51.000000</td>\n",
       "      <td>45.000000</td>\n",
       "      <td>42.000000</td>\n",
       "      <td>50.000000</td>\n",
       "      <td>51.000000</td>\n",
       "    </tr>\n",
       "    <tr>\n",
       "      <th>...</th>\n",
       "      <td>...</td>\n",
       "      <td>...</td>\n",
       "      <td>...</td>\n",
       "      <td>...</td>\n",
       "      <td>...</td>\n",
       "      <td>...</td>\n",
       "      <td>...</td>\n",
       "      <td>...</td>\n",
       "      <td>...</td>\n",
       "      <td>...</td>\n",
       "      <td>...</td>\n",
       "      <td>...</td>\n",
       "      <td>...</td>\n",
       "      <td>...</td>\n",
       "      <td>...</td>\n",
       "      <td>...</td>\n",
       "      <td>...</td>\n",
       "      <td>...</td>\n",
       "      <td>...</td>\n",
       "      <td>...</td>\n",
       "      <td>...</td>\n",
       "    </tr>\n",
       "    <tr>\n",
       "      <th>261</th>\n",
       "      <td>Kosovo</td>\n",
       "      <td>XKX</td>\n",
       "      <td>Immunization, measles (% of children ages 12-2...</td>\n",
       "      <td>SH.IMM.MEAS</td>\n",
       "      <td>NaN</td>\n",
       "      <td>NaN</td>\n",
       "      <td>NaN</td>\n",
       "      <td>NaN</td>\n",
       "      <td>NaN</td>\n",
       "      <td>NaN</td>\n",
       "      <td>...</td>\n",
       "      <td>NaN</td>\n",
       "      <td>NaN</td>\n",
       "      <td>NaN</td>\n",
       "      <td>NaN</td>\n",
       "      <td>NaN</td>\n",
       "      <td>NaN</td>\n",
       "      <td>NaN</td>\n",
       "      <td>NaN</td>\n",
       "      <td>NaN</td>\n",
       "      <td>NaN</td>\n",
       "    </tr>\n",
       "    <tr>\n",
       "      <th>262</th>\n",
       "      <td>Yemen, Rep.</td>\n",
       "      <td>YEM</td>\n",
       "      <td>Immunization, measles (% of children ages 12-2...</td>\n",
       "      <td>SH.IMM.MEAS</td>\n",
       "      <td>2.000000</td>\n",
       "      <td>4.000000</td>\n",
       "      <td>4.000000</td>\n",
       "      <td>6.000000</td>\n",
       "      <td>8.000000</td>\n",
       "      <td>13.000000</td>\n",
       "      <td>...</td>\n",
       "      <td>68.000000</td>\n",
       "      <td>66.000000</td>\n",
       "      <td>63.000000</td>\n",
       "      <td>70.000000</td>\n",
       "      <td>67.000000</td>\n",
       "      <td>67.000000</td>\n",
       "      <td>70.000000</td>\n",
       "      <td>65.000000</td>\n",
       "      <td>64.000000</td>\n",
       "      <td>67.000000</td>\n",
       "    </tr>\n",
       "    <tr>\n",
       "      <th>263</th>\n",
       "      <td>South Africa</td>\n",
       "      <td>ZAF</td>\n",
       "      <td>Immunization, measles (% of children ages 12-2...</td>\n",
       "      <td>SH.IMM.MEAS</td>\n",
       "      <td>NaN</td>\n",
       "      <td>NaN</td>\n",
       "      <td>NaN</td>\n",
       "      <td>74.000000</td>\n",
       "      <td>70.000000</td>\n",
       "      <td>70.000000</td>\n",
       "      <td>...</td>\n",
       "      <td>72.000000</td>\n",
       "      <td>77.000000</td>\n",
       "      <td>79.000000</td>\n",
       "      <td>78.000000</td>\n",
       "      <td>84.000000</td>\n",
       "      <td>86.000000</td>\n",
       "      <td>85.000000</td>\n",
       "      <td>70.000000</td>\n",
       "      <td>70.000000</td>\n",
       "      <td>72.000000</td>\n",
       "    </tr>\n",
       "    <tr>\n",
       "      <th>264</th>\n",
       "      <td>Zambia</td>\n",
       "      <td>ZMB</td>\n",
       "      <td>Immunization, measles (% of children ages 12-2...</td>\n",
       "      <td>SH.IMM.MEAS</td>\n",
       "      <td>NaN</td>\n",
       "      <td>NaN</td>\n",
       "      <td>NaN</td>\n",
       "      <td>56.000000</td>\n",
       "      <td>57.000000</td>\n",
       "      <td>58.000000</td>\n",
       "      <td>...</td>\n",
       "      <td>96.000000</td>\n",
       "      <td>83.000000</td>\n",
       "      <td>82.000000</td>\n",
       "      <td>80.000000</td>\n",
       "      <td>85.000000</td>\n",
       "      <td>90.000000</td>\n",
       "      <td>93.000000</td>\n",
       "      <td>96.000000</td>\n",
       "      <td>94.000000</td>\n",
       "      <td>93.000000</td>\n",
       "    </tr>\n",
       "    <tr>\n",
       "      <th>265</th>\n",
       "      <td>Zimbabwe</td>\n",
       "      <td>ZWE</td>\n",
       "      <td>Immunization, measles (% of children ages 12-2...</td>\n",
       "      <td>SH.IMM.MEAS</td>\n",
       "      <td>NaN</td>\n",
       "      <td>56.000000</td>\n",
       "      <td>58.000000</td>\n",
       "      <td>60.000000</td>\n",
       "      <td>62.000000</td>\n",
       "      <td>78.000000</td>\n",
       "      <td>...</td>\n",
       "      <td>90.000000</td>\n",
       "      <td>92.000000</td>\n",
       "      <td>97.000000</td>\n",
       "      <td>93.000000</td>\n",
       "      <td>92.000000</td>\n",
       "      <td>86.000000</td>\n",
       "      <td>95.000000</td>\n",
       "      <td>90.000000</td>\n",
       "      <td>88.000000</td>\n",
       "      <td>85.000000</td>\n",
       "    </tr>\n",
       "  </tbody>\n",
       "</table>\n",
       "<p>266 rows × 44 columns</p>\n",
       "</div>"
      ],
      "text/plain": [
       "                    Country Name Country Code  \\\n",
       "0                          Aruba          ABW   \n",
       "1    Africa Eastern and Southern          AFE   \n",
       "2                    Afghanistan          AFG   \n",
       "3     Africa Western and Central          AFW   \n",
       "4                         Angola          AGO   \n",
       "..                           ...          ...   \n",
       "261                       Kosovo          XKX   \n",
       "262                  Yemen, Rep.          YEM   \n",
       "263                 South Africa          ZAF   \n",
       "264                       Zambia          ZMB   \n",
       "265                     Zimbabwe          ZWE   \n",
       "\n",
       "                                        Indicator Name Indicator Code  \\\n",
       "0    Immunization, measles (% of children ages 12-2...    SH.IMM.MEAS   \n",
       "1    Immunization, measles (% of children ages 12-2...    SH.IMM.MEAS   \n",
       "2    Immunization, measles (% of children ages 12-2...    SH.IMM.MEAS   \n",
       "3    Immunization, measles (% of children ages 12-2...    SH.IMM.MEAS   \n",
       "4    Immunization, measles (% of children ages 12-2...    SH.IMM.MEAS   \n",
       "..                                                 ...            ...   \n",
       "261  Immunization, measles (% of children ages 12-2...    SH.IMM.MEAS   \n",
       "262  Immunization, measles (% of children ages 12-2...    SH.IMM.MEAS   \n",
       "263  Immunization, measles (% of children ages 12-2...    SH.IMM.MEAS   \n",
       "264  Immunization, measles (% of children ages 12-2...    SH.IMM.MEAS   \n",
       "265  Immunization, measles (% of children ages 12-2...    SH.IMM.MEAS   \n",
       "\n",
       "          1980       1981       1982       1983       1984       1985  ...  \\\n",
       "0          NaN        NaN        NaN        NaN        NaN        NaN  ...   \n",
       "1     8.960347  16.991750  19.526201  31.738697  35.738475  40.470586  ...   \n",
       "2    11.000000        NaN   8.000000   9.000000  14.000000  14.000000  ...   \n",
       "3     2.069974   5.162453   5.911768   5.777068  12.381664  21.387994  ...   \n",
       "4          NaN        NaN        NaN  26.000000  35.000000  44.000000  ...   \n",
       "..         ...        ...        ...        ...        ...        ...  ...   \n",
       "261        NaN        NaN        NaN        NaN        NaN        NaN  ...   \n",
       "262   2.000000   4.000000   4.000000   6.000000   8.000000  13.000000  ...   \n",
       "263        NaN        NaN        NaN  74.000000  70.000000  70.000000  ...   \n",
       "264        NaN        NaN        NaN  56.000000  57.000000  58.000000  ...   \n",
       "265        NaN  56.000000  58.000000  60.000000  62.000000  78.000000  ...   \n",
       "\n",
       "          2010       2011       2012       2013       2014       2015  \\\n",
       "0          NaN        NaN        NaN        NaN        NaN        NaN   \n",
       "1    77.152899  77.374535  77.674580  76.376861  75.879152  74.835942   \n",
       "2    62.000000  64.000000  59.000000  57.000000  60.000000  63.000000   \n",
       "3    65.486174  61.771312  60.518764  59.875803  59.145345  58.886435   \n",
       "4    62.000000  57.000000  65.000000  59.000000  56.000000  51.000000   \n",
       "..         ...        ...        ...        ...        ...        ...   \n",
       "261        NaN        NaN        NaN        NaN        NaN        NaN   \n",
       "262  68.000000  66.000000  63.000000  70.000000  67.000000  67.000000   \n",
       "263  72.000000  77.000000  79.000000  78.000000  84.000000  86.000000   \n",
       "264  96.000000  83.000000  82.000000  80.000000  85.000000  90.000000   \n",
       "265  90.000000  92.000000  97.000000  93.000000  92.000000  86.000000   \n",
       "\n",
       "          2016       2017       2018       2019  \n",
       "0          NaN        NaN        NaN        NaN  \n",
       "1    72.331390  72.335194  72.083187  73.258272  \n",
       "2    64.000000  64.000000  64.000000  64.000000  \n",
       "3    62.947706  64.598951  64.182419  64.625093  \n",
       "4    45.000000  42.000000  50.000000  51.000000  \n",
       "..         ...        ...        ...        ...  \n",
       "261        NaN        NaN        NaN        NaN  \n",
       "262  70.000000  65.000000  64.000000  67.000000  \n",
       "263  85.000000  70.000000  70.000000  72.000000  \n",
       "264  93.000000  96.000000  94.000000  93.000000  \n",
       "265  95.000000  90.000000  88.000000  85.000000  \n",
       "\n",
       "[266 rows x 44 columns]"
      ]
     },
     "execution_count": 15,
     "metadata": {},
     "output_type": "execute_result"
    }
   ],
   "source": [
    "df_immun_child_world_years.describe(include='all')\n",
    "df_immun_child_world_years.dropna(axis=1, how='all', inplace=True)\n",
    "df_immun_child_world_years"
   ]
  },
  {
   "cell_type": "code",
   "execution_count": 42,
   "metadata": {
    "collapsed": false,
    "jupyter": {
     "outputs_hidden": false
    },
    "pycharm": {
     "name": "#%%\n"
    }
   },
   "outputs": [
    {
     "data": {
      "text/html": [
       "<div>\n",
       "<style scoped>\n",
       "    .dataframe tbody tr th:only-of-type {\n",
       "        vertical-align: middle;\n",
       "    }\n",
       "\n",
       "    .dataframe tbody tr th {\n",
       "        vertical-align: top;\n",
       "    }\n",
       "\n",
       "    .dataframe thead th {\n",
       "        text-align: right;\n",
       "    }\n",
       "</style>\n",
       "<table border=\"1\" class=\"dataframe\">\n",
       "  <thead>\n",
       "    <tr style=\"text-align: right;\">\n",
       "      <th></th>\n",
       "      <th>Country Code</th>\n",
       "      <th>Region</th>\n",
       "      <th>IncomeGroup</th>\n",
       "      <th>SpecialNotes</th>\n",
       "      <th>TableName</th>\n",
       "      <th>Unnamed: 5</th>\n",
       "    </tr>\n",
       "  </thead>\n",
       "  <tbody>\n",
       "    <tr>\n",
       "      <th>0</th>\n",
       "      <td>ABW</td>\n",
       "      <td>Latin America &amp; Caribbean</td>\n",
       "      <td>High income</td>\n",
       "      <td>NaN</td>\n",
       "      <td>Aruba</td>\n",
       "      <td>NaN</td>\n",
       "    </tr>\n",
       "    <tr>\n",
       "      <th>1</th>\n",
       "      <td>AFE</td>\n",
       "      <td>NaN</td>\n",
       "      <td>NaN</td>\n",
       "      <td>26 countries, stretching from the Red Sea in t...</td>\n",
       "      <td>Africa Eastern and Southern</td>\n",
       "      <td>NaN</td>\n",
       "    </tr>\n",
       "    <tr>\n",
       "      <th>2</th>\n",
       "      <td>AFG</td>\n",
       "      <td>South Asia</td>\n",
       "      <td>Low income</td>\n",
       "      <td>Fiscal year end: March 20; reporting period fo...</td>\n",
       "      <td>Afghanistan</td>\n",
       "      <td>NaN</td>\n",
       "    </tr>\n",
       "    <tr>\n",
       "      <th>3</th>\n",
       "      <td>AFW</td>\n",
       "      <td>NaN</td>\n",
       "      <td>NaN</td>\n",
       "      <td>22 countries, stretching from the westernmost ...</td>\n",
       "      <td>Africa Western and Central</td>\n",
       "      <td>NaN</td>\n",
       "    </tr>\n",
       "    <tr>\n",
       "      <th>4</th>\n",
       "      <td>AGO</td>\n",
       "      <td>Sub-Saharan Africa</td>\n",
       "      <td>Lower middle income</td>\n",
       "      <td>NaN</td>\n",
       "      <td>Angola</td>\n",
       "      <td>NaN</td>\n",
       "    </tr>\n",
       "  </tbody>\n",
       "</table>\n",
       "</div>"
      ],
      "text/plain": [
       "  Country Code                     Region          IncomeGroup  \\\n",
       "0          ABW  Latin America & Caribbean          High income   \n",
       "1          AFE                        NaN                  NaN   \n",
       "2          AFG                 South Asia           Low income   \n",
       "3          AFW                        NaN                  NaN   \n",
       "4          AGO         Sub-Saharan Africa  Lower middle income   \n",
       "\n",
       "                                        SpecialNotes  \\\n",
       "0                                                NaN   \n",
       "1  26 countries, stretching from the Red Sea in t...   \n",
       "2  Fiscal year end: March 20; reporting period fo...   \n",
       "3  22 countries, stretching from the westernmost ...   \n",
       "4                                                NaN   \n",
       "\n",
       "                     TableName  Unnamed: 5  \n",
       "0                        Aruba         NaN  \n",
       "1  Africa Eastern and Southern         NaN  \n",
       "2                  Afghanistan         NaN  \n",
       "3   Africa Western and Central         NaN  \n",
       "4                       Angola         NaN  "
      ]
     },
     "execution_count": 42,
     "metadata": {},
     "output_type": "execute_result"
    }
   ],
   "source": [
    "# Create a dataframe from the immunization of children + income information csv\n",
    "df_immun_child_world_income = pd.read_csv(\"../data/Metadata_Country_API_SH.IMM.MEAS_DS2_en_csv_v2_3692853.csv\")\n",
    "df_immun_child_world_income.head(5)"
   ]
  },
  {
   "cell_type": "code",
   "execution_count": 17,
   "metadata": {
    "collapsed": false,
    "jupyter": {
     "outputs_hidden": false
    },
    "pycharm": {
     "name": "#%%\n"
    }
   },
   "outputs": [
    {
     "data": {
      "text/html": [
       "<div>\n",
       "<style scoped>\n",
       "    .dataframe tbody tr th:only-of-type {\n",
       "        vertical-align: middle;\n",
       "    }\n",
       "\n",
       "    .dataframe tbody tr th {\n",
       "        vertical-align: top;\n",
       "    }\n",
       "\n",
       "    .dataframe thead th {\n",
       "        text-align: right;\n",
       "    }\n",
       "</style>\n",
       "<table border=\"1\" class=\"dataframe\">\n",
       "  <thead>\n",
       "    <tr style=\"text-align: right;\">\n",
       "      <th></th>\n",
       "      <th>Country Code</th>\n",
       "      <th>Region</th>\n",
       "      <th>IncomeGroup</th>\n",
       "      <th>SpecialNotes</th>\n",
       "      <th>TableName</th>\n",
       "    </tr>\n",
       "  </thead>\n",
       "  <tbody>\n",
       "    <tr>\n",
       "      <th>0</th>\n",
       "      <td>ABW</td>\n",
       "      <td>Latin America &amp; Caribbean</td>\n",
       "      <td>High income</td>\n",
       "      <td>NaN</td>\n",
       "      <td>Aruba</td>\n",
       "    </tr>\n",
       "    <tr>\n",
       "      <th>1</th>\n",
       "      <td>AFE</td>\n",
       "      <td>NaN</td>\n",
       "      <td>NaN</td>\n",
       "      <td>26 countries, stretching from the Red Sea in t...</td>\n",
       "      <td>Africa Eastern and Southern</td>\n",
       "    </tr>\n",
       "    <tr>\n",
       "      <th>2</th>\n",
       "      <td>AFG</td>\n",
       "      <td>South Asia</td>\n",
       "      <td>Low income</td>\n",
       "      <td>Fiscal year end: March 20; reporting period fo...</td>\n",
       "      <td>Afghanistan</td>\n",
       "    </tr>\n",
       "    <tr>\n",
       "      <th>3</th>\n",
       "      <td>AFW</td>\n",
       "      <td>NaN</td>\n",
       "      <td>NaN</td>\n",
       "      <td>22 countries, stretching from the westernmost ...</td>\n",
       "      <td>Africa Western and Central</td>\n",
       "    </tr>\n",
       "    <tr>\n",
       "      <th>4</th>\n",
       "      <td>AGO</td>\n",
       "      <td>Sub-Saharan Africa</td>\n",
       "      <td>Lower middle income</td>\n",
       "      <td>NaN</td>\n",
       "      <td>Angola</td>\n",
       "    </tr>\n",
       "  </tbody>\n",
       "</table>\n",
       "</div>"
      ],
      "text/plain": [
       "  Country Code                     Region          IncomeGroup  \\\n",
       "0          ABW  Latin America & Caribbean          High income   \n",
       "1          AFE                        NaN                  NaN   \n",
       "2          AFG                 South Asia           Low income   \n",
       "3          AFW                        NaN                  NaN   \n",
       "4          AGO         Sub-Saharan Africa  Lower middle income   \n",
       "\n",
       "                                        SpecialNotes  \\\n",
       "0                                                NaN   \n",
       "1  26 countries, stretching from the Red Sea in t...   \n",
       "2  Fiscal year end: March 20; reporting period fo...   \n",
       "3  22 countries, stretching from the westernmost ...   \n",
       "4                                                NaN   \n",
       "\n",
       "                     TableName  \n",
       "0                        Aruba  \n",
       "1  Africa Eastern and Southern  \n",
       "2                  Afghanistan  \n",
       "3   Africa Western and Central  \n",
       "4                       Angola  "
      ]
     },
     "execution_count": 17,
     "metadata": {},
     "output_type": "execute_result"
    }
   ],
   "source": [
    "df_immun_child_world_income.drop('Unnamed: 5', axis=1, inplace=True)\n",
    "df_immun_child_world_income.head()"
   ]
  },
  {
   "cell_type": "markdown",
   "metadata": {
    "pycharm": {
     "name": "#%% md\n"
    }
   },
   "source": [
    "Merge the two dataframes"
   ]
  },
  {
   "cell_type": "code",
   "execution_count": 18,
   "metadata": {
    "collapsed": false,
    "jupyter": {
     "outputs_hidden": false
    },
    "pycharm": {
     "name": "#%%\n"
    }
   },
   "outputs": [
    {
     "data": {
      "text/html": [
       "<div>\n",
       "<style scoped>\n",
       "    .dataframe tbody tr th:only-of-type {\n",
       "        vertical-align: middle;\n",
       "    }\n",
       "\n",
       "    .dataframe tbody tr th {\n",
       "        vertical-align: top;\n",
       "    }\n",
       "\n",
       "    .dataframe thead th {\n",
       "        text-align: right;\n",
       "    }\n",
       "</style>\n",
       "<table border=\"1\" class=\"dataframe\">\n",
       "  <thead>\n",
       "    <tr style=\"text-align: right;\">\n",
       "      <th></th>\n",
       "      <th>Country Name</th>\n",
       "      <th>Country Code</th>\n",
       "      <th>Indicator Name</th>\n",
       "      <th>Indicator Code</th>\n",
       "      <th>1980</th>\n",
       "      <th>1981</th>\n",
       "      <th>1982</th>\n",
       "      <th>1983</th>\n",
       "      <th>1984</th>\n",
       "      <th>1985</th>\n",
       "      <th>...</th>\n",
       "      <th>2014</th>\n",
       "      <th>2015</th>\n",
       "      <th>2016</th>\n",
       "      <th>2017</th>\n",
       "      <th>2018</th>\n",
       "      <th>2019</th>\n",
       "      <th>Region</th>\n",
       "      <th>IncomeGroup</th>\n",
       "      <th>SpecialNotes</th>\n",
       "      <th>TableName</th>\n",
       "    </tr>\n",
       "  </thead>\n",
       "  <tbody>\n",
       "    <tr>\n",
       "      <th>0</th>\n",
       "      <td>Aruba</td>\n",
       "      <td>ABW</td>\n",
       "      <td>Immunization, measles (% of children ages 12-2...</td>\n",
       "      <td>SH.IMM.MEAS</td>\n",
       "      <td>NaN</td>\n",
       "      <td>NaN</td>\n",
       "      <td>NaN</td>\n",
       "      <td>NaN</td>\n",
       "      <td>NaN</td>\n",
       "      <td>NaN</td>\n",
       "      <td>...</td>\n",
       "      <td>NaN</td>\n",
       "      <td>NaN</td>\n",
       "      <td>NaN</td>\n",
       "      <td>NaN</td>\n",
       "      <td>NaN</td>\n",
       "      <td>NaN</td>\n",
       "      <td>Latin America &amp; Caribbean</td>\n",
       "      <td>High income</td>\n",
       "      <td>NaN</td>\n",
       "      <td>Aruba</td>\n",
       "    </tr>\n",
       "    <tr>\n",
       "      <th>1</th>\n",
       "      <td>Africa Eastern and Southern</td>\n",
       "      <td>AFE</td>\n",
       "      <td>Immunization, measles (% of children ages 12-2...</td>\n",
       "      <td>SH.IMM.MEAS</td>\n",
       "      <td>8.960347</td>\n",
       "      <td>16.991750</td>\n",
       "      <td>19.526201</td>\n",
       "      <td>31.738697</td>\n",
       "      <td>35.738475</td>\n",
       "      <td>40.470586</td>\n",
       "      <td>...</td>\n",
       "      <td>75.879152</td>\n",
       "      <td>74.835942</td>\n",
       "      <td>72.331390</td>\n",
       "      <td>72.335194</td>\n",
       "      <td>72.083187</td>\n",
       "      <td>73.258272</td>\n",
       "      <td>NaN</td>\n",
       "      <td>NaN</td>\n",
       "      <td>26 countries, stretching from the Red Sea in t...</td>\n",
       "      <td>Africa Eastern and Southern</td>\n",
       "    </tr>\n",
       "    <tr>\n",
       "      <th>2</th>\n",
       "      <td>Afghanistan</td>\n",
       "      <td>AFG</td>\n",
       "      <td>Immunization, measles (% of children ages 12-2...</td>\n",
       "      <td>SH.IMM.MEAS</td>\n",
       "      <td>11.000000</td>\n",
       "      <td>NaN</td>\n",
       "      <td>8.000000</td>\n",
       "      <td>9.000000</td>\n",
       "      <td>14.000000</td>\n",
       "      <td>14.000000</td>\n",
       "      <td>...</td>\n",
       "      <td>60.000000</td>\n",
       "      <td>63.000000</td>\n",
       "      <td>64.000000</td>\n",
       "      <td>64.000000</td>\n",
       "      <td>64.000000</td>\n",
       "      <td>64.000000</td>\n",
       "      <td>South Asia</td>\n",
       "      <td>Low income</td>\n",
       "      <td>Fiscal year end: March 20; reporting period fo...</td>\n",
       "      <td>Afghanistan</td>\n",
       "    </tr>\n",
       "    <tr>\n",
       "      <th>3</th>\n",
       "      <td>Africa Western and Central</td>\n",
       "      <td>AFW</td>\n",
       "      <td>Immunization, measles (% of children ages 12-2...</td>\n",
       "      <td>SH.IMM.MEAS</td>\n",
       "      <td>2.069974</td>\n",
       "      <td>5.162453</td>\n",
       "      <td>5.911768</td>\n",
       "      <td>5.777068</td>\n",
       "      <td>12.381664</td>\n",
       "      <td>21.387994</td>\n",
       "      <td>...</td>\n",
       "      <td>59.145345</td>\n",
       "      <td>58.886435</td>\n",
       "      <td>62.947706</td>\n",
       "      <td>64.598951</td>\n",
       "      <td>64.182419</td>\n",
       "      <td>64.625093</td>\n",
       "      <td>NaN</td>\n",
       "      <td>NaN</td>\n",
       "      <td>22 countries, stretching from the westernmost ...</td>\n",
       "      <td>Africa Western and Central</td>\n",
       "    </tr>\n",
       "    <tr>\n",
       "      <th>4</th>\n",
       "      <td>Angola</td>\n",
       "      <td>AGO</td>\n",
       "      <td>Immunization, measles (% of children ages 12-2...</td>\n",
       "      <td>SH.IMM.MEAS</td>\n",
       "      <td>NaN</td>\n",
       "      <td>NaN</td>\n",
       "      <td>NaN</td>\n",
       "      <td>26.000000</td>\n",
       "      <td>35.000000</td>\n",
       "      <td>44.000000</td>\n",
       "      <td>...</td>\n",
       "      <td>56.000000</td>\n",
       "      <td>51.000000</td>\n",
       "      <td>45.000000</td>\n",
       "      <td>42.000000</td>\n",
       "      <td>50.000000</td>\n",
       "      <td>51.000000</td>\n",
       "      <td>Sub-Saharan Africa</td>\n",
       "      <td>Lower middle income</td>\n",
       "      <td>NaN</td>\n",
       "      <td>Angola</td>\n",
       "    </tr>\n",
       "    <tr>\n",
       "      <th>...</th>\n",
       "      <td>...</td>\n",
       "      <td>...</td>\n",
       "      <td>...</td>\n",
       "      <td>...</td>\n",
       "      <td>...</td>\n",
       "      <td>...</td>\n",
       "      <td>...</td>\n",
       "      <td>...</td>\n",
       "      <td>...</td>\n",
       "      <td>...</td>\n",
       "      <td>...</td>\n",
       "      <td>...</td>\n",
       "      <td>...</td>\n",
       "      <td>...</td>\n",
       "      <td>...</td>\n",
       "      <td>...</td>\n",
       "      <td>...</td>\n",
       "      <td>...</td>\n",
       "      <td>...</td>\n",
       "      <td>...</td>\n",
       "      <td>...</td>\n",
       "    </tr>\n",
       "    <tr>\n",
       "      <th>260</th>\n",
       "      <td>Kosovo</td>\n",
       "      <td>XKX</td>\n",
       "      <td>Immunization, measles (% of children ages 12-2...</td>\n",
       "      <td>SH.IMM.MEAS</td>\n",
       "      <td>NaN</td>\n",
       "      <td>NaN</td>\n",
       "      <td>NaN</td>\n",
       "      <td>NaN</td>\n",
       "      <td>NaN</td>\n",
       "      <td>NaN</td>\n",
       "      <td>...</td>\n",
       "      <td>NaN</td>\n",
       "      <td>NaN</td>\n",
       "      <td>NaN</td>\n",
       "      <td>NaN</td>\n",
       "      <td>NaN</td>\n",
       "      <td>NaN</td>\n",
       "      <td>Europe &amp; Central Asia</td>\n",
       "      <td>Upper middle income</td>\n",
       "      <td>NaN</td>\n",
       "      <td>Kosovo</td>\n",
       "    </tr>\n",
       "    <tr>\n",
       "      <th>261</th>\n",
       "      <td>Yemen, Rep.</td>\n",
       "      <td>YEM</td>\n",
       "      <td>Immunization, measles (% of children ages 12-2...</td>\n",
       "      <td>SH.IMM.MEAS</td>\n",
       "      <td>2.000000</td>\n",
       "      <td>4.000000</td>\n",
       "      <td>4.000000</td>\n",
       "      <td>6.000000</td>\n",
       "      <td>8.000000</td>\n",
       "      <td>13.000000</td>\n",
       "      <td>...</td>\n",
       "      <td>67.000000</td>\n",
       "      <td>67.000000</td>\n",
       "      <td>70.000000</td>\n",
       "      <td>65.000000</td>\n",
       "      <td>64.000000</td>\n",
       "      <td>67.000000</td>\n",
       "      <td>Middle East &amp; North Africa</td>\n",
       "      <td>Low income</td>\n",
       "      <td>NaN</td>\n",
       "      <td>Yemen, Rep.</td>\n",
       "    </tr>\n",
       "    <tr>\n",
       "      <th>262</th>\n",
       "      <td>South Africa</td>\n",
       "      <td>ZAF</td>\n",
       "      <td>Immunization, measles (% of children ages 12-2...</td>\n",
       "      <td>SH.IMM.MEAS</td>\n",
       "      <td>NaN</td>\n",
       "      <td>NaN</td>\n",
       "      <td>NaN</td>\n",
       "      <td>74.000000</td>\n",
       "      <td>70.000000</td>\n",
       "      <td>70.000000</td>\n",
       "      <td>...</td>\n",
       "      <td>84.000000</td>\n",
       "      <td>86.000000</td>\n",
       "      <td>85.000000</td>\n",
       "      <td>70.000000</td>\n",
       "      <td>70.000000</td>\n",
       "      <td>72.000000</td>\n",
       "      <td>Sub-Saharan Africa</td>\n",
       "      <td>Upper middle income</td>\n",
       "      <td>Fiscal year end: March 31; reporting period fo...</td>\n",
       "      <td>South Africa</td>\n",
       "    </tr>\n",
       "    <tr>\n",
       "      <th>263</th>\n",
       "      <td>Zambia</td>\n",
       "      <td>ZMB</td>\n",
       "      <td>Immunization, measles (% of children ages 12-2...</td>\n",
       "      <td>SH.IMM.MEAS</td>\n",
       "      <td>NaN</td>\n",
       "      <td>NaN</td>\n",
       "      <td>NaN</td>\n",
       "      <td>56.000000</td>\n",
       "      <td>57.000000</td>\n",
       "      <td>58.000000</td>\n",
       "      <td>...</td>\n",
       "      <td>85.000000</td>\n",
       "      <td>90.000000</td>\n",
       "      <td>93.000000</td>\n",
       "      <td>96.000000</td>\n",
       "      <td>94.000000</td>\n",
       "      <td>93.000000</td>\n",
       "      <td>Sub-Saharan Africa</td>\n",
       "      <td>Lower middle income</td>\n",
       "      <td>National accounts data were rebased to reflect...</td>\n",
       "      <td>Zambia</td>\n",
       "    </tr>\n",
       "    <tr>\n",
       "      <th>264</th>\n",
       "      <td>Zimbabwe</td>\n",
       "      <td>ZWE</td>\n",
       "      <td>Immunization, measles (% of children ages 12-2...</td>\n",
       "      <td>SH.IMM.MEAS</td>\n",
       "      <td>NaN</td>\n",
       "      <td>56.000000</td>\n",
       "      <td>58.000000</td>\n",
       "      <td>60.000000</td>\n",
       "      <td>62.000000</td>\n",
       "      <td>78.000000</td>\n",
       "      <td>...</td>\n",
       "      <td>92.000000</td>\n",
       "      <td>86.000000</td>\n",
       "      <td>95.000000</td>\n",
       "      <td>90.000000</td>\n",
       "      <td>88.000000</td>\n",
       "      <td>85.000000</td>\n",
       "      <td>Sub-Saharan Africa</td>\n",
       "      <td>Lower middle income</td>\n",
       "      <td>National Accounts data are in Zimbabwean Dolla...</td>\n",
       "      <td>Zimbabwe</td>\n",
       "    </tr>\n",
       "  </tbody>\n",
       "</table>\n",
       "<p>265 rows × 48 columns</p>\n",
       "</div>"
      ],
      "text/plain": [
       "                    Country Name Country Code  \\\n",
       "0                          Aruba          ABW   \n",
       "1    Africa Eastern and Southern          AFE   \n",
       "2                    Afghanistan          AFG   \n",
       "3     Africa Western and Central          AFW   \n",
       "4                         Angola          AGO   \n",
       "..                           ...          ...   \n",
       "260                       Kosovo          XKX   \n",
       "261                  Yemen, Rep.          YEM   \n",
       "262                 South Africa          ZAF   \n",
       "263                       Zambia          ZMB   \n",
       "264                     Zimbabwe          ZWE   \n",
       "\n",
       "                                        Indicator Name Indicator Code  \\\n",
       "0    Immunization, measles (% of children ages 12-2...    SH.IMM.MEAS   \n",
       "1    Immunization, measles (% of children ages 12-2...    SH.IMM.MEAS   \n",
       "2    Immunization, measles (% of children ages 12-2...    SH.IMM.MEAS   \n",
       "3    Immunization, measles (% of children ages 12-2...    SH.IMM.MEAS   \n",
       "4    Immunization, measles (% of children ages 12-2...    SH.IMM.MEAS   \n",
       "..                                                 ...            ...   \n",
       "260  Immunization, measles (% of children ages 12-2...    SH.IMM.MEAS   \n",
       "261  Immunization, measles (% of children ages 12-2...    SH.IMM.MEAS   \n",
       "262  Immunization, measles (% of children ages 12-2...    SH.IMM.MEAS   \n",
       "263  Immunization, measles (% of children ages 12-2...    SH.IMM.MEAS   \n",
       "264  Immunization, measles (% of children ages 12-2...    SH.IMM.MEAS   \n",
       "\n",
       "          1980       1981       1982       1983       1984       1985  ...  \\\n",
       "0          NaN        NaN        NaN        NaN        NaN        NaN  ...   \n",
       "1     8.960347  16.991750  19.526201  31.738697  35.738475  40.470586  ...   \n",
       "2    11.000000        NaN   8.000000   9.000000  14.000000  14.000000  ...   \n",
       "3     2.069974   5.162453   5.911768   5.777068  12.381664  21.387994  ...   \n",
       "4          NaN        NaN        NaN  26.000000  35.000000  44.000000  ...   \n",
       "..         ...        ...        ...        ...        ...        ...  ...   \n",
       "260        NaN        NaN        NaN        NaN        NaN        NaN  ...   \n",
       "261   2.000000   4.000000   4.000000   6.000000   8.000000  13.000000  ...   \n",
       "262        NaN        NaN        NaN  74.000000  70.000000  70.000000  ...   \n",
       "263        NaN        NaN        NaN  56.000000  57.000000  58.000000  ...   \n",
       "264        NaN  56.000000  58.000000  60.000000  62.000000  78.000000  ...   \n",
       "\n",
       "          2014       2015       2016       2017       2018       2019  \\\n",
       "0          NaN        NaN        NaN        NaN        NaN        NaN   \n",
       "1    75.879152  74.835942  72.331390  72.335194  72.083187  73.258272   \n",
       "2    60.000000  63.000000  64.000000  64.000000  64.000000  64.000000   \n",
       "3    59.145345  58.886435  62.947706  64.598951  64.182419  64.625093   \n",
       "4    56.000000  51.000000  45.000000  42.000000  50.000000  51.000000   \n",
       "..         ...        ...        ...        ...        ...        ...   \n",
       "260        NaN        NaN        NaN        NaN        NaN        NaN   \n",
       "261  67.000000  67.000000  70.000000  65.000000  64.000000  67.000000   \n",
       "262  84.000000  86.000000  85.000000  70.000000  70.000000  72.000000   \n",
       "263  85.000000  90.000000  93.000000  96.000000  94.000000  93.000000   \n",
       "264  92.000000  86.000000  95.000000  90.000000  88.000000  85.000000   \n",
       "\n",
       "                         Region          IncomeGroup  \\\n",
       "0     Latin America & Caribbean          High income   \n",
       "1                           NaN                  NaN   \n",
       "2                    South Asia           Low income   \n",
       "3                           NaN                  NaN   \n",
       "4            Sub-Saharan Africa  Lower middle income   \n",
       "..                          ...                  ...   \n",
       "260       Europe & Central Asia  Upper middle income   \n",
       "261  Middle East & North Africa           Low income   \n",
       "262          Sub-Saharan Africa  Upper middle income   \n",
       "263          Sub-Saharan Africa  Lower middle income   \n",
       "264          Sub-Saharan Africa  Lower middle income   \n",
       "\n",
       "                                          SpecialNotes  \\\n",
       "0                                                  NaN   \n",
       "1    26 countries, stretching from the Red Sea in t...   \n",
       "2    Fiscal year end: March 20; reporting period fo...   \n",
       "3    22 countries, stretching from the westernmost ...   \n",
       "4                                                  NaN   \n",
       "..                                                 ...   \n",
       "260                                                NaN   \n",
       "261                                                NaN   \n",
       "262  Fiscal year end: March 31; reporting period fo...   \n",
       "263  National accounts data were rebased to reflect...   \n",
       "264  National Accounts data are in Zimbabwean Dolla...   \n",
       "\n",
       "                       TableName  \n",
       "0                          Aruba  \n",
       "1    Africa Eastern and Southern  \n",
       "2                    Afghanistan  \n",
       "3     Africa Western and Central  \n",
       "4                         Angola  \n",
       "..                           ...  \n",
       "260                       Kosovo  \n",
       "261                  Yemen, Rep.  \n",
       "262                 South Africa  \n",
       "263                       Zambia  \n",
       "264                     Zimbabwe  \n",
       "\n",
       "[265 rows x 48 columns]"
      ]
     },
     "execution_count": 18,
     "metadata": {},
     "output_type": "execute_result"
    }
   ],
   "source": [
    "df_combined_immun_child_world_income = pd.merge(df_immun_child_world_years, df_immun_child_world_income, how=\"inner\", on=[\"Country Code\"])\n",
    "df_combined_immun_child_world_income"
   ]
  },
  {
   "cell_type": "markdown",
   "metadata": {
    "pycharm": {
     "name": "#%% md\n"
    }
   },
   "source": [
    "One row is missing - exploratory analysis:"
   ]
  },
  {
   "cell_type": "code",
   "execution_count": 19,
   "metadata": {
    "collapsed": false,
    "jupyter": {
     "outputs_hidden": false
    },
    "pycharm": {
     "name": "#%%\n"
    }
   },
   "outputs": [
    {
     "data": {
      "text/html": [
       "<div>\n",
       "<style scoped>\n",
       "    .dataframe tbody tr th:only-of-type {\n",
       "        vertical-align: middle;\n",
       "    }\n",
       "\n",
       "    .dataframe tbody tr th {\n",
       "        vertical-align: top;\n",
       "    }\n",
       "\n",
       "    .dataframe thead th {\n",
       "        text-align: right;\n",
       "    }\n",
       "</style>\n",
       "<table border=\"1\" class=\"dataframe\">\n",
       "  <thead>\n",
       "    <tr style=\"text-align: right;\">\n",
       "      <th></th>\n",
       "      <th>Country Name</th>\n",
       "      <th>Country Code</th>\n",
       "      <th>Indicator Name</th>\n",
       "      <th>Indicator Code</th>\n",
       "      <th>1980</th>\n",
       "      <th>1981</th>\n",
       "      <th>1982</th>\n",
       "      <th>1983</th>\n",
       "      <th>1984</th>\n",
       "      <th>1985</th>\n",
       "      <th>...</th>\n",
       "      <th>2014</th>\n",
       "      <th>2015</th>\n",
       "      <th>2016</th>\n",
       "      <th>2017</th>\n",
       "      <th>2018</th>\n",
       "      <th>2019</th>\n",
       "      <th>Region</th>\n",
       "      <th>IncomeGroup</th>\n",
       "      <th>SpecialNotes</th>\n",
       "      <th>TableName</th>\n",
       "    </tr>\n",
       "  </thead>\n",
       "  <tbody>\n",
       "    <tr>\n",
       "      <th>110</th>\n",
       "      <td>Not classified</td>\n",
       "      <td>INX</td>\n",
       "      <td>Immunization, measles (% of children ages 12-2...</td>\n",
       "      <td>SH.IMM.MEAS</td>\n",
       "      <td>NaN</td>\n",
       "      <td>NaN</td>\n",
       "      <td>NaN</td>\n",
       "      <td>NaN</td>\n",
       "      <td>NaN</td>\n",
       "      <td>NaN</td>\n",
       "      <td>...</td>\n",
       "      <td>NaN</td>\n",
       "      <td>NaN</td>\n",
       "      <td>NaN</td>\n",
       "      <td>NaN</td>\n",
       "      <td>NaN</td>\n",
       "      <td>NaN</td>\n",
       "      <td>NaN</td>\n",
       "      <td>NaN</td>\n",
       "      <td>NaN</td>\n",
       "      <td>NaN</td>\n",
       "    </tr>\n",
       "  </tbody>\n",
       "</table>\n",
       "<p>1 rows × 48 columns</p>\n",
       "</div>"
      ],
      "text/plain": [
       "       Country Name Country Code  \\\n",
       "110  Not classified          INX   \n",
       "\n",
       "                                        Indicator Name Indicator Code  1980  \\\n",
       "110  Immunization, measles (% of children ages 12-2...    SH.IMM.MEAS   NaN   \n",
       "\n",
       "     1981  1982  1983  1984  1985  ...  2014  2015  2016  2017  2018  2019  \\\n",
       "110   NaN   NaN   NaN   NaN   NaN  ...   NaN   NaN   NaN   NaN   NaN   NaN   \n",
       "\n",
       "     Region  IncomeGroup  SpecialNotes  TableName  \n",
       "110     NaN          NaN           NaN        NaN  \n",
       "\n",
       "[1 rows x 48 columns]"
      ]
     },
     "execution_count": 19,
     "metadata": {},
     "output_type": "execute_result"
    }
   ],
   "source": [
    "alL_tables = pd.merge(df_immun_child_world_years, df_immun_child_world_income, how=\"outer\", on=[\"Country Code\"])\n",
    "alL_tables[~alL_tables['Country Code'].isin(df_combined_immun_child_world_income[\"Country Code\"].to_list())]"
   ]
  },
  {
   "cell_type": "code",
   "execution_count": 20,
   "metadata": {
    "collapsed": false,
    "jupyter": {
     "outputs_hidden": false
    },
    "pycharm": {
     "name": "#%%\n"
    }
   },
   "outputs": [],
   "source": [
    "df_combined_immun_child_world_income['id'] = df_combined_immun_child_world_income.index"
   ]
  },
  {
   "cell_type": "code",
   "execution_count": 21,
   "metadata": {
    "collapsed": false,
    "jupyter": {
     "outputs_hidden": false
    },
    "pycharm": {
     "name": "#%%\n"
    }
   },
   "outputs": [],
   "source": [
    "df_combined_immun_child_world_income.columns = [ f'value_{x}' if x.isdigit()  else x for x in df_combined_immun_child_world_income.columns]"
   ]
  },
  {
   "cell_type": "code",
   "execution_count": 22,
   "metadata": {
    "collapsed": false,
    "jupyter": {
     "outputs_hidden": false
    },
    "pycharm": {
     "name": "#%%\n"
    }
   },
   "outputs": [],
   "source": [
    "long_format_df = pd.wide_to_long(df_combined_immun_child_world_income, stubnames = 'value_', i = 'id', j='year')"
   ]
  },
  {
   "cell_type": "code",
   "execution_count": 23,
   "metadata": {
    "collapsed": false,
    "jupyter": {
     "outputs_hidden": false
    },
    "pycharm": {
     "name": "#%%\n"
    }
   },
   "outputs": [],
   "source": [
    "wk_df = long_format_df.reset_index().drop('id', axis=1)"
   ]
  },
  {
   "cell_type": "code",
   "execution_count": 24,
   "metadata": {
    "collapsed": false,
    "jupyter": {
     "outputs_hidden": false
    },
    "pycharm": {
     "name": "#%%\n"
    }
   },
   "outputs": [
    {
     "name": "stdout",
     "output_type": "stream",
     "text": [
      "<class 'pandas.core.frame.DataFrame'>\n",
      "RangeIndex: 10600 entries, 0 to 10599\n",
      "Data columns (total 10 columns):\n",
      " #   Column          Non-Null Count  Dtype  \n",
      "---  ------          --------------  -----  \n",
      " 0   year            10600 non-null  int64  \n",
      " 1   Country Code    10600 non-null  object \n",
      " 2   IncomeGroup     8640 non-null   object \n",
      " 3   TableName       10600 non-null  object \n",
      " 4   SpecialNotes    3920 non-null   object \n",
      " 5   Region          8680 non-null   object \n",
      " 6   Indicator Name  10600 non-null  object \n",
      " 7   Country Name    10600 non-null  object \n",
      " 8   Indicator Code  10600 non-null  object \n",
      " 9   value_          8824 non-null   float64\n",
      "dtypes: float64(1), int64(1), object(8)\n",
      "memory usage: 828.2+ KB\n"
     ]
    }
   ],
   "source": [
    "wk_df.info()"
   ]
  },
  {
   "cell_type": "code",
   "execution_count": 25,
   "metadata": {
    "collapsed": false,
    "jupyter": {
     "outputs_hidden": false
    },
    "pycharm": {
     "name": "#%%\n"
    }
   },
   "outputs": [],
   "source": [
    "final_vax_rate_income_df = wk_df.dropna(axis='rows')"
   ]
  },
  {
   "cell_type": "code",
   "execution_count": 26,
   "metadata": {
    "collapsed": false,
    "jupyter": {
     "outputs_hidden": false
    },
    "pycharm": {
     "name": "#%%\n"
    }
   },
   "outputs": [
    {
     "data": {
      "text/html": [
       "<div>\n",
       "<style scoped>\n",
       "    .dataframe tbody tr th:only-of-type {\n",
       "        vertical-align: middle;\n",
       "    }\n",
       "\n",
       "    .dataframe tbody tr th {\n",
       "        vertical-align: top;\n",
       "    }\n",
       "\n",
       "    .dataframe thead th {\n",
       "        text-align: right;\n",
       "    }\n",
       "</style>\n",
       "<table border=\"1\" class=\"dataframe\">\n",
       "  <thead>\n",
       "    <tr style=\"text-align: right;\">\n",
       "      <th></th>\n",
       "      <th>year</th>\n",
       "      <th>Country Code</th>\n",
       "      <th>IncomeGroup</th>\n",
       "      <th>TableName</th>\n",
       "      <th>SpecialNotes</th>\n",
       "      <th>Region</th>\n",
       "      <th>Indicator Name</th>\n",
       "      <th>Country Name</th>\n",
       "      <th>Indicator Code</th>\n",
       "      <th>value_</th>\n",
       "    </tr>\n",
       "  </thead>\n",
       "  <tbody>\n",
       "    <tr>\n",
       "      <th>2</th>\n",
       "      <td>1980</td>\n",
       "      <td>AFG</td>\n",
       "      <td>Low income</td>\n",
       "      <td>Afghanistan</td>\n",
       "      <td>Fiscal year end: March 20; reporting period fo...</td>\n",
       "      <td>South Asia</td>\n",
       "      <td>Immunization, measles (% of children ages 12-2...</td>\n",
       "      <td>Afghanistan</td>\n",
       "      <td>SH.IMM.MEAS</td>\n",
       "      <td>11.0</td>\n",
       "    </tr>\n",
       "    <tr>\n",
       "      <th>53</th>\n",
       "      <td>1980</td>\n",
       "      <td>CYP</td>\n",
       "      <td>High income</td>\n",
       "      <td>Cyprus</td>\n",
       "      <td>A simple multiplier is used to convert the nat...</td>\n",
       "      <td>Europe &amp; Central Asia</td>\n",
       "      <td>Immunization, measles (% of children ages 12-2...</td>\n",
       "      <td>Cyprus</td>\n",
       "      <td>SH.IMM.MEAS</td>\n",
       "      <td>29.0</td>\n",
       "    </tr>\n",
       "    <tr>\n",
       "      <th>67</th>\n",
       "      <td>1980</td>\n",
       "      <td>EGY</td>\n",
       "      <td>Lower middle income</td>\n",
       "      <td>Egypt, Arab Rep.</td>\n",
       "      <td>Fiscal year end: June 30; reporting period for...</td>\n",
       "      <td>Middle East &amp; North Africa</td>\n",
       "      <td>Immunization, measles (% of children ages 12-2...</td>\n",
       "      <td>Egypt, Arab Rep.</td>\n",
       "      <td>SH.IMM.MEAS</td>\n",
       "      <td>41.0</td>\n",
       "    </tr>\n",
       "    <tr>\n",
       "      <th>72</th>\n",
       "      <td>1980</td>\n",
       "      <td>ETH</td>\n",
       "      <td>Low income</td>\n",
       "      <td>Ethiopia</td>\n",
       "      <td>Fiscal year end: July 7; reporting period for ...</td>\n",
       "      <td>Sub-Saharan Africa</td>\n",
       "      <td>Immunization, measles (% of children ages 12-2...</td>\n",
       "      <td>Ethiopia</td>\n",
       "      <td>SH.IMM.MEAS</td>\n",
       "      <td>4.0</td>\n",
       "    </tr>\n",
       "    <tr>\n",
       "      <th>111</th>\n",
       "      <td>1980</td>\n",
       "      <td>IRN</td>\n",
       "      <td>Lower middle income</td>\n",
       "      <td>Iran, Islamic Rep.</td>\n",
       "      <td>Fiscal year end: March 20; reporting period fo...</td>\n",
       "      <td>Middle East &amp; North Africa</td>\n",
       "      <td>Immunization, measles (% of children ages 12-2...</td>\n",
       "      <td>Iran, Islamic Rep.</td>\n",
       "      <td>SH.IMM.MEAS</td>\n",
       "      <td>39.0</td>\n",
       "    </tr>\n",
       "    <tr>\n",
       "      <th>...</th>\n",
       "      <td>...</td>\n",
       "      <td>...</td>\n",
       "      <td>...</td>\n",
       "      <td>...</td>\n",
       "      <td>...</td>\n",
       "      <td>...</td>\n",
       "      <td>...</td>\n",
       "      <td>...</td>\n",
       "      <td>...</td>\n",
       "      <td>...</td>\n",
       "    </tr>\n",
       "    <tr>\n",
       "      <th>10581</th>\n",
       "      <td>2019</td>\n",
       "      <td>UGA</td>\n",
       "      <td>Low income</td>\n",
       "      <td>Uganda</td>\n",
       "      <td>Fiscal year end: June 30; reporting period for...</td>\n",
       "      <td>Sub-Saharan Africa</td>\n",
       "      <td>Immunization, measles (% of children ages 12-2...</td>\n",
       "      <td>Uganda</td>\n",
       "      <td>SH.IMM.MEAS</td>\n",
       "      <td>87.0</td>\n",
       "    </tr>\n",
       "    <tr>\n",
       "      <th>10594</th>\n",
       "      <td>2019</td>\n",
       "      <td>WSM</td>\n",
       "      <td>Lower middle income</td>\n",
       "      <td>Samoa</td>\n",
       "      <td>Fiscal year ends on June 30; reporting period ...</td>\n",
       "      <td>East Asia &amp; Pacific</td>\n",
       "      <td>Immunization, measles (% of children ages 12-2...</td>\n",
       "      <td>Samoa</td>\n",
       "      <td>SH.IMM.MEAS</td>\n",
       "      <td>87.0</td>\n",
       "    </tr>\n",
       "    <tr>\n",
       "      <th>10597</th>\n",
       "      <td>2019</td>\n",
       "      <td>ZAF</td>\n",
       "      <td>Upper middle income</td>\n",
       "      <td>South Africa</td>\n",
       "      <td>Fiscal year end: March 31; reporting period fo...</td>\n",
       "      <td>Sub-Saharan Africa</td>\n",
       "      <td>Immunization, measles (% of children ages 12-2...</td>\n",
       "      <td>South Africa</td>\n",
       "      <td>SH.IMM.MEAS</td>\n",
       "      <td>72.0</td>\n",
       "    </tr>\n",
       "    <tr>\n",
       "      <th>10598</th>\n",
       "      <td>2019</td>\n",
       "      <td>ZMB</td>\n",
       "      <td>Lower middle income</td>\n",
       "      <td>Zambia</td>\n",
       "      <td>National accounts data were rebased to reflect...</td>\n",
       "      <td>Sub-Saharan Africa</td>\n",
       "      <td>Immunization, measles (% of children ages 12-2...</td>\n",
       "      <td>Zambia</td>\n",
       "      <td>SH.IMM.MEAS</td>\n",
       "      <td>93.0</td>\n",
       "    </tr>\n",
       "    <tr>\n",
       "      <th>10599</th>\n",
       "      <td>2019</td>\n",
       "      <td>ZWE</td>\n",
       "      <td>Lower middle income</td>\n",
       "      <td>Zimbabwe</td>\n",
       "      <td>National Accounts data are in Zimbabwean Dolla...</td>\n",
       "      <td>Sub-Saharan Africa</td>\n",
       "      <td>Immunization, measles (% of children ages 12-2...</td>\n",
       "      <td>Zimbabwe</td>\n",
       "      <td>SH.IMM.MEAS</td>\n",
       "      <td>85.0</td>\n",
       "    </tr>\n",
       "  </tbody>\n",
       "</table>\n",
       "<p>2058 rows × 10 columns</p>\n",
       "</div>"
      ],
      "text/plain": [
       "       year Country Code          IncomeGroup           TableName  \\\n",
       "2      1980          AFG           Low income         Afghanistan   \n",
       "53     1980          CYP          High income              Cyprus   \n",
       "67     1980          EGY  Lower middle income    Egypt, Arab Rep.   \n",
       "72     1980          ETH           Low income            Ethiopia   \n",
       "111    1980          IRN  Lower middle income  Iran, Islamic Rep.   \n",
       "...     ...          ...                  ...                 ...   \n",
       "10581  2019          UGA           Low income              Uganda   \n",
       "10594  2019          WSM  Lower middle income               Samoa   \n",
       "10597  2019          ZAF  Upper middle income        South Africa   \n",
       "10598  2019          ZMB  Lower middle income              Zambia   \n",
       "10599  2019          ZWE  Lower middle income            Zimbabwe   \n",
       "\n",
       "                                            SpecialNotes  \\\n",
       "2      Fiscal year end: March 20; reporting period fo...   \n",
       "53     A simple multiplier is used to convert the nat...   \n",
       "67     Fiscal year end: June 30; reporting period for...   \n",
       "72     Fiscal year end: July 7; reporting period for ...   \n",
       "111    Fiscal year end: March 20; reporting period fo...   \n",
       "...                                                  ...   \n",
       "10581  Fiscal year end: June 30; reporting period for...   \n",
       "10594  Fiscal year ends on June 30; reporting period ...   \n",
       "10597  Fiscal year end: March 31; reporting period fo...   \n",
       "10598  National accounts data were rebased to reflect...   \n",
       "10599  National Accounts data are in Zimbabwean Dolla...   \n",
       "\n",
       "                           Region  \\\n",
       "2                      South Asia   \n",
       "53          Europe & Central Asia   \n",
       "67     Middle East & North Africa   \n",
       "72             Sub-Saharan Africa   \n",
       "111    Middle East & North Africa   \n",
       "...                           ...   \n",
       "10581          Sub-Saharan Africa   \n",
       "10594         East Asia & Pacific   \n",
       "10597          Sub-Saharan Africa   \n",
       "10598          Sub-Saharan Africa   \n",
       "10599          Sub-Saharan Africa   \n",
       "\n",
       "                                          Indicator Name        Country Name  \\\n",
       "2      Immunization, measles (% of children ages 12-2...         Afghanistan   \n",
       "53     Immunization, measles (% of children ages 12-2...              Cyprus   \n",
       "67     Immunization, measles (% of children ages 12-2...    Egypt, Arab Rep.   \n",
       "72     Immunization, measles (% of children ages 12-2...            Ethiopia   \n",
       "111    Immunization, measles (% of children ages 12-2...  Iran, Islamic Rep.   \n",
       "...                                                  ...                 ...   \n",
       "10581  Immunization, measles (% of children ages 12-2...              Uganda   \n",
       "10594  Immunization, measles (% of children ages 12-2...               Samoa   \n",
       "10597  Immunization, measles (% of children ages 12-2...        South Africa   \n",
       "10598  Immunization, measles (% of children ages 12-2...              Zambia   \n",
       "10599  Immunization, measles (% of children ages 12-2...            Zimbabwe   \n",
       "\n",
       "      Indicator Code  value_  \n",
       "2        SH.IMM.MEAS    11.0  \n",
       "53       SH.IMM.MEAS    29.0  \n",
       "67       SH.IMM.MEAS    41.0  \n",
       "72       SH.IMM.MEAS     4.0  \n",
       "111      SH.IMM.MEAS    39.0  \n",
       "...              ...     ...  \n",
       "10581    SH.IMM.MEAS    87.0  \n",
       "10594    SH.IMM.MEAS    87.0  \n",
       "10597    SH.IMM.MEAS    72.0  \n",
       "10598    SH.IMM.MEAS    93.0  \n",
       "10599    SH.IMM.MEAS    85.0  \n",
       "\n",
       "[2058 rows x 10 columns]"
      ]
     },
     "execution_count": 26,
     "metadata": {},
     "output_type": "execute_result"
    }
   ],
   "source": [
    "final_vax_rate_income_df"
   ]
  },
  {
   "cell_type": "markdown",
   "metadata": {
    "pycharm": {
     "name": "#%% md\n"
    }
   },
   "source": [
    "Verify the vaccination rate information; check whether some vaccination rate percentages are over 100%"
   ]
  },
  {
   "cell_type": "code",
   "execution_count": 27,
   "metadata": {
    "collapsed": false,
    "jupyter": {
     "outputs_hidden": false
    },
    "pycharm": {
     "name": "#%%\n"
    }
   },
   "outputs": [],
   "source": [
    "check_verity_of_percentage = final_vax_rate_income_df[(final_vax_rate_income_df['value_']>100)]"
   ]
  },
  {
   "cell_type": "code",
   "execution_count": 28,
   "metadata": {
    "collapsed": false,
    "jupyter": {
     "outputs_hidden": false
    },
    "pycharm": {
     "name": "#%%\n"
    }
   },
   "outputs": [
    {
     "data": {
      "text/html": [
       "<div>\n",
       "<style scoped>\n",
       "    .dataframe tbody tr th:only-of-type {\n",
       "        vertical-align: middle;\n",
       "    }\n",
       "\n",
       "    .dataframe tbody tr th {\n",
       "        vertical-align: top;\n",
       "    }\n",
       "\n",
       "    .dataframe thead th {\n",
       "        text-align: right;\n",
       "    }\n",
       "</style>\n",
       "<table border=\"1\" class=\"dataframe\">\n",
       "  <thead>\n",
       "    <tr style=\"text-align: right;\">\n",
       "      <th></th>\n",
       "      <th>year</th>\n",
       "      <th>Country Code</th>\n",
       "      <th>IncomeGroup</th>\n",
       "      <th>TableName</th>\n",
       "      <th>SpecialNotes</th>\n",
       "      <th>Region</th>\n",
       "      <th>Indicator Name</th>\n",
       "      <th>Country Name</th>\n",
       "      <th>Indicator Code</th>\n",
       "      <th>value_</th>\n",
       "    </tr>\n",
       "  </thead>\n",
       "  <tbody>\n",
       "  </tbody>\n",
       "</table>\n",
       "</div>"
      ],
      "text/plain": [
       "Empty DataFrame\n",
       "Columns: [year, Country Code, IncomeGroup, TableName, SpecialNotes, Region, Indicator Name, Country Name, Indicator Code, value_]\n",
       "Index: []"
      ]
     },
     "execution_count": 28,
     "metadata": {},
     "output_type": "execute_result"
    }
   ],
   "source": [
    "check_verity_of_percentage"
   ]
  },
  {
   "cell_type": "markdown",
   "metadata": {
    "pycharm": {
     "name": "#%% md\n"
    }
   },
   "source": [
    "Verified: all the vaccination percentages are under 100%!"
   ]
  },
  {
   "cell_type": "markdown",
   "metadata": {
    "pycharm": {
     "name": "#%% md\n"
    }
   },
   "source": [
    "Calculate the correlation between vaccination rates and income groups:"
   ]
  },
  {
   "cell_type": "code",
   "execution_count": 29,
   "metadata": {
    "collapsed": false,
    "jupyter": {
     "outputs_hidden": false
    },
    "pycharm": {
     "name": "#%%\n"
    }
   },
   "outputs": [
    {
     "name": "stderr",
     "output_type": "stream",
     "text": [
      "/tmp/ipykernel_4421/4184054142.py:1: SettingWithCopyWarning: \n",
      "A value is trying to be set on a copy of a slice from a DataFrame.\n",
      "Try using .loc[row_indexer,col_indexer] = value instead\n",
      "\n",
      "See the caveats in the documentation: https://pandas.pydata.org/pandas-docs/stable/user_guide/indexing.html#returning-a-view-versus-a-copy\n",
      "  final_vax_rate_income_df['IncomeGroupValue'] = final_vax_rate_income_df['IncomeGroup'].replace({\"High income\": 4, \"Upper middle income\": 3, \"Lower middle income\": 2, \"Low income\": 1})\n"
     ]
    }
   ],
   "source": [
    "final_vax_rate_income_df['IncomeGroupValue'] = final_vax_rate_income_df['IncomeGroup'].replace({\"High income\": 4, \"Upper middle income\": 3, \"Lower middle income\": 2, \"Low income\": 1})"
   ]
  },
  {
   "cell_type": "markdown",
   "metadata": {
    "pycharm": {
     "name": "#%% md\n"
    }
   },
   "source": [
    "PLOTS FOR STREAMLIT:"
   ]
  },
  {
   "cell_type": "markdown",
   "metadata": {
    "pycharm": {
     "name": "#%% md\n"
    }
   },
   "source": [
    "Figure 1.1: Measles vaccination rate based on income group - scatter"
   ]
  },
  {
   "cell_type": "code",
   "execution_count": 36,
   "metadata": {
    "collapsed": false,
    "jupyter": {
     "outputs_hidden": false
    },
    "pycharm": {
     "name": "#%%\n"
    }
   },
   "outputs": [
    {
     "data": {
      "application/vnd.plotly.v1+json": {
       "config": {
        "plotlyServerURL": "https://plot.ly"
       },
       "data": [
        {
         "hovertemplate": "<b>%{hovertext}</b><br><br>year=%{x}<br>value_=%{y}<br>IncomeGroupValue=%{marker.color}<extra></extra>",
         "hovertext": [
          "Afghanistan",
          "Cyprus",
          "Egypt, Arab Rep.",
          "Ethiopia",
          "Iran, Islamic Rep.",
          "Japan",
          "Lesotho",
          "Netherlands",
          "New Zealand",
          "Pakistan",
          "Portugal",
          "Singapore",
          "Sweden",
          "Austria",
          "Belgium",
          "Cyprus",
          "Egypt, Arab Rep.",
          "Spain",
          "Ethiopia",
          "Finland",
          "Iran, Islamic Rep.",
          "Japan",
          "Lesotho",
          "Mauritania",
          "Netherlands",
          "Nepal",
          "New Zealand",
          "Pakistan",
          "Portugal",
          "Singapore",
          "Sao Tome and Principe",
          "Sweden",
          "Eswatini",
          "Tonga",
          "Uganda",
          "Zimbabwe",
          "Afghanistan",
          "Austria",
          "Belgium",
          "Bangladesh",
          "Cyprus",
          "Egypt, Arab Rep.",
          "Spain",
          "Ethiopia",
          "Finland",
          "Haiti",
          "Iran, Islamic Rep.",
          "Japan",
          "Lesotho",
          "Mauritania",
          "Netherlands",
          "Nepal",
          "New Zealand",
          "Pakistan",
          "Portugal",
          "Singapore",
          "Sao Tome and Principe",
          "Sweden",
          "Eswatini",
          "Tonga",
          "Uganda",
          "Samoa",
          "Zimbabwe",
          "Afghanistan",
          "Australia",
          "Austria",
          "Belgium",
          "Bangladesh",
          "China",
          "Cyprus",
          "Egypt, Arab Rep.",
          "Spain",
          "Ethiopia",
          "Finland",
          "France",
          "Haiti",
          "Indonesia",
          "Ireland",
          "Iran, Islamic Rep.",
          "Japan",
          "Lesotho",
          "Luxembourg",
          "Mauritania",
          "Netherlands",
          "Nepal",
          "New Zealand",
          "Pakistan",
          "Portugal",
          "Singapore",
          "Sao Tome and Principe",
          "Sweden",
          "Eswatini",
          "Tonga",
          "Uganda",
          "Samoa",
          "South Africa",
          "Zambia",
          "Zimbabwe",
          "Afghanistan",
          "Australia",
          "Austria",
          "Belgium",
          "Bangladesh",
          "China",
          "Cyprus",
          "Egypt, Arab Rep.",
          "Spain",
          "Ethiopia",
          "Finland",
          "France",
          "Greece",
          "Haiti",
          "Indonesia",
          "Ireland",
          "Iran, Islamic Rep.",
          "Japan",
          "Kenya",
          "Lesotho",
          "Luxembourg",
          "Malta",
          "Mauritania",
          "Netherlands",
          "Nepal",
          "New Zealand",
          "Pakistan",
          "Portugal",
          "Singapore",
          "Sao Tome and Principe",
          "Sweden",
          "Eswatini",
          "Thailand",
          "Tonga",
          "Uganda",
          "Samoa",
          "South Africa",
          "Zambia",
          "Zimbabwe",
          "Afghanistan",
          "Australia",
          "Austria",
          "Belgium",
          "Bangladesh",
          "China",
          "Cyprus",
          "Egypt, Arab Rep.",
          "Spain",
          "Ethiopia",
          "Finland",
          "France",
          "Greece",
          "Haiti",
          "Indonesia",
          "India",
          "Ireland",
          "Iran, Islamic Rep.",
          "Japan",
          "Kenya",
          "Lesotho",
          "Luxembourg",
          "Malta",
          "Mauritania",
          "Netherlands",
          "Nepal",
          "New Zealand",
          "Pakistan",
          "Portugal",
          "Singapore",
          "Sao Tome and Principe",
          "Sweden",
          "Eswatini",
          "Thailand",
          "Tonga",
          "Uganda",
          "Samoa",
          "South Africa",
          "Zambia",
          "Zimbabwe",
          "Afghanistan",
          "Australia",
          "Austria",
          "Belgium",
          "Bangladesh",
          "China",
          "Cyprus",
          "Egypt, Arab Rep.",
          "Spain",
          "Ethiopia",
          "Finland",
          "France",
          "Greece",
          "Haiti",
          "Indonesia",
          "India",
          "Ireland",
          "Iran, Islamic Rep.",
          "Japan",
          "Kenya",
          "Lesotho",
          "Luxembourg",
          "Malta",
          "Myanmar",
          "Mauritania",
          "Netherlands",
          "Nepal",
          "New Zealand",
          "Pakistan",
          "Palau",
          "Portugal",
          "Singapore",
          "Sao Tome and Principe",
          "Sweden",
          "Eswatini",
          "Thailand",
          "Tonga",
          "Uganda",
          "Samoa",
          "South Africa",
          "Zambia",
          "Zimbabwe",
          "Afghanistan",
          "Australia",
          "Austria",
          "Belgium",
          "Bangladesh",
          "Canada",
          "China",
          "Cyprus",
          "Egypt, Arab Rep.",
          "Spain",
          "Ethiopia",
          "Finland",
          "France",
          "Micronesia, Fed. Sts.",
          "Greece",
          "Haiti",
          "Indonesia",
          "India",
          "Ireland",
          "Iran, Islamic Rep.",
          "Japan",
          "Kenya",
          "Lesotho",
          "Luxembourg",
          "Marshall Islands",
          "Malta",
          "Myanmar",
          "Mauritania",
          "Netherlands",
          "Nepal",
          "New Zealand",
          "Pakistan",
          "Palau",
          "Portugal",
          "Singapore",
          "Sao Tome and Principe",
          "Sweden",
          "Eswatini",
          "Thailand",
          "Tonga",
          "Uganda",
          "Samoa",
          "South Africa",
          "Zambia",
          "Zimbabwe",
          "Afghanistan",
          "Australia",
          "Austria",
          "Belgium",
          "Bangladesh",
          "Canada",
          "China",
          "Cyprus",
          "Egypt, Arab Rep.",
          "Spain",
          "Ethiopia",
          "Finland",
          "France",
          "Micronesia, Fed. Sts.",
          "Greece",
          "Haiti",
          "Indonesia",
          "India",
          "Ireland",
          "Iran, Islamic Rep.",
          "Japan",
          "Kenya",
          "Lesotho",
          "Luxembourg",
          "Marshall Islands",
          "Malta",
          "Myanmar",
          "Mauritania",
          "Netherlands",
          "Nepal",
          "New Zealand",
          "Pakistan",
          "Palau",
          "Portugal",
          "Singapore",
          "Sao Tome and Principe",
          "Sweden",
          "Eswatini",
          "Thailand",
          "Tonga",
          "Uganda",
          "Samoa",
          "South Africa",
          "Zambia",
          "Zimbabwe",
          "Afghanistan",
          "Australia",
          "Austria",
          "Belgium",
          "Bangladesh",
          "Canada",
          "China",
          "Cyprus",
          "Egypt, Arab Rep.",
          "Spain",
          "Ethiopia",
          "Finland",
          "France",
          "Micronesia, Fed. Sts.",
          "Greece",
          "Haiti",
          "Indonesia",
          "India",
          "Ireland",
          "Iran, Islamic Rep.",
          "Japan",
          "Kenya",
          "Lesotho",
          "Luxembourg",
          "Marshall Islands",
          "Malta",
          "Myanmar",
          "Mauritania",
          "Netherlands",
          "Nepal",
          "New Zealand",
          "Pakistan",
          "Palau",
          "Portugal",
          "Singapore",
          "Sao Tome and Principe",
          "Sweden",
          "Eswatini",
          "Thailand",
          "Tonga",
          "Uganda",
          "Samoa",
          "South Africa",
          "Zambia",
          "Zimbabwe",
          "Afghanistan",
          "Australia",
          "Austria",
          "Belgium",
          "Bangladesh",
          "Canada",
          "China",
          "Cyprus",
          "Egypt, Arab Rep.",
          "Spain",
          "Ethiopia",
          "Finland",
          "France",
          "Micronesia, Fed. Sts.",
          "Greece",
          "Haiti",
          "Indonesia",
          "India",
          "Ireland",
          "Iran, Islamic Rep.",
          "Italy",
          "Japan",
          "Kenya",
          "Lesotho",
          "Luxembourg",
          "Marshall Islands",
          "Malta",
          "Myanmar",
          "Mauritania",
          "Netherlands",
          "Nepal",
          "New Zealand",
          "Pakistan",
          "Palau",
          "Portugal",
          "Singapore",
          "Sao Tome and Principe",
          "Sweden",
          "Eswatini",
          "Thailand",
          "Tonga",
          "Uganda",
          "Samoa",
          "South Africa",
          "Zambia",
          "Zimbabwe",
          "Afghanistan",
          "Australia",
          "Austria",
          "Belgium",
          "Bangladesh",
          "Canada",
          "China",
          "Cyprus",
          "Egypt, Arab Rep.",
          "Spain",
          "Ethiopia",
          "Finland",
          "France",
          "Micronesia, Fed. Sts.",
          "Greece",
          "Haiti",
          "Indonesia",
          "India",
          "Ireland",
          "Iran, Islamic Rep.",
          "Italy",
          "Japan",
          "Kenya",
          "Lesotho",
          "Luxembourg",
          "Marshall Islands",
          "Malta",
          "Myanmar",
          "Mauritania",
          "Namibia",
          "Netherlands",
          "Nepal",
          "New Zealand",
          "Pakistan",
          "Palau",
          "Portugal",
          "Singapore",
          "Sao Tome and Principe",
          "Sweden",
          "Eswatini",
          "Thailand",
          "Tonga",
          "Uganda",
          "Samoa",
          "South Africa",
          "Zambia",
          "Zimbabwe",
          "Afghanistan",
          "Australia",
          "Austria",
          "Belgium",
          "Bangladesh",
          "Belarus",
          "Canada",
          "China",
          "Cyprus",
          "Egypt, Arab Rep.",
          "Spain",
          "Ethiopia",
          "Finland",
          "France",
          "Micronesia, Fed. Sts.",
          "Georgia",
          "Greece",
          "Haiti",
          "Indonesia",
          "India",
          "Ireland",
          "Iran, Islamic Rep.",
          "Italy",
          "Japan",
          "Kenya",
          "Lesotho",
          "Lithuania",
          "Luxembourg",
          "Latvia",
          "Moldova",
          "Marshall Islands",
          "Malta",
          "Myanmar",
          "Mauritania",
          "Namibia",
          "Netherlands",
          "Nepal",
          "New Zealand",
          "Pakistan",
          "Palau",
          "Portugal",
          "Singapore",
          "Serbia",
          "Sao Tome and Principe",
          "Slovenia",
          "Sweden",
          "Eswatini",
          "Thailand",
          "Tonga",
          "Uganda",
          "Samoa",
          "South Africa",
          "Zambia",
          "Zimbabwe",
          "Afghanistan",
          "Australia",
          "Austria",
          "Belgium",
          "Bangladesh",
          "Belarus",
          "Canada",
          "China",
          "Cyprus",
          "Egypt, Arab Rep.",
          "Spain",
          "Estonia",
          "Ethiopia",
          "Finland",
          "France",
          "Micronesia, Fed. Sts.",
          "Georgia",
          "Greece",
          "Haiti",
          "Indonesia",
          "India",
          "Ireland",
          "Iran, Islamic Rep.",
          "Italy",
          "Japan",
          "Kenya",
          "Lesotho",
          "Lithuania",
          "Luxembourg",
          "Latvia",
          "Moldova",
          "Marshall Islands",
          "Malta",
          "Myanmar",
          "Mauritania",
          "Namibia",
          "Netherlands",
          "Nepal",
          "New Zealand",
          "Pakistan",
          "Palau",
          "Portugal",
          "Singapore",
          "Serbia",
          "Sao Tome and Principe",
          "Slovenia",
          "Sweden",
          "Eswatini",
          "Thailand",
          "Tonga",
          "Uganda",
          "Samoa",
          "South Africa",
          "Zambia",
          "Zimbabwe",
          "Afghanistan",
          "Australia",
          "Austria",
          "Belgium",
          "Bangladesh",
          "Belarus",
          "Canada",
          "China",
          "Cyprus",
          "Egypt, Arab Rep.",
          "Spain",
          "Estonia",
          "Ethiopia",
          "Finland",
          "France",
          "Micronesia, Fed. Sts.",
          "Georgia",
          "Greece",
          "Haiti",
          "Indonesia",
          "India",
          "Ireland",
          "Iran, Islamic Rep.",
          "Italy",
          "Japan",
          "Kenya",
          "Lesotho",
          "Lithuania",
          "Luxembourg",
          "Latvia",
          "Moldova",
          "Marshall Islands",
          "Malta",
          "Myanmar",
          "Mauritania",
          "Namibia",
          "Netherlands",
          "Nepal",
          "New Zealand",
          "Pakistan",
          "Palau",
          "Portugal",
          "Singapore",
          "Serbia",
          "Sao Tome and Principe",
          "Slovak Republic",
          "Slovenia",
          "Sweden",
          "Eswatini",
          "Thailand",
          "Tonga",
          "Uganda",
          "Samoa",
          "South Africa",
          "Zambia",
          "Zimbabwe",
          "Afghanistan",
          "Australia",
          "Austria",
          "Belgium",
          "Bangladesh",
          "Belarus",
          "Canada",
          "China",
          "Cyprus",
          "Egypt, Arab Rep.",
          "Spain",
          "Estonia",
          "Ethiopia",
          "Finland",
          "France",
          "Micronesia, Fed. Sts.",
          "Georgia",
          "Greece",
          "Haiti",
          "Indonesia",
          "India",
          "Ireland",
          "Iran, Islamic Rep.",
          "Italy",
          "Japan",
          "Kenya",
          "Lesotho",
          "Lithuania",
          "Luxembourg",
          "Latvia",
          "Moldova",
          "Marshall Islands",
          "Malta",
          "Myanmar",
          "Mauritania",
          "Namibia",
          "Netherlands",
          "Nepal",
          "New Zealand",
          "Pakistan",
          "Palau",
          "Portugal",
          "Singapore",
          "Serbia",
          "Sao Tome and Principe",
          "Slovak Republic",
          "Slovenia",
          "Sweden",
          "Eswatini",
          "Thailand",
          "Tonga",
          "Uganda",
          "Samoa",
          "South Africa",
          "Zambia",
          "Zimbabwe",
          "Afghanistan",
          "Australia",
          "Austria",
          "Belgium",
          "Bangladesh",
          "Belarus",
          "Canada",
          "China",
          "Cyprus",
          "Egypt, Arab Rep.",
          "Spain",
          "Estonia",
          "Ethiopia",
          "Finland",
          "France",
          "Micronesia, Fed. Sts.",
          "Georgia",
          "Greece",
          "Haiti",
          "Indonesia",
          "India",
          "Ireland",
          "Iran, Islamic Rep.",
          "Italy",
          "Japan",
          "Kenya",
          "Lesotho",
          "Lithuania",
          "Luxembourg",
          "Latvia",
          "Moldova",
          "Marshall Islands",
          "Malta",
          "Myanmar",
          "Mauritania",
          "Namibia",
          "Netherlands",
          "Nepal",
          "New Zealand",
          "Pakistan",
          "Palau",
          "Portugal",
          "Singapore",
          "Serbia",
          "Sao Tome and Principe",
          "Slovak Republic",
          "Slovenia",
          "Sweden",
          "Eswatini",
          "Thailand",
          "Tonga",
          "Uganda",
          "Samoa",
          "South Africa",
          "Zambia",
          "Zimbabwe",
          "Afghanistan",
          "Australia",
          "Austria",
          "Belgium",
          "Bangladesh",
          "Belarus",
          "Canada",
          "China",
          "Cyprus",
          "Egypt, Arab Rep.",
          "Spain",
          "Estonia",
          "Ethiopia",
          "Finland",
          "France",
          "Micronesia, Fed. Sts.",
          "Georgia",
          "Greece",
          "Haiti",
          "Indonesia",
          "India",
          "Ireland",
          "Iran, Islamic Rep.",
          "Italy",
          "Japan",
          "Kenya",
          "Lesotho",
          "Lithuania",
          "Luxembourg",
          "Latvia",
          "Moldova",
          "Marshall Islands",
          "Malta",
          "Myanmar",
          "Mauritania",
          "Namibia",
          "Netherlands",
          "Nepal",
          "Nauru",
          "New Zealand",
          "Pakistan",
          "Palau",
          "Portugal",
          "Singapore",
          "Serbia",
          "Sao Tome and Principe",
          "Slovak Republic",
          "Slovenia",
          "Sweden",
          "Eswatini",
          "Thailand",
          "Tonga",
          "Uganda",
          "Samoa",
          "South Africa",
          "Zambia",
          "Zimbabwe",
          "Afghanistan",
          "Australia",
          "Austria",
          "Belgium",
          "Bangladesh",
          "Belarus",
          "Canada",
          "China",
          "Cyprus",
          "Egypt, Arab Rep.",
          "Spain",
          "Estonia",
          "Ethiopia",
          "Finland",
          "France",
          "Micronesia, Fed. Sts.",
          "Georgia",
          "Greece",
          "Haiti",
          "Indonesia",
          "India",
          "Ireland",
          "Iran, Islamic Rep.",
          "Italy",
          "Japan",
          "Kenya",
          "Lesotho",
          "Lithuania",
          "Luxembourg",
          "Latvia",
          "Moldova",
          "Marshall Islands",
          "Malta",
          "Myanmar",
          "Mauritania",
          "Namibia",
          "Netherlands",
          "Nepal",
          "Nauru",
          "New Zealand",
          "Pakistan",
          "Palau",
          "Portugal",
          "Singapore",
          "Serbia",
          "Sao Tome and Principe",
          "Slovak Republic",
          "Slovenia",
          "Sweden",
          "Eswatini",
          "Thailand",
          "Tonga",
          "Uganda",
          "Samoa",
          "South Africa",
          "Zambia",
          "Zimbabwe",
          "Afghanistan",
          "Australia",
          "Austria",
          "Belgium",
          "Bangladesh",
          "Belarus",
          "Canada",
          "China",
          "Cyprus",
          "Egypt, Arab Rep.",
          "Spain",
          "Estonia",
          "Ethiopia",
          "Finland",
          "France",
          "Micronesia, Fed. Sts.",
          "Georgia",
          "Greece",
          "Haiti",
          "Indonesia",
          "India",
          "Ireland",
          "Iran, Islamic Rep.",
          "Italy",
          "Japan",
          "Kenya",
          "Lesotho",
          "Lithuania",
          "Luxembourg",
          "Latvia",
          "Moldova",
          "Marshall Islands",
          "Malta",
          "Myanmar",
          "Mauritania",
          "Namibia",
          "Netherlands",
          "Nepal",
          "Nauru",
          "New Zealand",
          "Pakistan",
          "Palau",
          "Portugal",
          "Singapore",
          "Serbia",
          "Sao Tome and Principe",
          "Slovak Republic",
          "Slovenia",
          "Sweden",
          "Eswatini",
          "Thailand",
          "Tonga",
          "Uganda",
          "Samoa",
          "South Africa",
          "Zambia",
          "Zimbabwe",
          "Afghanistan",
          "Australia",
          "Austria",
          "Belgium",
          "Bangladesh",
          "Belarus",
          "Canada",
          "China",
          "Cyprus",
          "Egypt, Arab Rep.",
          "Spain",
          "Estonia",
          "Ethiopia",
          "Finland",
          "France",
          "Micronesia, Fed. Sts.",
          "Georgia",
          "Greece",
          "Haiti",
          "Indonesia",
          "India",
          "Ireland",
          "Iran, Islamic Rep.",
          "Italy",
          "Japan",
          "Kenya",
          "Lesotho",
          "Lithuania",
          "Luxembourg",
          "Latvia",
          "Moldova",
          "Marshall Islands",
          "Malta",
          "Myanmar",
          "Mauritania",
          "Namibia",
          "Netherlands",
          "Nepal",
          "Nauru",
          "New Zealand",
          "Pakistan",
          "Palau",
          "Portugal",
          "Singapore",
          "Serbia",
          "Sao Tome and Principe",
          "Slovak Republic",
          "Slovenia",
          "Sweden",
          "Eswatini",
          "Thailand",
          "Tonga",
          "Uganda",
          "Samoa",
          "South Africa",
          "Zambia",
          "Zimbabwe",
          "Afghanistan",
          "Australia",
          "Austria",
          "Belgium",
          "Bangladesh",
          "Belarus",
          "Canada",
          "China",
          "Cyprus",
          "Egypt, Arab Rep.",
          "Spain",
          "Estonia",
          "Ethiopia",
          "Finland",
          "France",
          "Micronesia, Fed. Sts.",
          "Georgia",
          "Greece",
          "Haiti",
          "Indonesia",
          "India",
          "Ireland",
          "Iran, Islamic Rep.",
          "Italy",
          "Japan",
          "Kenya",
          "Lesotho",
          "Lithuania",
          "Luxembourg",
          "Latvia",
          "Moldova",
          "Marshall Islands",
          "Malta",
          "Myanmar",
          "Mauritania",
          "Namibia",
          "Netherlands",
          "Nepal",
          "Nauru",
          "New Zealand",
          "Pakistan",
          "Palau",
          "Portugal",
          "Singapore",
          "Serbia",
          "Sao Tome and Principe",
          "Slovak Republic",
          "Slovenia",
          "Sweden",
          "Eswatini",
          "Thailand",
          "Tonga",
          "Uganda",
          "Samoa",
          "South Africa",
          "Zambia",
          "Zimbabwe",
          "Afghanistan",
          "Australia",
          "Austria",
          "Belgium",
          "Bangladesh",
          "Belarus",
          "Canada",
          "China",
          "Cyprus",
          "Egypt, Arab Rep.",
          "Spain",
          "Estonia",
          "Ethiopia",
          "Finland",
          "France",
          "Micronesia, Fed. Sts.",
          "Georgia",
          "Greece",
          "Haiti",
          "Indonesia",
          "India",
          "Ireland",
          "Iran, Islamic Rep.",
          "Italy",
          "Japan",
          "Kenya",
          "Lesotho",
          "Lithuania",
          "Luxembourg",
          "Latvia",
          "Moldova",
          "Marshall Islands",
          "Malta",
          "Myanmar",
          "Mauritania",
          "Namibia",
          "Netherlands",
          "Nepal",
          "Nauru",
          "New Zealand",
          "Pakistan",
          "Palau",
          "Portugal",
          "Singapore",
          "Serbia",
          "Sao Tome and Principe",
          "Slovak Republic",
          "Slovenia",
          "Sweden",
          "Eswatini",
          "Thailand",
          "Tonga",
          "Uganda",
          "Samoa",
          "South Africa",
          "Zambia",
          "Zimbabwe",
          "Afghanistan",
          "Australia",
          "Austria",
          "Belgium",
          "Bangladesh",
          "Belarus",
          "Canada",
          "China",
          "Cyprus",
          "Egypt, Arab Rep.",
          "Spain",
          "Estonia",
          "Ethiopia",
          "Finland",
          "France",
          "Micronesia, Fed. Sts.",
          "Georgia",
          "Greece",
          "Haiti",
          "Indonesia",
          "India",
          "Ireland",
          "Iran, Islamic Rep.",
          "Italy",
          "Japan",
          "Kenya",
          "Lesotho",
          "Lithuania",
          "Luxembourg",
          "Latvia",
          "Moldova",
          "Marshall Islands",
          "Malta",
          "Myanmar",
          "Mauritania",
          "Namibia",
          "Netherlands",
          "Nepal",
          "Nauru",
          "New Zealand",
          "Pakistan",
          "Palau",
          "Portugal",
          "Singapore",
          "Serbia",
          "Sao Tome and Principe",
          "Slovak Republic",
          "Slovenia",
          "Sweden",
          "Eswatini",
          "Thailand",
          "Tonga",
          "Uganda",
          "Samoa",
          "South Africa",
          "Zambia",
          "Zimbabwe",
          "Afghanistan",
          "Australia",
          "Austria",
          "Belgium",
          "Bangladesh",
          "Belarus",
          "Canada",
          "China",
          "Cyprus",
          "Egypt, Arab Rep.",
          "Spain",
          "Estonia",
          "Ethiopia",
          "Finland",
          "France",
          "Micronesia, Fed. Sts.",
          "Georgia",
          "Greece",
          "Haiti",
          "Indonesia",
          "India",
          "Ireland",
          "Iran, Islamic Rep.",
          "Italy",
          "Japan",
          "Kenya",
          "Lesotho",
          "Lithuania",
          "Luxembourg",
          "Latvia",
          "Moldova",
          "Marshall Islands",
          "Malta",
          "Myanmar",
          "Mauritania",
          "Namibia",
          "Netherlands",
          "Nepal",
          "Nauru",
          "New Zealand",
          "Pakistan",
          "Palau",
          "Portugal",
          "Singapore",
          "Serbia",
          "Sao Tome and Principe",
          "Slovak Republic",
          "Slovenia",
          "Sweden",
          "Eswatini",
          "Thailand",
          "Tonga",
          "Uganda",
          "Samoa",
          "South Africa",
          "Zambia",
          "Zimbabwe",
          "Afghanistan",
          "Australia",
          "Austria",
          "Belgium",
          "Bangladesh",
          "Belarus",
          "Canada",
          "China",
          "Cyprus",
          "Egypt, Arab Rep.",
          "Spain",
          "Estonia",
          "Ethiopia",
          "Finland",
          "France",
          "Micronesia, Fed. Sts.",
          "Georgia",
          "Greece",
          "Haiti",
          "Indonesia",
          "India",
          "Ireland",
          "Iran, Islamic Rep.",
          "Italy",
          "Japan",
          "Kenya",
          "Lesotho",
          "Lithuania",
          "Luxembourg",
          "Latvia",
          "Moldova",
          "Marshall Islands",
          "Malta",
          "Myanmar",
          "Mauritania",
          "Namibia",
          "Netherlands",
          "Nepal",
          "Nauru",
          "New Zealand",
          "Pakistan",
          "Palau",
          "Portugal",
          "Singapore",
          "Serbia",
          "Sao Tome and Principe",
          "Slovak Republic",
          "Slovenia",
          "Sweden",
          "Eswatini",
          "Thailand",
          "Tonga",
          "Uganda",
          "Samoa",
          "South Africa",
          "Zambia",
          "Zimbabwe",
          "Afghanistan",
          "Australia",
          "Austria",
          "Belgium",
          "Bangladesh",
          "Belarus",
          "Canada",
          "China",
          "Cyprus",
          "Egypt, Arab Rep.",
          "Spain",
          "Estonia",
          "Ethiopia",
          "Finland",
          "France",
          "Micronesia, Fed. Sts.",
          "Georgia",
          "Greece",
          "Haiti",
          "Indonesia",
          "India",
          "Ireland",
          "Iran, Islamic Rep.",
          "Italy",
          "Japan",
          "Kenya",
          "Lesotho",
          "Lithuania",
          "Luxembourg",
          "Latvia",
          "Moldova",
          "Marshall Islands",
          "Malta",
          "Myanmar",
          "Montenegro",
          "Mauritania",
          "Namibia",
          "Netherlands",
          "Nepal",
          "Nauru",
          "New Zealand",
          "Pakistan",
          "Palau",
          "Portugal",
          "Singapore",
          "Serbia",
          "Sao Tome and Principe",
          "Slovak Republic",
          "Slovenia",
          "Sweden",
          "Eswatini",
          "Thailand",
          "Tonga",
          "Uganda",
          "Samoa",
          "South Africa",
          "Zambia",
          "Zimbabwe",
          "Afghanistan",
          "Australia",
          "Austria",
          "Belgium",
          "Bangladesh",
          "Belarus",
          "Canada",
          "China",
          "Cyprus",
          "Egypt, Arab Rep.",
          "Spain",
          "Estonia",
          "Ethiopia",
          "Finland",
          "France",
          "Micronesia, Fed. Sts.",
          "Georgia",
          "Greece",
          "Haiti",
          "Indonesia",
          "India",
          "Ireland",
          "Iran, Islamic Rep.",
          "Italy",
          "Japan",
          "Kenya",
          "Lesotho",
          "Lithuania",
          "Luxembourg",
          "Latvia",
          "Moldova",
          "Marshall Islands",
          "Malta",
          "Myanmar",
          "Montenegro",
          "Mauritania",
          "Namibia",
          "Netherlands",
          "Nepal",
          "Nauru",
          "New Zealand",
          "Pakistan",
          "Palau",
          "Portugal",
          "Singapore",
          "Serbia",
          "Sao Tome and Principe",
          "Slovak Republic",
          "Slovenia",
          "Sweden",
          "Eswatini",
          "Thailand",
          "Tonga",
          "Uganda",
          "Samoa",
          "South Africa",
          "Zambia",
          "Zimbabwe",
          "Afghanistan",
          "Australia",
          "Austria",
          "Belgium",
          "Bangladesh",
          "Belarus",
          "Canada",
          "China",
          "Cyprus",
          "Egypt, Arab Rep.",
          "Spain",
          "Estonia",
          "Ethiopia",
          "Finland",
          "France",
          "Micronesia, Fed. Sts.",
          "Georgia",
          "Greece",
          "Haiti",
          "Indonesia",
          "India",
          "Ireland",
          "Iran, Islamic Rep.",
          "Italy",
          "Japan",
          "Kenya",
          "Lesotho",
          "Lithuania",
          "Luxembourg",
          "Latvia",
          "Moldova",
          "Marshall Islands",
          "Malta",
          "Myanmar",
          "Montenegro",
          "Mauritania",
          "Namibia",
          "Netherlands",
          "Nepal",
          "Nauru",
          "New Zealand",
          "Pakistan",
          "Palau",
          "Portugal",
          "Singapore",
          "Serbia",
          "Sao Tome and Principe",
          "Slovak Republic",
          "Slovenia",
          "Sweden",
          "Eswatini",
          "Thailand",
          "Tonga",
          "Uganda",
          "Samoa",
          "South Africa",
          "Zambia",
          "Zimbabwe",
          "Afghanistan",
          "Australia",
          "Austria",
          "Belgium",
          "Bangladesh",
          "Belarus",
          "Canada",
          "China",
          "Cyprus",
          "Egypt, Arab Rep.",
          "Spain",
          "Estonia",
          "Ethiopia",
          "Finland",
          "France",
          "Micronesia, Fed. Sts.",
          "Georgia",
          "Greece",
          "Haiti",
          "Indonesia",
          "India",
          "Ireland",
          "Iran, Islamic Rep.",
          "Italy",
          "Japan",
          "Kenya",
          "Lesotho",
          "Lithuania",
          "Luxembourg",
          "Latvia",
          "Moldova",
          "Marshall Islands",
          "Malta",
          "Myanmar",
          "Montenegro",
          "Mauritania",
          "Namibia",
          "Netherlands",
          "Nepal",
          "Nauru",
          "New Zealand",
          "Pakistan",
          "Palau",
          "Portugal",
          "Singapore",
          "Serbia",
          "Sao Tome and Principe",
          "Slovak Republic",
          "Slovenia",
          "Sweden",
          "Eswatini",
          "Thailand",
          "Tonga",
          "Uganda",
          "Samoa",
          "South Africa",
          "Zambia",
          "Zimbabwe",
          "Afghanistan",
          "Australia",
          "Austria",
          "Belgium",
          "Bangladesh",
          "Belarus",
          "Canada",
          "China",
          "Cyprus",
          "Egypt, Arab Rep.",
          "Spain",
          "Estonia",
          "Ethiopia",
          "Finland",
          "France",
          "Micronesia, Fed. Sts.",
          "Georgia",
          "Greece",
          "Haiti",
          "Indonesia",
          "India",
          "Ireland",
          "Iran, Islamic Rep.",
          "Italy",
          "Japan",
          "Kenya",
          "Lesotho",
          "Lithuania",
          "Luxembourg",
          "Latvia",
          "Moldova",
          "Marshall Islands",
          "Malta",
          "Myanmar",
          "Montenegro",
          "Mauritania",
          "Namibia",
          "Netherlands",
          "Nepal",
          "Nauru",
          "New Zealand",
          "Pakistan",
          "Palau",
          "Portugal",
          "Singapore",
          "Serbia",
          "Sao Tome and Principe",
          "Slovak Republic",
          "Slovenia",
          "Sweden",
          "Eswatini",
          "Thailand",
          "Tonga",
          "Uganda",
          "Samoa",
          "South Africa",
          "Zambia",
          "Zimbabwe",
          "Afghanistan",
          "Australia",
          "Austria",
          "Belgium",
          "Bangladesh",
          "Belarus",
          "Canada",
          "China",
          "Cyprus",
          "Egypt, Arab Rep.",
          "Spain",
          "Estonia",
          "Ethiopia",
          "Finland",
          "France",
          "Micronesia, Fed. Sts.",
          "Georgia",
          "Greece",
          "Haiti",
          "Indonesia",
          "India",
          "Ireland",
          "Iran, Islamic Rep.",
          "Italy",
          "Japan",
          "Kenya",
          "Lesotho",
          "Lithuania",
          "Luxembourg",
          "Latvia",
          "Moldova",
          "Marshall Islands",
          "Malta",
          "Myanmar",
          "Montenegro",
          "Mauritania",
          "Namibia",
          "Netherlands",
          "Nepal",
          "Nauru",
          "New Zealand",
          "Pakistan",
          "Palau",
          "Portugal",
          "Singapore",
          "Serbia",
          "South Sudan",
          "Sao Tome and Principe",
          "Slovak Republic",
          "Slovenia",
          "Sweden",
          "Eswatini",
          "Thailand",
          "Tonga",
          "Uganda",
          "Samoa",
          "South Africa",
          "Zambia",
          "Zimbabwe",
          "Afghanistan",
          "Australia",
          "Austria",
          "Belgium",
          "Bangladesh",
          "Belarus",
          "Canada",
          "China",
          "Cyprus",
          "Egypt, Arab Rep.",
          "Spain",
          "Estonia",
          "Ethiopia",
          "Finland",
          "France",
          "Micronesia, Fed. Sts.",
          "Georgia",
          "Greece",
          "Haiti",
          "Indonesia",
          "India",
          "Ireland",
          "Iran, Islamic Rep.",
          "Italy",
          "Japan",
          "Kenya",
          "Lesotho",
          "Lithuania",
          "Luxembourg",
          "Latvia",
          "Moldova",
          "Marshall Islands",
          "Malta",
          "Myanmar",
          "Montenegro",
          "Mauritania",
          "Namibia",
          "Netherlands",
          "Nepal",
          "Nauru",
          "New Zealand",
          "Pakistan",
          "Palau",
          "Portugal",
          "Singapore",
          "Serbia",
          "South Sudan",
          "Sao Tome and Principe",
          "Slovak Republic",
          "Slovenia",
          "Sweden",
          "Eswatini",
          "Thailand",
          "Tonga",
          "Uganda",
          "Samoa",
          "South Africa",
          "Zambia",
          "Zimbabwe",
          "Afghanistan",
          "Australia",
          "Austria",
          "Belgium",
          "Bangladesh",
          "Belarus",
          "Canada",
          "China",
          "Cyprus",
          "Egypt, Arab Rep.",
          "Spain",
          "Estonia",
          "Ethiopia",
          "Finland",
          "France",
          "Micronesia, Fed. Sts.",
          "Georgia",
          "Greece",
          "Haiti",
          "Indonesia",
          "India",
          "Ireland",
          "Iran, Islamic Rep.",
          "Italy",
          "Japan",
          "Kenya",
          "Lesotho",
          "Lithuania",
          "Luxembourg",
          "Latvia",
          "Moldova",
          "Marshall Islands",
          "Malta",
          "Myanmar",
          "Montenegro",
          "Mauritania",
          "Namibia",
          "Netherlands",
          "Nepal",
          "Nauru",
          "New Zealand",
          "Pakistan",
          "Palau",
          "Portugal",
          "Singapore",
          "Serbia",
          "South Sudan",
          "Sao Tome and Principe",
          "Slovak Republic",
          "Slovenia",
          "Sweden",
          "Eswatini",
          "Thailand",
          "Tonga",
          "Uganda",
          "Samoa",
          "South Africa",
          "Zambia",
          "Zimbabwe",
          "Afghanistan",
          "Australia",
          "Austria",
          "Belgium",
          "Bangladesh",
          "Belarus",
          "Canada",
          "China",
          "Cyprus",
          "Egypt, Arab Rep.",
          "Spain",
          "Estonia",
          "Ethiopia",
          "Finland",
          "France",
          "Micronesia, Fed. Sts.",
          "Georgia",
          "Greece",
          "Haiti",
          "Indonesia",
          "India",
          "Ireland",
          "Iran, Islamic Rep.",
          "Italy",
          "Japan",
          "Kenya",
          "Lesotho",
          "Lithuania",
          "Luxembourg",
          "Latvia",
          "Moldova",
          "Marshall Islands",
          "Malta",
          "Myanmar",
          "Montenegro",
          "Mauritania",
          "Namibia",
          "Netherlands",
          "Nepal",
          "Nauru",
          "New Zealand",
          "Pakistan",
          "Palau",
          "Portugal",
          "Singapore",
          "Serbia",
          "South Sudan",
          "Sao Tome and Principe",
          "Slovak Republic",
          "Slovenia",
          "Sweden",
          "Eswatini",
          "Thailand",
          "Tonga",
          "Uganda",
          "Samoa",
          "South Africa",
          "Zambia",
          "Zimbabwe",
          "Afghanistan",
          "Australia",
          "Austria",
          "Belgium",
          "Bangladesh",
          "Belarus",
          "Canada",
          "China",
          "Cyprus",
          "Egypt, Arab Rep.",
          "Spain",
          "Estonia",
          "Ethiopia",
          "Finland",
          "France",
          "Micronesia, Fed. Sts.",
          "Georgia",
          "Greece",
          "Haiti",
          "Indonesia",
          "India",
          "Ireland",
          "Iran, Islamic Rep.",
          "Italy",
          "Japan",
          "Kenya",
          "Lesotho",
          "Lithuania",
          "Luxembourg",
          "Latvia",
          "Moldova",
          "Marshall Islands",
          "Malta",
          "Myanmar",
          "Montenegro",
          "Mauritania",
          "Namibia",
          "Netherlands",
          "Nepal",
          "Nauru",
          "New Zealand",
          "Pakistan",
          "Palau",
          "Portugal",
          "Singapore",
          "Serbia",
          "South Sudan",
          "Sao Tome and Principe",
          "Slovak Republic",
          "Slovenia",
          "Sweden",
          "Eswatini",
          "Thailand",
          "Tonga",
          "Uganda",
          "Samoa",
          "South Africa",
          "Zambia",
          "Zimbabwe",
          "Afghanistan",
          "Australia",
          "Austria",
          "Belgium",
          "Bangladesh",
          "Belarus",
          "Canada",
          "China",
          "Cyprus",
          "Egypt, Arab Rep.",
          "Spain",
          "Estonia",
          "Ethiopia",
          "Finland",
          "France",
          "Micronesia, Fed. Sts.",
          "Georgia",
          "Greece",
          "Haiti",
          "Indonesia",
          "India",
          "Ireland",
          "Iran, Islamic Rep.",
          "Italy",
          "Japan",
          "Kenya",
          "Lesotho",
          "Lithuania",
          "Luxembourg",
          "Latvia",
          "Moldova",
          "Marshall Islands",
          "Malta",
          "Myanmar",
          "Montenegro",
          "Mauritania",
          "Namibia",
          "Netherlands",
          "Nepal",
          "Nauru",
          "New Zealand",
          "Pakistan",
          "Palau",
          "Portugal",
          "Singapore",
          "Serbia",
          "South Sudan",
          "Sao Tome and Principe",
          "Slovak Republic",
          "Slovenia",
          "Sweden",
          "Eswatini",
          "Thailand",
          "Tonga",
          "Uganda",
          "Samoa",
          "South Africa",
          "Zambia",
          "Zimbabwe",
          "Afghanistan",
          "Australia",
          "Austria",
          "Belgium",
          "Bangladesh",
          "Belarus",
          "Canada",
          "China",
          "Cyprus",
          "Egypt, Arab Rep.",
          "Spain",
          "Estonia",
          "Ethiopia",
          "Finland",
          "France",
          "Micronesia, Fed. Sts.",
          "Georgia",
          "Greece",
          "Haiti",
          "Indonesia",
          "India",
          "Ireland",
          "Iran, Islamic Rep.",
          "Italy",
          "Japan",
          "Kenya",
          "Lesotho",
          "Lithuania",
          "Luxembourg",
          "Latvia",
          "Moldova",
          "Marshall Islands",
          "Malta",
          "Myanmar",
          "Montenegro",
          "Mauritania",
          "Namibia",
          "Netherlands",
          "Nepal",
          "Nauru",
          "New Zealand",
          "Pakistan",
          "Palau",
          "Portugal",
          "Singapore",
          "Serbia",
          "South Sudan",
          "Sao Tome and Principe",
          "Slovak Republic",
          "Slovenia",
          "Sweden",
          "Eswatini",
          "Thailand",
          "Tonga",
          "Uganda",
          "Samoa",
          "South Africa",
          "Zambia",
          "Zimbabwe",
          "Afghanistan",
          "Australia",
          "Austria",
          "Belgium",
          "Bangladesh",
          "Belarus",
          "Canada",
          "China",
          "Cyprus",
          "Egypt, Arab Rep.",
          "Spain",
          "Estonia",
          "Ethiopia",
          "Finland",
          "France",
          "Micronesia, Fed. Sts.",
          "Georgia",
          "Greece",
          "Haiti",
          "Indonesia",
          "India",
          "Ireland",
          "Iran, Islamic Rep.",
          "Italy",
          "Japan",
          "Kenya",
          "Lesotho",
          "Lithuania",
          "Luxembourg",
          "Latvia",
          "Moldova",
          "Marshall Islands",
          "Malta",
          "Myanmar",
          "Montenegro",
          "Mauritania",
          "Namibia",
          "Netherlands",
          "Nepal",
          "Nauru",
          "New Zealand",
          "Pakistan",
          "Palau",
          "Portugal",
          "Singapore",
          "Serbia",
          "South Sudan",
          "Sao Tome and Principe",
          "Slovak Republic",
          "Slovenia",
          "Sweden",
          "Eswatini",
          "Thailand",
          "Tonga",
          "Uganda",
          "Samoa",
          "South Africa",
          "Zambia",
          "Zimbabwe",
          "Afghanistan",
          "Australia",
          "Austria",
          "Belgium",
          "Bangladesh",
          "Belarus",
          "Canada",
          "China",
          "Cyprus",
          "Egypt, Arab Rep.",
          "Spain",
          "Estonia",
          "Ethiopia",
          "Finland",
          "France",
          "Micronesia, Fed. Sts.",
          "Georgia",
          "Greece",
          "Haiti",
          "Indonesia",
          "India",
          "Ireland",
          "Iran, Islamic Rep.",
          "Italy",
          "Japan",
          "Kenya",
          "Lesotho",
          "Lithuania",
          "Luxembourg",
          "Latvia",
          "Moldova",
          "Marshall Islands",
          "Malta",
          "Myanmar",
          "Montenegro",
          "Mauritania",
          "Namibia",
          "Netherlands",
          "Nepal",
          "Nauru",
          "New Zealand",
          "Pakistan",
          "Palau",
          "Portugal",
          "Singapore",
          "Serbia",
          "South Sudan",
          "Sao Tome and Principe",
          "Slovak Republic",
          "Slovenia",
          "Sweden",
          "Eswatini",
          "Thailand",
          "Tonga",
          "Uganda",
          "Samoa",
          "South Africa",
          "Zambia",
          "Zimbabwe"
         ],
         "legendgroup": "",
         "marker": {
          "color": [
           1,
           4,
           2,
           1,
           2,
           4,
           2,
           4,
           4,
           2,
           4,
           4,
           4,
           4,
           4,
           4,
           2,
           4,
           1,
           4,
           2,
           4,
           2,
           2,
           4,
           2,
           4,
           2,
           4,
           4,
           2,
           4,
           2,
           3,
           1,
           2,
           1,
           4,
           4,
           2,
           4,
           2,
           4,
           1,
           4,
           2,
           2,
           4,
           2,
           2,
           4,
           2,
           4,
           2,
           4,
           4,
           2,
           4,
           2,
           3,
           1,
           2,
           2,
           1,
           4,
           4,
           4,
           2,
           3,
           4,
           2,
           4,
           1,
           4,
           4,
           2,
           2,
           4,
           2,
           4,
           2,
           4,
           2,
           4,
           2,
           4,
           2,
           4,
           4,
           2,
           4,
           2,
           3,
           1,
           2,
           3,
           2,
           2,
           1,
           4,
           4,
           4,
           2,
           3,
           4,
           2,
           4,
           1,
           4,
           4,
           4,
           2,
           2,
           4,
           2,
           4,
           2,
           2,
           4,
           4,
           2,
           4,
           2,
           4,
           2,
           4,
           4,
           2,
           4,
           2,
           3,
           3,
           1,
           2,
           3,
           2,
           2,
           1,
           4,
           4,
           4,
           2,
           3,
           4,
           2,
           4,
           1,
           4,
           4,
           4,
           2,
           2,
           2,
           4,
           2,
           4,
           2,
           2,
           4,
           4,
           2,
           4,
           2,
           4,
           2,
           4,
           4,
           2,
           4,
           2,
           3,
           3,
           1,
           2,
           3,
           2,
           2,
           1,
           4,
           4,
           4,
           2,
           3,
           4,
           2,
           4,
           1,
           4,
           4,
           4,
           2,
           2,
           2,
           4,
           2,
           4,
           2,
           2,
           4,
           4,
           2,
           2,
           4,
           2,
           4,
           2,
           4,
           4,
           4,
           2,
           4,
           2,
           3,
           3,
           1,
           2,
           3,
           2,
           2,
           1,
           4,
           4,
           4,
           2,
           4,
           3,
           4,
           2,
           4,
           1,
           4,
           4,
           2,
           4,
           2,
           2,
           2,
           4,
           2,
           4,
           2,
           2,
           4,
           3,
           4,
           2,
           2,
           4,
           2,
           4,
           2,
           4,
           4,
           4,
           2,
           4,
           2,
           3,
           3,
           1,
           2,
           3,
           2,
           2,
           1,
           4,
           4,
           4,
           2,
           4,
           3,
           4,
           2,
           4,
           1,
           4,
           4,
           2,
           4,
           2,
           2,
           2,
           4,
           2,
           4,
           2,
           2,
           4,
           3,
           4,
           2,
           2,
           4,
           2,
           4,
           2,
           4,
           4,
           4,
           2,
           4,
           2,
           3,
           3,
           1,
           2,
           3,
           2,
           2,
           1,
           4,
           4,
           4,
           2,
           4,
           3,
           4,
           2,
           4,
           1,
           4,
           4,
           2,
           4,
           2,
           2,
           2,
           4,
           2,
           4,
           2,
           2,
           4,
           3,
           4,
           2,
           2,
           4,
           2,
           4,
           2,
           4,
           4,
           4,
           2,
           4,
           2,
           3,
           3,
           1,
           2,
           3,
           2,
           2,
           1,
           4,
           4,
           4,
           2,
           4,
           3,
           4,
           2,
           4,
           1,
           4,
           4,
           2,
           4,
           2,
           2,
           2,
           4,
           2,
           4,
           4,
           2,
           2,
           4,
           3,
           4,
           2,
           2,
           4,
           2,
           4,
           2,
           4,
           4,
           4,
           2,
           4,
           2,
           3,
           3,
           1,
           2,
           3,
           2,
           2,
           1,
           4,
           4,
           4,
           2,
           4,
           3,
           4,
           2,
           4,
           1,
           4,
           4,
           2,
           4,
           2,
           2,
           2,
           4,
           2,
           4,
           4,
           2,
           2,
           4,
           3,
           4,
           2,
           2,
           3,
           4,
           2,
           4,
           2,
           4,
           4,
           4,
           2,
           4,
           2,
           3,
           3,
           1,
           2,
           3,
           2,
           2,
           1,
           4,
           4,
           4,
           2,
           3,
           4,
           3,
           4,
           2,
           4,
           1,
           4,
           4,
           2,
           3,
           4,
           2,
           2,
           2,
           4,
           2,
           4,
           4,
           2,
           2,
           4,
           4,
           4,
           3,
           3,
           4,
           2,
           2,
           3,
           4,
           2,
           4,
           2,
           4,
           4,
           4,
           3,
           2,
           4,
           4,
           2,
           3,
           3,
           1,
           2,
           3,
           2,
           2,
           1,
           4,
           4,
           4,
           2,
           3,
           4,
           3,
           4,
           2,
           4,
           4,
           1,
           4,
           4,
           2,
           3,
           4,
           2,
           2,
           2,
           4,
           2,
           4,
           4,
           2,
           2,
           4,
           4,
           4,
           3,
           3,
           4,
           2,
           2,
           3,
           4,
           2,
           4,
           2,
           4,
           4,
           4,
           3,
           2,
           4,
           4,
           2,
           3,
           3,
           1,
           2,
           3,
           2,
           2,
           1,
           4,
           4,
           4,
           2,
           3,
           4,
           3,
           4,
           2,
           4,
           4,
           1,
           4,
           4,
           2,
           3,
           4,
           2,
           2,
           2,
           4,
           2,
           4,
           4,
           2,
           2,
           4,
           4,
           4,
           3,
           3,
           4,
           2,
           2,
           3,
           4,
           2,
           4,
           2,
           4,
           4,
           4,
           3,
           2,
           4,
           4,
           4,
           2,
           3,
           3,
           1,
           2,
           3,
           2,
           2,
           1,
           4,
           4,
           4,
           2,
           3,
           4,
           3,
           4,
           2,
           4,
           4,
           1,
           4,
           4,
           2,
           3,
           4,
           2,
           2,
           2,
           4,
           2,
           4,
           4,
           2,
           2,
           4,
           4,
           4,
           3,
           3,
           4,
           2,
           2,
           3,
           4,
           2,
           4,
           2,
           4,
           4,
           4,
           3,
           2,
           4,
           4,
           4,
           2,
           3,
           3,
           1,
           2,
           3,
           2,
           2,
           1,
           4,
           4,
           4,
           2,
           3,
           4,
           3,
           4,
           2,
           4,
           4,
           1,
           4,
           4,
           2,
           3,
           4,
           2,
           2,
           2,
           4,
           2,
           4,
           4,
           2,
           2,
           4,
           4,
           4,
           3,
           3,
           4,
           2,
           2,
           3,
           4,
           2,
           4,
           2,
           4,
           4,
           4,
           3,
           2,
           4,
           4,
           4,
           2,
           3,
           3,
           1,
           2,
           3,
           2,
           2,
           1,
           4,
           4,
           4,
           2,
           3,
           4,
           3,
           4,
           2,
           4,
           4,
           1,
           4,
           4,
           2,
           3,
           4,
           2,
           2,
           2,
           4,
           2,
           4,
           4,
           2,
           2,
           4,
           4,
           4,
           3,
           3,
           4,
           2,
           2,
           3,
           4,
           2,
           4,
           4,
           2,
           4,
           4,
           4,
           3,
           2,
           4,
           4,
           4,
           2,
           3,
           3,
           1,
           2,
           3,
           2,
           2,
           1,
           4,
           4,
           4,
           2,
           3,
           4,
           3,
           4,
           2,
           4,
           4,
           1,
           4,
           4,
           2,
           3,
           4,
           2,
           2,
           2,
           4,
           2,
           4,
           4,
           2,
           2,
           4,
           4,
           4,
           3,
           3,
           4,
           2,
           2,
           3,
           4,
           2,
           4,
           4,
           2,
           4,
           4,
           4,
           3,
           2,
           4,
           4,
           4,
           2,
           3,
           3,
           1,
           2,
           3,
           2,
           2,
           1,
           4,
           4,
           4,
           2,
           3,
           4,
           3,
           4,
           2,
           4,
           4,
           1,
           4,
           4,
           2,
           3,
           4,
           2,
           2,
           2,
           4,
           2,
           4,
           4,
           2,
           2,
           4,
           4,
           4,
           3,
           3,
           4,
           2,
           2,
           3,
           4,
           2,
           4,
           4,
           2,
           4,
           4,
           4,
           3,
           2,
           4,
           4,
           4,
           2,
           3,
           3,
           1,
           2,
           3,
           2,
           2,
           1,
           4,
           4,
           4,
           2,
           3,
           4,
           3,
           4,
           2,
           4,
           4,
           1,
           4,
           4,
           2,
           3,
           4,
           2,
           2,
           2,
           4,
           2,
           4,
           4,
           2,
           2,
           4,
           4,
           4,
           3,
           3,
           4,
           2,
           2,
           3,
           4,
           2,
           4,
           4,
           2,
           4,
           4,
           4,
           3,
           2,
           4,
           4,
           4,
           2,
           3,
           3,
           1,
           2,
           3,
           2,
           2,
           1,
           4,
           4,
           4,
           2,
           3,
           4,
           3,
           4,
           2,
           4,
           4,
           1,
           4,
           4,
           2,
           3,
           4,
           2,
           2,
           2,
           4,
           2,
           4,
           4,
           2,
           2,
           4,
           4,
           4,
           3,
           3,
           4,
           2,
           2,
           3,
           4,
           2,
           4,
           4,
           2,
           4,
           4,
           4,
           3,
           2,
           4,
           4,
           4,
           2,
           3,
           3,
           1,
           2,
           3,
           2,
           2,
           1,
           4,
           4,
           4,
           2,
           3,
           4,
           3,
           4,
           2,
           4,
           4,
           1,
           4,
           4,
           2,
           3,
           4,
           2,
           2,
           2,
           4,
           2,
           4,
           4,
           2,
           2,
           4,
           4,
           4,
           3,
           3,
           4,
           2,
           2,
           3,
           4,
           2,
           4,
           4,
           2,
           4,
           4,
           4,
           3,
           2,
           4,
           4,
           4,
           2,
           3,
           3,
           1,
           2,
           3,
           2,
           2,
           1,
           4,
           4,
           4,
           2,
           3,
           4,
           3,
           4,
           2,
           4,
           4,
           1,
           4,
           4,
           2,
           3,
           4,
           2,
           2,
           2,
           4,
           2,
           4,
           4,
           2,
           2,
           4,
           4,
           4,
           3,
           3,
           4,
           2,
           2,
           3,
           4,
           2,
           4,
           4,
           2,
           4,
           4,
           4,
           3,
           2,
           4,
           4,
           4,
           2,
           3,
           3,
           1,
           2,
           3,
           2,
           2,
           1,
           4,
           4,
           4,
           2,
           3,
           4,
           3,
           4,
           2,
           4,
           4,
           1,
           4,
           4,
           2,
           3,
           4,
           2,
           2,
           2,
           4,
           2,
           4,
           4,
           2,
           2,
           4,
           4,
           4,
           3,
           3,
           4,
           2,
           2,
           3,
           4,
           2,
           4,
           4,
           2,
           4,
           4,
           4,
           3,
           2,
           4,
           4,
           4,
           2,
           3,
           3,
           1,
           2,
           3,
           2,
           2,
           1,
           4,
           4,
           4,
           2,
           3,
           4,
           3,
           4,
           2,
           4,
           4,
           1,
           4,
           4,
           2,
           3,
           4,
           2,
           2,
           2,
           4,
           2,
           4,
           4,
           2,
           2,
           4,
           4,
           4,
           3,
           3,
           4,
           2,
           2,
           3,
           4,
           2,
           4,
           4,
           2,
           4,
           4,
           4,
           3,
           2,
           4,
           4,
           4,
           2,
           3,
           3,
           1,
           2,
           3,
           2,
           2,
           1,
           4,
           4,
           4,
           2,
           3,
           4,
           3,
           4,
           2,
           4,
           4,
           1,
           4,
           4,
           2,
           3,
           4,
           2,
           2,
           2,
           4,
           2,
           4,
           4,
           2,
           2,
           4,
           4,
           4,
           3,
           3,
           4,
           2,
           3,
           2,
           3,
           4,
           2,
           4,
           4,
           2,
           4,
           4,
           4,
           3,
           2,
           4,
           4,
           4,
           2,
           3,
           3,
           1,
           2,
           3,
           2,
           2,
           1,
           4,
           4,
           4,
           2,
           3,
           4,
           3,
           4,
           2,
           4,
           4,
           1,
           4,
           4,
           2,
           3,
           4,
           2,
           2,
           2,
           4,
           2,
           4,
           4,
           2,
           2,
           4,
           4,
           4,
           3,
           3,
           4,
           2,
           3,
           2,
           3,
           4,
           2,
           4,
           4,
           2,
           4,
           4,
           4,
           3,
           2,
           4,
           4,
           4,
           2,
           3,
           3,
           1,
           2,
           3,
           2,
           2,
           1,
           4,
           4,
           4,
           2,
           3,
           4,
           3,
           4,
           2,
           4,
           4,
           1,
           4,
           4,
           2,
           3,
           4,
           2,
           2,
           2,
           4,
           2,
           4,
           4,
           2,
           2,
           4,
           4,
           4,
           3,
           3,
           4,
           2,
           3,
           2,
           3,
           4,
           2,
           4,
           4,
           2,
           4,
           4,
           4,
           3,
           2,
           4,
           4,
           4,
           2,
           3,
           3,
           1,
           2,
           3,
           2,
           2,
           1,
           4,
           4,
           4,
           2,
           3,
           4,
           3,
           4,
           2,
           4,
           4,
           1,
           4,
           4,
           2,
           3,
           4,
           2,
           2,
           2,
           4,
           2,
           4,
           4,
           2,
           2,
           4,
           4,
           4,
           3,
           3,
           4,
           2,
           3,
           2,
           3,
           4,
           2,
           4,
           4,
           2,
           4,
           4,
           4,
           3,
           2,
           4,
           4,
           4,
           2,
           3,
           3,
           1,
           2,
           3,
           2,
           2,
           1,
           4,
           4,
           4,
           2,
           3,
           4,
           3,
           4,
           2,
           4,
           4,
           1,
           4,
           4,
           2,
           3,
           4,
           2,
           2,
           2,
           4,
           2,
           4,
           4,
           2,
           2,
           4,
           4,
           4,
           3,
           3,
           4,
           2,
           3,
           2,
           3,
           4,
           2,
           4,
           4,
           2,
           4,
           4,
           4,
           3,
           2,
           4,
           4,
           4,
           2,
           3,
           3,
           1,
           2,
           3,
           2,
           2,
           1,
           4,
           4,
           4,
           2,
           3,
           4,
           3,
           4,
           2,
           4,
           4,
           1,
           4,
           4,
           2,
           3,
           4,
           2,
           2,
           2,
           4,
           2,
           4,
           4,
           2,
           2,
           4,
           4,
           4,
           3,
           3,
           4,
           2,
           3,
           2,
           3,
           4,
           2,
           4,
           4,
           2,
           4,
           4,
           4,
           3,
           1,
           2,
           4,
           4,
           4,
           2,
           3,
           3,
           1,
           2,
           3,
           2,
           2,
           1,
           4,
           4,
           4,
           2,
           3,
           4,
           3,
           4,
           2,
           4,
           4,
           1,
           4,
           4,
           2,
           3,
           4,
           2,
           2,
           2,
           4,
           2,
           4,
           4,
           2,
           2,
           4,
           4,
           4,
           3,
           3,
           4,
           2,
           3,
           2,
           3,
           4,
           2,
           4,
           4,
           2,
           4,
           4,
           4,
           3,
           1,
           2,
           4,
           4,
           4,
           2,
           3,
           3,
           1,
           2,
           3,
           2,
           2,
           1,
           4,
           4,
           4,
           2,
           3,
           4,
           3,
           4,
           2,
           4,
           4,
           1,
           4,
           4,
           2,
           3,
           4,
           2,
           2,
           2,
           4,
           2,
           4,
           4,
           2,
           2,
           4,
           4,
           4,
           3,
           3,
           4,
           2,
           3,
           2,
           3,
           4,
           2,
           4,
           4,
           2,
           4,
           4,
           4,
           3,
           1,
           2,
           4,
           4,
           4,
           2,
           3,
           3,
           1,
           2,
           3,
           2,
           2,
           1,
           4,
           4,
           4,
           2,
           3,
           4,
           3,
           4,
           2,
           4,
           4,
           1,
           4,
           4,
           2,
           3,
           4,
           2,
           2,
           2,
           4,
           2,
           4,
           4,
           2,
           2,
           4,
           4,
           4,
           3,
           3,
           4,
           2,
           3,
           2,
           3,
           4,
           2,
           4,
           4,
           2,
           4,
           4,
           4,
           3,
           1,
           2,
           4,
           4,
           4,
           2,
           3,
           3,
           1,
           2,
           3,
           2,
           2,
           1,
           4,
           4,
           4,
           2,
           3,
           4,
           3,
           4,
           2,
           4,
           4,
           1,
           4,
           4,
           2,
           3,
           4,
           2,
           2,
           2,
           4,
           2,
           4,
           4,
           2,
           2,
           4,
           4,
           4,
           3,
           3,
           4,
           2,
           3,
           2,
           3,
           4,
           2,
           4,
           4,
           2,
           4,
           4,
           4,
           3,
           1,
           2,
           4,
           4,
           4,
           2,
           3,
           3,
           1,
           2,
           3,
           2,
           2,
           1,
           4,
           4,
           4,
           2,
           3,
           4,
           3,
           4,
           2,
           4,
           4,
           1,
           4,
           4,
           2,
           3,
           4,
           2,
           2,
           2,
           4,
           2,
           4,
           4,
           2,
           2,
           4,
           4,
           4,
           3,
           3,
           4,
           2,
           3,
           2,
           3,
           4,
           2,
           4,
           4,
           2,
           4,
           4,
           4,
           3,
           1,
           2,
           4,
           4,
           4,
           2,
           3,
           3,
           1,
           2,
           3,
           2,
           2,
           1,
           4,
           4,
           4,
           2,
           3,
           4,
           3,
           4,
           2,
           4,
           4,
           1,
           4,
           4,
           2,
           3,
           4,
           2,
           2,
           2,
           4,
           2,
           4,
           4,
           2,
           2,
           4,
           4,
           4,
           3,
           3,
           4,
           2,
           3,
           2,
           3,
           4,
           2,
           4,
           4,
           2,
           4,
           4,
           4,
           3,
           1,
           2,
           4,
           4,
           4,
           2,
           3,
           3,
           1,
           2,
           3,
           2,
           2,
           1,
           4,
           4,
           4,
           2,
           3,
           4,
           3,
           4,
           2,
           4,
           4,
           1,
           4,
           4,
           2,
           3,
           4,
           2,
           2,
           2,
           4,
           2,
           4,
           4,
           2,
           2,
           4,
           4,
           4,
           3,
           3,
           4,
           2,
           3,
           2,
           3,
           4,
           2,
           4,
           4,
           2,
           4,
           4,
           4,
           3,
           1,
           2,
           4,
           4,
           4,
           2,
           3,
           3,
           1,
           2,
           3,
           2,
           2,
           1,
           4,
           4,
           4,
           2,
           3,
           4,
           3,
           4,
           2,
           4,
           4,
           1,
           4,
           4,
           2,
           3,
           4,
           2,
           2,
           2,
           4,
           2,
           4,
           4,
           2,
           2,
           4,
           4,
           4,
           3,
           3,
           4,
           2,
           3,
           2,
           3,
           4,
           2,
           4,
           4,
           2,
           4,
           4,
           4,
           3,
           1,
           2,
           4,
           4,
           4,
           2,
           3,
           3,
           1,
           2,
           3,
           2,
           2
          ],
          "coloraxis": "coloraxis",
          "opacity": 0.7,
          "size": 15,
          "symbol": "circle"
         },
         "mode": "markers",
         "name": "",
         "showlegend": false,
         "type": "scattergl",
         "x": [
          1980,
          1980,
          1980,
          1980,
          1980,
          1980,
          1980,
          1980,
          1980,
          1980,
          1980,
          1980,
          1980,
          1981,
          1981,
          1981,
          1981,
          1981,
          1981,
          1981,
          1981,
          1981,
          1981,
          1981,
          1981,
          1981,
          1981,
          1981,
          1981,
          1981,
          1981,
          1981,
          1981,
          1981,
          1981,
          1981,
          1982,
          1982,
          1982,
          1982,
          1982,
          1982,
          1982,
          1982,
          1982,
          1982,
          1982,
          1982,
          1982,
          1982,
          1982,
          1982,
          1982,
          1982,
          1982,
          1982,
          1982,
          1982,
          1982,
          1982,
          1982,
          1982,
          1982,
          1983,
          1983,
          1983,
          1983,
          1983,
          1983,
          1983,
          1983,
          1983,
          1983,
          1983,
          1983,
          1983,
          1983,
          1983,
          1983,
          1983,
          1983,
          1983,
          1983,
          1983,
          1983,
          1983,
          1983,
          1983,
          1983,
          1983,
          1983,
          1983,
          1983,
          1983,
          1983,
          1983,
          1983,
          1983,
          1984,
          1984,
          1984,
          1984,
          1984,
          1984,
          1984,
          1984,
          1984,
          1984,
          1984,
          1984,
          1984,
          1984,
          1984,
          1984,
          1984,
          1984,
          1984,
          1984,
          1984,
          1984,
          1984,
          1984,
          1984,
          1984,
          1984,
          1984,
          1984,
          1984,
          1984,
          1984,
          1984,
          1984,
          1984,
          1984,
          1984,
          1984,
          1984,
          1985,
          1985,
          1985,
          1985,
          1985,
          1985,
          1985,
          1985,
          1985,
          1985,
          1985,
          1985,
          1985,
          1985,
          1985,
          1985,
          1985,
          1985,
          1985,
          1985,
          1985,
          1985,
          1985,
          1985,
          1985,
          1985,
          1985,
          1985,
          1985,
          1985,
          1985,
          1985,
          1985,
          1985,
          1985,
          1985,
          1985,
          1985,
          1985,
          1985,
          1986,
          1986,
          1986,
          1986,
          1986,
          1986,
          1986,
          1986,
          1986,
          1986,
          1986,
          1986,
          1986,
          1986,
          1986,
          1986,
          1986,
          1986,
          1986,
          1986,
          1986,
          1986,
          1986,
          1986,
          1986,
          1986,
          1986,
          1986,
          1986,
          1986,
          1986,
          1986,
          1986,
          1986,
          1986,
          1986,
          1986,
          1986,
          1986,
          1986,
          1986,
          1986,
          1987,
          1987,
          1987,
          1987,
          1987,
          1987,
          1987,
          1987,
          1987,
          1987,
          1987,
          1987,
          1987,
          1987,
          1987,
          1987,
          1987,
          1987,
          1987,
          1987,
          1987,
          1987,
          1987,
          1987,
          1987,
          1987,
          1987,
          1987,
          1987,
          1987,
          1987,
          1987,
          1987,
          1987,
          1987,
          1987,
          1987,
          1987,
          1987,
          1987,
          1987,
          1987,
          1987,
          1987,
          1987,
          1988,
          1988,
          1988,
          1988,
          1988,
          1988,
          1988,
          1988,
          1988,
          1988,
          1988,
          1988,
          1988,
          1988,
          1988,
          1988,
          1988,
          1988,
          1988,
          1988,
          1988,
          1988,
          1988,
          1988,
          1988,
          1988,
          1988,
          1988,
          1988,
          1988,
          1988,
          1988,
          1988,
          1988,
          1988,
          1988,
          1988,
          1988,
          1988,
          1988,
          1988,
          1988,
          1988,
          1988,
          1988,
          1989,
          1989,
          1989,
          1989,
          1989,
          1989,
          1989,
          1989,
          1989,
          1989,
          1989,
          1989,
          1989,
          1989,
          1989,
          1989,
          1989,
          1989,
          1989,
          1989,
          1989,
          1989,
          1989,
          1989,
          1989,
          1989,
          1989,
          1989,
          1989,
          1989,
          1989,
          1989,
          1989,
          1989,
          1989,
          1989,
          1989,
          1989,
          1989,
          1989,
          1989,
          1989,
          1989,
          1989,
          1989,
          1990,
          1990,
          1990,
          1990,
          1990,
          1990,
          1990,
          1990,
          1990,
          1990,
          1990,
          1990,
          1990,
          1990,
          1990,
          1990,
          1990,
          1990,
          1990,
          1990,
          1990,
          1990,
          1990,
          1990,
          1990,
          1990,
          1990,
          1990,
          1990,
          1990,
          1990,
          1990,
          1990,
          1990,
          1990,
          1990,
          1990,
          1990,
          1990,
          1990,
          1990,
          1990,
          1990,
          1990,
          1990,
          1990,
          1991,
          1991,
          1991,
          1991,
          1991,
          1991,
          1991,
          1991,
          1991,
          1991,
          1991,
          1991,
          1991,
          1991,
          1991,
          1991,
          1991,
          1991,
          1991,
          1991,
          1991,
          1991,
          1991,
          1991,
          1991,
          1991,
          1991,
          1991,
          1991,
          1991,
          1991,
          1991,
          1991,
          1991,
          1991,
          1991,
          1991,
          1991,
          1991,
          1991,
          1991,
          1991,
          1991,
          1991,
          1991,
          1991,
          1991,
          1992,
          1992,
          1992,
          1992,
          1992,
          1992,
          1992,
          1992,
          1992,
          1992,
          1992,
          1992,
          1992,
          1992,
          1992,
          1992,
          1992,
          1992,
          1992,
          1992,
          1992,
          1992,
          1992,
          1992,
          1992,
          1992,
          1992,
          1992,
          1992,
          1992,
          1992,
          1992,
          1992,
          1992,
          1992,
          1992,
          1992,
          1992,
          1992,
          1992,
          1992,
          1992,
          1992,
          1992,
          1992,
          1992,
          1992,
          1992,
          1992,
          1992,
          1992,
          1992,
          1992,
          1992,
          1993,
          1993,
          1993,
          1993,
          1993,
          1993,
          1993,
          1993,
          1993,
          1993,
          1993,
          1993,
          1993,
          1993,
          1993,
          1993,
          1993,
          1993,
          1993,
          1993,
          1993,
          1993,
          1993,
          1993,
          1993,
          1993,
          1993,
          1993,
          1993,
          1993,
          1993,
          1993,
          1993,
          1993,
          1993,
          1993,
          1993,
          1993,
          1993,
          1993,
          1993,
          1993,
          1993,
          1993,
          1993,
          1993,
          1993,
          1993,
          1993,
          1993,
          1993,
          1993,
          1993,
          1993,
          1993,
          1994,
          1994,
          1994,
          1994,
          1994,
          1994,
          1994,
          1994,
          1994,
          1994,
          1994,
          1994,
          1994,
          1994,
          1994,
          1994,
          1994,
          1994,
          1994,
          1994,
          1994,
          1994,
          1994,
          1994,
          1994,
          1994,
          1994,
          1994,
          1994,
          1994,
          1994,
          1994,
          1994,
          1994,
          1994,
          1994,
          1994,
          1994,
          1994,
          1994,
          1994,
          1994,
          1994,
          1994,
          1994,
          1994,
          1994,
          1994,
          1994,
          1994,
          1994,
          1994,
          1994,
          1994,
          1994,
          1994,
          1995,
          1995,
          1995,
          1995,
          1995,
          1995,
          1995,
          1995,
          1995,
          1995,
          1995,
          1995,
          1995,
          1995,
          1995,
          1995,
          1995,
          1995,
          1995,
          1995,
          1995,
          1995,
          1995,
          1995,
          1995,
          1995,
          1995,
          1995,
          1995,
          1995,
          1995,
          1995,
          1995,
          1995,
          1995,
          1995,
          1995,
          1995,
          1995,
          1995,
          1995,
          1995,
          1995,
          1995,
          1995,
          1995,
          1995,
          1995,
          1995,
          1995,
          1995,
          1995,
          1995,
          1995,
          1995,
          1995,
          1996,
          1996,
          1996,
          1996,
          1996,
          1996,
          1996,
          1996,
          1996,
          1996,
          1996,
          1996,
          1996,
          1996,
          1996,
          1996,
          1996,
          1996,
          1996,
          1996,
          1996,
          1996,
          1996,
          1996,
          1996,
          1996,
          1996,
          1996,
          1996,
          1996,
          1996,
          1996,
          1996,
          1996,
          1996,
          1996,
          1996,
          1996,
          1996,
          1996,
          1996,
          1996,
          1996,
          1996,
          1996,
          1996,
          1996,
          1996,
          1996,
          1996,
          1996,
          1996,
          1996,
          1996,
          1996,
          1996,
          1997,
          1997,
          1997,
          1997,
          1997,
          1997,
          1997,
          1997,
          1997,
          1997,
          1997,
          1997,
          1997,
          1997,
          1997,
          1997,
          1997,
          1997,
          1997,
          1997,
          1997,
          1997,
          1997,
          1997,
          1997,
          1997,
          1997,
          1997,
          1997,
          1997,
          1997,
          1997,
          1997,
          1997,
          1997,
          1997,
          1997,
          1997,
          1997,
          1997,
          1997,
          1997,
          1997,
          1997,
          1997,
          1997,
          1997,
          1997,
          1997,
          1997,
          1997,
          1997,
          1997,
          1997,
          1997,
          1997,
          1997,
          1998,
          1998,
          1998,
          1998,
          1998,
          1998,
          1998,
          1998,
          1998,
          1998,
          1998,
          1998,
          1998,
          1998,
          1998,
          1998,
          1998,
          1998,
          1998,
          1998,
          1998,
          1998,
          1998,
          1998,
          1998,
          1998,
          1998,
          1998,
          1998,
          1998,
          1998,
          1998,
          1998,
          1998,
          1998,
          1998,
          1998,
          1998,
          1998,
          1998,
          1998,
          1998,
          1998,
          1998,
          1998,
          1998,
          1998,
          1998,
          1998,
          1998,
          1998,
          1998,
          1998,
          1998,
          1998,
          1998,
          1998,
          1999,
          1999,
          1999,
          1999,
          1999,
          1999,
          1999,
          1999,
          1999,
          1999,
          1999,
          1999,
          1999,
          1999,
          1999,
          1999,
          1999,
          1999,
          1999,
          1999,
          1999,
          1999,
          1999,
          1999,
          1999,
          1999,
          1999,
          1999,
          1999,
          1999,
          1999,
          1999,
          1999,
          1999,
          1999,
          1999,
          1999,
          1999,
          1999,
          1999,
          1999,
          1999,
          1999,
          1999,
          1999,
          1999,
          1999,
          1999,
          1999,
          1999,
          1999,
          1999,
          1999,
          1999,
          1999,
          1999,
          1999,
          2000,
          2000,
          2000,
          2000,
          2000,
          2000,
          2000,
          2000,
          2000,
          2000,
          2000,
          2000,
          2000,
          2000,
          2000,
          2000,
          2000,
          2000,
          2000,
          2000,
          2000,
          2000,
          2000,
          2000,
          2000,
          2000,
          2000,
          2000,
          2000,
          2000,
          2000,
          2000,
          2000,
          2000,
          2000,
          2000,
          2000,
          2000,
          2000,
          2000,
          2000,
          2000,
          2000,
          2000,
          2000,
          2000,
          2000,
          2000,
          2000,
          2000,
          2000,
          2000,
          2000,
          2000,
          2000,
          2000,
          2000,
          2001,
          2001,
          2001,
          2001,
          2001,
          2001,
          2001,
          2001,
          2001,
          2001,
          2001,
          2001,
          2001,
          2001,
          2001,
          2001,
          2001,
          2001,
          2001,
          2001,
          2001,
          2001,
          2001,
          2001,
          2001,
          2001,
          2001,
          2001,
          2001,
          2001,
          2001,
          2001,
          2001,
          2001,
          2001,
          2001,
          2001,
          2001,
          2001,
          2001,
          2001,
          2001,
          2001,
          2001,
          2001,
          2001,
          2001,
          2001,
          2001,
          2001,
          2001,
          2001,
          2001,
          2001,
          2001,
          2001,
          2001,
          2002,
          2002,
          2002,
          2002,
          2002,
          2002,
          2002,
          2002,
          2002,
          2002,
          2002,
          2002,
          2002,
          2002,
          2002,
          2002,
          2002,
          2002,
          2002,
          2002,
          2002,
          2002,
          2002,
          2002,
          2002,
          2002,
          2002,
          2002,
          2002,
          2002,
          2002,
          2002,
          2002,
          2002,
          2002,
          2002,
          2002,
          2002,
          2002,
          2002,
          2002,
          2002,
          2002,
          2002,
          2002,
          2002,
          2002,
          2002,
          2002,
          2002,
          2002,
          2002,
          2002,
          2002,
          2002,
          2002,
          2002,
          2003,
          2003,
          2003,
          2003,
          2003,
          2003,
          2003,
          2003,
          2003,
          2003,
          2003,
          2003,
          2003,
          2003,
          2003,
          2003,
          2003,
          2003,
          2003,
          2003,
          2003,
          2003,
          2003,
          2003,
          2003,
          2003,
          2003,
          2003,
          2003,
          2003,
          2003,
          2003,
          2003,
          2003,
          2003,
          2003,
          2003,
          2003,
          2003,
          2003,
          2003,
          2003,
          2003,
          2003,
          2003,
          2003,
          2003,
          2003,
          2003,
          2003,
          2003,
          2003,
          2003,
          2003,
          2003,
          2003,
          2003,
          2004,
          2004,
          2004,
          2004,
          2004,
          2004,
          2004,
          2004,
          2004,
          2004,
          2004,
          2004,
          2004,
          2004,
          2004,
          2004,
          2004,
          2004,
          2004,
          2004,
          2004,
          2004,
          2004,
          2004,
          2004,
          2004,
          2004,
          2004,
          2004,
          2004,
          2004,
          2004,
          2004,
          2004,
          2004,
          2004,
          2004,
          2004,
          2004,
          2004,
          2004,
          2004,
          2004,
          2004,
          2004,
          2004,
          2004,
          2004,
          2004,
          2004,
          2004,
          2004,
          2004,
          2004,
          2004,
          2004,
          2004,
          2005,
          2005,
          2005,
          2005,
          2005,
          2005,
          2005,
          2005,
          2005,
          2005,
          2005,
          2005,
          2005,
          2005,
          2005,
          2005,
          2005,
          2005,
          2005,
          2005,
          2005,
          2005,
          2005,
          2005,
          2005,
          2005,
          2005,
          2005,
          2005,
          2005,
          2005,
          2005,
          2005,
          2005,
          2005,
          2005,
          2005,
          2005,
          2005,
          2005,
          2005,
          2005,
          2005,
          2005,
          2005,
          2005,
          2005,
          2005,
          2005,
          2005,
          2005,
          2005,
          2005,
          2005,
          2005,
          2005,
          2005,
          2006,
          2006,
          2006,
          2006,
          2006,
          2006,
          2006,
          2006,
          2006,
          2006,
          2006,
          2006,
          2006,
          2006,
          2006,
          2006,
          2006,
          2006,
          2006,
          2006,
          2006,
          2006,
          2006,
          2006,
          2006,
          2006,
          2006,
          2006,
          2006,
          2006,
          2006,
          2006,
          2006,
          2006,
          2006,
          2006,
          2006,
          2006,
          2006,
          2006,
          2006,
          2006,
          2006,
          2006,
          2006,
          2006,
          2006,
          2006,
          2006,
          2006,
          2006,
          2006,
          2006,
          2006,
          2006,
          2006,
          2006,
          2006,
          2007,
          2007,
          2007,
          2007,
          2007,
          2007,
          2007,
          2007,
          2007,
          2007,
          2007,
          2007,
          2007,
          2007,
          2007,
          2007,
          2007,
          2007,
          2007,
          2007,
          2007,
          2007,
          2007,
          2007,
          2007,
          2007,
          2007,
          2007,
          2007,
          2007,
          2007,
          2007,
          2007,
          2007,
          2007,
          2007,
          2007,
          2007,
          2007,
          2007,
          2007,
          2007,
          2007,
          2007,
          2007,
          2007,
          2007,
          2007,
          2007,
          2007,
          2007,
          2007,
          2007,
          2007,
          2007,
          2007,
          2007,
          2007,
          2008,
          2008,
          2008,
          2008,
          2008,
          2008,
          2008,
          2008,
          2008,
          2008,
          2008,
          2008,
          2008,
          2008,
          2008,
          2008,
          2008,
          2008,
          2008,
          2008,
          2008,
          2008,
          2008,
          2008,
          2008,
          2008,
          2008,
          2008,
          2008,
          2008,
          2008,
          2008,
          2008,
          2008,
          2008,
          2008,
          2008,
          2008,
          2008,
          2008,
          2008,
          2008,
          2008,
          2008,
          2008,
          2008,
          2008,
          2008,
          2008,
          2008,
          2008,
          2008,
          2008,
          2008,
          2008,
          2008,
          2008,
          2008,
          2009,
          2009,
          2009,
          2009,
          2009,
          2009,
          2009,
          2009,
          2009,
          2009,
          2009,
          2009,
          2009,
          2009,
          2009,
          2009,
          2009,
          2009,
          2009,
          2009,
          2009,
          2009,
          2009,
          2009,
          2009,
          2009,
          2009,
          2009,
          2009,
          2009,
          2009,
          2009,
          2009,
          2009,
          2009,
          2009,
          2009,
          2009,
          2009,
          2009,
          2009,
          2009,
          2009,
          2009,
          2009,
          2009,
          2009,
          2009,
          2009,
          2009,
          2009,
          2009,
          2009,
          2009,
          2009,
          2009,
          2009,
          2009,
          2010,
          2010,
          2010,
          2010,
          2010,
          2010,
          2010,
          2010,
          2010,
          2010,
          2010,
          2010,
          2010,
          2010,
          2010,
          2010,
          2010,
          2010,
          2010,
          2010,
          2010,
          2010,
          2010,
          2010,
          2010,
          2010,
          2010,
          2010,
          2010,
          2010,
          2010,
          2010,
          2010,
          2010,
          2010,
          2010,
          2010,
          2010,
          2010,
          2010,
          2010,
          2010,
          2010,
          2010,
          2010,
          2010,
          2010,
          2010,
          2010,
          2010,
          2010,
          2010,
          2010,
          2010,
          2010,
          2010,
          2010,
          2010,
          2011,
          2011,
          2011,
          2011,
          2011,
          2011,
          2011,
          2011,
          2011,
          2011,
          2011,
          2011,
          2011,
          2011,
          2011,
          2011,
          2011,
          2011,
          2011,
          2011,
          2011,
          2011,
          2011,
          2011,
          2011,
          2011,
          2011,
          2011,
          2011,
          2011,
          2011,
          2011,
          2011,
          2011,
          2011,
          2011,
          2011,
          2011,
          2011,
          2011,
          2011,
          2011,
          2011,
          2011,
          2011,
          2011,
          2011,
          2011,
          2011,
          2011,
          2011,
          2011,
          2011,
          2011,
          2011,
          2011,
          2011,
          2011,
          2011,
          2012,
          2012,
          2012,
          2012,
          2012,
          2012,
          2012,
          2012,
          2012,
          2012,
          2012,
          2012,
          2012,
          2012,
          2012,
          2012,
          2012,
          2012,
          2012,
          2012,
          2012,
          2012,
          2012,
          2012,
          2012,
          2012,
          2012,
          2012,
          2012,
          2012,
          2012,
          2012,
          2012,
          2012,
          2012,
          2012,
          2012,
          2012,
          2012,
          2012,
          2012,
          2012,
          2012,
          2012,
          2012,
          2012,
          2012,
          2012,
          2012,
          2012,
          2012,
          2012,
          2012,
          2012,
          2012,
          2012,
          2012,
          2012,
          2012,
          2013,
          2013,
          2013,
          2013,
          2013,
          2013,
          2013,
          2013,
          2013,
          2013,
          2013,
          2013,
          2013,
          2013,
          2013,
          2013,
          2013,
          2013,
          2013,
          2013,
          2013,
          2013,
          2013,
          2013,
          2013,
          2013,
          2013,
          2013,
          2013,
          2013,
          2013,
          2013,
          2013,
          2013,
          2013,
          2013,
          2013,
          2013,
          2013,
          2013,
          2013,
          2013,
          2013,
          2013,
          2013,
          2013,
          2013,
          2013,
          2013,
          2013,
          2013,
          2013,
          2013,
          2013,
          2013,
          2013,
          2013,
          2013,
          2013,
          2014,
          2014,
          2014,
          2014,
          2014,
          2014,
          2014,
          2014,
          2014,
          2014,
          2014,
          2014,
          2014,
          2014,
          2014,
          2014,
          2014,
          2014,
          2014,
          2014,
          2014,
          2014,
          2014,
          2014,
          2014,
          2014,
          2014,
          2014,
          2014,
          2014,
          2014,
          2014,
          2014,
          2014,
          2014,
          2014,
          2014,
          2014,
          2014,
          2014,
          2014,
          2014,
          2014,
          2014,
          2014,
          2014,
          2014,
          2014,
          2014,
          2014,
          2014,
          2014,
          2014,
          2014,
          2014,
          2014,
          2014,
          2014,
          2014,
          2015,
          2015,
          2015,
          2015,
          2015,
          2015,
          2015,
          2015,
          2015,
          2015,
          2015,
          2015,
          2015,
          2015,
          2015,
          2015,
          2015,
          2015,
          2015,
          2015,
          2015,
          2015,
          2015,
          2015,
          2015,
          2015,
          2015,
          2015,
          2015,
          2015,
          2015,
          2015,
          2015,
          2015,
          2015,
          2015,
          2015,
          2015,
          2015,
          2015,
          2015,
          2015,
          2015,
          2015,
          2015,
          2015,
          2015,
          2015,
          2015,
          2015,
          2015,
          2015,
          2015,
          2015,
          2015,
          2015,
          2015,
          2015,
          2015,
          2016,
          2016,
          2016,
          2016,
          2016,
          2016,
          2016,
          2016,
          2016,
          2016,
          2016,
          2016,
          2016,
          2016,
          2016,
          2016,
          2016,
          2016,
          2016,
          2016,
          2016,
          2016,
          2016,
          2016,
          2016,
          2016,
          2016,
          2016,
          2016,
          2016,
          2016,
          2016,
          2016,
          2016,
          2016,
          2016,
          2016,
          2016,
          2016,
          2016,
          2016,
          2016,
          2016,
          2016,
          2016,
          2016,
          2016,
          2016,
          2016,
          2016,
          2016,
          2016,
          2016,
          2016,
          2016,
          2016,
          2016,
          2016,
          2016,
          2017,
          2017,
          2017,
          2017,
          2017,
          2017,
          2017,
          2017,
          2017,
          2017,
          2017,
          2017,
          2017,
          2017,
          2017,
          2017,
          2017,
          2017,
          2017,
          2017,
          2017,
          2017,
          2017,
          2017,
          2017,
          2017,
          2017,
          2017,
          2017,
          2017,
          2017,
          2017,
          2017,
          2017,
          2017,
          2017,
          2017,
          2017,
          2017,
          2017,
          2017,
          2017,
          2017,
          2017,
          2017,
          2017,
          2017,
          2017,
          2017,
          2017,
          2017,
          2017,
          2017,
          2017,
          2017,
          2017,
          2017,
          2017,
          2017,
          2018,
          2018,
          2018,
          2018,
          2018,
          2018,
          2018,
          2018,
          2018,
          2018,
          2018,
          2018,
          2018,
          2018,
          2018,
          2018,
          2018,
          2018,
          2018,
          2018,
          2018,
          2018,
          2018,
          2018,
          2018,
          2018,
          2018,
          2018,
          2018,
          2018,
          2018,
          2018,
          2018,
          2018,
          2018,
          2018,
          2018,
          2018,
          2018,
          2018,
          2018,
          2018,
          2018,
          2018,
          2018,
          2018,
          2018,
          2018,
          2018,
          2018,
          2018,
          2018,
          2018,
          2018,
          2018,
          2018,
          2018,
          2018,
          2018,
          2019,
          2019,
          2019,
          2019,
          2019,
          2019,
          2019,
          2019,
          2019,
          2019,
          2019,
          2019,
          2019,
          2019,
          2019,
          2019,
          2019,
          2019,
          2019,
          2019,
          2019,
          2019,
          2019,
          2019,
          2019,
          2019,
          2019,
          2019,
          2019,
          2019,
          2019,
          2019,
          2019,
          2019,
          2019,
          2019,
          2019,
          2019,
          2019,
          2019,
          2019,
          2019,
          2019,
          2019,
          2019,
          2019,
          2019,
          2019,
          2019,
          2019,
          2019,
          2019,
          2019,
          2019,
          2019,
          2019,
          2019,
          2019,
          2019
         ],
         "xaxis": "x",
         "y": [
          11,
          29,
          41,
          4,
          39,
          69,
          49,
          91,
          80,
          1,
          54,
          47,
          88,
          25,
          50,
          28,
          41,
          8,
          3,
          70,
          48,
          68,
          49,
          45,
          91,
          2,
          77,
          2,
          49,
          57,
          25,
          92,
          30,
          9,
          22,
          56,
          8,
          25,
          58,
          1,
          21,
          41,
          27,
          7,
          75,
          3,
          55,
          66,
          51,
          44,
          92,
          2,
          74,
          3,
          46,
          78,
          32,
          91,
          38,
          44,
          21,
          59,
          58,
          9,
          68,
          25,
          66,
          1,
          78,
          19,
          41,
          40,
          7,
          81,
          15,
          6,
          6,
          10,
          38,
          70,
          53,
          39,
          43,
          92,
          11,
          71,
          19,
          48,
          88,
          40,
          93,
          46,
          67,
          20,
          78,
          74,
          56,
          60,
          14,
          68,
          30,
          74,
          1,
          84,
          25,
          47,
          68,
          8,
          83,
          26,
          75,
          8,
          13,
          10,
          38,
          73,
          55,
          63,
          49,
          10,
          42,
          92,
          24,
          67,
          33,
          48,
          85,
          48,
          94,
          50,
          5,
          43,
          18,
          83,
          70,
          57,
          62,
          14,
          68,
          40,
          82,
          1,
          88,
          43,
          74,
          79,
          12,
          85,
          35,
          77,
          21,
          26,
          1,
          63,
          62,
          73,
          63,
          73,
          58,
          10,
          41,
          92,
          34,
          64,
          38,
          70,
          75,
          35,
          94,
          54,
          26,
          81,
          17,
          81,
          70,
          58,
          78,
          14,
          68,
          60,
          90,
          3,
          63,
          60,
          78,
          83,
          10,
          87,
          39,
          39,
          26,
          45,
          10,
          65,
          55,
          74,
          65,
          76,
          68,
          35,
          5,
          40,
          93,
          37,
          60,
          41,
          98,
          75,
          85,
          58,
          94,
          74,
          45,
          37,
          27,
          91,
          64,
          58,
          83,
          31,
          68,
          60,
          50,
          6,
          70,
          77,
          91,
          76,
          85,
          13,
          92,
          45,
          69,
          81,
          23,
          48,
          24,
          66,
          55,
          75,
          69,
          78,
          77,
          31,
          59,
          17,
          27,
          93,
          37,
          67,
          43,
          98,
          81,
          94,
          69,
          94,
          65,
          52,
          88,
          38,
          78,
          75,
          80,
          88,
          34,
          77,
          60,
          75,
          13,
          85,
          95,
          74,
          85,
          84,
          15,
          98,
          51,
          84,
          82,
          59,
          51,
          32,
          68,
          83,
          76,
          72,
          79,
          71,
          25,
          41,
          32,
          45,
          94,
          58,
          75,
          46,
          99,
          84,
          87,
          69,
          95,
          85,
          63,
          81,
          49,
          75,
          68,
          80,
          88,
          22,
          85,
          60,
          75,
          53,
          87,
          95,
          76,
          86,
          97,
          23,
          95,
          58,
          94,
          76,
          31,
          54,
          42,
          78,
          79,
          77,
          75,
          79,
          80,
          39,
          86,
          50,
          42,
          94,
          57,
          83,
          48,
          98,
          96,
          81,
          45,
          95,
          85,
          66,
          84,
          51,
          82,
          84,
          80,
          87,
          20,
          86,
          60,
          85,
          65,
          89,
          98,
          77,
          86,
          99,
          38,
          97,
          71,
          81,
          76,
          31,
          58,
          56,
          78,
          85,
          43,
          73,
          78,
          80,
          80,
          52,
          80,
          68,
          38,
          94,
          57,
          90,
          50,
          98,
          85,
          84,
          71,
          96,
          85,
          80,
          86,
          52,
          89,
          79,
          90,
          87,
          19,
          86,
          60,
          67,
          68,
          92,
          92,
          78,
          89,
          85,
          17,
          97,
          74,
          76,
          72,
          35,
          61,
          43,
          78,
          84,
          50,
          71,
          81,
          81,
          80,
          74,
          90,
          67,
          32,
          76,
          94,
          57,
          82,
          51,
          98,
          96,
          92,
          77,
          96,
          80,
          79,
          90,
          54,
          77,
          85,
          80,
          87,
          22,
          86,
          60,
          87,
          69,
          94,
          94,
          87,
          80,
          89,
          83,
          12,
          99,
          76,
          78,
          16,
          72,
          39,
          65,
          51,
          78,
          96,
          50,
          69,
          84,
          81,
          89,
          80,
          95,
          73,
          86,
          92,
          68,
          43,
          76,
          95,
          58,
          82,
          52,
          94,
          99,
          89,
          82,
          52,
          90,
          96,
          85,
          74,
          87,
          56,
          90,
          85,
          85,
          86,
          25,
          86,
          60,
          70,
          74,
          96,
          96,
          81,
          81,
          89,
          90,
          74,
          22,
          99,
          78,
          80,
          61,
          72,
          44,
          68,
          59,
          78,
          96,
          50,
          68,
          84,
          82,
          92,
          83,
          80,
          64,
          36,
          90,
          71,
          49,
          71,
          94,
          58,
          85,
          52,
          32,
          95,
          87,
          85,
          57,
          90,
          97,
          85,
          80,
          87,
          57,
          92,
          85,
          91,
          86,
          40,
          86,
          60,
          78,
          78,
          97,
          97,
          75,
          82,
          89,
          90,
          76,
          54,
          99,
          80,
          83,
          63,
          70,
          48,
          66,
          67,
          78,
          97,
          50,
          81,
          84,
          82,
          93,
          86,
          81,
          85,
          59,
          71,
          77,
          53,
          70,
          94,
          58,
          87,
          53,
          41,
          91,
          95,
          81,
          65,
          97,
          91,
          97,
          94,
          86,
          86,
          59,
          94,
          76,
          96,
          87,
          41,
          87,
          60,
          85,
          79,
          93,
          96,
          80,
          83,
          89,
          90,
          81,
          38,
          98,
          83,
          90,
          61,
          70,
          49,
          63,
          72,
          77,
          95,
          50,
          93,
          83,
          83,
          94,
          88,
          81,
          91,
          57,
          51,
          82,
          67,
          68,
          94,
          56,
          84,
          47,
          99,
          94,
          97,
          86,
          74,
          99,
          93,
          97,
          94,
          91,
          94,
          57,
          96,
          76,
          86,
          87,
          42,
          87,
          87,
          73,
          69,
          96,
          97,
          84,
          90,
          92,
          90,
          86,
          54,
          98,
          84,
          82,
          65,
          90,
          50,
          79,
          66,
          77,
          99,
          55,
          94,
          81,
          82,
          96,
          91,
          96,
          90,
          69,
          51,
          86,
          66,
          61,
          96,
          65,
          92,
          50,
          99,
          99,
          97,
          90,
          57,
          99,
          93,
          96,
          82,
          92,
          95,
          55,
          96,
          76,
          86,
          88,
          38,
          85,
          90,
          76,
          72,
          97,
          96,
          83,
          90,
          92,
          93,
          88,
          51,
          96,
          83,
          74,
          69,
          90,
          52,
          77,
          55,
          77,
          95,
          57,
          94,
          79,
          80,
          96,
          91,
          97,
          95,
          52,
          56,
          88,
          64,
          59,
          96,
          73,
          99,
          99,
          52,
          83,
          96,
          98,
          92,
          60,
          99,
          82,
          96,
          92,
          93,
          97,
          54,
          99,
          82,
          86,
          84,
          31,
          82,
          78,
          80,
          71,
          98,
          96,
          83,
          89,
          98,
          93,
          89,
          44,
          96,
          82,
          82,
          73,
          89,
          53,
          77,
          53,
          77,
          99,
          55,
          95,
          90,
          79,
          97,
          92,
          97,
          93,
          93,
          60,
          89,
          62,
          64,
          96,
          67,
          90,
          81,
          54,
          74,
          96,
          96,
          88,
          59,
          99,
          93,
          94,
          92,
          96,
          96,
          50,
          99,
          79,
          86,
          79,
          31,
          88,
          65,
          82,
          71,
          98,
          96,
          84,
          87,
          96,
          95,
          92,
          37,
          96,
          83,
          79,
          76,
          88,
          54,
          77,
          56,
          77,
          99,
          70,
          95,
          76,
          77,
          97,
          92,
          97,
          93,
          93,
          67,
          86,
          62,
          65,
          96,
          81,
          49,
          83,
          56,
          96,
          92,
          97,
          84,
          64,
          99,
          98,
          89,
          92,
          96,
          97,
          55,
          91,
          75,
          85,
          77,
          27,
          91,
          75,
          82,
          74,
          98,
          96,
          84,
          86,
          98,
          94,
          93,
          36,
          96,
          84,
          85,
          73,
          89,
          55,
          76,
          56,
          79,
          99,
          74,
          96,
          78,
          74,
          97,
          93,
          97,
          89,
          94,
          74,
          84,
          46,
          69,
          96,
          71,
          8,
          85,
          57,
          83,
          87,
          96,
          89,
          69,
          98,
          95,
          91,
          92,
          94,
          95,
          57,
          93,
          72,
          85,
          75,
          37,
          92,
          79,
          82,
          77,
          99,
          95,
          85,
          86,
          97,
          96,
          95,
          35,
          96,
          85,
          84,
          74,
          91,
          55,
          76,
          57,
          73,
          96,
          77,
          98,
          77,
          70,
          97,
          94,
          98,
          94,
          64,
          70,
          73,
          58,
          58,
          95,
          71,
          95,
          85,
          59,
          91,
          90,
          95,
          90,
          75,
          99,
          94,
          94,
          93,
          94,
          93,
          59,
          92,
          69,
          84,
          73,
          35,
          94,
          78,
          82,
          75,
          99,
          95,
          85,
          86,
          97,
          97,
          95,
          36,
          96,
          86,
          88,
          75,
          92,
          56,
          72,
          56,
          73,
          99,
          81,
          98,
          78,
          78,
          98,
          94,
          98,
          94,
          80,
          65,
          77,
          87,
          68,
          95,
          71,
          40,
          84,
          60,
          99,
          93,
          94,
          92,
          85,
          99,
          93,
          95,
          93,
          94,
          90,
          62,
          99,
          65,
          84,
          70,
          39,
          94,
          79,
          82,
          76,
          99,
          95,
          85,
          86,
          98,
          98,
          95,
          35,
          97,
          87,
          91,
          76,
          94,
          57,
          74,
          60,
          78,
          99,
          84,
          98,
          72,
          85,
          98,
          95,
          98,
          96,
          90,
          90,
          80,
          84,
          70,
          96,
          75,
          53,
          84,
          62,
          99,
          96,
          93,
          87,
          87,
          99,
          94,
          95,
          93,
          96,
          99,
          64,
          62,
          62,
          84,
          68,
          48,
          94,
          74,
          82,
          81,
          99,
          94,
          86,
          86,
          97,
          97,
          96,
          35,
          97,
          88,
          85,
          86,
          95,
          57,
          76,
          64,
          81,
          96,
          86,
          98,
          73,
          84,
          98,
          95,
          98,
          96,
          70,
          94,
          86,
          73,
          70,
          96,
          73,
          67,
          83,
          63,
          99,
          95,
          95,
          89,
          91,
          99,
          94,
          96,
          93,
          96,
          99,
          66,
          25,
          63,
          85,
          66,
          50,
          94,
          75,
          88,
          88,
          99,
          94,
          86,
          86,
          98,
          97,
          96,
          40,
          97,
          87,
          96,
          90,
          96,
          58,
          77,
          68,
          84,
          94,
          87,
          98,
          69,
          83,
          97,
          95,
          98,
          97,
          86,
          86,
          84,
          65,
          73,
          95,
          74,
          80,
          82,
          61,
          98,
          93,
          96,
          96,
          88,
          98,
          94,
          96,
          93,
          96,
          99,
          68,
          57,
          64,
          85,
          67,
          53,
          94,
          80,
          92,
          83,
          97,
          93,
          93,
          87,
          98,
          97,
          96,
          44,
          97,
          89,
          83,
          96,
          98,
          59,
          79,
          69,
          86,
          99,
          88,
          97,
          77,
          82,
          97,
          95,
          98,
          96,
          96,
          94,
          78,
          90,
          62,
          63,
          96,
          85,
          99,
          82,
          59,
          98,
          97,
          95,
          88,
          85,
          98,
          96,
          97,
          93,
          96,
          99,
          75,
          54,
          69,
          85,
          68,
          55,
          94,
          79,
          92,
          89,
          99,
          94,
          94,
          87,
          97,
          97,
          96,
          49,
          98,
          90,
          92,
          97,
          99,
          60,
          76,
          70,
          87,
          97,
          90,
          96,
          80,
          81,
          97,
          96,
          95,
          96,
          94,
          79,
          81,
          90,
          67,
          69,
          96,
          81,
          99,
          79,
          57,
          91,
          95,
          95,
          95,
          86,
          99,
          96,
          96,
          94,
          96,
          99,
          75,
          63,
          68,
          93,
          69,
          59,
          94,
          83,
          93,
          92,
          99,
          93,
          97,
          87,
          92,
          98,
          95,
          54,
          97,
          89,
          86,
          97,
          99,
          62,
          76,
          72,
          89,
          98,
          90,
          95,
          90,
          80,
          97,
          96,
          96,
          95,
          86,
          78,
          82,
          89,
          65,
          73,
          96,
          79,
          99,
          86,
          56,
          97,
          97,
          95,
          92,
          93,
          99,
          96,
          96,
          94,
          98,
          99,
          70,
          44,
          73,
          87,
          70,
          60,
          94,
          76,
          95,
          93,
          99,
          91,
          99,
          87,
          95,
          98,
          95,
          59,
          98,
          89,
          86,
          83,
          99,
          63,
          74,
          78,
          90,
          99,
          90,
          94,
          88,
          84,
          96,
          96,
          92,
          90,
          78,
          82,
          87,
          86,
          59,
          76,
          96,
          90,
          99,
          89,
          56,
          75,
          95,
          95,
          95,
          90,
          99,
          95,
          97,
          94,
          98,
          99,
          77,
          45,
          77,
          90,
          76,
          62,
          94,
          80,
          95,
          88,
          99,
          90,
          99,
          87,
          96,
          95,
          95,
          64,
          98,
          89,
          80,
          94,
          99,
          64,
          78,
          82,
          90,
          99,
          91,
          94,
          86,
          88,
          96,
          96,
          95,
          97,
          97,
          73,
          88,
          90,
          67,
          75,
          96,
          86,
          99,
          91,
          57,
          39,
          96,
          95,
          95,
          92,
          98,
          95,
          97,
          94,
          98,
          99,
          73,
          56,
          72,
          96,
          90,
          64,
          94,
          84,
          95,
          93,
          99,
          88,
          99,
          87,
          96,
          97,
          94,
          68,
          97,
          89,
          92,
          91,
          99,
          65,
          80,
          84,
          92,
          99,
          90,
          94,
          87,
          92,
          94,
          96,
          92,
          91,
          88,
          84,
          88,
          91,
          67,
          74,
          96,
          88,
          99,
          93,
          59,
          85,
          97,
          95,
          93,
          62,
          91,
          98,
          96,
          97,
          87,
          98,
          99,
          75,
          59,
          77,
          83,
          92,
          59,
          94,
          88,
          96,
          88,
          98,
          89,
          99,
          86,
          93,
          97,
          94,
          62,
          97,
          91,
          91,
          93,
          99,
          66,
          82,
          83,
          92,
          98,
          90,
          96,
          93,
          91,
          93,
          99,
          90,
          91,
          78,
          93,
          84,
          90,
          75,
          76,
          96,
          86,
          96,
          92,
          63,
          91,
          97,
          95,
          87,
          60,
          92,
          99,
          95,
          98,
          88,
          98,
          95,
          80,
          76,
          79,
          82,
          97,
          57,
          94,
          92,
          96,
          91,
          99,
          90,
          99,
          86,
          96,
          95,
          94,
          55,
          97,
          90,
          91,
          97,
          99,
          68,
          87,
          83,
          93,
          98,
          90,
          95,
          94,
          90,
          93,
          99,
          96,
          91,
          79,
          99,
          86,
          88,
          80,
          82,
          96,
          88,
          97,
          92,
          68,
          99,
          98,
          95,
          92,
          58,
          91,
          98,
          94,
          97,
          96,
          99,
          99,
          83,
          90,
          78,
          80,
          93,
          60,
          94,
          96,
          96,
          94,
          99,
          90,
          99,
          86,
          93,
          96,
          93,
          54,
          96,
          91,
          83,
          92,
          97,
          69,
          86,
          85,
          93,
          99,
          87,
          98,
          95,
          92,
          93,
          99,
          95,
          90,
          79,
          98,
          88,
          76,
          75,
          83,
          96,
          88,
          98,
          93,
          71,
          83,
          98,
          95,
          86,
          55,
          92,
          97,
          94,
          97,
          97,
          99,
          99,
          85,
          82,
          84,
          85,
          92,
          63,
          95,
          96,
          96,
          97,
          99,
          89,
          99,
          90,
          92,
          96,
          93,
          56,
          95,
          91,
          74,
          96,
          97,
          69,
          87,
          87,
          93,
          99,
          85,
          96,
          96,
          93,
          94,
          99,
          96,
          89,
          75,
          89,
          84,
          64,
          70,
          85,
          95,
          85,
          98,
          93,
          75,
          95,
          98,
          95,
          86,
          53,
          93,
          95,
          94,
          98,
          89,
          99,
          99,
          79,
          69,
          86,
          90,
          86,
          64,
          95,
          95,
          96,
          97,
          98,
          89,
          99,
          90,
          95,
          97,
          93,
          57,
          94,
          90,
          70,
          93,
          97,
          69,
          88,
          88,
          92,
          99,
          87,
          96,
          96,
          90,
          94,
          99,
          93,
          88,
          75,
          93,
          91,
          47,
          72,
          75,
          94,
          83,
          98,
          92,
          75,
          96,
          98,
          95,
          82,
          51,
          93,
          95,
          92,
          97,
          89,
          99,
          98,
          79,
          68,
          85,
          93,
          95,
          64,
          95,
          96,
          96,
          97,
          97,
          90,
          99,
          90,
          94,
          98,
          93,
          59,
          94,
          90,
          76,
          95,
          97,
          69,
          90,
          90,
          92,
          99,
          92,
          97,
          89,
          90,
          94,
          99,
          96,
          93,
          83,
          91,
          83,
          58,
          78,
          80,
          93,
          90,
          95,
          93,
          76,
          93,
          98,
          95,
          86,
          50,
          90,
          96,
          93,
          97,
          89,
          99,
          99,
          83,
          58,
          70,
          96,
          90,
          64,
          95,
          94,
          96,
          97,
          98,
          90,
          99,
          90,
          94,
          97,
          87,
          55,
          96,
          90,
          73,
          98,
          97,
          69,
          89,
          93,
          92,
          99,
          93,
          97,
          89,
          90,
          92,
          99,
          98,
          93,
          83,
          96,
          93,
          42,
          78,
          82,
          93,
          91,
          99,
          92,
          73,
          90,
          99,
          95,
          92,
          49,
          95,
          96,
          93,
          97,
          85,
          96,
          99,
          86,
          31,
          70,
          94,
          88,
          64,
          95,
          94,
          96,
          97,
          98,
          90,
          99,
          86,
          95,
          98,
          88,
          58,
          96,
          90,
          78,
          99,
          97,
          65,
          88,
          95,
          91,
          99,
          94,
          96,
          89,
          90,
          93,
          99,
          99,
          97,
          85,
          96,
          84,
          42,
          78,
          80,
          94,
          92,
          95,
          92,
          75,
          97,
          99,
          95,
          87,
          49,
          95,
          96,
          94,
          97,
          81,
          96,
          99,
          87,
          87,
          72,
          93,
          85
         ],
         "yaxis": "y"
        }
       ],
       "layout": {
        "autosize": true,
        "coloraxis": {
         "colorbar": {
          "thickness": 50,
          "thicknessmode": "pixels",
          "title": {
           "text": "Income group from the highest income to the lowest"
          }
         },
         "colorscale": [
          [
           0,
           "#000004"
          ],
          [
           0.1111111111111111,
           "#1b0c41"
          ],
          [
           0.2222222222222222,
           "#4a0c6b"
          ],
          [
           0.3333333333333333,
           "#781c6d"
          ],
          [
           0.4444444444444444,
           "#a52c60"
          ],
          [
           0.5555555555555556,
           "#cf4446"
          ],
          [
           0.6666666666666666,
           "#ed6925"
          ],
          [
           0.7777777777777778,
           "#fb9b06"
          ],
          [
           0.8888888888888888,
           "#f7d13d"
          ],
          [
           1,
           "#fcffa4"
          ]
         ]
        },
        "legend": {
         "tracegroupgap": 0
        },
        "margin": {
         "t": 60
        },
        "template": {
         "data": {
          "bar": [
           {
            "error_x": {
             "color": "#2a3f5f"
            },
            "error_y": {
             "color": "#2a3f5f"
            },
            "marker": {
             "line": {
              "color": "#E5ECF6",
              "width": 0.5
             },
             "pattern": {
              "fillmode": "overlay",
              "size": 10,
              "solidity": 0.2
             }
            },
            "type": "bar"
           }
          ],
          "barpolar": [
           {
            "marker": {
             "line": {
              "color": "#E5ECF6",
              "width": 0.5
             },
             "pattern": {
              "fillmode": "overlay",
              "size": 10,
              "solidity": 0.2
             }
            },
            "type": "barpolar"
           }
          ],
          "carpet": [
           {
            "aaxis": {
             "endlinecolor": "#2a3f5f",
             "gridcolor": "white",
             "linecolor": "white",
             "minorgridcolor": "white",
             "startlinecolor": "#2a3f5f"
            },
            "baxis": {
             "endlinecolor": "#2a3f5f",
             "gridcolor": "white",
             "linecolor": "white",
             "minorgridcolor": "white",
             "startlinecolor": "#2a3f5f"
            },
            "type": "carpet"
           }
          ],
          "choropleth": [
           {
            "colorbar": {
             "outlinewidth": 0,
             "ticks": ""
            },
            "type": "choropleth"
           }
          ],
          "contour": [
           {
            "colorbar": {
             "outlinewidth": 0,
             "ticks": ""
            },
            "colorscale": [
             [
              0,
              "#0d0887"
             ],
             [
              0.1111111111111111,
              "#46039f"
             ],
             [
              0.2222222222222222,
              "#7201a8"
             ],
             [
              0.3333333333333333,
              "#9c179e"
             ],
             [
              0.4444444444444444,
              "#bd3786"
             ],
             [
              0.5555555555555556,
              "#d8576b"
             ],
             [
              0.6666666666666666,
              "#ed7953"
             ],
             [
              0.7777777777777778,
              "#fb9f3a"
             ],
             [
              0.8888888888888888,
              "#fdca26"
             ],
             [
              1,
              "#f0f921"
             ]
            ],
            "type": "contour"
           }
          ],
          "contourcarpet": [
           {
            "colorbar": {
             "outlinewidth": 0,
             "ticks": ""
            },
            "type": "contourcarpet"
           }
          ],
          "heatmap": [
           {
            "colorbar": {
             "outlinewidth": 0,
             "ticks": ""
            },
            "colorscale": [
             [
              0,
              "#0d0887"
             ],
             [
              0.1111111111111111,
              "#46039f"
             ],
             [
              0.2222222222222222,
              "#7201a8"
             ],
             [
              0.3333333333333333,
              "#9c179e"
             ],
             [
              0.4444444444444444,
              "#bd3786"
             ],
             [
              0.5555555555555556,
              "#d8576b"
             ],
             [
              0.6666666666666666,
              "#ed7953"
             ],
             [
              0.7777777777777778,
              "#fb9f3a"
             ],
             [
              0.8888888888888888,
              "#fdca26"
             ],
             [
              1,
              "#f0f921"
             ]
            ],
            "type": "heatmap"
           }
          ],
          "heatmapgl": [
           {
            "colorbar": {
             "outlinewidth": 0,
             "ticks": ""
            },
            "colorscale": [
             [
              0,
              "#0d0887"
             ],
             [
              0.1111111111111111,
              "#46039f"
             ],
             [
              0.2222222222222222,
              "#7201a8"
             ],
             [
              0.3333333333333333,
              "#9c179e"
             ],
             [
              0.4444444444444444,
              "#bd3786"
             ],
             [
              0.5555555555555556,
              "#d8576b"
             ],
             [
              0.6666666666666666,
              "#ed7953"
             ],
             [
              0.7777777777777778,
              "#fb9f3a"
             ],
             [
              0.8888888888888888,
              "#fdca26"
             ],
             [
              1,
              "#f0f921"
             ]
            ],
            "type": "heatmapgl"
           }
          ],
          "histogram": [
           {
            "marker": {
             "pattern": {
              "fillmode": "overlay",
              "size": 10,
              "solidity": 0.2
             }
            },
            "type": "histogram"
           }
          ],
          "histogram2d": [
           {
            "colorbar": {
             "outlinewidth": 0,
             "ticks": ""
            },
            "colorscale": [
             [
              0,
              "#0d0887"
             ],
             [
              0.1111111111111111,
              "#46039f"
             ],
             [
              0.2222222222222222,
              "#7201a8"
             ],
             [
              0.3333333333333333,
              "#9c179e"
             ],
             [
              0.4444444444444444,
              "#bd3786"
             ],
             [
              0.5555555555555556,
              "#d8576b"
             ],
             [
              0.6666666666666666,
              "#ed7953"
             ],
             [
              0.7777777777777778,
              "#fb9f3a"
             ],
             [
              0.8888888888888888,
              "#fdca26"
             ],
             [
              1,
              "#f0f921"
             ]
            ],
            "type": "histogram2d"
           }
          ],
          "histogram2dcontour": [
           {
            "colorbar": {
             "outlinewidth": 0,
             "ticks": ""
            },
            "colorscale": [
             [
              0,
              "#0d0887"
             ],
             [
              0.1111111111111111,
              "#46039f"
             ],
             [
              0.2222222222222222,
              "#7201a8"
             ],
             [
              0.3333333333333333,
              "#9c179e"
             ],
             [
              0.4444444444444444,
              "#bd3786"
             ],
             [
              0.5555555555555556,
              "#d8576b"
             ],
             [
              0.6666666666666666,
              "#ed7953"
             ],
             [
              0.7777777777777778,
              "#fb9f3a"
             ],
             [
              0.8888888888888888,
              "#fdca26"
             ],
             [
              1,
              "#f0f921"
             ]
            ],
            "type": "histogram2dcontour"
           }
          ],
          "mesh3d": [
           {
            "colorbar": {
             "outlinewidth": 0,
             "ticks": ""
            },
            "type": "mesh3d"
           }
          ],
          "parcoords": [
           {
            "line": {
             "colorbar": {
              "outlinewidth": 0,
              "ticks": ""
             }
            },
            "type": "parcoords"
           }
          ],
          "pie": [
           {
            "automargin": true,
            "type": "pie"
           }
          ],
          "scatter": [
           {
            "marker": {
             "colorbar": {
              "outlinewidth": 0,
              "ticks": ""
             }
            },
            "type": "scatter"
           }
          ],
          "scatter3d": [
           {
            "line": {
             "colorbar": {
              "outlinewidth": 0,
              "ticks": ""
             }
            },
            "marker": {
             "colorbar": {
              "outlinewidth": 0,
              "ticks": ""
             }
            },
            "type": "scatter3d"
           }
          ],
          "scattercarpet": [
           {
            "marker": {
             "colorbar": {
              "outlinewidth": 0,
              "ticks": ""
             }
            },
            "type": "scattercarpet"
           }
          ],
          "scattergeo": [
           {
            "marker": {
             "colorbar": {
              "outlinewidth": 0,
              "ticks": ""
             }
            },
            "type": "scattergeo"
           }
          ],
          "scattergl": [
           {
            "marker": {
             "colorbar": {
              "outlinewidth": 0,
              "ticks": ""
             }
            },
            "type": "scattergl"
           }
          ],
          "scattermapbox": [
           {
            "marker": {
             "colorbar": {
              "outlinewidth": 0,
              "ticks": ""
             }
            },
            "type": "scattermapbox"
           }
          ],
          "scatterpolar": [
           {
            "marker": {
             "colorbar": {
              "outlinewidth": 0,
              "ticks": ""
             }
            },
            "type": "scatterpolar"
           }
          ],
          "scatterpolargl": [
           {
            "marker": {
             "colorbar": {
              "outlinewidth": 0,
              "ticks": ""
             }
            },
            "type": "scatterpolargl"
           }
          ],
          "scatterternary": [
           {
            "marker": {
             "colorbar": {
              "outlinewidth": 0,
              "ticks": ""
             }
            },
            "type": "scatterternary"
           }
          ],
          "surface": [
           {
            "colorbar": {
             "outlinewidth": 0,
             "ticks": ""
            },
            "colorscale": [
             [
              0,
              "#0d0887"
             ],
             [
              0.1111111111111111,
              "#46039f"
             ],
             [
              0.2222222222222222,
              "#7201a8"
             ],
             [
              0.3333333333333333,
              "#9c179e"
             ],
             [
              0.4444444444444444,
              "#bd3786"
             ],
             [
              0.5555555555555556,
              "#d8576b"
             ],
             [
              0.6666666666666666,
              "#ed7953"
             ],
             [
              0.7777777777777778,
              "#fb9f3a"
             ],
             [
              0.8888888888888888,
              "#fdca26"
             ],
             [
              1,
              "#f0f921"
             ]
            ],
            "type": "surface"
           }
          ],
          "table": [
           {
            "cells": {
             "fill": {
              "color": "#EBF0F8"
             },
             "line": {
              "color": "white"
             }
            },
            "header": {
             "fill": {
              "color": "#C8D4E3"
             },
             "line": {
              "color": "white"
             }
            },
            "type": "table"
           }
          ]
         },
         "layout": {
          "annotationdefaults": {
           "arrowcolor": "#2a3f5f",
           "arrowhead": 0,
           "arrowwidth": 1
          },
          "autotypenumbers": "strict",
          "coloraxis": {
           "colorbar": {
            "outlinewidth": 0,
            "ticks": ""
           }
          },
          "colorscale": {
           "diverging": [
            [
             0,
             "#8e0152"
            ],
            [
             0.1,
             "#c51b7d"
            ],
            [
             0.2,
             "#de77ae"
            ],
            [
             0.3,
             "#f1b6da"
            ],
            [
             0.4,
             "#fde0ef"
            ],
            [
             0.5,
             "#f7f7f7"
            ],
            [
             0.6,
             "#e6f5d0"
            ],
            [
             0.7,
             "#b8e186"
            ],
            [
             0.8,
             "#7fbc41"
            ],
            [
             0.9,
             "#4d9221"
            ],
            [
             1,
             "#276419"
            ]
           ],
           "sequential": [
            [
             0,
             "#0d0887"
            ],
            [
             0.1111111111111111,
             "#46039f"
            ],
            [
             0.2222222222222222,
             "#7201a8"
            ],
            [
             0.3333333333333333,
             "#9c179e"
            ],
            [
             0.4444444444444444,
             "#bd3786"
            ],
            [
             0.5555555555555556,
             "#d8576b"
            ],
            [
             0.6666666666666666,
             "#ed7953"
            ],
            [
             0.7777777777777778,
             "#fb9f3a"
            ],
            [
             0.8888888888888888,
             "#fdca26"
            ],
            [
             1,
             "#f0f921"
            ]
           ],
           "sequentialminus": [
            [
             0,
             "#0d0887"
            ],
            [
             0.1111111111111111,
             "#46039f"
            ],
            [
             0.2222222222222222,
             "#7201a8"
            ],
            [
             0.3333333333333333,
             "#9c179e"
            ],
            [
             0.4444444444444444,
             "#bd3786"
            ],
            [
             0.5555555555555556,
             "#d8576b"
            ],
            [
             0.6666666666666666,
             "#ed7953"
            ],
            [
             0.7777777777777778,
             "#fb9f3a"
            ],
            [
             0.8888888888888888,
             "#fdca26"
            ],
            [
             1,
             "#f0f921"
            ]
           ]
          },
          "colorway": [
           "#636efa",
           "#EF553B",
           "#00cc96",
           "#ab63fa",
           "#FFA15A",
           "#19d3f3",
           "#FF6692",
           "#B6E880",
           "#FF97FF",
           "#FECB52"
          ],
          "font": {
           "color": "#2a3f5f"
          },
          "geo": {
           "bgcolor": "white",
           "lakecolor": "white",
           "landcolor": "#E5ECF6",
           "showlakes": true,
           "showland": true,
           "subunitcolor": "white"
          },
          "hoverlabel": {
           "align": "left"
          },
          "hovermode": "closest",
          "mapbox": {
           "style": "light"
          },
          "paper_bgcolor": "white",
          "plot_bgcolor": "#E5ECF6",
          "polar": {
           "angularaxis": {
            "gridcolor": "white",
            "linecolor": "white",
            "ticks": ""
           },
           "bgcolor": "#E5ECF6",
           "radialaxis": {
            "gridcolor": "white",
            "linecolor": "white",
            "ticks": ""
           }
          },
          "scene": {
           "xaxis": {
            "backgroundcolor": "#E5ECF6",
            "gridcolor": "white",
            "gridwidth": 2,
            "linecolor": "white",
            "showbackground": true,
            "ticks": "",
            "zerolinecolor": "white"
           },
           "yaxis": {
            "backgroundcolor": "#E5ECF6",
            "gridcolor": "white",
            "gridwidth": 2,
            "linecolor": "white",
            "showbackground": true,
            "ticks": "",
            "zerolinecolor": "white"
           },
           "zaxis": {
            "backgroundcolor": "#E5ECF6",
            "gridcolor": "white",
            "gridwidth": 2,
            "linecolor": "white",
            "showbackground": true,
            "ticks": "",
            "zerolinecolor": "white"
           }
          },
          "shapedefaults": {
           "line": {
            "color": "#2a3f5f"
           }
          },
          "ternary": {
           "aaxis": {
            "gridcolor": "white",
            "linecolor": "white",
            "ticks": ""
           },
           "baxis": {
            "gridcolor": "white",
            "linecolor": "white",
            "ticks": ""
           },
           "bgcolor": "#E5ECF6",
           "caxis": {
            "gridcolor": "white",
            "linecolor": "white",
            "ticks": ""
           }
          },
          "title": {
           "x": 0.05
          },
          "xaxis": {
           "automargin": true,
           "gridcolor": "white",
           "linecolor": "white",
           "ticks": "",
           "title": {
            "standoff": 15
           },
           "zerolinecolor": "white",
           "zerolinewidth": 2
          },
          "yaxis": {
           "automargin": true,
           "gridcolor": "white",
           "linecolor": "white",
           "ticks": "",
           "title": {
            "standoff": 15
           },
           "zerolinecolor": "white",
           "zerolinewidth": 2
          }
         }
        },
        "title": {
         "text": "Measles vaccination rates in different countries based on income group: 12-23 months old children"
        },
        "xaxis": {
         "anchor": "y",
         "autorange": true,
         "domain": [
          0,
          1
         ],
         "dtick": 1,
         "range": [
          1977.3718691429544,
          2021.6281308570456
         ],
         "title": {
          "text": "Time evolution"
         },
         "type": "linear"
        },
        "yaxis": {
         "anchor": "x",
         "autorange": true,
         "domain": [
          0,
          1
         ],
         "dtick": 5,
         "range": [
          -10.139470013947001,
          110.139470013947
         ],
         "title": {
          "text": "Vaccination rates (%)"
         },
         "type": "linear"
        }
       }
      },
      "image/png": "[encoded data removed]",
      "text/html": [
       "<div>                            <div id=\"fe6b18eb-1748-4b68-9f52-99fcdaec4e80\" class=\"plotly-graph-div\" style=\"height:525px; width:100%;\"></div>            <script type=\"text/javascript\">                require([\"plotly\"], function(Plotly) {                    window.PLOTLYENV=window.PLOTLYENV || {};                                    if (document.getElementById(\"fe6b18eb-1748-4b68-9f52-99fcdaec4e80\")) {                    Plotly.newPlot(                        \"fe6b18eb-1748-4b68-9f52-99fcdaec4e80\",                        [{\"hovertemplate\":\"<b>%{hovertext}</b><br><br>year=%{x}<br>value_=%{y}<br>IncomeGroupValue=%{marker.color}<extra></extra>\",\"hovertext\":[\"Afghanistan\",\"Cyprus\",\"Egypt, Arab Rep.\",\"Ethiopia\",\"Iran, Islamic Rep.\",\"Japan\",\"Lesotho\",\"Netherlands\",\"New Zealand\",\"Pakistan\",\"Portugal\",\"Singapore\",\"Sweden\",\"Austria\",\"Belgium\",\"Cyprus\",\"Egypt, Arab Rep.\",\"Spain\",\"Ethiopia\",\"Finland\",\"Iran, Islamic Rep.\",\"Japan\",\"Lesotho\",\"Mauritania\",\"Netherlands\",\"Nepal\",\"New Zealand\",\"Pakistan\",\"Portugal\",\"Singapore\",\"Sao Tome and Principe\",\"Sweden\",\"Eswatini\",\"Tonga\",\"Uganda\",\"Zimbabwe\",\"Afghanistan\",\"Austria\",\"Belgium\",\"Bangladesh\",\"Cyprus\",\"Egypt, Arab Rep.\",\"Spain\",\"Ethiopia\",\"Finland\",\"Haiti\",\"Iran, Islamic Rep.\",\"Japan\",\"Lesotho\",\"Mauritania\",\"Netherlands\",\"Nepal\",\"New Zealand\",\"Pakistan\",\"Portugal\",\"Singapore\",\"Sao Tome and Principe\",\"Sweden\",\"Eswatini\",\"Tonga\",\"Uganda\",\"Samoa\",\"Zimbabwe\",\"Afghanistan\",\"Australia\",\"Austria\",\"Belgium\",\"Bangladesh\",\"China\",\"Cyprus\",\"Egypt, Arab Rep.\",\"Spain\",\"Ethiopia\",\"Finland\",\"France\",\"Haiti\",\"Indonesia\",\"Ireland\",\"Iran, Islamic Rep.\",\"Japan\",\"Lesotho\",\"Luxembourg\",\"Mauritania\",\"Netherlands\",\"Nepal\",\"New Zealand\",\"Pakistan\",\"Portugal\",\"Singapore\",\"Sao Tome and Principe\",\"Sweden\",\"Eswatini\",\"Tonga\",\"Uganda\",\"Samoa\",\"South Africa\",\"Zambia\",\"Zimbabwe\",\"Afghanistan\",\"Australia\",\"Austria\",\"Belgium\",\"Bangladesh\",\"China\",\"Cyprus\",\"Egypt, Arab Rep.\",\"Spain\",\"Ethiopia\",\"Finland\",\"France\",\"Greece\",\"Haiti\",\"Indonesia\",\"Ireland\",\"Iran, Islamic Rep.\",\"Japan\",\"Kenya\",\"Lesotho\",\"Luxembourg\",\"Malta\",\"Mauritania\",\"Netherlands\",\"Nepal\",\"New Zealand\",\"Pakistan\",\"Portugal\",\"Singapore\",\"Sao Tome and Principe\",\"Sweden\",\"Eswatini\",\"Thailand\",\"Tonga\",\"Uganda\",\"Samoa\",\"South Africa\",\"Zambia\",\"Zimbabwe\",\"Afghanistan\",\"Australia\",\"Austria\",\"Belgium\",\"Bangladesh\",\"China\",\"Cyprus\",\"Egypt, Arab Rep.\",\"Spain\",\"Ethiopia\",\"Finland\",\"France\",\"Greece\",\"Haiti\",\"Indonesia\",\"India\",\"Ireland\",\"Iran, Islamic Rep.\",\"Japan\",\"Kenya\",\"Lesotho\",\"Luxembourg\",\"Malta\",\"Mauritania\",\"Netherlands\",\"Nepal\",\"New Zealand\",\"Pakistan\",\"Portugal\",\"Singapore\",\"Sao Tome and Principe\",\"Sweden\",\"Eswatini\",\"Thailand\",\"Tonga\",\"Uganda\",\"Samoa\",\"South Africa\",\"Zambia\",\"Zimbabwe\",\"Afghanistan\",\"Australia\",\"Austria\",\"Belgium\",\"Bangladesh\",\"China\",\"Cyprus\",\"Egypt, Arab Rep.\",\"Spain\",\"Ethiopia\",\"Finland\",\"France\",\"Greece\",\"Haiti\",\"Indonesia\",\"India\",\"Ireland\",\"Iran, Islamic Rep.\",\"Japan\",\"Kenya\",\"Lesotho\",\"Luxembourg\",\"Malta\",\"Myanmar\",\"Mauritania\",\"Netherlands\",\"Nepal\",\"New Zealand\",\"Pakistan\",\"Palau\",\"Portugal\",\"Singapore\",\"Sao Tome and Principe\",\"Sweden\",\"Eswatini\",\"Thailand\",\"Tonga\",\"Uganda\",\"Samoa\",\"South Africa\",\"Zambia\",\"Zimbabwe\",\"Afghanistan\",\"Australia\",\"Austria\",\"Belgium\",\"Bangladesh\",\"Canada\",\"China\",\"Cyprus\",\"Egypt, Arab Rep.\",\"Spain\",\"Ethiopia\",\"Finland\",\"France\",\"Micronesia, Fed. Sts.\",\"Greece\",\"Haiti\",\"Indonesia\",\"India\",\"Ireland\",\"Iran, Islamic Rep.\",\"Japan\",\"Kenya\",\"Lesotho\",\"Luxembourg\",\"Marshall Islands\",\"Malta\",\"Myanmar\",\"Mauritania\",\"Netherlands\",\"Nepal\",\"New Zealand\",\"Pakistan\",\"Palau\",\"Portugal\",\"Singapore\",\"Sao Tome and Principe\",\"Sweden\",\"Eswatini\",\"Thailand\",\"Tonga\",\"Uganda\",\"Samoa\",\"South Africa\",\"Zambia\",\"Zimbabwe\",\"Afghanistan\",\"Australia\",\"Austria\",\"Belgium\",\"Bangladesh\",\"Canada\",\"China\",\"Cyprus\",\"Egypt, Arab Rep.\",\"Spain\",\"Ethiopia\",\"Finland\",\"France\",\"Micronesia, Fed. Sts.\",\"Greece\",\"Haiti\",\"Indonesia\",\"India\",\"Ireland\",\"Iran, Islamic Rep.\",\"Japan\",\"Kenya\",\"Lesotho\",\"Luxembourg\",\"Marshall Islands\",\"Malta\",\"Myanmar\",\"Mauritania\",\"Netherlands\",\"Nepal\",\"New Zealand\",\"Pakistan\",\"Palau\",\"Portugal\",\"Singapore\",\"Sao Tome and Principe\",\"Sweden\",\"Eswatini\",\"Thailand\",\"Tonga\",\"Uganda\",\"Samoa\",\"South Africa\",\"Zambia\",\"Zimbabwe\",\"Afghanistan\",\"Australia\",\"Austria\",\"Belgium\",\"Bangladesh\",\"Canada\",\"China\",\"Cyprus\",\"Egypt, Arab Rep.\",\"Spain\",\"Ethiopia\",\"Finland\",\"France\",\"Micronesia, Fed. Sts.\",\"Greece\",\"Haiti\",\"Indonesia\",\"India\",\"Ireland\",\"Iran, Islamic Rep.\",\"Japan\",\"Kenya\",\"Lesotho\",\"Luxembourg\",\"Marshall Islands\",\"Malta\",\"Myanmar\",\"Mauritania\",\"Netherlands\",\"Nepal\",\"New Zealand\",\"Pakistan\",\"Palau\",\"Portugal\",\"Singapore\",\"Sao Tome and Principe\",\"Sweden\",\"Eswatini\",\"Thailand\",\"Tonga\",\"Uganda\",\"Samoa\",\"South Africa\",\"Zambia\",\"Zimbabwe\",\"Afghanistan\",\"Australia\",\"Austria\",\"Belgium\",\"Bangladesh\",\"Canada\",\"China\",\"Cyprus\",\"Egypt, Arab Rep.\",\"Spain\",\"Ethiopia\",\"Finland\",\"France\",\"Micronesia, Fed. Sts.\",\"Greece\",\"Haiti\",\"Indonesia\",\"India\",\"Ireland\",\"Iran, Islamic Rep.\",\"Italy\",\"Japan\",\"Kenya\",\"Lesotho\",\"Luxembourg\",\"Marshall Islands\",\"Malta\",\"Myanmar\",\"Mauritania\",\"Netherlands\",\"Nepal\",\"New Zealand\",\"Pakistan\",\"Palau\",\"Portugal\",\"Singapore\",\"Sao Tome and Principe\",\"Sweden\",\"Eswatini\",\"Thailand\",\"Tonga\",\"Uganda\",\"Samoa\",\"South Africa\",\"Zambia\",\"Zimbabwe\",\"Afghanistan\",\"Australia\",\"Austria\",\"Belgium\",\"Bangladesh\",\"Canada\",\"China\",\"Cyprus\",\"Egypt, Arab Rep.\",\"Spain\",\"Ethiopia\",\"Finland\",\"France\",\"Micronesia, Fed. Sts.\",\"Greece\",\"Haiti\",\"Indonesia\",\"India\",\"Ireland\",\"Iran, Islamic Rep.\",\"Italy\",\"Japan\",\"Kenya\",\"Lesotho\",\"Luxembourg\",\"Marshall Islands\",\"Malta\",\"Myanmar\",\"Mauritania\",\"Namibia\",\"Netherlands\",\"Nepal\",\"New Zealand\",\"Pakistan\",\"Palau\",\"Portugal\",\"Singapore\",\"Sao Tome and Principe\",\"Sweden\",\"Eswatini\",\"Thailand\",\"Tonga\",\"Uganda\",\"Samoa\",\"South Africa\",\"Zambia\",\"Zimbabwe\",\"Afghanistan\",\"Australia\",\"Austria\",\"Belgium\",\"Bangladesh\",\"Belarus\",\"Canada\",\"China\",\"Cyprus\",\"Egypt, Arab Rep.\",\"Spain\",\"Ethiopia\",\"Finland\",\"France\",\"Micronesia, Fed. Sts.\",\"Georgia\",\"Greece\",\"Haiti\",\"Indonesia\",\"India\",\"Ireland\",\"Iran, Islamic Rep.\",\"Italy\",\"Japan\",\"Kenya\",\"Lesotho\",\"Lithuania\",\"Luxembourg\",\"Latvia\",\"Moldova\",\"Marshall Islands\",\"Malta\",\"Myanmar\",\"Mauritania\",\"Namibia\",\"Netherlands\",\"Nepal\",\"New Zealand\",\"Pakistan\",\"Palau\",\"Portugal\",\"Singapore\",\"Serbia\",\"Sao Tome and Principe\",\"Slovenia\",\"Sweden\",\"Eswatini\",\"Thailand\",\"Tonga\",\"Uganda\",\"Samoa\",\"South Africa\",\"Zambia\",\"Zimbabwe\",\"Afghanistan\",\"Australia\",\"Austria\",\"Belgium\",\"Bangladesh\",\"Belarus\",\"Canada\",\"China\",\"Cyprus\",\"Egypt, Arab Rep.\",\"Spain\",\"Estonia\",\"Ethiopia\",\"Finland\",\"France\",\"Micronesia, Fed. Sts.\",\"Georgia\",\"Greece\",\"Haiti\",\"Indonesia\",\"India\",\"Ireland\",\"Iran, Islamic Rep.\",\"Italy\",\"Japan\",\"Kenya\",\"Lesotho\",\"Lithuania\",\"Luxembourg\",\"Latvia\",\"Moldova\",\"Marshall Islands\",\"Malta\",\"Myanmar\",\"Mauritania\",\"Namibia\",\"Netherlands\",\"Nepal\",\"New Zealand\",\"Pakistan\",\"Palau\",\"Portugal\",\"Singapore\",\"Serbia\",\"Sao Tome and Principe\",\"Slovenia\",\"Sweden\",\"Eswatini\",\"Thailand\",\"Tonga\",\"Uganda\",\"Samoa\",\"South Africa\",\"Zambia\",\"Zimbabwe\",\"Afghanistan\",\"Australia\",\"Austria\",\"Belgium\",\"Bangladesh\",\"Belarus\",\"Canada\",\"China\",\"Cyprus\",\"Egypt, Arab Rep.\",\"Spain\",\"Estonia\",\"Ethiopia\",\"Finland\",\"France\",\"Micronesia, Fed. Sts.\",\"Georgia\",\"Greece\",\"Haiti\",\"Indonesia\",\"India\",\"Ireland\",\"Iran, Islamic Rep.\",\"Italy\",\"Japan\",\"Kenya\",\"Lesotho\",\"Lithuania\",\"Luxembourg\",\"Latvia\",\"Moldova\",\"Marshall Islands\",\"Malta\",\"Myanmar\",\"Mauritania\",\"Namibia\",\"Netherlands\",\"Nepal\",\"New Zealand\",\"Pakistan\",\"Palau\",\"Portugal\",\"Singapore\",\"Serbia\",\"Sao Tome and Principe\",\"Slovak Republic\",\"Slovenia\",\"Sweden\",\"Eswatini\",\"Thailand\",\"Tonga\",\"Uganda\",\"Samoa\",\"South Africa\",\"Zambia\",\"Zimbabwe\",\"Afghanistan\",\"Australia\",\"Austria\",\"Belgium\",\"Bangladesh\",\"Belarus\",\"Canada\",\"China\",\"Cyprus\",\"Egypt, Arab Rep.\",\"Spain\",\"Estonia\",\"Ethiopia\",\"Finland\",\"France\",\"Micronesia, Fed. Sts.\",\"Georgia\",\"Greece\",\"Haiti\",\"Indonesia\",\"India\",\"Ireland\",\"Iran, Islamic Rep.\",\"Italy\",\"Japan\",\"Kenya\",\"Lesotho\",\"Lithuania\",\"Luxembourg\",\"Latvia\",\"Moldova\",\"Marshall Islands\",\"Malta\",\"Myanmar\",\"Mauritania\",\"Namibia\",\"Netherlands\",\"Nepal\",\"New Zealand\",\"Pakistan\",\"Palau\",\"Portugal\",\"Singapore\",\"Serbia\",\"Sao Tome and Principe\",\"Slovak Republic\",\"Slovenia\",\"Sweden\",\"Eswatini\",\"Thailand\",\"Tonga\",\"Uganda\",\"Samoa\",\"South Africa\",\"Zambia\",\"Zimbabwe\",\"Afghanistan\",\"Australia\",\"Austria\",\"Belgium\",\"Bangladesh\",\"Belarus\",\"Canada\",\"China\",\"Cyprus\",\"Egypt, Arab Rep.\",\"Spain\",\"Estonia\",\"Ethiopia\",\"Finland\",\"France\",\"Micronesia, Fed. Sts.\",\"Georgia\",\"Greece\",\"Haiti\",\"Indonesia\",\"India\",\"Ireland\",\"Iran, Islamic Rep.\",\"Italy\",\"Japan\",\"Kenya\",\"Lesotho\",\"Lithuania\",\"Luxembourg\",\"Latvia\",\"Moldova\",\"Marshall Islands\",\"Malta\",\"Myanmar\",\"Mauritania\",\"Namibia\",\"Netherlands\",\"Nepal\",\"New Zealand\",\"Pakistan\",\"Palau\",\"Portugal\",\"Singapore\",\"Serbia\",\"Sao Tome and Principe\",\"Slovak Republic\",\"Slovenia\",\"Sweden\",\"Eswatini\",\"Thailand\",\"Tonga\",\"Uganda\",\"Samoa\",\"South Africa\",\"Zambia\",\"Zimbabwe\",\"Afghanistan\",\"Australia\",\"Austria\",\"Belgium\",\"Bangladesh\",\"Belarus\",\"Canada\",\"China\",\"Cyprus\",\"Egypt, Arab Rep.\",\"Spain\",\"Estonia\",\"Ethiopia\",\"Finland\",\"France\",\"Micronesia, Fed. Sts.\",\"Georgia\",\"Greece\",\"Haiti\",\"Indonesia\",\"India\",\"Ireland\",\"Iran, Islamic Rep.\",\"Italy\",\"Japan\",\"Kenya\",\"Lesotho\",\"Lithuania\",\"Luxembourg\",\"Latvia\",\"Moldova\",\"Marshall Islands\",\"Malta\",\"Myanmar\",\"Mauritania\",\"Namibia\",\"Netherlands\",\"Nepal\",\"Nauru\",\"New Zealand\",\"Pakistan\",\"Palau\",\"Portugal\",\"Singapore\",\"Serbia\",\"Sao Tome and Principe\",\"Slovak Republic\",\"Slovenia\",\"Sweden\",\"Eswatini\",\"Thailand\",\"Tonga\",\"Uganda\",\"Samoa\",\"South Africa\",\"Zambia\",\"Zimbabwe\",\"Afghanistan\",\"Australia\",\"Austria\",\"Belgium\",\"Bangladesh\",\"Belarus\",\"Canada\",\"China\",\"Cyprus\",\"Egypt, Arab Rep.\",\"Spain\",\"Estonia\",\"Ethiopia\",\"Finland\",\"France\",\"Micronesia, Fed. Sts.\",\"Georgia\",\"Greece\",\"Haiti\",\"Indonesia\",\"India\",\"Ireland\",\"Iran, Islamic Rep.\",\"Italy\",\"Japan\",\"Kenya\",\"Lesotho\",\"Lithuania\",\"Luxembourg\",\"Latvia\",\"Moldova\",\"Marshall Islands\",\"Malta\",\"Myanmar\",\"Mauritania\",\"Namibia\",\"Netherlands\",\"Nepal\",\"Nauru\",\"New Zealand\",\"Pakistan\",\"Palau\",\"Portugal\",\"Singapore\",\"Serbia\",\"Sao Tome and Principe\",\"Slovak Republic\",\"Slovenia\",\"Sweden\",\"Eswatini\",\"Thailand\",\"Tonga\",\"Uganda\",\"Samoa\",\"South Africa\",\"Zambia\",\"Zimbabwe\",\"Afghanistan\",\"Australia\",\"Austria\",\"Belgium\",\"Bangladesh\",\"Belarus\",\"Canada\",\"China\",\"Cyprus\",\"Egypt, Arab Rep.\",\"Spain\",\"Estonia\",\"Ethiopia\",\"Finland\",\"France\",\"Micronesia, Fed. Sts.\",\"Georgia\",\"Greece\",\"Haiti\",\"Indonesia\",\"India\",\"Ireland\",\"Iran, Islamic Rep.\",\"Italy\",\"Japan\",\"Kenya\",\"Lesotho\",\"Lithuania\",\"Luxembourg\",\"Latvia\",\"Moldova\",\"Marshall Islands\",\"Malta\",\"Myanmar\",\"Mauritania\",\"Namibia\",\"Netherlands\",\"Nepal\",\"Nauru\",\"New Zealand\",\"Pakistan\",\"Palau\",\"Portugal\",\"Singapore\",\"Serbia\",\"Sao Tome and Principe\",\"Slovak Republic\",\"Slovenia\",\"Sweden\",\"Eswatini\",\"Thailand\",\"Tonga\",\"Uganda\",\"Samoa\",\"South Africa\",\"Zambia\",\"Zimbabwe\",\"Afghanistan\",\"Australia\",\"Austria\",\"Belgium\",\"Bangladesh\",\"Belarus\",\"Canada\",\"China\",\"Cyprus\",\"Egypt, Arab Rep.\",\"Spain\",\"Estonia\",\"Ethiopia\",\"Finland\",\"France\",\"Micronesia, Fed. Sts.\",\"Georgia\",\"Greece\",\"Haiti\",\"Indonesia\",\"India\",\"Ireland\",\"Iran, Islamic Rep.\",\"Italy\",\"Japan\",\"Kenya\",\"Lesotho\",\"Lithuania\",\"Luxembourg\",\"Latvia\",\"Moldova\",\"Marshall Islands\",\"Malta\",\"Myanmar\",\"Mauritania\",\"Namibia\",\"Netherlands\",\"Nepal\",\"Nauru\",\"New Zealand\",\"Pakistan\",\"Palau\",\"Portugal\",\"Singapore\",\"Serbia\",\"Sao Tome and Principe\",\"Slovak Republic\",\"Slovenia\",\"Sweden\",\"Eswatini\",\"Thailand\",\"Tonga\",\"Uganda\",\"Samoa\",\"South Africa\",\"Zambia\",\"Zimbabwe\",\"Afghanistan\",\"Australia\",\"Austria\",\"Belgium\",\"Bangladesh\",\"Belarus\",\"Canada\",\"China\",\"Cyprus\",\"Egypt, Arab Rep.\",\"Spain\",\"Estonia\",\"Ethiopia\",\"Finland\",\"France\",\"Micronesia, Fed. Sts.\",\"Georgia\",\"Greece\",\"Haiti\",\"Indonesia\",\"India\",\"Ireland\",\"Iran, Islamic Rep.\",\"Italy\",\"Japan\",\"Kenya\",\"Lesotho\",\"Lithuania\",\"Luxembourg\",\"Latvia\",\"Moldova\",\"Marshall Islands\",\"Malta\",\"Myanmar\",\"Mauritania\",\"Namibia\",\"Netherlands\",\"Nepal\",\"Nauru\",\"New Zealand\",\"Pakistan\",\"Palau\",\"Portugal\",\"Singapore\",\"Serbia\",\"Sao Tome and Principe\",\"Slovak Republic\",\"Slovenia\",\"Sweden\",\"Eswatini\",\"Thailand\",\"Tonga\",\"Uganda\",\"Samoa\",\"South Africa\",\"Zambia\",\"Zimbabwe\",\"Afghanistan\",\"Australia\",\"Austria\",\"Belgium\",\"Bangladesh\",\"Belarus\",\"Canada\",\"China\",\"Cyprus\",\"Egypt, Arab Rep.\",\"Spain\",\"Estonia\",\"Ethiopia\",\"Finland\",\"France\",\"Micronesia, Fed. Sts.\",\"Georgia\",\"Greece\",\"Haiti\",\"Indonesia\",\"India\",\"Ireland\",\"Iran, Islamic Rep.\",\"Italy\",\"Japan\",\"Kenya\",\"Lesotho\",\"Lithuania\",\"Luxembourg\",\"Latvia\",\"Moldova\",\"Marshall Islands\",\"Malta\",\"Myanmar\",\"Mauritania\",\"Namibia\",\"Netherlands\",\"Nepal\",\"Nauru\",\"New Zealand\",\"Pakistan\",\"Palau\",\"Portugal\",\"Singapore\",\"Serbia\",\"Sao Tome and Principe\",\"Slovak Republic\",\"Slovenia\",\"Sweden\",\"Eswatini\",\"Thailand\",\"Tonga\",\"Uganda\",\"Samoa\",\"South Africa\",\"Zambia\",\"Zimbabwe\",\"Afghanistan\",\"Australia\",\"Austria\",\"Belgium\",\"Bangladesh\",\"Belarus\",\"Canada\",\"China\",\"Cyprus\",\"Egypt, Arab Rep.\",\"Spain\",\"Estonia\",\"Ethiopia\",\"Finland\",\"France\",\"Micronesia, Fed. Sts.\",\"Georgia\",\"Greece\",\"Haiti\",\"Indonesia\",\"India\",\"Ireland\",\"Iran, Islamic Rep.\",\"Italy\",\"Japan\",\"Kenya\",\"Lesotho\",\"Lithuania\",\"Luxembourg\",\"Latvia\",\"Moldova\",\"Marshall Islands\",\"Malta\",\"Myanmar\",\"Mauritania\",\"Namibia\",\"Netherlands\",\"Nepal\",\"Nauru\",\"New Zealand\",\"Pakistan\",\"Palau\",\"Portugal\",\"Singapore\",\"Serbia\",\"Sao Tome and Principe\",\"Slovak Republic\",\"Slovenia\",\"Sweden\",\"Eswatini\",\"Thailand\",\"Tonga\",\"Uganda\",\"Samoa\",\"South Africa\",\"Zambia\",\"Zimbabwe\",\"Afghanistan\",\"Australia\",\"Austria\",\"Belgium\",\"Bangladesh\",\"Belarus\",\"Canada\",\"China\",\"Cyprus\",\"Egypt, Arab Rep.\",\"Spain\",\"Estonia\",\"Ethiopia\",\"Finland\",\"France\",\"Micronesia, Fed. Sts.\",\"Georgia\",\"Greece\",\"Haiti\",\"Indonesia\",\"India\",\"Ireland\",\"Iran, Islamic Rep.\",\"Italy\",\"Japan\",\"Kenya\",\"Lesotho\",\"Lithuania\",\"Luxembourg\",\"Latvia\",\"Moldova\",\"Marshall Islands\",\"Malta\",\"Myanmar\",\"Mauritania\",\"Namibia\",\"Netherlands\",\"Nepal\",\"Nauru\",\"New Zealand\",\"Pakistan\",\"Palau\",\"Portugal\",\"Singapore\",\"Serbia\",\"Sao Tome and Principe\",\"Slovak Republic\",\"Slovenia\",\"Sweden\",\"Eswatini\",\"Thailand\",\"Tonga\",\"Uganda\",\"Samoa\",\"South Africa\",\"Zambia\",\"Zimbabwe\",\"Afghanistan\",\"Australia\",\"Austria\",\"Belgium\",\"Bangladesh\",\"Belarus\",\"Canada\",\"China\",\"Cyprus\",\"Egypt, Arab Rep.\",\"Spain\",\"Estonia\",\"Ethiopia\",\"Finland\",\"France\",\"Micronesia, Fed. Sts.\",\"Georgia\",\"Greece\",\"Haiti\",\"Indonesia\",\"India\",\"Ireland\",\"Iran, Islamic Rep.\",\"Italy\",\"Japan\",\"Kenya\",\"Lesotho\",\"Lithuania\",\"Luxembourg\",\"Latvia\",\"Moldova\",\"Marshall Islands\",\"Malta\",\"Myanmar\",\"Mauritania\",\"Namibia\",\"Netherlands\",\"Nepal\",\"Nauru\",\"New Zealand\",\"Pakistan\",\"Palau\",\"Portugal\",\"Singapore\",\"Serbia\",\"Sao Tome and Principe\",\"Slovak Republic\",\"Slovenia\",\"Sweden\",\"Eswatini\",\"Thailand\",\"Tonga\",\"Uganda\",\"Samoa\",\"South Africa\",\"Zambia\",\"Zimbabwe\",\"Afghanistan\",\"Australia\",\"Austria\",\"Belgium\",\"Bangladesh\",\"Belarus\",\"Canada\",\"China\",\"Cyprus\",\"Egypt, Arab Rep.\",\"Spain\",\"Estonia\",\"Ethiopia\",\"Finland\",\"France\",\"Micronesia, Fed. Sts.\",\"Georgia\",\"Greece\",\"Haiti\",\"Indonesia\",\"India\",\"Ireland\",\"Iran, Islamic Rep.\",\"Italy\",\"Japan\",\"Kenya\",\"Lesotho\",\"Lithuania\",\"Luxembourg\",\"Latvia\",\"Moldova\",\"Marshall Islands\",\"Malta\",\"Myanmar\",\"Montenegro\",\"Mauritania\",\"Namibia\",\"Netherlands\",\"Nepal\",\"Nauru\",\"New Zealand\",\"Pakistan\",\"Palau\",\"Portugal\",\"Singapore\",\"Serbia\",\"Sao Tome and Principe\",\"Slovak Republic\",\"Slovenia\",\"Sweden\",\"Eswatini\",\"Thailand\",\"Tonga\",\"Uganda\",\"Samoa\",\"South Africa\",\"Zambia\",\"Zimbabwe\",\"Afghanistan\",\"Australia\",\"Austria\",\"Belgium\",\"Bangladesh\",\"Belarus\",\"Canada\",\"China\",\"Cyprus\",\"Egypt, Arab Rep.\",\"Spain\",\"Estonia\",\"Ethiopia\",\"Finland\",\"France\",\"Micronesia, Fed. Sts.\",\"Georgia\",\"Greece\",\"Haiti\",\"Indonesia\",\"India\",\"Ireland\",\"Iran, Islamic Rep.\",\"Italy\",\"Japan\",\"Kenya\",\"Lesotho\",\"Lithuania\",\"Luxembourg\",\"Latvia\",\"Moldova\",\"Marshall Islands\",\"Malta\",\"Myanmar\",\"Montenegro\",\"Mauritania\",\"Namibia\",\"Netherlands\",\"Nepal\",\"Nauru\",\"New Zealand\",\"Pakistan\",\"Palau\",\"Portugal\",\"Singapore\",\"Serbia\",\"Sao Tome and Principe\",\"Slovak Republic\",\"Slovenia\",\"Sweden\",\"Eswatini\",\"Thailand\",\"Tonga\",\"Uganda\",\"Samoa\",\"South Africa\",\"Zambia\",\"Zimbabwe\",\"Afghanistan\",\"Australia\",\"Austria\",\"Belgium\",\"Bangladesh\",\"Belarus\",\"Canada\",\"China\",\"Cyprus\",\"Egypt, Arab Rep.\",\"Spain\",\"Estonia\",\"Ethiopia\",\"Finland\",\"France\",\"Micronesia, Fed. Sts.\",\"Georgia\",\"Greece\",\"Haiti\",\"Indonesia\",\"India\",\"Ireland\",\"Iran, Islamic Rep.\",\"Italy\",\"Japan\",\"Kenya\",\"Lesotho\",\"Lithuania\",\"Luxembourg\",\"Latvia\",\"Moldova\",\"Marshall Islands\",\"Malta\",\"Myanmar\",\"Montenegro\",\"Mauritania\",\"Namibia\",\"Netherlands\",\"Nepal\",\"Nauru\",\"New Zealand\",\"Pakistan\",\"Palau\",\"Portugal\",\"Singapore\",\"Serbia\",\"Sao Tome and Principe\",\"Slovak Republic\",\"Slovenia\",\"Sweden\",\"Eswatini\",\"Thailand\",\"Tonga\",\"Uganda\",\"Samoa\",\"South Africa\",\"Zambia\",\"Zimbabwe\",\"Afghanistan\",\"Australia\",\"Austria\",\"Belgium\",\"Bangladesh\",\"Belarus\",\"Canada\",\"China\",\"Cyprus\",\"Egypt, Arab Rep.\",\"Spain\",\"Estonia\",\"Ethiopia\",\"Finland\",\"France\",\"Micronesia, Fed. Sts.\",\"Georgia\",\"Greece\",\"Haiti\",\"Indonesia\",\"India\",\"Ireland\",\"Iran, Islamic Rep.\",\"Italy\",\"Japan\",\"Kenya\",\"Lesotho\",\"Lithuania\",\"Luxembourg\",\"Latvia\",\"Moldova\",\"Marshall Islands\",\"Malta\",\"Myanmar\",\"Montenegro\",\"Mauritania\",\"Namibia\",\"Netherlands\",\"Nepal\",\"Nauru\",\"New Zealand\",\"Pakistan\",\"Palau\",\"Portugal\",\"Singapore\",\"Serbia\",\"Sao Tome and Principe\",\"Slovak Republic\",\"Slovenia\",\"Sweden\",\"Eswatini\",\"Thailand\",\"Tonga\",\"Uganda\",\"Samoa\",\"South Africa\",\"Zambia\",\"Zimbabwe\",\"Afghanistan\",\"Australia\",\"Austria\",\"Belgium\",\"Bangladesh\",\"Belarus\",\"Canada\",\"China\",\"Cyprus\",\"Egypt, Arab Rep.\",\"Spain\",\"Estonia\",\"Ethiopia\",\"Finland\",\"France\",\"Micronesia, Fed. Sts.\",\"Georgia\",\"Greece\",\"Haiti\",\"Indonesia\",\"India\",\"Ireland\",\"Iran, Islamic Rep.\",\"Italy\",\"Japan\",\"Kenya\",\"Lesotho\",\"Lithuania\",\"Luxembourg\",\"Latvia\",\"Moldova\",\"Marshall Islands\",\"Malta\",\"Myanmar\",\"Montenegro\",\"Mauritania\",\"Namibia\",\"Netherlands\",\"Nepal\",\"Nauru\",\"New Zealand\",\"Pakistan\",\"Palau\",\"Portugal\",\"Singapore\",\"Serbia\",\"Sao Tome and Principe\",\"Slovak Republic\",\"Slovenia\",\"Sweden\",\"Eswatini\",\"Thailand\",\"Tonga\",\"Uganda\",\"Samoa\",\"South Africa\",\"Zambia\",\"Zimbabwe\",\"Afghanistan\",\"Australia\",\"Austria\",\"Belgium\",\"Bangladesh\",\"Belarus\",\"Canada\",\"China\",\"Cyprus\",\"Egypt, Arab Rep.\",\"Spain\",\"Estonia\",\"Ethiopia\",\"Finland\",\"France\",\"Micronesia, Fed. Sts.\",\"Georgia\",\"Greece\",\"Haiti\",\"Indonesia\",\"India\",\"Ireland\",\"Iran, Islamic Rep.\",\"Italy\",\"Japan\",\"Kenya\",\"Lesotho\",\"Lithuania\",\"Luxembourg\",\"Latvia\",\"Moldova\",\"Marshall Islands\",\"Malta\",\"Myanmar\",\"Montenegro\",\"Mauritania\",\"Namibia\",\"Netherlands\",\"Nepal\",\"Nauru\",\"New Zealand\",\"Pakistan\",\"Palau\",\"Portugal\",\"Singapore\",\"Serbia\",\"South Sudan\",\"Sao Tome and Principe\",\"Slovak Republic\",\"Slovenia\",\"Sweden\",\"Eswatini\",\"Thailand\",\"Tonga\",\"Uganda\",\"Samoa\",\"South Africa\",\"Zambia\",\"Zimbabwe\",\"Afghanistan\",\"Australia\",\"Austria\",\"Belgium\",\"Bangladesh\",\"Belarus\",\"Canada\",\"China\",\"Cyprus\",\"Egypt, Arab Rep.\",\"Spain\",\"Estonia\",\"Ethiopia\",\"Finland\",\"France\",\"Micronesia, Fed. Sts.\",\"Georgia\",\"Greece\",\"Haiti\",\"Indonesia\",\"India\",\"Ireland\",\"Iran, Islamic Rep.\",\"Italy\",\"Japan\",\"Kenya\",\"Lesotho\",\"Lithuania\",\"Luxembourg\",\"Latvia\",\"Moldova\",\"Marshall Islands\",\"Malta\",\"Myanmar\",\"Montenegro\",\"Mauritania\",\"Namibia\",\"Netherlands\",\"Nepal\",\"Nauru\",\"New Zealand\",\"Pakistan\",\"Palau\",\"Portugal\",\"Singapore\",\"Serbia\",\"South Sudan\",\"Sao Tome and Principe\",\"Slovak Republic\",\"Slovenia\",\"Sweden\",\"Eswatini\",\"Thailand\",\"Tonga\",\"Uganda\",\"Samoa\",\"South Africa\",\"Zambia\",\"Zimbabwe\",\"Afghanistan\",\"Australia\",\"Austria\",\"Belgium\",\"Bangladesh\",\"Belarus\",\"Canada\",\"China\",\"Cyprus\",\"Egypt, Arab Rep.\",\"Spain\",\"Estonia\",\"Ethiopia\",\"Finland\",\"France\",\"Micronesia, Fed. Sts.\",\"Georgia\",\"Greece\",\"Haiti\",\"Indonesia\",\"India\",\"Ireland\",\"Iran, Islamic Rep.\",\"Italy\",\"Japan\",\"Kenya\",\"Lesotho\",\"Lithuania\",\"Luxembourg\",\"Latvia\",\"Moldova\",\"Marshall Islands\",\"Malta\",\"Myanmar\",\"Montenegro\",\"Mauritania\",\"Namibia\",\"Netherlands\",\"Nepal\",\"Nauru\",\"New Zealand\",\"Pakistan\",\"Palau\",\"Portugal\",\"Singapore\",\"Serbia\",\"South Sudan\",\"Sao Tome and Principe\",\"Slovak Republic\",\"Slovenia\",\"Sweden\",\"Eswatini\",\"Thailand\",\"Tonga\",\"Uganda\",\"Samoa\",\"South Africa\",\"Zambia\",\"Zimbabwe\",\"Afghanistan\",\"Australia\",\"Austria\",\"Belgium\",\"Bangladesh\",\"Belarus\",\"Canada\",\"China\",\"Cyprus\",\"Egypt, Arab Rep.\",\"Spain\",\"Estonia\",\"Ethiopia\",\"Finland\",\"France\",\"Micronesia, Fed. Sts.\",\"Georgia\",\"Greece\",\"Haiti\",\"Indonesia\",\"India\",\"Ireland\",\"Iran, Islamic Rep.\",\"Italy\",\"Japan\",\"Kenya\",\"Lesotho\",\"Lithuania\",\"Luxembourg\",\"Latvia\",\"Moldova\",\"Marshall Islands\",\"Malta\",\"Myanmar\",\"Montenegro\",\"Mauritania\",\"Namibia\",\"Netherlands\",\"Nepal\",\"Nauru\",\"New Zealand\",\"Pakistan\",\"Palau\",\"Portugal\",\"Singapore\",\"Serbia\",\"South Sudan\",\"Sao Tome and Principe\",\"Slovak Republic\",\"Slovenia\",\"Sweden\",\"Eswatini\",\"Thailand\",\"Tonga\",\"Uganda\",\"Samoa\",\"South Africa\",\"Zambia\",\"Zimbabwe\",\"Afghanistan\",\"Australia\",\"Austria\",\"Belgium\",\"Bangladesh\",\"Belarus\",\"Canada\",\"China\",\"Cyprus\",\"Egypt, Arab Rep.\",\"Spain\",\"Estonia\",\"Ethiopia\",\"Finland\",\"France\",\"Micronesia, Fed. Sts.\",\"Georgia\",\"Greece\",\"Haiti\",\"Indonesia\",\"India\",\"Ireland\",\"Iran, Islamic Rep.\",\"Italy\",\"Japan\",\"Kenya\",\"Lesotho\",\"Lithuania\",\"Luxembourg\",\"Latvia\",\"Moldova\",\"Marshall Islands\",\"Malta\",\"Myanmar\",\"Montenegro\",\"Mauritania\",\"Namibia\",\"Netherlands\",\"Nepal\",\"Nauru\",\"New Zealand\",\"Pakistan\",\"Palau\",\"Portugal\",\"Singapore\",\"Serbia\",\"South Sudan\",\"Sao Tome and Principe\",\"Slovak Republic\",\"Slovenia\",\"Sweden\",\"Eswatini\",\"Thailand\",\"Tonga\",\"Uganda\",\"Samoa\",\"South Africa\",\"Zambia\",\"Zimbabwe\",\"Afghanistan\",\"Australia\",\"Austria\",\"Belgium\",\"Bangladesh\",\"Belarus\",\"Canada\",\"China\",\"Cyprus\",\"Egypt, Arab Rep.\",\"Spain\",\"Estonia\",\"Ethiopia\",\"Finland\",\"France\",\"Micronesia, Fed. Sts.\",\"Georgia\",\"Greece\",\"Haiti\",\"Indonesia\",\"India\",\"Ireland\",\"Iran, Islamic Rep.\",\"Italy\",\"Japan\",\"Kenya\",\"Lesotho\",\"Lithuania\",\"Luxembourg\",\"Latvia\",\"Moldova\",\"Marshall Islands\",\"Malta\",\"Myanmar\",\"Montenegro\",\"Mauritania\",\"Namibia\",\"Netherlands\",\"Nepal\",\"Nauru\",\"New Zealand\",\"Pakistan\",\"Palau\",\"Portugal\",\"Singapore\",\"Serbia\",\"South Sudan\",\"Sao Tome and Principe\",\"Slovak Republic\",\"Slovenia\",\"Sweden\",\"Eswatini\",\"Thailand\",\"Tonga\",\"Uganda\",\"Samoa\",\"South Africa\",\"Zambia\",\"Zimbabwe\",\"Afghanistan\",\"Australia\",\"Austria\",\"Belgium\",\"Bangladesh\",\"Belarus\",\"Canada\",\"China\",\"Cyprus\",\"Egypt, Arab Rep.\",\"Spain\",\"Estonia\",\"Ethiopia\",\"Finland\",\"France\",\"Micronesia, Fed. Sts.\",\"Georgia\",\"Greece\",\"Haiti\",\"Indonesia\",\"India\",\"Ireland\",\"Iran, Islamic Rep.\",\"Italy\",\"Japan\",\"Kenya\",\"Lesotho\",\"Lithuania\",\"Luxembourg\",\"Latvia\",\"Moldova\",\"Marshall Islands\",\"Malta\",\"Myanmar\",\"Montenegro\",\"Mauritania\",\"Namibia\",\"Netherlands\",\"Nepal\",\"Nauru\",\"New Zealand\",\"Pakistan\",\"Palau\",\"Portugal\",\"Singapore\",\"Serbia\",\"South Sudan\",\"Sao Tome and Principe\",\"Slovak Republic\",\"Slovenia\",\"Sweden\",\"Eswatini\",\"Thailand\",\"Tonga\",\"Uganda\",\"Samoa\",\"South Africa\",\"Zambia\",\"Zimbabwe\",\"Afghanistan\",\"Australia\",\"Austria\",\"Belgium\",\"Bangladesh\",\"Belarus\",\"Canada\",\"China\",\"Cyprus\",\"Egypt, Arab Rep.\",\"Spain\",\"Estonia\",\"Ethiopia\",\"Finland\",\"France\",\"Micronesia, Fed. Sts.\",\"Georgia\",\"Greece\",\"Haiti\",\"Indonesia\",\"India\",\"Ireland\",\"Iran, Islamic Rep.\",\"Italy\",\"Japan\",\"Kenya\",\"Lesotho\",\"Lithuania\",\"Luxembourg\",\"Latvia\",\"Moldova\",\"Marshall Islands\",\"Malta\",\"Myanmar\",\"Montenegro\",\"Mauritania\",\"Namibia\",\"Netherlands\",\"Nepal\",\"Nauru\",\"New Zealand\",\"Pakistan\",\"Palau\",\"Portugal\",\"Singapore\",\"Serbia\",\"South Sudan\",\"Sao Tome and Principe\",\"Slovak Republic\",\"Slovenia\",\"Sweden\",\"Eswatini\",\"Thailand\",\"Tonga\",\"Uganda\",\"Samoa\",\"South Africa\",\"Zambia\",\"Zimbabwe\",\"Afghanistan\",\"Australia\",\"Austria\",\"Belgium\",\"Bangladesh\",\"Belarus\",\"Canada\",\"China\",\"Cyprus\",\"Egypt, Arab Rep.\",\"Spain\",\"Estonia\",\"Ethiopia\",\"Finland\",\"France\",\"Micronesia, Fed. Sts.\",\"Georgia\",\"Greece\",\"Haiti\",\"Indonesia\",\"India\",\"Ireland\",\"Iran, Islamic Rep.\",\"Italy\",\"Japan\",\"Kenya\",\"Lesotho\",\"Lithuania\",\"Luxembourg\",\"Latvia\",\"Moldova\",\"Marshall Islands\",\"Malta\",\"Myanmar\",\"Montenegro\",\"Mauritania\",\"Namibia\",\"Netherlands\",\"Nepal\",\"Nauru\",\"New Zealand\",\"Pakistan\",\"Palau\",\"Portugal\",\"Singapore\",\"Serbia\",\"South Sudan\",\"Sao Tome and Principe\",\"Slovak Republic\",\"Slovenia\",\"Sweden\",\"Eswatini\",\"Thailand\",\"Tonga\",\"Uganda\",\"Samoa\",\"South Africa\",\"Zambia\",\"Zimbabwe\"],\"legendgroup\":\"\",\"marker\":{\"color\":[1,4,2,1,2,4,2,4,4,2,4,4,4,4,4,4,2,4,1,4,2,4,2,2,4,2,4,2,4,4,2,4,2,3,1,2,1,4,4,2,4,2,4,1,4,2,2,4,2,2,4,2,4,2,4,4,2,4,2,3,1,2,2,1,4,4,4,2,3,4,2,4,1,4,4,2,2,4,2,4,2,4,2,4,2,4,2,4,4,2,4,2,3,1,2,3,2,2,1,4,4,4,2,3,4,2,4,1,4,4,4,2,2,4,2,4,2,2,4,4,2,4,2,4,2,4,4,2,4,2,3,3,1,2,3,2,2,1,4,4,4,2,3,4,2,4,1,4,4,4,2,2,2,4,2,4,2,2,4,4,2,4,2,4,2,4,4,2,4,2,3,3,1,2,3,2,2,1,4,4,4,2,3,4,2,4,1,4,4,4,2,2,2,4,2,4,2,2,4,4,2,2,4,2,4,2,4,4,4,2,4,2,3,3,1,2,3,2,2,1,4,4,4,2,4,3,4,2,4,1,4,4,2,4,2,2,2,4,2,4,2,2,4,3,4,2,2,4,2,4,2,4,4,4,2,4,2,3,3,1,2,3,2,2,1,4,4,4,2,4,3,4,2,4,1,4,4,2,4,2,2,2,4,2,4,2,2,4,3,4,2,2,4,2,4,2,4,4,4,2,4,2,3,3,1,2,3,2,2,1,4,4,4,2,4,3,4,2,4,1,4,4,2,4,2,2,2,4,2,4,2,2,4,3,4,2,2,4,2,4,2,4,4,4,2,4,2,3,3,1,2,3,2,2,1,4,4,4,2,4,3,4,2,4,1,4,4,2,4,2,2,2,4,2,4,4,2,2,4,3,4,2,2,4,2,4,2,4,4,4,2,4,2,3,3,1,2,3,2,2,1,4,4,4,2,4,3,4,2,4,1,4,4,2,4,2,2,2,4,2,4,4,2,2,4,3,4,2,2,3,4,2,4,2,4,4,4,2,4,2,3,3,1,2,3,2,2,1,4,4,4,2,3,4,3,4,2,4,1,4,4,2,3,4,2,2,2,4,2,4,4,2,2,4,4,4,3,3,4,2,2,3,4,2,4,2,4,4,4,3,2,4,4,2,3,3,1,2,3,2,2,1,4,4,4,2,3,4,3,4,2,4,4,1,4,4,2,3,4,2,2,2,4,2,4,4,2,2,4,4,4,3,3,4,2,2,3,4,2,4,2,4,4,4,3,2,4,4,2,3,3,1,2,3,2,2,1,4,4,4,2,3,4,3,4,2,4,4,1,4,4,2,3,4,2,2,2,4,2,4,4,2,2,4,4,4,3,3,4,2,2,3,4,2,4,2,4,4,4,3,2,4,4,4,2,3,3,1,2,3,2,2,1,4,4,4,2,3,4,3,4,2,4,4,1,4,4,2,3,4,2,2,2,4,2,4,4,2,2,4,4,4,3,3,4,2,2,3,4,2,4,2,4,4,4,3,2,4,4,4,2,3,3,1,2,3,2,2,1,4,4,4,2,3,4,3,4,2,4,4,1,4,4,2,3,4,2,2,2,4,2,4,4,2,2,4,4,4,3,3,4,2,2,3,4,2,4,2,4,4,4,3,2,4,4,4,2,3,3,1,2,3,2,2,1,4,4,4,2,3,4,3,4,2,4,4,1,4,4,2,3,4,2,2,2,4,2,4,4,2,2,4,4,4,3,3,4,2,2,3,4,2,4,4,2,4,4,4,3,2,4,4,4,2,3,3,1,2,3,2,2,1,4,4,4,2,3,4,3,4,2,4,4,1,4,4,2,3,4,2,2,2,4,2,4,4,2,2,4,4,4,3,3,4,2,2,3,4,2,4,4,2,4,4,4,3,2,4,4,4,2,3,3,1,2,3,2,2,1,4,4,4,2,3,4,3,4,2,4,4,1,4,4,2,3,4,2,2,2,4,2,4,4,2,2,4,4,4,3,3,4,2,2,3,4,2,4,4,2,4,4,4,3,2,4,4,4,2,3,3,1,2,3,2,2,1,4,4,4,2,3,4,3,4,2,4,4,1,4,4,2,3,4,2,2,2,4,2,4,4,2,2,4,4,4,3,3,4,2,2,3,4,2,4,4,2,4,4,4,3,2,4,4,4,2,3,3,1,2,3,2,2,1,4,4,4,2,3,4,3,4,2,4,4,1,4,4,2,3,4,2,2,2,4,2,4,4,2,2,4,4,4,3,3,4,2,2,3,4,2,4,4,2,4,4,4,3,2,4,4,4,2,3,3,1,2,3,2,2,1,4,4,4,2,3,4,3,4,2,4,4,1,4,4,2,3,4,2,2,2,4,2,4,4,2,2,4,4,4,3,3,4,2,2,3,4,2,4,4,2,4,4,4,3,2,4,4,4,2,3,3,1,2,3,2,2,1,4,4,4,2,3,4,3,4,2,4,4,1,4,4,2,3,4,2,2,2,4,2,4,4,2,2,4,4,4,3,3,4,2,2,3,4,2,4,4,2,4,4,4,3,2,4,4,4,2,3,3,1,2,3,2,2,1,4,4,4,2,3,4,3,4,2,4,4,1,4,4,2,3,4,2,2,2,4,2,4,4,2,2,4,4,4,3,3,4,2,2,3,4,2,4,4,2,4,4,4,3,2,4,4,4,2,3,3,1,2,3,2,2,1,4,4,4,2,3,4,3,4,2,4,4,1,4,4,2,3,4,2,2,2,4,2,4,4,2,2,4,4,4,3,3,4,2,2,3,4,2,4,4,2,4,4,4,3,2,4,4,4,2,3,3,1,2,3,2,2,1,4,4,4,2,3,4,3,4,2,4,4,1,4,4,2,3,4,2,2,2,4,2,4,4,2,2,4,4,4,3,3,4,2,3,2,3,4,2,4,4,2,4,4,4,3,2,4,4,4,2,3,3,1,2,3,2,2,1,4,4,4,2,3,4,3,4,2,4,4,1,4,4,2,3,4,2,2,2,4,2,4,4,2,2,4,4,4,3,3,4,2,3,2,3,4,2,4,4,2,4,4,4,3,2,4,4,4,2,3,3,1,2,3,2,2,1,4,4,4,2,3,4,3,4,2,4,4,1,4,4,2,3,4,2,2,2,4,2,4,4,2,2,4,4,4,3,3,4,2,3,2,3,4,2,4,4,2,4,4,4,3,2,4,4,4,2,3,3,1,2,3,2,2,1,4,4,4,2,3,4,3,4,2,4,4,1,4,4,2,3,4,2,2,2,4,2,4,4,2,2,4,4,4,3,3,4,2,3,2,3,4,2,4,4,2,4,4,4,3,2,4,4,4,2,3,3,1,2,3,2,2,1,4,4,4,2,3,4,3,4,2,4,4,1,4,4,2,3,4,2,2,2,4,2,4,4,2,2,4,4,4,3,3,4,2,3,2,3,4,2,4,4,2,4,4,4,3,2,4,4,4,2,3,3,1,2,3,2,2,1,4,4,4,2,3,4,3,4,2,4,4,1,4,4,2,3,4,2,2,2,4,2,4,4,2,2,4,4,4,3,3,4,2,3,2,3,4,2,4,4,2,4,4,4,3,1,2,4,4,4,2,3,3,1,2,3,2,2,1,4,4,4,2,3,4,3,4,2,4,4,1,4,4,2,3,4,2,2,2,4,2,4,4,2,2,4,4,4,3,3,4,2,3,2,3,4,2,4,4,2,4,4,4,3,1,2,4,4,4,2,3,3,1,2,3,2,2,1,4,4,4,2,3,4,3,4,2,4,4,1,4,4,2,3,4,2,2,2,4,2,4,4,2,2,4,4,4,3,3,4,2,3,2,3,4,2,4,4,2,4,4,4,3,1,2,4,4,4,2,3,3,1,2,3,2,2,1,4,4,4,2,3,4,3,4,2,4,4,1,4,4,2,3,4,2,2,2,4,2,4,4,2,2,4,4,4,3,3,4,2,3,2,3,4,2,4,4,2,4,4,4,3,1,2,4,4,4,2,3,3,1,2,3,2,2,1,4,4,4,2,3,4,3,4,2,4,4,1,4,4,2,3,4,2,2,2,4,2,4,4,2,2,4,4,4,3,3,4,2,3,2,3,4,2,4,4,2,4,4,4,3,1,2,4,4,4,2,3,3,1,2,3,2,2,1,4,4,4,2,3,4,3,4,2,4,4,1,4,4,2,3,4,2,2,2,4,2,4,4,2,2,4,4,4,3,3,4,2,3,2,3,4,2,4,4,2,4,4,4,3,1,2,4,4,4,2,3,3,1,2,3,2,2,1,4,4,4,2,3,4,3,4,2,4,4,1,4,4,2,3,4,2,2,2,4,2,4,4,2,2,4,4,4,3,3,4,2,3,2,3,4,2,4,4,2,4,4,4,3,1,2,4,4,4,2,3,3,1,2,3,2,2,1,4,4,4,2,3,4,3,4,2,4,4,1,4,4,2,3,4,2,2,2,4,2,4,4,2,2,4,4,4,3,3,4,2,3,2,3,4,2,4,4,2,4,4,4,3,1,2,4,4,4,2,3,3,1,2,3,2,2,1,4,4,4,2,3,4,3,4,2,4,4,1,4,4,2,3,4,2,2,2,4,2,4,4,2,2,4,4,4,3,3,4,2,3,2,3,4,2,4,4,2,4,4,4,3,1,2,4,4,4,2,3,3,1,2,3,2,2],\"coloraxis\":\"coloraxis\",\"opacity\":0.7,\"symbol\":\"circle\",\"size\":15},\"mode\":\"markers\",\"name\":\"\",\"showlegend\":false,\"x\":[1980,1980,1980,1980,1980,1980,1980,1980,1980,1980,1980,1980,1980,1981,1981,1981,1981,1981,1981,1981,1981,1981,1981,1981,1981,1981,1981,1981,1981,1981,1981,1981,1981,1981,1981,1981,1982,1982,1982,1982,1982,1982,1982,1982,1982,1982,1982,1982,1982,1982,1982,1982,1982,1982,1982,1982,1982,1982,1982,1982,1982,1982,1982,1983,1983,1983,1983,1983,1983,1983,1983,1983,1983,1983,1983,1983,1983,1983,1983,1983,1983,1983,1983,1983,1983,1983,1983,1983,1983,1983,1983,1983,1983,1983,1983,1983,1983,1983,1984,1984,1984,1984,1984,1984,1984,1984,1984,1984,1984,1984,1984,1984,1984,1984,1984,1984,1984,1984,1984,1984,1984,1984,1984,1984,1984,1984,1984,1984,1984,1984,1984,1984,1984,1984,1984,1984,1984,1985,1985,1985,1985,1985,1985,1985,1985,1985,1985,1985,1985,1985,1985,1985,1985,1985,1985,1985,1985,1985,1985,1985,1985,1985,1985,1985,1985,1985,1985,1985,1985,1985,1985,1985,1985,1985,1985,1985,1985,1986,1986,1986,1986,1986,1986,1986,1986,1986,1986,1986,1986,1986,1986,1986,1986,1986,1986,1986,1986,1986,1986,1986,1986,1986,1986,1986,1986,1986,1986,1986,1986,1986,1986,1986,1986,1986,1986,1986,1986,1986,1986,1987,1987,1987,1987,1987,1987,1987,1987,1987,1987,1987,1987,1987,1987,1987,1987,1987,1987,1987,1987,1987,1987,1987,1987,1987,1987,1987,1987,1987,1987,1987,1987,1987,1987,1987,1987,1987,1987,1987,1987,1987,1987,1987,1987,1987,1988,1988,1988,1988,1988,1988,1988,1988,1988,1988,1988,1988,1988,1988,1988,1988,1988,1988,1988,1988,1988,1988,1988,1988,1988,1988,1988,1988,1988,1988,1988,1988,1988,1988,1988,1988,1988,1988,1988,1988,1988,1988,1988,1988,1988,1989,1989,1989,1989,1989,1989,1989,1989,1989,1989,1989,1989,1989,1989,1989,1989,1989,1989,1989,1989,1989,1989,1989,1989,1989,1989,1989,1989,1989,1989,1989,1989,1989,1989,1989,1989,1989,1989,1989,1989,1989,1989,1989,1989,1989,1990,1990,1990,1990,1990,1990,1990,1990,1990,1990,1990,1990,1990,1990,1990,1990,1990,1990,1990,1990,1990,1990,1990,1990,1990,1990,1990,1990,1990,1990,1990,1990,1990,1990,1990,1990,1990,1990,1990,1990,1990,1990,1990,1990,1990,1990,1991,1991,1991,1991,1991,1991,1991,1991,1991,1991,1991,1991,1991,1991,1991,1991,1991,1991,1991,1991,1991,1991,1991,1991,1991,1991,1991,1991,1991,1991,1991,1991,1991,1991,1991,1991,1991,1991,1991,1991,1991,1991,1991,1991,1991,1991,1991,1992,1992,1992,1992,1992,1992,1992,1992,1992,1992,1992,1992,1992,1992,1992,1992,1992,1992,1992,1992,1992,1992,1992,1992,1992,1992,1992,1992,1992,1992,1992,1992,1992,1992,1992,1992,1992,1992,1992,1992,1992,1992,1992,1992,1992,1992,1992,1992,1992,1992,1992,1992,1992,1992,1993,1993,1993,1993,1993,1993,1993,1993,1993,1993,1993,1993,1993,1993,1993,1993,1993,1993,1993,1993,1993,1993,1993,1993,1993,1993,1993,1993,1993,1993,1993,1993,1993,1993,1993,1993,1993,1993,1993,1993,1993,1993,1993,1993,1993,1993,1993,1993,1993,1993,1993,1993,1993,1993,1993,1994,1994,1994,1994,1994,1994,1994,1994,1994,1994,1994,1994,1994,1994,1994,1994,1994,1994,1994,1994,1994,1994,1994,1994,1994,1994,1994,1994,1994,1994,1994,1994,1994,1994,1994,1994,1994,1994,1994,1994,1994,1994,1994,1994,1994,1994,1994,1994,1994,1994,1994,1994,1994,1994,1994,1994,1995,1995,1995,1995,1995,1995,1995,1995,1995,1995,1995,1995,1995,1995,1995,1995,1995,1995,1995,1995,1995,1995,1995,1995,1995,1995,1995,1995,1995,1995,1995,1995,1995,1995,1995,1995,1995,1995,1995,1995,1995,1995,1995,1995,1995,1995,1995,1995,1995,1995,1995,1995,1995,1995,1995,1995,1996,1996,1996,1996,1996,1996,1996,1996,1996,1996,1996,1996,1996,1996,1996,1996,1996,1996,1996,1996,1996,1996,1996,1996,1996,1996,1996,1996,1996,1996,1996,1996,1996,1996,1996,1996,1996,1996,1996,1996,1996,1996,1996,1996,1996,1996,1996,1996,1996,1996,1996,1996,1996,1996,1996,1996,1997,1997,1997,1997,1997,1997,1997,1997,1997,1997,1997,1997,1997,1997,1997,1997,1997,1997,1997,1997,1997,1997,1997,1997,1997,1997,1997,1997,1997,1997,1997,1997,1997,1997,1997,1997,1997,1997,1997,1997,1997,1997,1997,1997,1997,1997,1997,1997,1997,1997,1997,1997,1997,1997,1997,1997,1997,1998,1998,1998,1998,1998,1998,1998,1998,1998,1998,1998,1998,1998,1998,1998,1998,1998,1998,1998,1998,1998,1998,1998,1998,1998,1998,1998,1998,1998,1998,1998,1998,1998,1998,1998,1998,1998,1998,1998,1998,1998,1998,1998,1998,1998,1998,1998,1998,1998,1998,1998,1998,1998,1998,1998,1998,1998,1999,1999,1999,1999,1999,1999,1999,1999,1999,1999,1999,1999,1999,1999,1999,1999,1999,1999,1999,1999,1999,1999,1999,1999,1999,1999,1999,1999,1999,1999,1999,1999,1999,1999,1999,1999,1999,1999,1999,1999,1999,1999,1999,1999,1999,1999,1999,1999,1999,1999,1999,1999,1999,1999,1999,1999,1999,2000,2000,2000,2000,2000,2000,2000,2000,2000,2000,2000,2000,2000,2000,2000,2000,2000,2000,2000,2000,2000,2000,2000,2000,2000,2000,2000,2000,2000,2000,2000,2000,2000,2000,2000,2000,2000,2000,2000,2000,2000,2000,2000,2000,2000,2000,2000,2000,2000,2000,2000,2000,2000,2000,2000,2000,2000,2001,2001,2001,2001,2001,2001,2001,2001,2001,2001,2001,2001,2001,2001,2001,2001,2001,2001,2001,2001,2001,2001,2001,2001,2001,2001,2001,2001,2001,2001,2001,2001,2001,2001,2001,2001,2001,2001,2001,2001,2001,2001,2001,2001,2001,2001,2001,2001,2001,2001,2001,2001,2001,2001,2001,2001,2001,2002,2002,2002,2002,2002,2002,2002,2002,2002,2002,2002,2002,2002,2002,2002,2002,2002,2002,2002,2002,2002,2002,2002,2002,2002,2002,2002,2002,2002,2002,2002,2002,2002,2002,2002,2002,2002,2002,2002,2002,2002,2002,2002,2002,2002,2002,2002,2002,2002,2002,2002,2002,2002,2002,2002,2002,2002,2003,2003,2003,2003,2003,2003,2003,2003,2003,2003,2003,2003,2003,2003,2003,2003,2003,2003,2003,2003,2003,2003,2003,2003,2003,2003,2003,2003,2003,2003,2003,2003,2003,2003,2003,2003,2003,2003,2003,2003,2003,2003,2003,2003,2003,2003,2003,2003,2003,2003,2003,2003,2003,2003,2003,2003,2003,2004,2004,2004,2004,2004,2004,2004,2004,2004,2004,2004,2004,2004,2004,2004,2004,2004,2004,2004,2004,2004,2004,2004,2004,2004,2004,2004,2004,2004,2004,2004,2004,2004,2004,2004,2004,2004,2004,2004,2004,2004,2004,2004,2004,2004,2004,2004,2004,2004,2004,2004,2004,2004,2004,2004,2004,2004,2005,2005,2005,2005,2005,2005,2005,2005,2005,2005,2005,2005,2005,2005,2005,2005,2005,2005,2005,2005,2005,2005,2005,2005,2005,2005,2005,2005,2005,2005,2005,2005,2005,2005,2005,2005,2005,2005,2005,2005,2005,2005,2005,2005,2005,2005,2005,2005,2005,2005,2005,2005,2005,2005,2005,2005,2005,2006,2006,2006,2006,2006,2006,2006,2006,2006,2006,2006,2006,2006,2006,2006,2006,2006,2006,2006,2006,2006,2006,2006,2006,2006,2006,2006,2006,2006,2006,2006,2006,2006,2006,2006,2006,2006,2006,2006,2006,2006,2006,2006,2006,2006,2006,2006,2006,2006,2006,2006,2006,2006,2006,2006,2006,2006,2006,2007,2007,2007,2007,2007,2007,2007,2007,2007,2007,2007,2007,2007,2007,2007,2007,2007,2007,2007,2007,2007,2007,2007,2007,2007,2007,2007,2007,2007,2007,2007,2007,2007,2007,2007,2007,2007,2007,2007,2007,2007,2007,2007,2007,2007,2007,2007,2007,2007,2007,2007,2007,2007,2007,2007,2007,2007,2007,2008,2008,2008,2008,2008,2008,2008,2008,2008,2008,2008,2008,2008,2008,2008,2008,2008,2008,2008,2008,2008,2008,2008,2008,2008,2008,2008,2008,2008,2008,2008,2008,2008,2008,2008,2008,2008,2008,2008,2008,2008,2008,2008,2008,2008,2008,2008,2008,2008,2008,2008,2008,2008,2008,2008,2008,2008,2008,2009,2009,2009,2009,2009,2009,2009,2009,2009,2009,2009,2009,2009,2009,2009,2009,2009,2009,2009,2009,2009,2009,2009,2009,2009,2009,2009,2009,2009,2009,2009,2009,2009,2009,2009,2009,2009,2009,2009,2009,2009,2009,2009,2009,2009,2009,2009,2009,2009,2009,2009,2009,2009,2009,2009,2009,2009,2009,2010,2010,2010,2010,2010,2010,2010,2010,2010,2010,2010,2010,2010,2010,2010,2010,2010,2010,2010,2010,2010,2010,2010,2010,2010,2010,2010,2010,2010,2010,2010,2010,2010,2010,2010,2010,2010,2010,2010,2010,2010,2010,2010,2010,2010,2010,2010,2010,2010,2010,2010,2010,2010,2010,2010,2010,2010,2010,2011,2011,2011,2011,2011,2011,2011,2011,2011,2011,2011,2011,2011,2011,2011,2011,2011,2011,2011,2011,2011,2011,2011,2011,2011,2011,2011,2011,2011,2011,2011,2011,2011,2011,2011,2011,2011,2011,2011,2011,2011,2011,2011,2011,2011,2011,2011,2011,2011,2011,2011,2011,2011,2011,2011,2011,2011,2011,2011,2012,2012,2012,2012,2012,2012,2012,2012,2012,2012,2012,2012,2012,2012,2012,2012,2012,2012,2012,2012,2012,2012,2012,2012,2012,2012,2012,2012,2012,2012,2012,2012,2012,2012,2012,2012,2012,2012,2012,2012,2012,2012,2012,2012,2012,2012,2012,2012,2012,2012,2012,2012,2012,2012,2012,2012,2012,2012,2012,2013,2013,2013,2013,2013,2013,2013,2013,2013,2013,2013,2013,2013,2013,2013,2013,2013,2013,2013,2013,2013,2013,2013,2013,2013,2013,2013,2013,2013,2013,2013,2013,2013,2013,2013,2013,2013,2013,2013,2013,2013,2013,2013,2013,2013,2013,2013,2013,2013,2013,2013,2013,2013,2013,2013,2013,2013,2013,2013,2014,2014,2014,2014,2014,2014,2014,2014,2014,2014,2014,2014,2014,2014,2014,2014,2014,2014,2014,2014,2014,2014,2014,2014,2014,2014,2014,2014,2014,2014,2014,2014,2014,2014,2014,2014,2014,2014,2014,2014,2014,2014,2014,2014,2014,2014,2014,2014,2014,2014,2014,2014,2014,2014,2014,2014,2014,2014,2014,2015,2015,2015,2015,2015,2015,2015,2015,2015,2015,2015,2015,2015,2015,2015,2015,2015,2015,2015,2015,2015,2015,2015,2015,2015,2015,2015,2015,2015,2015,2015,2015,2015,2015,2015,2015,2015,2015,2015,2015,2015,2015,2015,2015,2015,2015,2015,2015,2015,2015,2015,2015,2015,2015,2015,2015,2015,2015,2015,2016,2016,2016,2016,2016,2016,2016,2016,2016,2016,2016,2016,2016,2016,2016,2016,2016,2016,2016,2016,2016,2016,2016,2016,2016,2016,2016,2016,2016,2016,2016,2016,2016,2016,2016,2016,2016,2016,2016,2016,2016,2016,2016,2016,2016,2016,2016,2016,2016,2016,2016,2016,2016,2016,2016,2016,2016,2016,2016,2017,2017,2017,2017,2017,2017,2017,2017,2017,2017,2017,2017,2017,2017,2017,2017,2017,2017,2017,2017,2017,2017,2017,2017,2017,2017,2017,2017,2017,2017,2017,2017,2017,2017,2017,2017,2017,2017,2017,2017,2017,2017,2017,2017,2017,2017,2017,2017,2017,2017,2017,2017,2017,2017,2017,2017,2017,2017,2017,2018,2018,2018,2018,2018,2018,2018,2018,2018,2018,2018,2018,2018,2018,2018,2018,2018,2018,2018,2018,2018,2018,2018,2018,2018,2018,2018,2018,2018,2018,2018,2018,2018,2018,2018,2018,2018,2018,2018,2018,2018,2018,2018,2018,2018,2018,2018,2018,2018,2018,2018,2018,2018,2018,2018,2018,2018,2018,2018,2019,2019,2019,2019,2019,2019,2019,2019,2019,2019,2019,2019,2019,2019,2019,2019,2019,2019,2019,2019,2019,2019,2019,2019,2019,2019,2019,2019,2019,2019,2019,2019,2019,2019,2019,2019,2019,2019,2019,2019,2019,2019,2019,2019,2019,2019,2019,2019,2019,2019,2019,2019,2019,2019,2019,2019,2019,2019,2019],\"xaxis\":\"x\",\"y\":[11.0,29.0,41.0,4.0,39.0,69.0,49.0,91.0,80.0,1.0,54.0,47.0,88.0,25.0,50.0,28.0,41.0,8.0,3.0,70.0,48.0,68.0,49.0,45.0,91.0,2.0,77.0,2.0,49.0,57.0,25.0,92.0,30.0,9.0,22.0,56.0,8.0,25.0,58.0,1.0,21.0,41.0,27.0,7.0,75.0,3.0,55.0,66.0,51.0,44.0,92.0,2.0,74.0,3.0,46.0,78.0,32.0,91.0,38.0,44.0,21.0,59.0,58.0,9.0,68.0,25.0,66.0,1.0,78.0,19.0,41.0,40.0,7.0,81.0,15.0,6.0,6.0,10.0,38.0,70.0,53.0,39.0,43.0,92.0,11.0,71.0,19.0,48.0,88.0,40.0,93.0,46.0,67.0,20.0,78.0,74.0,56.0,60.0,14.0,68.0,30.0,74.0,1.0,84.0,25.0,47.0,68.0,8.0,83.0,26.0,75.0,8.0,13.0,10.0,38.0,73.0,55.0,63.0,49.0,10.0,42.0,92.0,24.0,67.0,33.0,48.0,85.0,48.0,94.0,50.0,5.0,43.0,18.0,83.0,70.0,57.0,62.0,14.0,68.0,40.0,82.0,1.0,88.0,43.0,74.0,79.0,12.0,85.0,35.0,77.0,21.0,26.0,1.0,63.0,62.0,73.0,63.0,73.0,58.0,10.0,41.0,92.0,34.0,64.0,38.0,70.0,75.0,35.0,94.0,54.0,26.0,81.0,17.0,81.0,70.0,58.0,78.0,14.0,68.0,60.0,90.0,3.0,63.0,60.0,78.0,83.0,10.0,87.0,39.0,39.0,26.0,45.0,10.0,65.0,55.0,74.0,65.0,76.0,68.0,35.0,5.0,40.0,93.0,37.0,60.0,41.0,98.0,75.0,85.0,58.0,94.0,74.0,45.0,37.0,27.0,91.0,64.0,58.0,83.0,31.0,68.0,60.0,50.0,6.0,70.0,77.0,91.0,76.0,85.0,13.0,92.0,45.0,69.0,81.0,23.0,48.0,24.0,66.0,55.0,75.0,69.0,78.0,77.0,31.0,59.0,17.0,27.0,93.0,37.0,67.0,43.0,98.0,81.0,94.0,69.0,94.0,65.0,52.0,88.0,38.0,78.0,75.0,80.0,88.0,34.0,77.0,60.0,75.0,13.0,85.0,95.0,74.0,85.0,84.0,15.0,98.0,51.0,84.0,82.0,59.0,51.0,32.0,68.0,83.0,76.0,72.0,79.0,71.0,25.0,41.0,32.0,45.0,94.0,58.0,75.0,46.0,99.0,84.0,87.0,69.0,95.0,85.0,63.0,81.0,49.0,75.0,68.0,80.0,88.0,22.0,85.0,60.0,75.0,53.0,87.0,95.0,76.0,86.0,97.0,23.0,95.0,58.0,94.0,76.0,31.0,54.0,42.0,78.0,79.0,77.0,75.0,79.0,80.0,39.0,86.0,50.0,42.0,94.0,57.0,83.0,48.0,98.0,96.0,81.0,45.0,95.0,85.0,66.0,84.0,51.0,82.0,84.0,80.0,87.0,20.0,86.0,60.0,85.0,65.0,89.0,98.0,77.0,86.0,99.0,38.0,97.0,71.0,81.0,76.0,31.0,58.0,56.0,78.0,85.0,43.0,73.0,78.0,80.0,80.0,52.0,80.0,68.0,38.0,94.0,57.0,90.0,50.0,98.0,85.0,84.0,71.0,96.0,85.0,80.0,86.0,52.0,89.0,79.0,90.0,87.0,19.0,86.0,60.0,67.0,68.0,92.0,92.0,78.0,89.0,85.0,17.0,97.0,74.0,76.0,72.0,35.0,61.0,43.0,78.0,84.0,50.0,71.0,81.0,81.0,80.0,74.0,90.0,67.0,32.0,76.0,94.0,57.0,82.0,51.0,98.0,96.0,92.0,77.0,96.0,80.0,79.0,90.0,54.0,77.0,85.0,80.0,87.0,22.0,86.0,60.0,87.0,69.0,94.0,94.0,87.0,80.0,89.0,83.0,12.0,99.0,76.0,78.0,16.0,72.0,39.0,65.0,51.0,78.0,96.0,50.0,69.0,84.0,81.0,89.0,80.0,95.0,73.0,86.0,92.0,68.0,43.0,76.0,95.0,58.0,82.0,52.0,94.0,99.0,89.0,82.0,52.0,90.0,96.0,85.0,74.0,87.0,56.0,90.0,85.0,85.0,86.0,25.0,86.0,60.0,70.0,74.0,96.0,96.0,81.0,81.0,89.0,90.0,74.0,22.0,99.0,78.0,80.0,61.0,72.0,44.0,68.0,59.0,78.0,96.0,50.0,68.0,84.0,82.0,92.0,83.0,80.0,64.0,36.0,90.0,71.0,49.0,71.0,94.0,58.0,85.0,52.0,32.0,95.0,87.0,85.0,57.0,90.0,97.0,85.0,80.0,87.0,57.0,92.0,85.0,91.0,86.0,40.0,86.0,60.0,78.0,78.0,97.0,97.0,75.0,82.0,89.0,90.0,76.0,54.0,99.0,80.0,83.0,63.0,70.0,48.0,66.0,67.0,78.0,97.0,50.0,81.0,84.0,82.0,93.0,86.0,81.0,85.0,59.0,71.0,77.0,53.0,70.0,94.0,58.0,87.0,53.0,41.0,91.0,95.0,81.0,65.0,97.0,91.0,97.0,94.0,86.0,86.0,59.0,94.0,76.0,96.0,87.0,41.0,87.0,60.0,85.0,79.0,93.0,96.0,80.0,83.0,89.0,90.0,81.0,38.0,98.0,83.0,90.0,61.0,70.0,49.0,63.0,72.0,77.0,95.0,50.0,93.0,83.0,83.0,94.0,88.0,81.0,91.0,57.0,51.0,82.0,67.0,68.0,94.0,56.0,84.0,47.0,99.0,94.0,97.0,86.0,74.0,99.0,93.0,97.0,94.0,91.0,94.0,57.0,96.0,76.0,86.0,87.0,42.0,87.0,87.0,73.0,69.0,96.0,97.0,84.0,90.0,92.0,90.0,86.0,54.0,98.0,84.0,82.0,65.0,90.0,50.0,79.0,66.0,77.0,99.0,55.0,94.0,81.0,82.0,96.0,91.0,96.0,90.0,69.0,51.0,86.0,66.0,61.0,96.0,65.0,92.0,50.0,99.0,99.0,97.0,90.0,57.0,99.0,93.0,96.0,82.0,92.0,95.0,55.0,96.0,76.0,86.0,88.0,38.0,85.0,90.0,76.0,72.0,97.0,96.0,83.0,90.0,92.0,93.0,88.0,51.0,96.0,83.0,74.0,69.0,90.0,52.0,77.0,55.0,77.0,95.0,57.0,94.0,79.0,80.0,96.0,91.0,97.0,95.0,52.0,56.0,88.0,64.0,59.0,96.0,73.0,99.0,99.0,52.0,83.0,96.0,98.0,92.0,60.0,99.0,82.0,96.0,92.0,93.0,97.0,54.0,99.0,82.0,86.0,84.0,31.0,82.0,78.0,80.0,71.0,98.0,96.0,83.0,89.0,98.0,93.0,89.0,44.0,96.0,82.0,82.0,73.0,89.0,53.0,77.0,53.0,77.0,99.0,55.0,95.0,90.0,79.0,97.0,92.0,97.0,93.0,93.0,60.0,89.0,62.0,64.0,96.0,67.0,90.0,81.0,54.0,74.0,96.0,96.0,88.0,59.0,99.0,93.0,94.0,92.0,96.0,96.0,50.0,99.0,79.0,86.0,79.0,31.0,88.0,65.0,82.0,71.0,98.0,96.0,84.0,87.0,96.0,95.0,92.0,37.0,96.0,83.0,79.0,76.0,88.0,54.0,77.0,56.0,77.0,99.0,70.0,95.0,76.0,77.0,97.0,92.0,97.0,93.0,93.0,67.0,86.0,62.0,65.0,96.0,81.0,49.0,83.0,56.0,96.0,92.0,97.0,84.0,64.0,99.0,98.0,89.0,92.0,96.0,97.0,55.0,91.0,75.0,85.0,77.0,27.0,91.0,75.0,82.0,74.0,98.0,96.0,84.0,86.0,98.0,94.0,93.0,36.0,96.0,84.0,85.0,73.0,89.0,55.0,76.0,56.0,79.0,99.0,74.0,96.0,78.0,74.0,97.0,93.0,97.0,89.0,94.0,74.0,84.0,46.0,69.0,96.0,71.0,8.0,85.0,57.0,83.0,87.0,96.0,89.0,69.0,98.0,95.0,91.0,92.0,94.0,95.0,57.0,93.0,72.0,85.0,75.0,37.0,92.0,79.0,82.0,77.0,99.0,95.0,85.0,86.0,97.0,96.0,95.0,35.0,96.0,85.0,84.0,74.0,91.0,55.0,76.0,57.0,73.0,96.0,77.0,98.0,77.0,70.0,97.0,94.0,98.0,94.0,64.0,70.0,73.0,58.0,58.0,95.0,71.0,95.0,85.0,59.0,91.0,90.0,95.0,90.0,75.0,99.0,94.0,94.0,93.0,94.0,93.0,59.0,92.0,69.0,84.0,73.0,35.0,94.0,78.0,82.0,75.0,99.0,95.0,85.0,86.0,97.0,97.0,95.0,36.0,96.0,86.0,88.0,75.0,92.0,56.0,72.0,56.0,73.0,99.0,81.0,98.0,78.0,78.0,98.0,94.0,98.0,94.0,80.0,65.0,77.0,87.0,68.0,95.0,71.0,40.0,84.0,60.0,99.0,93.0,94.0,92.0,85.0,99.0,93.0,95.0,93.0,94.0,90.0,62.0,99.0,65.0,84.0,70.0,39.0,94.0,79.0,82.0,76.0,99.0,95.0,85.0,86.0,98.0,98.0,95.0,35.0,97.0,87.0,91.0,76.0,94.0,57.0,74.0,60.0,78.0,99.0,84.0,98.0,72.0,85.0,98.0,95.0,98.0,96.0,90.0,90.0,80.0,84.0,70.0,96.0,75.0,53.0,84.0,62.0,99.0,96.0,93.0,87.0,87.0,99.0,94.0,95.0,93.0,96.0,99.0,64.0,62.0,62.0,84.0,68.0,48.0,94.0,74.0,82.0,81.0,99.0,94.0,86.0,86.0,97.0,97.0,96.0,35.0,97.0,88.0,85.0,86.0,95.0,57.0,76.0,64.0,81.0,96.0,86.0,98.0,73.0,84.0,98.0,95.0,98.0,96.0,70.0,94.0,86.0,73.0,70.0,96.0,73.0,67.0,83.0,63.0,99.0,95.0,95.0,89.0,91.0,99.0,94.0,96.0,93.0,96.0,99.0,66.0,25.0,63.0,85.0,66.0,50.0,94.0,75.0,88.0,88.0,99.0,94.0,86.0,86.0,98.0,97.0,96.0,40.0,97.0,87.0,96.0,90.0,96.0,58.0,77.0,68.0,84.0,94.0,87.0,98.0,69.0,83.0,97.0,95.0,98.0,97.0,86.0,86.0,84.0,65.0,73.0,95.0,74.0,80.0,82.0,61.0,98.0,93.0,96.0,96.0,88.0,98.0,94.0,96.0,93.0,96.0,99.0,68.0,57.0,64.0,85.0,67.0,53.0,94.0,80.0,92.0,83.0,97.0,93.0,93.0,87.0,98.0,97.0,96.0,44.0,97.0,89.0,83.0,96.0,98.0,59.0,79.0,69.0,86.0,99.0,88.0,97.0,77.0,82.0,97.0,95.0,98.0,96.0,96.0,94.0,78.0,90.0,62.0,63.0,96.0,85.0,99.0,82.0,59.0,98.0,97.0,95.0,88.0,85.0,98.0,96.0,97.0,93.0,96.0,99.0,75.0,54.0,69.0,85.0,68.0,55.0,94.0,79.0,92.0,89.0,99.0,94.0,94.0,87.0,97.0,97.0,96.0,49.0,98.0,90.0,92.0,97.0,99.0,60.0,76.0,70.0,87.0,97.0,90.0,96.0,80.0,81.0,97.0,96.0,95.0,96.0,94.0,79.0,81.0,90.0,67.0,69.0,96.0,81.0,99.0,79.0,57.0,91.0,95.0,95.0,95.0,86.0,99.0,96.0,96.0,94.0,96.0,99.0,75.0,63.0,68.0,93.0,69.0,59.0,94.0,83.0,93.0,92.0,99.0,93.0,97.0,87.0,92.0,98.0,95.0,54.0,97.0,89.0,86.0,97.0,99.0,62.0,76.0,72.0,89.0,98.0,90.0,95.0,90.0,80.0,97.0,96.0,96.0,95.0,86.0,78.0,82.0,89.0,65.0,73.0,96.0,79.0,99.0,86.0,56.0,97.0,97.0,95.0,92.0,93.0,99.0,96.0,96.0,94.0,98.0,99.0,70.0,44.0,73.0,87.0,70.0,60.0,94.0,76.0,95.0,93.0,99.0,91.0,99.0,87.0,95.0,98.0,95.0,59.0,98.0,89.0,86.0,83.0,99.0,63.0,74.0,78.0,90.0,99.0,90.0,94.0,88.0,84.0,96.0,96.0,92.0,90.0,78.0,82.0,87.0,86.0,59.0,76.0,96.0,90.0,99.0,89.0,56.0,75.0,95.0,95.0,95.0,90.0,99.0,95.0,97.0,94.0,98.0,99.0,77.0,45.0,77.0,90.0,76.0,62.0,94.0,80.0,95.0,88.0,99.0,90.0,99.0,87.0,96.0,95.0,95.0,64.0,98.0,89.0,80.0,94.0,99.0,64.0,78.0,82.0,90.0,99.0,91.0,94.0,86.0,88.0,96.0,96.0,95.0,97.0,97.0,73.0,88.0,90.0,67.0,75.0,96.0,86.0,99.0,91.0,57.0,39.0,96.0,95.0,95.0,92.0,98.0,95.0,97.0,94.0,98.0,99.0,73.0,56.0,72.0,96.0,90.0,64.0,94.0,84.0,95.0,93.0,99.0,88.0,99.0,87.0,96.0,97.0,94.0,68.0,97.0,89.0,92.0,91.0,99.0,65.0,80.0,84.0,92.0,99.0,90.0,94.0,87.0,92.0,94.0,96.0,92.0,91.0,88.0,84.0,88.0,91.0,67.0,74.0,96.0,88.0,99.0,93.0,59.0,85.0,97.0,95.0,93.0,62.0,91.0,98.0,96.0,97.0,87.0,98.0,99.0,75.0,59.0,77.0,83.0,92.0,59.0,94.0,88.0,96.0,88.0,98.0,89.0,99.0,86.0,93.0,97.0,94.0,62.0,97.0,91.0,91.0,93.0,99.0,66.0,82.0,83.0,92.0,98.0,90.0,96.0,93.0,91.0,93.0,99.0,90.0,91.0,78.0,93.0,84.0,90.0,75.0,76.0,96.0,86.0,96.0,92.0,63.0,91.0,97.0,95.0,87.0,60.0,92.0,99.0,95.0,98.0,88.0,98.0,95.0,80.0,76.0,79.0,82.0,97.0,57.0,94.0,92.0,96.0,91.0,99.0,90.0,99.0,86.0,96.0,95.0,94.0,55.0,97.0,90.0,91.0,97.0,99.0,68.0,87.0,83.0,93.0,98.0,90.0,95.0,94.0,90.0,93.0,99.0,96.0,91.0,79.0,99.0,86.0,88.0,80.0,82.0,96.0,88.0,97.0,92.0,68.0,99.0,98.0,95.0,92.0,58.0,91.0,98.0,94.0,97.0,96.0,99.0,99.0,83.0,90.0,78.0,80.0,93.0,60.0,94.0,96.0,96.0,94.0,99.0,90.0,99.0,86.0,93.0,96.0,93.0,54.0,96.0,91.0,83.0,92.0,97.0,69.0,86.0,85.0,93.0,99.0,87.0,98.0,95.0,92.0,93.0,99.0,95.0,90.0,79.0,98.0,88.0,76.0,75.0,83.0,96.0,88.0,98.0,93.0,71.0,83.0,98.0,95.0,86.0,55.0,92.0,97.0,94.0,97.0,97.0,99.0,99.0,85.0,82.0,84.0,85.0,92.0,63.0,95.0,96.0,96.0,97.0,99.0,89.0,99.0,90.0,92.0,96.0,93.0,56.0,95.0,91.0,74.0,96.0,97.0,69.0,87.0,87.0,93.0,99.0,85.0,96.0,96.0,93.0,94.0,99.0,96.0,89.0,75.0,89.0,84.0,64.0,70.0,85.0,95.0,85.0,98.0,93.0,75.0,95.0,98.0,95.0,86.0,53.0,93.0,95.0,94.0,98.0,89.0,99.0,99.0,79.0,69.0,86.0,90.0,86.0,64.0,95.0,95.0,96.0,97.0,98.0,89.0,99.0,90.0,95.0,97.0,93.0,57.0,94.0,90.0,70.0,93.0,97.0,69.0,88.0,88.0,92.0,99.0,87.0,96.0,96.0,90.0,94.0,99.0,93.0,88.0,75.0,93.0,91.0,47.0,72.0,75.0,94.0,83.0,98.0,92.0,75.0,96.0,98.0,95.0,82.0,51.0,93.0,95.0,92.0,97.0,89.0,99.0,98.0,79.0,68.0,85.0,93.0,95.0,64.0,95.0,96.0,96.0,97.0,97.0,90.0,99.0,90.0,94.0,98.0,93.0,59.0,94.0,90.0,76.0,95.0,97.0,69.0,90.0,90.0,92.0,99.0,92.0,97.0,89.0,90.0,94.0,99.0,96.0,93.0,83.0,91.0,83.0,58.0,78.0,80.0,93.0,90.0,95.0,93.0,76.0,93.0,98.0,95.0,86.0,50.0,90.0,96.0,93.0,97.0,89.0,99.0,99.0,83.0,58.0,70.0,96.0,90.0,64.0,95.0,94.0,96.0,97.0,98.0,90.0,99.0,90.0,94.0,97.0,87.0,55.0,96.0,90.0,73.0,98.0,97.0,69.0,89.0,93.0,92.0,99.0,93.0,97.0,89.0,90.0,92.0,99.0,98.0,93.0,83.0,96.0,93.0,42.0,78.0,82.0,93.0,91.0,99.0,92.0,73.0,90.0,99.0,95.0,92.0,49.0,95.0,96.0,93.0,97.0,85.0,96.0,99.0,86.0,31.0,70.0,94.0,88.0,64.0,95.0,94.0,96.0,97.0,98.0,90.0,99.0,86.0,95.0,98.0,88.0,58.0,96.0,90.0,78.0,99.0,97.0,65.0,88.0,95.0,91.0,99.0,94.0,96.0,89.0,90.0,93.0,99.0,99.0,97.0,85.0,96.0,84.0,42.0,78.0,80.0,94.0,92.0,95.0,92.0,75.0,97.0,99.0,95.0,87.0,49.0,95.0,96.0,94.0,97.0,81.0,96.0,99.0,87.0,87.0,72.0,93.0,85.0],\"yaxis\":\"y\",\"type\":\"scattergl\"}],                        {\"template\":{\"data\":{\"bar\":[{\"error_x\":{\"color\":\"#2a3f5f\"},\"error_y\":{\"color\":\"#2a3f5f\"},\"marker\":{\"line\":{\"color\":\"#E5ECF6\",\"width\":0.5},\"pattern\":{\"fillmode\":\"overlay\",\"size\":10,\"solidity\":0.2}},\"type\":\"bar\"}],\"barpolar\":[{\"marker\":{\"line\":{\"color\":\"#E5ECF6\",\"width\":0.5},\"pattern\":{\"fillmode\":\"overlay\",\"size\":10,\"solidity\":0.2}},\"type\":\"barpolar\"}],\"carpet\":[{\"aaxis\":{\"endlinecolor\":\"#2a3f5f\",\"gridcolor\":\"white\",\"linecolor\":\"white\",\"minorgridcolor\":\"white\",\"startlinecolor\":\"#2a3f5f\"},\"baxis\":{\"endlinecolor\":\"#2a3f5f\",\"gridcolor\":\"white\",\"linecolor\":\"white\",\"minorgridcolor\":\"white\",\"startlinecolor\":\"#2a3f5f\"},\"type\":\"carpet\"}],\"choropleth\":[{\"colorbar\":{\"outlinewidth\":0,\"ticks\":\"\"},\"type\":\"choropleth\"}],\"contour\":[{\"colorbar\":{\"outlinewidth\":0,\"ticks\":\"\"},\"colorscale\":[[0.0,\"#0d0887\"],[0.1111111111111111,\"#46039f\"],[0.2222222222222222,\"#7201a8\"],[0.3333333333333333,\"#9c179e\"],[0.4444444444444444,\"#bd3786\"],[0.5555555555555556,\"#d8576b\"],[0.6666666666666666,\"#ed7953\"],[0.7777777777777778,\"#fb9f3a\"],[0.8888888888888888,\"#fdca26\"],[1.0,\"#f0f921\"]],\"type\":\"contour\"}],\"contourcarpet\":[{\"colorbar\":{\"outlinewidth\":0,\"ticks\":\"\"},\"type\":\"contourcarpet\"}],\"heatmap\":[{\"colorbar\":{\"outlinewidth\":0,\"ticks\":\"\"},\"colorscale\":[[0.0,\"#0d0887\"],[0.1111111111111111,\"#46039f\"],[0.2222222222222222,\"#7201a8\"],[0.3333333333333333,\"#9c179e\"],[0.4444444444444444,\"#bd3786\"],[0.5555555555555556,\"#d8576b\"],[0.6666666666666666,\"#ed7953\"],[0.7777777777777778,\"#fb9f3a\"],[0.8888888888888888,\"#fdca26\"],[1.0,\"#f0f921\"]],\"type\":\"heatmap\"}],\"heatmapgl\":[{\"colorbar\":{\"outlinewidth\":0,\"ticks\":\"\"},\"colorscale\":[[0.0,\"#0d0887\"],[0.1111111111111111,\"#46039f\"],[0.2222222222222222,\"#7201a8\"],[0.3333333333333333,\"#9c179e\"],[0.4444444444444444,\"#bd3786\"],[0.5555555555555556,\"#d8576b\"],[0.6666666666666666,\"#ed7953\"],[0.7777777777777778,\"#fb9f3a\"],[0.8888888888888888,\"#fdca26\"],[1.0,\"#f0f921\"]],\"type\":\"heatmapgl\"}],\"histogram\":[{\"marker\":{\"pattern\":{\"fillmode\":\"overlay\",\"size\":10,\"solidity\":0.2}},\"type\":\"histogram\"}],\"histogram2d\":[{\"colorbar\":{\"outlinewidth\":0,\"ticks\":\"\"},\"colorscale\":[[0.0,\"#0d0887\"],[0.1111111111111111,\"#46039f\"],[0.2222222222222222,\"#7201a8\"],[0.3333333333333333,\"#9c179e\"],[0.4444444444444444,\"#bd3786\"],[0.5555555555555556,\"#d8576b\"],[0.6666666666666666,\"#ed7953\"],[0.7777777777777778,\"#fb9f3a\"],[0.8888888888888888,\"#fdca26\"],[1.0,\"#f0f921\"]],\"type\":\"histogram2d\"}],\"histogram2dcontour\":[{\"colorbar\":{\"outlinewidth\":0,\"ticks\":\"\"},\"colorscale\":[[0.0,\"#0d0887\"],[0.1111111111111111,\"#46039f\"],[0.2222222222222222,\"#7201a8\"],[0.3333333333333333,\"#9c179e\"],[0.4444444444444444,\"#bd3786\"],[0.5555555555555556,\"#d8576b\"],[0.6666666666666666,\"#ed7953\"],[0.7777777777777778,\"#fb9f3a\"],[0.8888888888888888,\"#fdca26\"],[1.0,\"#f0f921\"]],\"type\":\"histogram2dcontour\"}],\"mesh3d\":[{\"colorbar\":{\"outlinewidth\":0,\"ticks\":\"\"},\"type\":\"mesh3d\"}],\"parcoords\":[{\"line\":{\"colorbar\":{\"outlinewidth\":0,\"ticks\":\"\"}},\"type\":\"parcoords\"}],\"pie\":[{\"automargin\":true,\"type\":\"pie\"}],\"scatter\":[{\"marker\":{\"colorbar\":{\"outlinewidth\":0,\"ticks\":\"\"}},\"type\":\"scatter\"}],\"scatter3d\":[{\"line\":{\"colorbar\":{\"outlinewidth\":0,\"ticks\":\"\"}},\"marker\":{\"colorbar\":{\"outlinewidth\":0,\"ticks\":\"\"}},\"type\":\"scatter3d\"}],\"scattercarpet\":[{\"marker\":{\"colorbar\":{\"outlinewidth\":0,\"ticks\":\"\"}},\"type\":\"scattercarpet\"}],\"scattergeo\":[{\"marker\":{\"colorbar\":{\"outlinewidth\":0,\"ticks\":\"\"}},\"type\":\"scattergeo\"}],\"scattergl\":[{\"marker\":{\"colorbar\":{\"outlinewidth\":0,\"ticks\":\"\"}},\"type\":\"scattergl\"}],\"scattermapbox\":[{\"marker\":{\"colorbar\":{\"outlinewidth\":0,\"ticks\":\"\"}},\"type\":\"scattermapbox\"}],\"scatterpolar\":[{\"marker\":{\"colorbar\":{\"outlinewidth\":0,\"ticks\":\"\"}},\"type\":\"scatterpolar\"}],\"scatterpolargl\":[{\"marker\":{\"colorbar\":{\"outlinewidth\":0,\"ticks\":\"\"}},\"type\":\"scatterpolargl\"}],\"scatterternary\":[{\"marker\":{\"colorbar\":{\"outlinewidth\":0,\"ticks\":\"\"}},\"type\":\"scatterternary\"}],\"surface\":[{\"colorbar\":{\"outlinewidth\":0,\"ticks\":\"\"},\"colorscale\":[[0.0,\"#0d0887\"],[0.1111111111111111,\"#46039f\"],[0.2222222222222222,\"#7201a8\"],[0.3333333333333333,\"#9c179e\"],[0.4444444444444444,\"#bd3786\"],[0.5555555555555556,\"#d8576b\"],[0.6666666666666666,\"#ed7953\"],[0.7777777777777778,\"#fb9f3a\"],[0.8888888888888888,\"#fdca26\"],[1.0,\"#f0f921\"]],\"type\":\"surface\"}],\"table\":[{\"cells\":{\"fill\":{\"color\":\"#EBF0F8\"},\"line\":{\"color\":\"white\"}},\"header\":{\"fill\":{\"color\":\"#C8D4E3\"},\"line\":{\"color\":\"white\"}},\"type\":\"table\"}]},\"layout\":{\"annotationdefaults\":{\"arrowcolor\":\"#2a3f5f\",\"arrowhead\":0,\"arrowwidth\":1},\"autotypenumbers\":\"strict\",\"coloraxis\":{\"colorbar\":{\"outlinewidth\":0,\"ticks\":\"\"}},\"colorscale\":{\"diverging\":[[0,\"#8e0152\"],[0.1,\"#c51b7d\"],[0.2,\"#de77ae\"],[0.3,\"#f1b6da\"],[0.4,\"#fde0ef\"],[0.5,\"#f7f7f7\"],[0.6,\"#e6f5d0\"],[0.7,\"#b8e186\"],[0.8,\"#7fbc41\"],[0.9,\"#4d9221\"],[1,\"#276419\"]],\"sequential\":[[0.0,\"#0d0887\"],[0.1111111111111111,\"#46039f\"],[0.2222222222222222,\"#7201a8\"],[0.3333333333333333,\"#9c179e\"],[0.4444444444444444,\"#bd3786\"],[0.5555555555555556,\"#d8576b\"],[0.6666666666666666,\"#ed7953\"],[0.7777777777777778,\"#fb9f3a\"],[0.8888888888888888,\"#fdca26\"],[1.0,\"#f0f921\"]],\"sequentialminus\":[[0.0,\"#0d0887\"],[0.1111111111111111,\"#46039f\"],[0.2222222222222222,\"#7201a8\"],[0.3333333333333333,\"#9c179e\"],[0.4444444444444444,\"#bd3786\"],[0.5555555555555556,\"#d8576b\"],[0.6666666666666666,\"#ed7953\"],[0.7777777777777778,\"#fb9f3a\"],[0.8888888888888888,\"#fdca26\"],[1.0,\"#f0f921\"]]},\"colorway\":[\"#636efa\",\"#EF553B\",\"#00cc96\",\"#ab63fa\",\"#FFA15A\",\"#19d3f3\",\"#FF6692\",\"#B6E880\",\"#FF97FF\",\"#FECB52\"],\"font\":{\"color\":\"#2a3f5f\"},\"geo\":{\"bgcolor\":\"white\",\"lakecolor\":\"white\",\"landcolor\":\"#E5ECF6\",\"showlakes\":true,\"showland\":true,\"subunitcolor\":\"white\"},\"hoverlabel\":{\"align\":\"left\"},\"hovermode\":\"closest\",\"mapbox\":{\"style\":\"light\"},\"paper_bgcolor\":\"white\",\"plot_bgcolor\":\"#E5ECF6\",\"polar\":{\"angularaxis\":{\"gridcolor\":\"white\",\"linecolor\":\"white\",\"ticks\":\"\"},\"bgcolor\":\"#E5ECF6\",\"radialaxis\":{\"gridcolor\":\"white\",\"linecolor\":\"white\",\"ticks\":\"\"}},\"scene\":{\"xaxis\":{\"backgroundcolor\":\"#E5ECF6\",\"gridcolor\":\"white\",\"gridwidth\":2,\"linecolor\":\"white\",\"showbackground\":true,\"ticks\":\"\",\"zerolinecolor\":\"white\"},\"yaxis\":{\"backgroundcolor\":\"#E5ECF6\",\"gridcolor\":\"white\",\"gridwidth\":2,\"linecolor\":\"white\",\"showbackground\":true,\"ticks\":\"\",\"zerolinecolor\":\"white\"},\"zaxis\":{\"backgroundcolor\":\"#E5ECF6\",\"gridcolor\":\"white\",\"gridwidth\":2,\"linecolor\":\"white\",\"showbackground\":true,\"ticks\":\"\",\"zerolinecolor\":\"white\"}},\"shapedefaults\":{\"line\":{\"color\":\"#2a3f5f\"}},\"ternary\":{\"aaxis\":{\"gridcolor\":\"white\",\"linecolor\":\"white\",\"ticks\":\"\"},\"baxis\":{\"gridcolor\":\"white\",\"linecolor\":\"white\",\"ticks\":\"\"},\"bgcolor\":\"#E5ECF6\",\"caxis\":{\"gridcolor\":\"white\",\"linecolor\":\"white\",\"ticks\":\"\"}},\"title\":{\"x\":0.05},\"xaxis\":{\"automargin\":true,\"gridcolor\":\"white\",\"linecolor\":\"white\",\"ticks\":\"\",\"title\":{\"standoff\":15},\"zerolinecolor\":\"white\",\"zerolinewidth\":2},\"yaxis\":{\"automargin\":true,\"gridcolor\":\"white\",\"linecolor\":\"white\",\"ticks\":\"\",\"title\":{\"standoff\":15},\"zerolinecolor\":\"white\",\"zerolinewidth\":2}}},\"xaxis\":{\"anchor\":\"y\",\"domain\":[0.0,1.0],\"title\":{\"text\":\"Time evolution\"},\"dtick\":1},\"yaxis\":{\"anchor\":\"x\",\"domain\":[0.0,1.0],\"title\":{\"text\":\"Vaccination rates (%)\"},\"dtick\":5},\"coloraxis\":{\"colorbar\":{\"title\":{\"text\":\"Income group from the highest income to the lowest\"},\"thicknessmode\":\"pixels\",\"thickness\":50},\"colorscale\":[[0.0,\"#000004\"],[0.1111111111111111,\"#1b0c41\"],[0.2222222222222222,\"#4a0c6b\"],[0.3333333333333333,\"#781c6d\"],[0.4444444444444444,\"#a52c60\"],[0.5555555555555556,\"#cf4446\"],[0.6666666666666666,\"#ed6925\"],[0.7777777777777778,\"#fb9b06\"],[0.8888888888888888,\"#f7d13d\"],[1.0,\"#fcffa4\"]]},\"legend\":{\"tracegroupgap\":0},\"margin\":{\"t\":60},\"title\":{\"text\":\"Measles vaccination rates in different countries based on income group: 12-23 months old children\"}},                        {\"responsive\": true}                    ).then(function(){\n",
       "                            \n",
       "var gd = document.getElementById('fe6b18eb-1748-4b68-9f52-99fcdaec4e80');\n",
       "var x = new MutationObserver(function (mutations, observer) {{\n",
       "        var display = window.getComputedStyle(gd).display;\n",
       "        if (!display || display === 'none') {{\n",
       "            console.log([gd, 'removed!']);\n",
       "            Plotly.purge(gd);\n",
       "            observer.disconnect();\n",
       "        }}\n",
       "}});\n",
       "\n",
       "// Listen for the removal of the full notebook cells\n",
       "var notebookContainer = gd.closest('#notebook-container');\n",
       "if (notebookContainer) {{\n",
       "    x.observe(notebookContainer, {childList: true});\n",
       "}}\n",
       "\n",
       "// Listen for the clearing of the current output cell\n",
       "var outputEl = gd.closest('.output');\n",
       "if (outputEl) {{\n",
       "    x.observe(outputEl, {childList: true});\n",
       "}}\n",
       "\n",
       "                        })                };                });            </script>        </div>"
      ]
     },
     "metadata": {},
     "output_type": "display_data"
    }
   ],
   "source": [
    "fig_1_1 = px.scatter(final_vax_rate_income_df, y=\"value_\", x=\"year\", opacity=0.7, color=\"IncomeGroupValue\", hover_name=\"Country Name\")\n",
    "\n",
    "fig_1_1.update_xaxes(dtick=1)\n",
    "fig_1_1.update_yaxes(dtick=5)\n",
    "\n",
    "fig_1_1.update_traces(marker={'size': 15})\n",
    "\n",
    "fig_1_1.update_layout({\n",
    "    'yaxis': {\"title\": \"Vaccination rates (%)\"},\n",
    "    \"xaxis\": {\"title\": \"Time evolution\"},\n",
    "    \"title\": f\"Measles vaccination rates in different countries based on income group: 12-23 months old children\"\n",
    "    })\n",
    "fig_1_1.update_coloraxes(colorbar={\n",
    "    \"title\": \"Income group from the highest income to the lowest\",\n",
    "    \"thicknessmode\": \"pixels\",\n",
    "    \"thickness\": 50,\n",
    "    },colorscale= \"Inferno\")\n",
    "\n",
    "\n",
    "fig_1_1.show()"
   ]
  },
  {
   "cell_type": "markdown",
   "metadata": {
    "pycharm": {
     "name": "#%% md\n"
    }
   },
   "source": [
    "Figure 1.2: Measles vaccination rate based on income group - bar plot"
   ]
  },
  {
   "cell_type": "markdown",
   "metadata": {
    "pycharm": {
     "name": "#%% md\n"
    }
   },
   "source": [
    "Unifying the income group sorting from the highest income to the lowest"
   ]
  },
  {
   "cell_type": "code",
   "execution_count": 31,
   "metadata": {
    "collapsed": false,
    "jupyter": {
     "outputs_hidden": false
    },
    "pycharm": {
     "name": "#%%\n"
    }
   },
   "outputs": [],
   "source": [
    "final_vax_rate_income_df_sorted = final_vax_rate_income_df.sort_values(by=\"IncomeGroupValue\", ascending=False)"
   ]
  },
  {
   "cell_type": "code",
   "execution_count": 41,
   "metadata": {
    "collapsed": false,
    "jupyter": {
     "outputs_hidden": false
    },
    "pycharm": {
     "name": "#%%\n"
    }
   },
   "outputs": [
    {
     "data": {
      "application/vnd.plotly.v1+json": {
       "config": {
        "plotlyServerURL": "https://plot.ly"
       },
       "data": [
        {
         "alignmentgroup": "True",
         "customdata": [
          [
           "Uganda"
          ],
          [
           "Afghanistan"
          ],
          [
           "Ethiopia"
          ],
          [
           "South Sudan"
          ],
          [
           "Afghanistan"
          ],
          [
           "South Sudan"
          ],
          [
           "Afghanistan"
          ],
          [
           "Uganda"
          ],
          [
           "Uganda"
          ],
          [
           "Uganda"
          ],
          [
           "Afghanistan"
          ],
          [
           "Ethiopia"
          ],
          [
           "Ethiopia"
          ],
          [
           "Uganda"
          ],
          [
           "Ethiopia"
          ],
          [
           "Afghanistan"
          ],
          [
           "Afghanistan"
          ],
          [
           "Uganda"
          ],
          [
           "Uganda"
          ],
          [
           "Uganda"
          ],
          [
           "Afghanistan"
          ],
          [
           "South Sudan"
          ],
          [
           "Ethiopia"
          ],
          [
           "Ethiopia"
          ],
          [
           "Afghanistan"
          ],
          [
           "Uganda"
          ],
          [
           "Ethiopia"
          ],
          [
           "Ethiopia"
          ],
          [
           "Ethiopia"
          ],
          [
           "Uganda"
          ],
          [
           "Uganda"
          ],
          [
           "Ethiopia"
          ],
          [
           "Uganda"
          ],
          [
           "Afghanistan"
          ],
          [
           "Uganda"
          ],
          [
           "Uganda"
          ],
          [
           "Uganda"
          ],
          [
           "Ethiopia"
          ],
          [
           "Afghanistan"
          ],
          [
           "Afghanistan"
          ],
          [
           "South Sudan"
          ],
          [
           "Ethiopia"
          ],
          [
           "Ethiopia"
          ],
          [
           "Afghanistan"
          ],
          [
           "Ethiopia"
          ],
          [
           "Ethiopia"
          ],
          [
           "Afghanistan"
          ],
          [
           "Afghanistan"
          ],
          [
           "Ethiopia"
          ],
          [
           "Ethiopia"
          ],
          [
           "Uganda"
          ],
          [
           "Uganda"
          ],
          [
           "Uganda"
          ],
          [
           "Afghanistan"
          ],
          [
           "Ethiopia"
          ],
          [
           "Afghanistan"
          ],
          [
           "South Sudan"
          ],
          [
           "Afghanistan"
          ],
          [
           "Ethiopia"
          ],
          [
           "Ethiopia"
          ],
          [
           "South Sudan"
          ],
          [
           "Uganda"
          ],
          [
           "Uganda"
          ],
          [
           "Afghanistan"
          ],
          [
           "South Sudan"
          ],
          [
           "Uganda"
          ],
          [
           "Uganda"
          ],
          [
           "Afghanistan"
          ],
          [
           "Ethiopia"
          ],
          [
           "Uganda"
          ],
          [
           "Ethiopia"
          ],
          [
           "Uganda"
          ],
          [
           "Ethiopia"
          ],
          [
           "Ethiopia"
          ],
          [
           "Afghanistan"
          ],
          [
           "Uganda"
          ],
          [
           "Ethiopia"
          ],
          [
           "Uganda"
          ],
          [
           "Uganda"
          ],
          [
           "Ethiopia"
          ],
          [
           "Uganda"
          ],
          [
           "South Sudan"
          ],
          [
           "Afghanistan"
          ],
          [
           "Afghanistan"
          ],
          [
           "Ethiopia"
          ],
          [
           "Afghanistan"
          ],
          [
           "Afghanistan"
          ],
          [
           "Ethiopia"
          ],
          [
           "Afghanistan"
          ],
          [
           "Afghanistan"
          ],
          [
           "Ethiopia"
          ],
          [
           "Afghanistan"
          ],
          [
           "Ethiopia"
          ],
          [
           "Uganda"
          ],
          [
           "Ethiopia"
          ],
          [
           "Uganda"
          ],
          [
           "Uganda"
          ],
          [
           "Afghanistan"
          ],
          [
           "Ethiopia"
          ],
          [
           "Ethiopia"
          ],
          [
           "Ethiopia"
          ],
          [
           "Afghanistan"
          ],
          [
           "Uganda"
          ],
          [
           "Uganda"
          ],
          [
           "Ethiopia"
          ],
          [
           "Afghanistan"
          ],
          [
           "Afghanistan"
          ],
          [
           "Afghanistan"
          ],
          [
           "Uganda"
          ],
          [
           "Afghanistan"
          ],
          [
           "Ethiopia"
          ],
          [
           "Uganda"
          ],
          [
           "Ethiopia"
          ],
          [
           "Afghanistan"
          ],
          [
           "Afghanistan"
          ],
          [
           "Uganda"
          ],
          [
           "Uganda"
          ],
          [
           "South Sudan"
          ],
          [
           "Ethiopia"
          ],
          [
           "Afghanistan"
          ],
          [
           "Ethiopia"
          ],
          [
           "Ethiopia"
          ],
          [
           "Afghanistan"
          ],
          [
           "Uganda"
          ],
          [
           "Uganda"
          ],
          [
           "Afghanistan"
          ],
          [
           "Afghanistan"
          ]
         ],
         "hovertemplate": "IncomeGroup=Low income<br>year=%{x}<br>value_=%{y}<br>Country Name=%{customdata[0]}<extra></extra>",
         "legendgroup": "Low income",
         "marker": {
          "color": "#636efa",
          "pattern": {
           "shape": ""
          }
         },
         "name": "Low income",
         "offsetgroup": "Low income",
         "orientation": "v",
         "showlegend": true,
         "textposition": "auto",
         "type": "bar",
         "x": [
          2014,
          2019,
          2007,
          2018,
          1985,
          2014,
          2007,
          2018,
          1998,
          1984,
          2002,
          2008,
          1984,
          2013,
          1982,
          2014,
          1982,
          2008,
          1981,
          1996,
          2009,
          2019,
          2009,
          1981,
          1997,
          2019,
          2014,
          1980,
          1997,
          1997,
          2009,
          2010,
          1982,
          1984,
          1995,
          1983,
          2007,
          2019,
          1996,
          2008,
          2013,
          1998,
          1995,
          2010,
          1983,
          1996,
          1983,
          1998,
          1985,
          2018,
          2006,
          2015,
          1989,
          2017,
          2001,
          2016,
          2011,
          2001,
          2017,
          1989,
          2015,
          2000,
          2003,
          1989,
          2012,
          1992,
          1988,
          2004,
          2003,
          2011,
          1992,
          2016,
          2002,
          1991,
          1991,
          2001,
          2012,
          1990,
          1991,
          2016,
          2002,
          2016,
          1992,
          2012,
          1990,
          2003,
          1990,
          2004,
          1993,
          1999,
          2015,
          2011,
          1994,
          1986,
          2013,
          2010,
          2005,
          2006,
          1986,
          1993,
          2006,
          1986,
          1985,
          1994,
          1999,
          1995,
          2015,
          1987,
          1999,
          1994,
          1987,
          2012,
          1988,
          1988,
          2013,
          2004,
          1987,
          2017,
          2000,
          2005,
          2011,
          2005,
          2000,
          2017,
          1993,
          2018,
          1980
         ],
         "xaxis": "x",
         "y": [
          85,
          64,
          49,
          49,
          14,
          55,
          55,
          86,
          50,
          18,
          35,
          54,
          8,
          83,
          7,
          60,
          8,
          70,
          22,
          55,
          60,
          49,
          59,
          3,
          38,
          87,
          54,
          4,
          51,
          54,
          77,
          64,
          21,
          14,
          57,
          20,
          75,
          58,
          42,
          59,
          58,
          44,
          38,
          62,
          7,
          54,
          9,
          31,
          12,
          55,
          75,
          79,
          51,
          64,
          35,
          64,
          62,
          37,
          59,
          23,
          53,
          57,
          64,
          22,
          60,
          56,
          49,
          48,
          35,
          75,
          12,
          79,
          36,
          17,
          19,
          59,
          62,
          52,
          54,
          57,
          62,
          51,
          22,
          59,
          38,
          39,
          20,
          35,
          25,
          31,
          56,
          64,
          54,
          27,
          55,
          73,
          68,
          53,
          10,
          22,
          44,
          14,
          17,
          59,
          37,
          41,
          63,
          31,
          55,
          40,
          13,
          80,
          15,
          34,
          57,
          66,
          38,
          50,
          36,
          50,
          68,
          40,
          27,
          83,
          57,
          64,
          11
         ],
         "yaxis": "y"
        },
        {
         "alignmentgroup": "True",
         "customdata": [
          [
           "Mauritania"
          ],
          [
           "Lesotho"
          ],
          [
           "Micronesia, Fed. Sts."
          ],
          [
           "Zimbabwe"
          ],
          [
           "Egypt, Arab Rep."
          ],
          [
           "Iran, Islamic Rep."
          ],
          [
           "Samoa"
          ],
          [
           "Kenya"
          ],
          [
           "Zambia"
          ],
          [
           "Pakistan"
          ],
          [
           "Mauritania"
          ],
          [
           "Haiti"
          ],
          [
           "Sao Tome and Principe"
          ],
          [
           "Myanmar"
          ],
          [
           "Myanmar"
          ],
          [
           "Eswatini"
          ],
          [
           "Indonesia"
          ],
          [
           "Bangladesh"
          ],
          [
           "India"
          ],
          [
           "Nepal"
          ],
          [
           "India"
          ],
          [
           "Nepal"
          ],
          [
           "Egypt, Arab Rep."
          ],
          [
           "Nepal"
          ],
          [
           "Pakistan"
          ],
          [
           "Sao Tome and Principe"
          ],
          [
           "Eswatini"
          ],
          [
           "Samoa"
          ],
          [
           "Zambia"
          ],
          [
           "Zimbabwe"
          ],
          [
           "Bangladesh"
          ],
          [
           "Micronesia, Fed. Sts."
          ],
          [
           "Pakistan"
          ],
          [
           "Haiti"
          ],
          [
           "Indonesia"
          ],
          [
           "India"
          ],
          [
           "Iran, Islamic Rep."
          ],
          [
           "Kenya"
          ],
          [
           "Lesotho"
          ],
          [
           "Myanmar"
          ],
          [
           "Mauritania"
          ],
          [
           "Mauritania"
          ],
          [
           "Myanmar"
          ],
          [
           "Lesotho"
          ],
          [
           "Kenya"
          ],
          [
           "Lesotho"
          ],
          [
           "Myanmar"
          ],
          [
           "Mauritania"
          ],
          [
           "Nepal"
          ],
          [
           "Pakistan"
          ],
          [
           "Sao Tome and Principe"
          ],
          [
           "Eswatini"
          ],
          [
           "Samoa"
          ],
          [
           "Zambia"
          ],
          [
           "Zimbabwe"
          ],
          [
           "Bangladesh"
          ],
          [
           "Egypt, Arab Rep."
          ],
          [
           "Micronesia, Fed. Sts."
          ],
          [
           "Haiti"
          ],
          [
           "Indonesia"
          ],
          [
           "India"
          ],
          [
           "Iran, Islamic Rep."
          ],
          [
           "Nepal"
          ],
          [
           "Pakistan"
          ],
          [
           "Sao Tome and Principe"
          ],
          [
           "Zambia"
          ],
          [
           "Bangladesh"
          ],
          [
           "Egypt, Arab Rep."
          ],
          [
           "Micronesia, Fed. Sts."
          ],
          [
           "Haiti"
          ],
          [
           "Indonesia"
          ],
          [
           "India"
          ],
          [
           "Iran, Islamic Rep."
          ],
          [
           "Kenya"
          ],
          [
           "Lesotho"
          ],
          [
           "Myanmar"
          ],
          [
           "Mauritania"
          ],
          [
           "Nepal"
          ],
          [
           "Pakistan"
          ],
          [
           "Sao Tome and Principe"
          ],
          [
           "Eswatini"
          ],
          [
           "Samoa"
          ],
          [
           "Zambia"
          ],
          [
           "Zimbabwe"
          ],
          [
           "Samoa"
          ],
          [
           "Eswatini"
          ],
          [
           "Eswatini"
          ],
          [
           "Samoa"
          ],
          [
           "Zambia"
          ],
          [
           "Zimbabwe"
          ],
          [
           "Bangladesh"
          ],
          [
           "Egypt, Arab Rep."
          ],
          [
           "Micronesia, Fed. Sts."
          ],
          [
           "Haiti"
          ],
          [
           "Indonesia"
          ],
          [
           "India"
          ],
          [
           "Iran, Islamic Rep."
          ],
          [
           "Kenya"
          ],
          [
           "Lesotho"
          ],
          [
           "Myanmar"
          ],
          [
           "Mauritania"
          ],
          [
           "Nepal"
          ],
          [
           "Pakistan"
          ],
          [
           "Sao Tome and Principe"
          ],
          [
           "Kenya"
          ],
          [
           "Iran, Islamic Rep."
          ],
          [
           "India"
          ],
          [
           "Eswatini"
          ],
          [
           "Zambia"
          ],
          [
           "Zimbabwe"
          ],
          [
           "Bangladesh"
          ],
          [
           "Egypt, Arab Rep."
          ],
          [
           "Micronesia, Fed. Sts."
          ],
          [
           "Haiti"
          ],
          [
           "Indonesia"
          ],
          [
           "India"
          ],
          [
           "Iran, Islamic Rep."
          ],
          [
           "Kenya"
          ],
          [
           "Lesotho"
          ],
          [
           "Myanmar"
          ],
          [
           "Mauritania"
          ],
          [
           "Nepal"
          ],
          [
           "Pakistan"
          ],
          [
           "Sao Tome and Principe"
          ],
          [
           "Eswatini"
          ],
          [
           "Samoa"
          ],
          [
           "Sao Tome and Principe"
          ],
          [
           "Zambia"
          ],
          [
           "Pakistan"
          ],
          [
           "Sao Tome and Principe"
          ],
          [
           "Eswatini"
          ],
          [
           "Samoa"
          ],
          [
           "Zambia"
          ],
          [
           "Zimbabwe"
          ],
          [
           "Bangladesh"
          ],
          [
           "Egypt, Arab Rep."
          ],
          [
           "Micronesia, Fed. Sts."
          ],
          [
           "Haiti"
          ],
          [
           "Indonesia"
          ],
          [
           "India"
          ],
          [
           "Iran, Islamic Rep."
          ],
          [
           "Kenya"
          ],
          [
           "Lesotho"
          ],
          [
           "Myanmar"
          ],
          [
           "Mauritania"
          ],
          [
           "Nepal"
          ],
          [
           "Samoa"
          ],
          [
           "Zimbabwe"
          ],
          [
           "Indonesia"
          ],
          [
           "Micronesia, Fed. Sts."
          ],
          [
           "India"
          ],
          [
           "Iran, Islamic Rep."
          ],
          [
           "Kenya"
          ],
          [
           "Lesotho"
          ],
          [
           "Myanmar"
          ],
          [
           "Mauritania"
          ],
          [
           "Nepal"
          ],
          [
           "Pakistan"
          ],
          [
           "Sao Tome and Principe"
          ],
          [
           "Eswatini"
          ],
          [
           "Samoa"
          ],
          [
           "Zambia"
          ],
          [
           "Zimbabwe"
          ],
          [
           "Bangladesh"
          ],
          [
           "Egypt, Arab Rep."
          ],
          [
           "Micronesia, Fed. Sts."
          ],
          [
           "Haiti"
          ],
          [
           "Haiti"
          ],
          [
           "Egypt, Arab Rep."
          ],
          [
           "Bangladesh"
          ],
          [
           "Bangladesh"
          ],
          [
           "Egypt, Arab Rep."
          ],
          [
           "Micronesia, Fed. Sts."
          ],
          [
           "Haiti"
          ],
          [
           "Indonesia"
          ],
          [
           "India"
          ],
          [
           "Iran, Islamic Rep."
          ],
          [
           "Kenya"
          ],
          [
           "Lesotho"
          ],
          [
           "Myanmar"
          ],
          [
           "Mauritania"
          ],
          [
           "Nepal"
          ],
          [
           "Pakistan"
          ],
          [
           "Sao Tome and Principe"
          ],
          [
           "Eswatini"
          ],
          [
           "Samoa"
          ],
          [
           "Zambia"
          ],
          [
           "Zimbabwe"
          ],
          [
           "Indonesia"
          ],
          [
           "Zimbabwe"
          ],
          [
           "Lesotho"
          ],
          [
           "Bangladesh"
          ],
          [
           "Iran, Islamic Rep."
          ],
          [
           "India"
          ],
          [
           "Indonesia"
          ],
          [
           "Haiti"
          ],
          [
           "Micronesia, Fed. Sts."
          ],
          [
           "Egypt, Arab Rep."
          ],
          [
           "Zimbabwe"
          ],
          [
           "Haiti"
          ],
          [
           "Zambia"
          ],
          [
           "Samoa"
          ],
          [
           "Eswatini"
          ],
          [
           "Sao Tome and Principe"
          ],
          [
           "Pakistan"
          ],
          [
           "Nepal"
          ],
          [
           "Kenya"
          ],
          [
           "Lesotho"
          ],
          [
           "Myanmar"
          ],
          [
           "Mauritania"
          ],
          [
           "Nepal"
          ],
          [
           "Pakistan"
          ],
          [
           "Sao Tome and Principe"
          ],
          [
           "Eswatini"
          ],
          [
           "Samoa"
          ],
          [
           "Zambia"
          ],
          [
           "Zimbabwe"
          ],
          [
           "Bangladesh"
          ],
          [
           "Egypt, Arab Rep."
          ],
          [
           "Micronesia, Fed. Sts."
          ],
          [
           "Haiti"
          ],
          [
           "Indonesia"
          ],
          [
           "India"
          ],
          [
           "Mauritania"
          ],
          [
           "Myanmar"
          ],
          [
           "Lesotho"
          ],
          [
           "Myanmar"
          ],
          [
           "Sao Tome and Principe"
          ],
          [
           "Eswatini"
          ],
          [
           "Samoa"
          ],
          [
           "Zambia"
          ],
          [
           "Zimbabwe"
          ],
          [
           "Bangladesh"
          ],
          [
           "Egypt, Arab Rep."
          ],
          [
           "Micronesia, Fed. Sts."
          ],
          [
           "Haiti"
          ],
          [
           "Indonesia"
          ],
          [
           "India"
          ],
          [
           "Iran, Islamic Rep."
          ],
          [
           "Kenya"
          ],
          [
           "Lesotho"
          ],
          [
           "Mauritania"
          ],
          [
           "Kenya"
          ],
          [
           "Nepal"
          ],
          [
           "Pakistan"
          ],
          [
           "Sao Tome and Principe"
          ],
          [
           "Eswatini"
          ],
          [
           "Samoa"
          ],
          [
           "Zambia"
          ],
          [
           "Zimbabwe"
          ],
          [
           "Bangladesh"
          ],
          [
           "Egypt, Arab Rep."
          ],
          [
           "Micronesia, Fed. Sts."
          ],
          [
           "Haiti"
          ],
          [
           "Indonesia"
          ],
          [
           "India"
          ],
          [
           "Iran, Islamic Rep."
          ],
          [
           "Iran, Islamic Rep."
          ],
          [
           "Kenya"
          ],
          [
           "Lesotho"
          ],
          [
           "Indonesia"
          ],
          [
           "Lesotho"
          ],
          [
           "Myanmar"
          ],
          [
           "Kenya"
          ],
          [
           "Nepal"
          ],
          [
           "Pakistan"
          ],
          [
           "Sao Tome and Principe"
          ],
          [
           "Eswatini"
          ],
          [
           "Samoa"
          ],
          [
           "Zambia"
          ],
          [
           "Zimbabwe"
          ],
          [
           "Bangladesh"
          ],
          [
           "Egypt, Arab Rep."
          ],
          [
           "Micronesia, Fed. Sts."
          ],
          [
           "Haiti"
          ],
          [
           "India"
          ],
          [
           "Iran, Islamic Rep."
          ],
          [
           "Iran, Islamic Rep."
          ],
          [
           "Kenya"
          ],
          [
           "Lesotho"
          ],
          [
           "Myanmar"
          ],
          [
           "Mauritania"
          ],
          [
           "Nepal"
          ],
          [
           "Pakistan"
          ],
          [
           "Sao Tome and Principe"
          ],
          [
           "Eswatini"
          ],
          [
           "Samoa"
          ],
          [
           "Zambia"
          ],
          [
           "Zimbabwe"
          ],
          [
           "Bangladesh"
          ],
          [
           "Egypt, Arab Rep."
          ],
          [
           "Kenya"
          ],
          [
           "India"
          ],
          [
           "Myanmar"
          ],
          [
           "Iran, Islamic Rep."
          ],
          [
           "Mauritania"
          ],
          [
           "Nepal"
          ],
          [
           "Pakistan"
          ],
          [
           "Sao Tome and Principe"
          ],
          [
           "Eswatini"
          ],
          [
           "Samoa"
          ],
          [
           "Zambia"
          ],
          [
           "Zimbabwe"
          ],
          [
           "Bangladesh"
          ],
          [
           "Egypt, Arab Rep."
          ],
          [
           "Micronesia, Fed. Sts."
          ],
          [
           "Haiti"
          ],
          [
           "Indonesia"
          ],
          [
           "India"
          ],
          [
           "Kenya"
          ],
          [
           "Indonesia"
          ],
          [
           "Lesotho"
          ],
          [
           "Myanmar"
          ],
          [
           "Mauritania"
          ],
          [
           "Nepal"
          ],
          [
           "Pakistan"
          ],
          [
           "Sao Tome and Principe"
          ],
          [
           "Eswatini"
          ],
          [
           "Samoa"
          ],
          [
           "Zambia"
          ],
          [
           "Zimbabwe"
          ],
          [
           "Bangladesh"
          ],
          [
           "Egypt, Arab Rep."
          ],
          [
           "Micronesia, Fed. Sts."
          ],
          [
           "Haiti"
          ],
          [
           "Pakistan"
          ],
          [
           "Nepal"
          ],
          [
           "Mauritania"
          ],
          [
           "Pakistan"
          ],
          [
           "Sao Tome and Principe"
          ],
          [
           "Eswatini"
          ],
          [
           "Samoa"
          ],
          [
           "Zambia"
          ],
          [
           "Zimbabwe"
          ],
          [
           "Bangladesh"
          ],
          [
           "Egypt, Arab Rep."
          ],
          [
           "Haiti"
          ],
          [
           "Indonesia"
          ],
          [
           "Iran, Islamic Rep."
          ],
          [
           "Kenya"
          ],
          [
           "Lesotho"
          ],
          [
           "Mauritania"
          ],
          [
           "Nepal"
          ],
          [
           "Sao Tome and Principe"
          ],
          [
           "Nepal"
          ],
          [
           "Eswatini"
          ],
          [
           "Samoa"
          ],
          [
           "Zambia"
          ],
          [
           "Zimbabwe"
          ],
          [
           "Bangladesh"
          ],
          [
           "Egypt, Arab Rep."
          ],
          [
           "Haiti"
          ],
          [
           "Indonesia"
          ],
          [
           "India"
          ],
          [
           "Iran, Islamic Rep."
          ],
          [
           "Kenya"
          ],
          [
           "Lesotho"
          ],
          [
           "Mauritania"
          ],
          [
           "Nepal"
          ],
          [
           "Pakistan"
          ],
          [
           "Mauritania"
          ],
          [
           "Sao Tome and Principe"
          ],
          [
           "Egypt, Arab Rep."
          ],
          [
           "Egypt, Arab Rep."
          ],
          [
           "Iran, Islamic Rep."
          ],
          [
           "Lesotho"
          ],
          [
           "Pakistan"
          ],
          [
           "Egypt, Arab Rep."
          ],
          [
           "Iran, Islamic Rep."
          ],
          [
           "Lesotho"
          ],
          [
           "Mauritania"
          ],
          [
           "Nepal"
          ],
          [
           "Pakistan"
          ],
          [
           "Sao Tome and Principe"
          ],
          [
           "Eswatini"
          ],
          [
           "Zimbabwe"
          ],
          [
           "Bangladesh"
          ],
          [
           "Haiti"
          ],
          [
           "Lesotho"
          ],
          [
           "Iran, Islamic Rep."
          ],
          [
           "Lesotho"
          ],
          [
           "Mauritania"
          ],
          [
           "Nepal"
          ],
          [
           "Pakistan"
          ],
          [
           "Sao Tome and Principe"
          ],
          [
           "Eswatini"
          ],
          [
           "Samoa"
          ],
          [
           "Zimbabwe"
          ],
          [
           "Bangladesh"
          ],
          [
           "Egypt, Arab Rep."
          ],
          [
           "Haiti"
          ],
          [
           "Indonesia"
          ],
          [
           "Iran, Islamic Rep."
          ],
          [
           "Pakistan"
          ],
          [
           "Eswatini"
          ],
          [
           "Myanmar"
          ],
          [
           "Nepal"
          ],
          [
           "Samoa"
          ],
          [
           "Zambia"
          ],
          [
           "Zimbabwe"
          ],
          [
           "Bangladesh"
          ],
          [
           "Egypt, Arab Rep."
          ],
          [
           "Micronesia, Fed. Sts."
          ],
          [
           "Haiti"
          ],
          [
           "Indonesia"
          ],
          [
           "India"
          ],
          [
           "Iran, Islamic Rep."
          ],
          [
           "Kenya"
          ],
          [
           "Lesotho"
          ],
          [
           "Myanmar"
          ],
          [
           "Mauritania"
          ],
          [
           "Pakistan"
          ],
          [
           "Sao Tome and Principe"
          ],
          [
           "Sao Tome and Principe"
          ],
          [
           "Eswatini"
          ],
          [
           "Samoa"
          ],
          [
           "Zambia"
          ],
          [
           "Zimbabwe"
          ],
          [
           "Bangladesh"
          ],
          [
           "Egypt, Arab Rep."
          ],
          [
           "Micronesia, Fed. Sts."
          ],
          [
           "Haiti"
          ],
          [
           "Indonesia"
          ],
          [
           "India"
          ],
          [
           "Iran, Islamic Rep."
          ],
          [
           "Kenya"
          ],
          [
           "Lesotho"
          ],
          [
           "Eswatini"
          ],
          [
           "Pakistan"
          ],
          [
           "Samoa"
          ],
          [
           "Sao Tome and Principe"
          ],
          [
           "Zambia"
          ],
          [
           "Zimbabwe"
          ],
          [
           "Bangladesh"
          ],
          [
           "Egypt, Arab Rep."
          ],
          [
           "Haiti"
          ],
          [
           "Indonesia"
          ],
          [
           "India"
          ],
          [
           "Iran, Islamic Rep."
          ],
          [
           "Kenya"
          ],
          [
           "Lesotho"
          ],
          [
           "Myanmar"
          ],
          [
           "Mauritania"
          ],
          [
           "Nepal"
          ],
          [
           "Pakistan"
          ],
          [
           "Eswatini"
          ],
          [
           "Nepal"
          ],
          [
           "Samoa"
          ],
          [
           "Zambia"
          ],
          [
           "Zimbabwe"
          ],
          [
           "Bangladesh"
          ],
          [
           "Egypt, Arab Rep."
          ],
          [
           "Micronesia, Fed. Sts."
          ],
          [
           "Haiti"
          ],
          [
           "Indonesia"
          ],
          [
           "India"
          ],
          [
           "Iran, Islamic Rep."
          ],
          [
           "Kenya"
          ],
          [
           "Lesotho"
          ],
          [
           "Myanmar"
          ],
          [
           "Mauritania"
          ],
          [
           "Micronesia, Fed. Sts."
          ],
          [
           "Mauritania"
          ],
          [
           "Indonesia"
          ],
          [
           "Eswatini"
          ],
          [
           "Bangladesh"
          ],
          [
           "Egypt, Arab Rep."
          ],
          [
           "Micronesia, Fed. Sts."
          ],
          [
           "Haiti"
          ],
          [
           "Indonesia"
          ],
          [
           "India"
          ],
          [
           "Iran, Islamic Rep."
          ],
          [
           "Kenya"
          ],
          [
           "Lesotho"
          ],
          [
           "Myanmar"
          ],
          [
           "Mauritania"
          ],
          [
           "Nepal"
          ],
          [
           "Pakistan"
          ],
          [
           "Sao Tome and Principe"
          ],
          [
           "Samoa"
          ],
          [
           "Sao Tome and Principe"
          ],
          [
           "Zambia"
          ],
          [
           "Zimbabwe"
          ],
          [
           "Bangladesh"
          ],
          [
           "Egypt, Arab Rep."
          ],
          [
           "Micronesia, Fed. Sts."
          ],
          [
           "Haiti"
          ],
          [
           "Indonesia"
          ],
          [
           "India"
          ],
          [
           "Iran, Islamic Rep."
          ],
          [
           "Kenya"
          ],
          [
           "Lesotho"
          ],
          [
           "Myanmar"
          ],
          [
           "Mauritania"
          ],
          [
           "Nepal"
          ],
          [
           "Zimbabwe"
          ],
          [
           "Zambia"
          ],
          [
           "Samoa"
          ],
          [
           "Eswatini"
          ],
          [
           "Micronesia, Fed. Sts."
          ],
          [
           "Haiti"
          ],
          [
           "Indonesia"
          ],
          [
           "Iran, Islamic Rep."
          ],
          [
           "Kenya"
          ],
          [
           "Lesotho"
          ],
          [
           "Myanmar"
          ],
          [
           "Mauritania"
          ],
          [
           "Nepal"
          ],
          [
           "Pakistan"
          ],
          [
           "Sao Tome and Principe"
          ],
          [
           "Eswatini"
          ],
          [
           "Samoa"
          ],
          [
           "Zambia"
          ],
          [
           "Zimbabwe"
          ],
          [
           "Bangladesh"
          ],
          [
           "Egypt, Arab Rep."
          ],
          [
           "Micronesia, Fed. Sts."
          ],
          [
           "Haiti"
          ],
          [
           "Indonesia"
          ],
          [
           "India"
          ],
          [
           "Iran, Islamic Rep."
          ],
          [
           "Kenya"
          ],
          [
           "Lesotho"
          ],
          [
           "Myanmar"
          ],
          [
           "Mauritania"
          ],
          [
           "Nepal"
          ],
          [
           "Pakistan"
          ],
          [
           "Sao Tome and Principe"
          ],
          [
           "Pakistan"
          ],
          [
           "Eswatini"
          ],
          [
           "Bangladesh"
          ],
          [
           "Myanmar"
          ],
          [
           "Sao Tome and Principe"
          ],
          [
           "Eswatini"
          ],
          [
           "Samoa"
          ],
          [
           "Zambia"
          ],
          [
           "Zimbabwe"
          ],
          [
           "Bangladesh"
          ],
          [
           "Egypt, Arab Rep."
          ],
          [
           "Micronesia, Fed. Sts."
          ],
          [
           "Haiti"
          ],
          [
           "Indonesia"
          ],
          [
           "India"
          ],
          [
           "Iran, Islamic Rep."
          ],
          [
           "Kenya"
          ],
          [
           "Lesotho"
          ],
          [
           "Mauritania"
          ],
          [
           "Samoa"
          ],
          [
           "Nepal"
          ],
          [
           "Pakistan"
          ],
          [
           "Sao Tome and Principe"
          ],
          [
           "Eswatini"
          ],
          [
           "Samoa"
          ],
          [
           "Zambia"
          ],
          [
           "Zimbabwe"
          ],
          [
           "Bangladesh"
          ],
          [
           "Egypt, Arab Rep."
          ],
          [
           "Micronesia, Fed. Sts."
          ],
          [
           "Haiti"
          ],
          [
           "Indonesia"
          ],
          [
           "India"
          ],
          [
           "Iran, Islamic Rep."
          ],
          [
           "Pakistan"
          ],
          [
           "Nepal"
          ],
          [
           "Mauritania"
          ],
          [
           "Myanmar"
          ],
          [
           "Zambia"
          ],
          [
           "Zimbabwe"
          ],
          [
           "Bangladesh"
          ],
          [
           "Egypt, Arab Rep."
          ],
          [
           "Micronesia, Fed. Sts."
          ],
          [
           "Haiti"
          ],
          [
           "Indonesia"
          ],
          [
           "India"
          ],
          [
           "Iran, Islamic Rep."
          ],
          [
           "Kenya"
          ],
          [
           "Lesotho"
          ],
          [
           "Myanmar"
          ],
          [
           "Mauritania"
          ],
          [
           "Nepal"
          ],
          [
           "Pakistan"
          ],
          [
           "Sao Tome and Principe"
          ],
          [
           "Eswatini"
          ],
          [
           "Samoa"
          ],
          [
           "Zambia"
          ],
          [
           "Zimbabwe"
          ],
          [
           "Bangladesh"
          ],
          [
           "Egypt, Arab Rep."
          ],
          [
           "Micronesia, Fed. Sts."
          ],
          [
           "Haiti"
          ],
          [
           "Indonesia"
          ],
          [
           "India"
          ],
          [
           "Iran, Islamic Rep."
          ],
          [
           "Kenya"
          ],
          [
           "Lesotho"
          ],
          [
           "Egypt, Arab Rep."
          ],
          [
           "India"
          ],
          [
           "Samoa"
          ],
          [
           "Zimbabwe"
          ],
          [
           "Lesotho"
          ],
          [
           "Nepal"
          ],
          [
           "Myanmar"
          ],
          [
           "Mauritania"
          ],
          [
           "Pakistan"
          ],
          [
           "Nepal"
          ],
          [
           "Mauritania"
          ],
          [
           "Myanmar"
          ],
          [
           "Pakistan"
          ],
          [
           "Sao Tome and Principe"
          ],
          [
           "Egypt, Arab Rep."
          ],
          [
           "Lesotho"
          ],
          [
           "Bangladesh"
          ],
          [
           "Eswatini"
          ],
          [
           "Sao Tome and Principe"
          ],
          [
           "Eswatini"
          ],
          [
           "Kenya"
          ],
          [
           "Zimbabwe"
          ],
          [
           "Zambia"
          ],
          [
           "Kenya"
          ],
          [
           "Iran, Islamic Rep."
          ],
          [
           "Kenya"
          ],
          [
           "India"
          ],
          [
           "Iran, Islamic Rep."
          ],
          [
           "Samoa"
          ],
          [
           "Zambia"
          ],
          [
           "Zimbabwe"
          ],
          [
           "Eswatini"
          ],
          [
           "India"
          ],
          [
           "Myanmar"
          ],
          [
           "Bangladesh"
          ],
          [
           "Egypt, Arab Rep."
          ],
          [
           "Indonesia"
          ],
          [
           "Mauritania"
          ],
          [
           "Nepal"
          ],
          [
           "Micronesia, Fed. Sts."
          ],
          [
           "Haiti"
          ],
          [
           "Haiti"
          ],
          [
           "Micronesia, Fed. Sts."
          ],
          [
           "Sao Tome and Principe"
          ],
          [
           "Indonesia"
          ],
          [
           "Pakistan"
          ],
          [
           "Samoa"
          ],
          [
           "Lesotho"
          ],
          [
           "Mauritania"
          ],
          [
           "Egypt, Arab Rep."
          ],
          [
           "Iran, Islamic Rep."
          ],
          [
           "Zambia"
          ],
          [
           "Myanmar"
          ],
          [
           "Lesotho"
          ],
          [
           "Kenya"
          ],
          [
           "Samoa"
          ],
          [
           "Lesotho"
          ],
          [
           "Myanmar"
          ],
          [
           "Micronesia, Fed. Sts."
          ],
          [
           "Bangladesh"
          ],
          [
           "Mauritania"
          ],
          [
           "Nepal"
          ],
          [
           "Pakistan"
          ],
          [
           "Sao Tome and Principe"
          ],
          [
           "Kenya"
          ],
          [
           "Iran, Islamic Rep."
          ],
          [
           "Zambia"
          ],
          [
           "Eswatini"
          ],
          [
           "Haiti"
          ],
          [
           "Zimbabwe"
          ],
          [
           "Zimbabwe"
          ],
          [
           "Eswatini"
          ],
          [
           "Sao Tome and Principe"
          ],
          [
           "Egypt, Arab Rep."
          ],
          [
           "Iran, Islamic Rep."
          ],
          [
           "Micronesia, Fed. Sts."
          ],
          [
           "India"
          ],
          [
           "Indonesia"
          ],
          [
           "Pakistan"
          ],
          [
           "Zambia"
          ],
          [
           "India"
          ],
          [
           "Indonesia"
          ],
          [
           "Haiti"
          ],
          [
           "Nepal"
          ],
          [
           "Samoa"
          ],
          [
           "Bangladesh"
          ]
         ],
         "hovertemplate": "IncomeGroup=Lower middle income<br>year=%{x}<br>value_=%{y}<br>Country Name=%{customdata[0]}<extra></extra>",
         "legendgroup": "Lower middle income",
         "marker": {
          "color": "#EF553B",
          "pattern": {
           "shape": ""
          }
         },
         "name": "Lower middle income",
         "offsetgroup": "Lower middle income",
         "orientation": "v",
         "showlegend": true,
         "textposition": "auto",
         "type": "bar",
         "x": [
          2010,
          2010,
          2010,
          2009,
          2010,
          2010,
          2009,
          2010,
          2009,
          2009,
          2009,
          2010,
          2009,
          2010,
          2009,
          2009,
          2010,
          2010,
          2010,
          2009,
          2002,
          2010,
          2017,
          2016,
          2016,
          2016,
          2016,
          2016,
          2016,
          2016,
          2017,
          2017,
          2010,
          2017,
          2017,
          2017,
          2017,
          2017,
          2017,
          2017,
          2017,
          2016,
          2016,
          2016,
          2016,
          2015,
          2015,
          2015,
          2015,
          2015,
          2015,
          2015,
          2015,
          2015,
          2015,
          2016,
          2016,
          2016,
          2016,
          2016,
          2016,
          2016,
          2017,
          2017,
          2017,
          2018,
          2019,
          2019,
          2019,
          2019,
          2019,
          2019,
          2019,
          2019,
          2019,
          2019,
          2019,
          2019,
          2019,
          2019,
          2019,
          2019,
          2019,
          2018,
          2018,
          2017,
          2018,
          2017,
          2017,
          2017,
          2018,
          2018,
          2018,
          2018,
          2018,
          2018,
          2018,
          2018,
          2018,
          2018,
          2018,
          2018,
          2018,
          2018,
          2015,
          2015,
          2015,
          2011,
          2011,
          2011,
          2012,
          2012,
          2012,
          2012,
          2012,
          2012,
          2012,
          2012,
          2012,
          2012,
          2012,
          2012,
          2012,
          2012,
          2012,
          2011,
          2011,
          2012,
          2011,
          2010,
          2010,
          2010,
          2010,
          2010,
          2011,
          2011,
          2011,
          2011,
          2011,
          2011,
          2011,
          2011,
          2011,
          2011,
          2011,
          2011,
          2012,
          2012,
          2015,
          2014,
          2014,
          2014,
          2014,
          2014,
          2014,
          2014,
          2014,
          2014,
          2014,
          2014,
          2014,
          2014,
          2014,
          2015,
          2015,
          2015,
          2015,
          2014,
          2014,
          2013,
          2014,
          2013,
          2013,
          2013,
          2013,
          2013,
          2013,
          2013,
          2013,
          2013,
          2013,
          2013,
          2013,
          2013,
          2013,
          2013,
          2013,
          2013,
          2014,
          2019,
          2009,
          1992,
          1992,
          1992,
          1992,
          1992,
          1992,
          1992,
          1991,
          1997,
          1991,
          1991,
          1991,
          1991,
          1991,
          1991,
          1992,
          1992,
          1992,
          1992,
          1992,
          1992,
          1992,
          1992,
          1992,
          1992,
          1992,
          1993,
          1993,
          1993,
          1993,
          1993,
          1993,
          1991,
          1991,
          1991,
          1990,
          1989,
          1989,
          1989,
          1989,
          1989,
          1990,
          1990,
          1990,
          1990,
          1990,
          1990,
          1990,
          1990,
          1990,
          1990,
          1991,
          1990,
          1990,
          1990,
          1990,
          1990,
          1990,
          1990,
          1991,
          1991,
          1991,
          1991,
          1991,
          1991,
          1991,
          1993,
          1993,
          1993,
          1996,
          1995,
          1995,
          2009,
          1995,
          1995,
          1995,
          1995,
          1995,
          1995,
          1995,
          1996,
          1996,
          1996,
          1996,
          1996,
          1995,
          1996,
          1996,
          1996,
          1996,
          1996,
          1996,
          1996,
          1996,
          1996,
          1996,
          1996,
          1996,
          1997,
          1997,
          1995,
          1995,
          1993,
          1994,
          1993,
          1993,
          1993,
          1993,
          1993,
          1993,
          1993,
          1993,
          1994,
          1994,
          1994,
          1994,
          1994,
          1994,
          1994,
          1995,
          1994,
          1994,
          1994,
          1994,
          1994,
          1994,
          1994,
          1994,
          1994,
          1994,
          1995,
          1995,
          1995,
          1995,
          1989,
          1989,
          1989,
          1984,
          1983,
          1983,
          1983,
          1983,
          1983,
          1984,
          1984,
          1984,
          1984,
          1984,
          1984,
          1984,
          1984,
          1984,
          1984,
          1983,
          1984,
          1984,
          1984,
          1984,
          1985,
          1985,
          1985,
          1985,
          1985,
          1985,
          1985,
          1985,
          1985,
          1985,
          1983,
          1983,
          1985,
          1982,
          1980,
          1980,
          1980,
          1980,
          1981,
          1981,
          1981,
          1981,
          1981,
          1981,
          1981,
          1981,
          1981,
          1982,
          1982,
          1983,
          1982,
          1982,
          1982,
          1982,
          1982,
          1982,
          1982,
          1982,
          1982,
          1983,
          1983,
          1983,
          1983,
          1983,
          1985,
          1985,
          1989,
          1988,
          1987,
          1987,
          1987,
          1988,
          1988,
          1988,
          1988,
          1988,
          1988,
          1988,
          1988,
          1988,
          1988,
          1988,
          1988,
          1987,
          1988,
          1988,
          1988,
          1988,
          1988,
          1989,
          1989,
          1989,
          1989,
          1989,
          1989,
          1989,
          1989,
          1989,
          1987,
          1987,
          1985,
          1986,
          1985,
          1985,
          1986,
          1986,
          1986,
          1986,
          1986,
          1986,
          1986,
          1986,
          1986,
          1986,
          1986,
          1986,
          1986,
          1987,
          1986,
          1986,
          1986,
          1987,
          1987,
          1987,
          1987,
          1987,
          1987,
          1987,
          1987,
          1987,
          1987,
          1987,
          1997,
          1995,
          1997,
          2004,
          2004,
          2004,
          2004,
          2004,
          2004,
          2004,
          2004,
          2004,
          2004,
          2004,
          2004,
          2004,
          2004,
          2004,
          2004,
          2005,
          2004,
          2004,
          2005,
          2005,
          2005,
          2005,
          2005,
          2005,
          2005,
          2005,
          2005,
          2005,
          2005,
          2005,
          2003,
          2003,
          2003,
          2003,
          2002,
          2002,
          2002,
          2002,
          2002,
          2002,
          2002,
          2002,
          2002,
          2002,
          2002,
          2002,
          2002,
          2002,
          2002,
          2003,
          2003,
          2003,
          2003,
          2003,
          1997,
          2003,
          2003,
          2003,
          2003,
          2003,
          2003,
          2003,
          2003,
          2005,
          2005,
          2002,
          2008,
          2007,
          2007,
          2007,
          2007,
          2007,
          2008,
          2008,
          2008,
          2008,
          2008,
          2008,
          2008,
          2008,
          2008,
          2008,
          2005,
          2008,
          2008,
          2008,
          2008,
          2008,
          2008,
          2008,
          2009,
          2009,
          2009,
          2009,
          2009,
          2009,
          2009,
          2007,
          2007,
          2007,
          2007,
          2005,
          2005,
          2006,
          2006,
          2006,
          2006,
          2006,
          2006,
          2006,
          2006,
          2006,
          2006,
          2006,
          2006,
          2006,
          2006,
          2006,
          2006,
          2006,
          2006,
          2007,
          2007,
          2007,
          2007,
          2007,
          2007,
          2007,
          2007,
          2007,
          2002,
          2003,
          1997,
          2001,
          2000,
          1999,
          2000,
          2000,
          1998,
          2000,
          1999,
          1999,
          2000,
          2000,
          1998,
          1999,
          1998,
          2000,
          1998,
          1998,
          1999,
          1997,
          1997,
          2000,
          2000,
          1998,
          2000,
          1998,
          1999,
          1999,
          1999,
          1999,
          1998,
          1998,
          2000,
          2000,
          1998,
          1998,
          1998,
          2000,
          2000,
          1998,
          1998,
          1999,
          2000,
          1999,
          2000,
          1998,
          1997,
          1999,
          2001,
          2000,
          1997,
          1997,
          2001,
          2001,
          2001,
          2001,
          1999,
          1999,
          2001,
          2001,
          2001,
          2001,
          1997,
          1997,
          2001,
          2001,
          2001,
          1998,
          2000,
          1997,
          1997,
          2001,
          1999,
          2001,
          2001,
          2001,
          1997,
          1998,
          1999,
          1999,
          1999,
          1997,
          1998,
          2001
         ],
         "xaxis": "x",
         "y": [
          67,
          88,
          80,
          76,
          96,
          99,
          45,
          86,
          90,
          56,
          59,
          64,
          90,
          88,
          87,
          94,
          78,
          88,
          82,
          90,
          56,
          86,
          94,
          83,
          75,
          93,
          89,
          68,
          93,
          95,
          97,
          76,
          57,
          69,
          90,
          90,
          99,
          89,
          90,
          83,
          78,
          72,
          91,
          90,
          96,
          93,
          84,
          70,
          85,
          75,
          93,
          89,
          69,
          90,
          86,
          97,
          95,
          70,
          69,
          88,
          88,
          99,
          90,
          76,
          90,
          94,
          97,
          95,
          78,
          65,
          88,
          95,
          99,
          89,
          90,
          84,
          78,
          92,
          75,
          95,
          81,
          87,
          93,
          88,
          31,
          89,
          85,
          58,
          96,
          90,
          97,
          94,
          73,
          69,
          89,
          93,
          99,
          89,
          90,
          93,
          78,
          91,
          73,
          95,
          96,
          99,
          87,
          87,
          83,
          92,
          88,
          93,
          91,
          66,
          82,
          83,
          98,
          93,
          91,
          84,
          75,
          86,
          63,
          92,
          88,
          59,
          91,
          82,
          59,
          92,
          94,
          56,
          96,
          90,
          93,
          96,
          92,
          65,
          80,
          84,
          99,
          87,
          92,
          88,
          67,
          88,
          76,
          97,
          87,
          83,
          85,
          99,
          95,
          92,
          88,
          75,
          88,
          71,
          92,
          97,
          82,
          85,
          92,
          97,
          92,
          74,
          69,
          69,
          93,
          91,
          94,
          96,
          91,
          68,
          87,
          83,
          98,
          94,
          90,
          86,
          80,
          88,
          68,
          91,
          96,
          90,
          80,
          93,
          86,
          85,
          84,
          69,
          96,
          51,
          65,
          39,
          78,
          89,
          87,
          52,
          80,
          77,
          80,
          77,
          51,
          57,
          84,
          81,
          68,
          43,
          58,
          52,
          52,
          85,
          90,
          85,
          86,
          74,
          89,
          80,
          44,
          68,
          59,
          32,
          67,
          81,
          68,
          45,
          85,
          82,
          80,
          87,
          65,
          86,
          81,
          31,
          58,
          56,
          85,
          78,
          80,
          38,
          81,
          57,
          50,
          71,
          85,
          89,
          90,
          87,
          68,
          89,
          76,
          35,
          61,
          43,
          84,
          96,
          84,
          82,
          79,
          83,
          82,
          88,
          56,
          47,
          74,
          94,
          96,
          86,
          87,
          69,
          92,
          82,
          50,
          66,
          95,
          99,
          81,
          82,
          86,
          66,
          65,
          50,
          57,
          82,
          96,
          86,
          88,
          72,
          92,
          83,
          72,
          71,
          97,
          49,
          58,
          52,
          57,
          85,
          92,
          91,
          86,
          78,
          89,
          83,
          48,
          66,
          67,
          84,
          63,
          82,
          77,
          53,
          58,
          53,
          65,
          94,
          94,
          96,
          87,
          79,
          89,
          90,
          49,
          48,
          57,
          42,
          33,
          40,
          46,
          78,
          56,
          60,
          1,
          47,
          8,
          13,
          38,
          55,
          63,
          42,
          24,
          48,
          11,
          50,
          83,
          57,
          62,
          1,
          74,
          21,
          26,
          1,
          62,
          63,
          73,
          41,
          34,
          19,
          43,
          35,
          41,
          41,
          39,
          49,
          1,
          41,
          48,
          49,
          45,
          2,
          2,
          25,
          30,
          56,
          1,
          3,
          53,
          55,
          51,
          44,
          2,
          3,
          32,
          38,
          59,
          58,
          1,
          41,
          6,
          6,
          38,
          38,
          54,
          50,
          58,
          78,
          80,
          88,
          13,
          85,
          84,
          59,
          51,
          32,
          83,
          72,
          79,
          32,
          45,
          46,
          69,
          69,
          85,
          75,
          80,
          88,
          53,
          86,
          94,
          31,
          54,
          42,
          79,
          75,
          79,
          65,
          43,
          81,
          58,
          58,
          78,
          3,
          78,
          26,
          45,
          10,
          55,
          65,
          76,
          5,
          40,
          37,
          41,
          74,
          37,
          91,
          58,
          83,
          6,
          76,
          69,
          23,
          48,
          24,
          55,
          69,
          78,
          17,
          27,
          74,
          67,
          77,
          93,
          81,
          97,
          85,
          57,
          76,
          64,
          96,
          73,
          84,
          86,
          73,
          73,
          63,
          91,
          25,
          88,
          85,
          66,
          88,
          98,
          96,
          58,
          77,
          68,
          94,
          69,
          83,
          84,
          65,
          74,
          68,
          84,
          62,
          93,
          88,
          56,
          72,
          99,
          78,
          78,
          77,
          87,
          71,
          60,
          85,
          93,
          99,
          84,
          70,
          76,
          98,
          91,
          57,
          74,
          55,
          99,
          72,
          85,
          80,
          84,
          75,
          62,
          87,
          61,
          93,
          75,
          82,
          86,
          94,
          63,
          93,
          69,
          92,
          92,
          86,
          62,
          76,
          72,
          98,
          90,
          80,
          65,
          57,
          79,
          56,
          93,
          94,
          44,
          87,
          70,
          93,
          95,
          86,
          63,
          74,
          78,
          99,
          57,
          81,
          67,
          81,
          85,
          67,
          83,
          98,
          83,
          59,
          79,
          69,
          99,
          77,
          82,
          78,
          62,
          85,
          59,
          85,
          93,
          54,
          85,
          68,
          89,
          97,
          92,
          60,
          76,
          70,
          97,
          80,
          81,
          97,
          60,
          99,
          73,
          74,
          81,
          84,
          46,
          54,
          71,
          62,
          86,
          57,
          69,
          98,
          77,
          71,
          92,
          59,
          92,
          76,
          84,
          86,
          78,
          99,
          90,
          56,
          99,
          91,
          85,
          77,
          92,
          53,
          89,
          74,
          98,
          77,
          62,
          67,
          85,
          55,
          53,
          82,
          64,
          76,
          56,
          93,
          79,
          64,
          96,
          96,
          85,
          88,
          80,
          77,
          92,
          70,
          73,
          79,
          71,
          58,
          71,
          59,
          75,
          79,
          95,
          84,
          93,
          55,
          79,
          75,
          92,
          60,
          97,
          99,
          84,
          57,
          76,
          52,
          86,
          56,
          77,
          54,
          73,
          99,
          77
         ],
         "yaxis": "y"
        },
        {
         "alignmentgroup": "True",
         "customdata": [
          [
           "Tonga"
          ],
          [
           "Thailand"
          ],
          [
           "China"
          ],
          [
           "Thailand"
          ],
          [
           "Thailand"
          ],
          [
           "China"
          ],
          [
           "Marshall Islands"
          ],
          [
           "Belarus"
          ],
          [
           "China"
          ],
          [
           "South Africa"
          ],
          [
           "Belarus"
          ],
          [
           "Belarus"
          ],
          [
           "Tonga"
          ],
          [
           "Marshall Islands"
          ],
          [
           "Belarus"
          ],
          [
           "Moldova"
          ],
          [
           "China"
          ],
          [
           "China"
          ],
          [
           "Tonga"
          ],
          [
           "Namibia"
          ],
          [
           "Tonga"
          ],
          [
           "Serbia"
          ],
          [
           "Namibia"
          ],
          [
           "Montenegro"
          ],
          [
           "Namibia"
          ],
          [
           "Belarus"
          ],
          [
           "Georgia"
          ],
          [
           "Thailand"
          ],
          [
           "Serbia"
          ],
          [
           "Tonga"
          ],
          [
           "South Africa"
          ],
          [
           "South Africa"
          ],
          [
           "Thailand"
          ],
          [
           "China"
          ],
          [
           "Belarus"
          ],
          [
           "Georgia"
          ],
          [
           "South Africa"
          ],
          [
           "Thailand"
          ],
          [
           "China"
          ],
          [
           "China"
          ],
          [
           "Thailand"
          ],
          [
           "Serbia"
          ],
          [
           "Tonga"
          ],
          [
           "Tonga"
          ],
          [
           "Georgia"
          ],
          [
           "South Africa"
          ],
          [
           "China"
          ],
          [
           "Belarus"
          ],
          [
           "Tonga"
          ],
          [
           "South Africa"
          ],
          [
           "Belarus"
          ],
          [
           "Moldova"
          ],
          [
           "Thailand"
          ],
          [
           "South Africa"
          ],
          [
           "Belarus"
          ],
          [
           "Marshall Islands"
          ],
          [
           "Belarus"
          ],
          [
           "Thailand"
          ],
          [
           "Tonga"
          ],
          [
           "Thailand"
          ],
          [
           "Tonga"
          ],
          [
           "China"
          ],
          [
           "Thailand"
          ],
          [
           "Tonga"
          ],
          [
           "Montenegro"
          ],
          [
           "Serbia"
          ],
          [
           "Tonga"
          ],
          [
           "Serbia"
          ],
          [
           "South Africa"
          ],
          [
           "Marshall Islands"
          ],
          [
           "South Africa"
          ],
          [
           "Namibia"
          ],
          [
           "Marshall Islands"
          ],
          [
           "Moldova"
          ],
          [
           "Serbia"
          ],
          [
           "Namibia"
          ],
          [
           "Belarus"
          ],
          [
           "South Africa"
          ],
          [
           "Serbia"
          ],
          [
           "China"
          ],
          [
           "Moldova"
          ],
          [
           "Marshall Islands"
          ],
          [
           "Moldova"
          ],
          [
           "Montenegro"
          ],
          [
           "South Africa"
          ],
          [
           "Moldova"
          ],
          [
           "Montenegro"
          ],
          [
           "Tonga"
          ],
          [
           "China"
          ],
          [
           "Thailand"
          ],
          [
           "Marshall Islands"
          ],
          [
           "Namibia"
          ],
          [
           "Georgia"
          ],
          [
           "Belarus"
          ],
          [
           "Georgia"
          ],
          [
           "Namibia"
          ],
          [
           "Marshall Islands"
          ],
          [
           "Serbia"
          ],
          [
           "Moldova"
          ],
          [
           "China"
          ],
          [
           "Belarus"
          ],
          [
           "South Africa"
          ],
          [
           "Montenegro"
          ],
          [
           "China"
          ],
          [
           "Marshall Islands"
          ],
          [
           "Tonga"
          ],
          [
           "Namibia"
          ],
          [
           "Moldova"
          ],
          [
           "Marshall Islands"
          ],
          [
           "Namibia"
          ],
          [
           "South Africa"
          ],
          [
           "Georgia"
          ],
          [
           "Marshall Islands"
          ],
          [
           "Moldova"
          ],
          [
           "Namibia"
          ],
          [
           "Belarus"
          ],
          [
           "Namibia"
          ],
          [
           "Moldova"
          ],
          [
           "South Africa"
          ],
          [
           "Tonga"
          ],
          [
           "Serbia"
          ],
          [
           "South Africa"
          ],
          [
           "Georgia"
          ],
          [
           "Moldova"
          ],
          [
           "China"
          ],
          [
           "Serbia"
          ],
          [
           "Serbia"
          ],
          [
           "Thailand"
          ],
          [
           "Georgia"
          ],
          [
           "China"
          ],
          [
           "Georgia"
          ],
          [
           "Marshall Islands"
          ],
          [
           "Tonga"
          ],
          [
           "Moldova"
          ],
          [
           "Thailand"
          ],
          [
           "China"
          ],
          [
           "Tonga"
          ],
          [
           "Belarus"
          ],
          [
           "Georgia"
          ],
          [
           "Montenegro"
          ],
          [
           "Belarus"
          ],
          [
           "Serbia"
          ],
          [
           "Georgia"
          ],
          [
           "South Africa"
          ],
          [
           "Georgia"
          ],
          [
           "Tonga"
          ],
          [
           "Thailand"
          ],
          [
           "China"
          ],
          [
           "South Africa"
          ],
          [
           "Tonga"
          ],
          [
           "Serbia"
          ],
          [
           "China"
          ],
          [
           "Tonga"
          ],
          [
           "Thailand"
          ],
          [
           "Belarus"
          ],
          [
           "China"
          ],
          [
           "China"
          ],
          [
           "Serbia"
          ],
          [
           "Marshall Islands"
          ],
          [
           "Namibia"
          ],
          [
           "Montenegro"
          ],
          [
           "Namibia"
          ],
          [
           "Georgia"
          ],
          [
           "Marshall Islands"
          ],
          [
           "Moldova"
          ],
          [
           "Marshall Islands"
          ],
          [
           "Georgia"
          ],
          [
           "Moldova"
          ],
          [
           "Serbia"
          ],
          [
           "Marshall Islands"
          ],
          [
           "China"
          ],
          [
           "Georgia"
          ],
          [
           "Belarus"
          ],
          [
           "South Africa"
          ],
          [
           "Thailand"
          ],
          [
           "Thailand"
          ],
          [
           "Georgia"
          ],
          [
           "Marshall Islands"
          ],
          [
           "Moldova"
          ],
          [
           "Tonga"
          ],
          [
           "Tonga"
          ],
          [
           "Tonga"
          ],
          [
           "Georgia"
          ],
          [
           "Thailand"
          ],
          [
           "Namibia"
          ],
          [
           "South Africa"
          ],
          [
           "Serbia"
          ],
          [
           "Thailand"
          ],
          [
           "Tonga"
          ],
          [
           "Georgia"
          ],
          [
           "Serbia"
          ],
          [
           "Thailand"
          ],
          [
           "Tonga"
          ],
          [
           "South Africa"
          ],
          [
           "China"
          ],
          [
           "South Africa"
          ],
          [
           "Belarus"
          ],
          [
           "Belarus"
          ],
          [
           "Georgia"
          ],
          [
           "Moldova"
          ],
          [
           "Marshall Islands"
          ],
          [
           "China"
          ],
          [
           "Moldova"
          ],
          [
           "South Africa"
          ],
          [
           "Marshall Islands"
          ],
          [
           "Moldova"
          ],
          [
           "Moldova"
          ],
          [
           "Marshall Islands"
          ],
          [
           "Tonga"
          ],
          [
           "South Africa"
          ],
          [
           "Thailand"
          ],
          [
           "Tonga"
          ],
          [
           "Montenegro"
          ],
          [
           "Marshall Islands"
          ],
          [
           "Tonga"
          ],
          [
           "China"
          ],
          [
           "South Africa"
          ],
          [
           "Marshall Islands"
          ],
          [
           "Thailand"
          ],
          [
           "Georgia"
          ],
          [
           "Serbia"
          ],
          [
           "Belarus"
          ],
          [
           "Thailand"
          ],
          [
           "Serbia"
          ],
          [
           "Namibia"
          ],
          [
           "South Africa"
          ],
          [
           "Namibia"
          ],
          [
           "Thailand"
          ],
          [
           "Belarus"
          ],
          [
           "Tonga"
          ],
          [
           "China"
          ],
          [
           "South Africa"
          ],
          [
           "Namibia"
          ],
          [
           "Moldova"
          ],
          [
           "South Africa"
          ],
          [
           "Marshall Islands"
          ],
          [
           "Tonga"
          ],
          [
           "Namibia"
          ],
          [
           "Thailand"
          ],
          [
           "Thailand"
          ],
          [
           "Montenegro"
          ],
          [
           "Serbia"
          ],
          [
           "Namibia"
          ],
          [
           "China"
          ],
          [
           "Tonga"
          ],
          [
           "Georgia"
          ],
          [
           "Montenegro"
          ],
          [
           "Marshall Islands"
          ],
          [
           "Namibia"
          ],
          [
           "Moldova"
          ],
          [
           "Tonga"
          ],
          [
           "Namibia"
          ],
          [
           "China"
          ],
          [
           "South Africa"
          ],
          [
           "Namibia"
          ],
          [
           "South Africa"
          ],
          [
           "China"
          ],
          [
           "South Africa"
          ],
          [
           "South Africa"
          ],
          [
           "Namibia"
          ],
          [
           "Thailand"
          ],
          [
           "Namibia"
          ],
          [
           "Marshall Islands"
          ],
          [
           "South Africa"
          ],
          [
           "Serbia"
          ],
          [
           "Belarus"
          ],
          [
           "Marshall Islands"
          ],
          [
           "China"
          ],
          [
           "Georgia"
          ],
          [
           "Montenegro"
          ],
          [
           "Moldova"
          ],
          [
           "Belarus"
          ],
          [
           "Belarus"
          ],
          [
           "China"
          ],
          [
           "Tonga"
          ],
          [
           "Namibia"
          ],
          [
           "Namibia"
          ],
          [
           "Montenegro"
          ],
          [
           "Marshall Islands"
          ],
          [
           "Moldova"
          ],
          [
           "Tonga"
          ],
          [
           "Thailand"
          ],
          [
           "Georgia"
          ],
          [
           "Georgia"
          ],
          [
           "Marshall Islands"
          ],
          [
           "Serbia"
          ],
          [
           "Moldova"
          ],
          [
           "Thailand"
          ],
          [
           "China"
          ],
          [
           "Georgia"
          ],
          [
           "Georgia"
          ],
          [
           "South Africa"
          ],
          [
           "Thailand"
          ],
          [
           "China"
          ],
          [
           "Tonga"
          ],
          [
           "Serbia"
          ],
          [
           "Belarus"
          ],
          [
           "Thailand"
          ],
          [
           "Serbia"
          ],
          [
           "China"
          ],
          [
           "Belarus"
          ],
          [
           "China"
          ],
          [
           "China"
          ],
          [
           "Thailand"
          ],
          [
           "Moldova"
          ],
          [
           "Marshall Islands"
          ],
          [
           "South Africa"
          ],
          [
           "Moldova"
          ],
          [
           "Serbia"
          ],
          [
           "Tonga"
          ],
          [
           "Thailand"
          ],
          [
           "Namibia"
          ],
          [
           "Marshall Islands"
          ],
          [
           "Serbia"
          ],
          [
           "South Africa"
          ],
          [
           "South Africa"
          ],
          [
           "China"
          ],
          [
           "South Africa"
          ],
          [
           "Tonga"
          ],
          [
           "Marshall Islands"
          ],
          [
           "Moldova"
          ],
          [
           "Marshall Islands"
          ],
          [
           "Serbia"
          ],
          [
           "Georgia"
          ],
          [
           "Namibia"
          ],
          [
           "Belarus"
          ],
          [
           "Tonga"
          ],
          [
           "Marshall Islands"
          ],
          [
           "Moldova"
          ],
          [
           "Montenegro"
          ],
          [
           "Thailand"
          ],
          [
           "Montenegro"
          ],
          [
           "Namibia"
          ],
          [
           "Thailand"
          ],
          [
           "Georgia"
          ],
          [
           "Serbia"
          ],
          [
           "Tonga"
          ]
         ],
         "hovertemplate": "IncomeGroup=Upper middle income<br>year=%{x}<br>value_=%{y}<br>Country Name=%{customdata[0]}<extra></extra>",
         "legendgroup": "Upper middle income",
         "marker": {
          "color": "#00cc96",
          "pattern": {
           "shape": ""
          }
         },
         "name": "Upper middle income",
         "offsetgroup": "Upper middle income",
         "orientation": "v",
         "showlegend": true,
         "textposition": "auto",
         "type": "bar",
         "x": [
          2014,
          2018,
          2003,
          1994,
          2014,
          1984,
          2010,
          2003,
          1992,
          2011,
          2004,
          1992,
          1994,
          2003,
          2019,
          2003,
          1985,
          2004,
          2018,
          2010,
          2007,
          2018,
          2011,
          2011,
          2003,
          2016,
          1992,
          1984,
          2003,
          1984,
          2014,
          2006,
          2007,
          2016,
          1995,
          2003,
          2018,
          2011,
          2010,
          2009,
          2003,
          2011,
          2003,
          2006,
          1995,
          1984,
          1995,
          2015,
          2011,
          2003,
          2009,
          2010,
          2006,
          1994,
          1998,
          2011,
          1993,
          2010,
          2005,
          2005,
          2010,
          1993,
          1993,
          1993,
          2010,
          2005,
          1981,
          2019,
          2010,
          2009,
          1993,
          2005,
          2005,
          2005,
          2015,
          2019,
          1994,
          2005,
          1993,
          2019,
          1993,
          2006,
          2006,
          2015,
          2019,
          2009,
          2006,
          2019,
          2008,
          2019,
          1993,
          2006,
          2006,
          2008,
          1993,
          1993,
          2015,
          2010,
          2015,
          2006,
          2006,
          1992,
          2019,
          1994,
          1992,
          2015,
          1992,
          1994,
          1994,
          2004,
          2015,
          2019,
          2004,
          2004,
          2009,
          2011,
          1994,
          1992,
          2007,
          1983,
          1994,
          1983,
          2004,
          2011,
          2015,
          2004,
          2006,
          2015,
          2009,
          2011,
          2005,
          2019,
          1992,
          2019,
          1992,
          2005,
          1982,
          2005,
          1994,
          2009,
          2010,
          1992,
          2015,
          2004,
          2011,
          2004,
          2004,
          1983,
          2002,
          1985,
          1996,
          2013,
          1999,
          1999,
          1997,
          1988,
          1997,
          1999,
          1990,
          2017,
          2017,
          1999,
          2013,
          1999,
          1999,
          2017,
          1997,
          2017,
          2016,
          1988,
          2014,
          1999,
          2014,
          1999,
          2009,
          2012,
          2014,
          2000,
          2000,
          2002,
          1990,
          2012,
          2007,
          1990,
          2016,
          2012,
          2008,
          1996,
          1996,
          2000,
          2017,
          1987,
          1987,
          1996,
          2000,
          1987,
          2000,
          2013,
          2010,
          1997,
          1997,
          1999,
          2007,
          1989,
          1998,
          1998,
          2008,
          2008,
          1989,
          2013,
          1997,
          1997,
          2007,
          2007,
          2013,
          2017,
          1997,
          1989,
          2013,
          1998,
          2013,
          2017,
          1989,
          1997,
          1998,
          2016,
          1997,
          1988,
          1999,
          1988,
          1990,
          1988,
          2008,
          2013,
          1998,
          2013,
          1998,
          2013,
          1998,
          2016,
          2013,
          1998,
          2007,
          1989,
          2016,
          2017,
          2008,
          1987,
          2015,
          2012,
          2001,
          1991,
          1986,
          1995,
          2018,
          2009,
          2007,
          2001,
          1991,
          2014,
          2001,
          2001,
          1991,
          2008,
          2001,
          1996,
          1995,
          1996,
          2018,
          2014,
          1995,
          2007,
          2002,
          2002,
          1995,
          2002,
          1995,
          2018,
          2002,
          2002,
          1991,
          1991,
          2008,
          2016,
          2018,
          1995,
          2018,
          1985,
          1998,
          2002,
          2012,
          1985,
          1995,
          2012,
          2008,
          2014,
          2018,
          2002,
          2007,
          2001,
          2001,
          1991,
          1987,
          2017,
          1996,
          1996,
          2000,
          2016,
          2012,
          2000,
          2000,
          1996,
          2016,
          2000,
          2017,
          1986,
          2018,
          1990,
          1986,
          2001,
          2001,
          2012,
          2002,
          1996,
          2000,
          2012,
          2009,
          2014,
          2014,
          2012,
          2008,
          2016,
          2012,
          1986,
          2001,
          2009,
          2017
         ],
         "xaxis": "x",
         "y": [
          99,
          96,
          85,
          86,
          99,
          84,
          97,
          99,
          87,
          77,
          99,
          94,
          86,
          90,
          98,
          96,
          88,
          86,
          99,
          75,
          99,
          92,
          74,
          91,
          70,
          98,
          16,
          5,
          87,
          43,
          84,
          69,
          96,
          99,
          93,
          76,
          70,
          98,
          99,
          99,
          96,
          93,
          99,
          99,
          61,
          70,
          80,
          99,
          99,
          62,
          99,
          97,
          96,
          76,
          98,
          88,
          96,
          98,
          99,
          96,
          99,
          81,
          80,
          87,
          90,
          96,
          9,
          87,
          72,
          78,
          85,
          73,
          86,
          97,
          86,
          80,
          97,
          64,
          85,
          99,
          64,
          96,
          96,
          64,
          72,
          90,
          90,
          99,
          97,
          96,
          36,
          63,
          96,
          99,
          61,
          71,
          75,
          95,
          89,
          93,
          97,
          85,
          42,
          75,
          86,
          99,
          76,
          85,
          59,
          70,
          86,
          99,
          70,
          96,
          76,
          99,
          70,
          73,
          68,
          67,
          81,
          74,
          86,
          91,
          99,
          89,
          88,
          99,
          83,
          99,
          90,
          85,
          87,
          97,
          74,
          86,
          44,
          99,
          63,
          86,
          99,
          82,
          96,
          63,
          91,
          99,
          96,
          78,
          65,
          81,
          90,
          99,
          97,
          96,
          97,
          95,
          83,
          84,
          52,
          80,
          58,
          65,
          97,
          93,
          93,
          83,
          69,
          93,
          82,
          25,
          99,
          76,
          99,
          75,
          98,
          98,
          92,
          94,
          89,
          90,
          86,
          95,
          97,
          80,
          75,
          79,
          92,
          92,
          95,
          73,
          86,
          52,
          88,
          76,
          84,
          75,
          98,
          99,
          94,
          95,
          52,
          84,
          96,
          84,
          93,
          93,
          95,
          86,
          84,
          78,
          93,
          97,
          90,
          94,
          99,
          99,
          82,
          39,
          99,
          73,
          92,
          97,
          66,
          92,
          64,
          85,
          59,
          63,
          98,
          81,
          98,
          68,
          73,
          91,
          79,
          79,
          96,
          82,
          96,
          99,
          88,
          88,
          69,
          95,
          98,
          95,
          89,
          31,
          85,
          91,
          93,
          76,
          63,
          76,
          82,
          77,
          94,
          69,
          85,
          83,
          94,
          58,
          74,
          73,
          90,
          96,
          57,
          84,
          98,
          76,
          91,
          99,
          99,
          85,
          94,
          68,
          68,
          42,
          80,
          94,
          90,
          79,
          97,
          93,
          83,
          86,
          93,
          26,
          83,
          75,
          93,
          70,
          91,
          99,
          99,
          86,
          98,
          94,
          95,
          85,
          99,
          92,
          77,
          99,
          90,
          69,
          72,
          88,
          87,
          95,
          94,
          61,
          75,
          89,
          70,
          64,
          99,
          79,
          37,
          64,
          94,
          78,
          92,
          65,
          69,
          98,
          99,
          79,
          90,
          90,
          98,
          47,
          76,
          45,
          74,
          95,
          99
         ],
         "yaxis": "y"
        },
        {
         "alignmentgroup": "True",
         "customdata": [
          [
           "Lithuania"
          ],
          [
           "Belgium"
          ],
          [
           "Netherlands"
          ],
          [
           "Australia"
          ],
          [
           "Nauru"
          ],
          [
           "New Zealand"
          ],
          [
           "Palau"
          ],
          [
           "Portugal"
          ],
          [
           "Singapore"
          ],
          [
           "France"
          ],
          [
           "Slovak Republic"
          ],
          [
           "Slovenia"
          ],
          [
           "Sweden"
          ],
          [
           "Sweden"
          ],
          [
           "Australia"
          ],
          [
           "Austria"
          ],
          [
           "Belgium"
          ],
          [
           "Slovenia"
          ],
          [
           "Canada"
          ],
          [
           "Cyprus"
          ],
          [
           "Slovak Republic"
          ],
          [
           "Spain"
          ],
          [
           "Estonia"
          ],
          [
           "Malta"
          ],
          [
           "Finland"
          ],
          [
           "France"
          ],
          [
           "Greece"
          ],
          [
           "Singapore"
          ],
          [
           "Portugal"
          ],
          [
           "Palau"
          ],
          [
           "Ireland"
          ],
          [
           "Austria"
          ],
          [
           "Malta"
          ],
          [
           "Japan"
          ],
          [
           "Latvia"
          ],
          [
           "Sweden"
          ],
          [
           "Estonia"
          ],
          [
           "Luxembourg"
          ],
          [
           "New Zealand"
          ],
          [
           "Greece"
          ],
          [
           "Nauru"
          ],
          [
           "Australia"
          ],
          [
           "Austria"
          ],
          [
           "Belgium"
          ],
          [
           "France"
          ],
          [
           "Canada"
          ],
          [
           "Cyprus"
          ],
          [
           "Finland"
          ],
          [
           "Spain"
          ],
          [
           "Estonia"
          ],
          [
           "Estonia"
          ],
          [
           "Finland"
          ],
          [
           "France"
          ],
          [
           "Spain"
          ],
          [
           "Greece"
          ],
          [
           "Finland"
          ],
          [
           "Cyprus"
          ],
          [
           "Ireland"
          ],
          [
           "Canada"
          ],
          [
           "Italy"
          ],
          [
           "Japan"
          ],
          [
           "Netherlands"
          ],
          [
           "Lithuania"
          ],
          [
           "Luxembourg"
          ],
          [
           "Italy"
          ],
          [
           "New Zealand"
          ],
          [
           "Italy"
          ],
          [
           "Greece"
          ],
          [
           "Greece"
          ],
          [
           "Ireland"
          ],
          [
           "Ireland"
          ],
          [
           "Japan"
          ],
          [
           "Italy"
          ],
          [
           "Japan"
          ],
          [
           "Italy"
          ],
          [
           "Lithuania"
          ],
          [
           "Luxembourg"
          ],
          [
           "Latvia"
          ],
          [
           "Malta"
          ],
          [
           "Greece"
          ],
          [
           "Netherlands"
          ],
          [
           "Ireland"
          ],
          [
           "Nauru"
          ],
          [
           "New Zealand"
          ],
          [
           "France"
          ],
          [
           "Palau"
          ],
          [
           "Portugal"
          ],
          [
           "Singapore"
          ],
          [
           "Finland"
          ],
          [
           "Slovak Republic"
          ],
          [
           "Slovenia"
          ],
          [
           "Sweden"
          ],
          [
           "Estonia"
          ],
          [
           "Spain"
          ],
          [
           "Cyprus"
          ],
          [
           "Canada"
          ],
          [
           "Australia"
          ],
          [
           "Italy"
          ],
          [
           "Japan"
          ],
          [
           "Nauru"
          ],
          [
           "France"
          ],
          [
           "Lithuania"
          ],
          [
           "Luxembourg"
          ],
          [
           "Latvia"
          ],
          [
           "Malta"
          ],
          [
           "Netherlands"
          ],
          [
           "Netherlands"
          ],
          [
           "Nauru"
          ],
          [
           "New Zealand"
          ],
          [
           "Latvia"
          ],
          [
           "Palau"
          ],
          [
           "Portugal"
          ],
          [
           "Singapore"
          ],
          [
           "Slovak Republic"
          ],
          [
           "Slovenia"
          ],
          [
           "Sweden"
          ],
          [
           "Luxembourg"
          ],
          [
           "Malta"
          ],
          [
           "Latvia"
          ],
          [
           "Luxembourg"
          ],
          [
           "Australia"
          ],
          [
           "Austria"
          ],
          [
           "Belgium"
          ],
          [
           "Lithuania"
          ],
          [
           "Canada"
          ],
          [
           "Cyprus"
          ],
          [
           "Lithuania"
          ],
          [
           "Spain"
          ],
          [
           "Estonia"
          ],
          [
           "Finland"
          ],
          [
           "Slovenia"
          ],
          [
           "Slovak Republic"
          ],
          [
           "Ireland"
          ],
          [
           "France"
          ],
          [
           "Greece"
          ],
          [
           "Ireland"
          ],
          [
           "Canada"
          ],
          [
           "Italy"
          ],
          [
           "Japan"
          ],
          [
           "France"
          ],
          [
           "Finland"
          ],
          [
           "Lithuania"
          ],
          [
           "Luxembourg"
          ],
          [
           "Latvia"
          ],
          [
           "Malta"
          ],
          [
           "Estonia"
          ],
          [
           "Spain"
          ],
          [
           "Netherlands"
          ],
          [
           "New Zealand"
          ],
          [
           "Cyprus"
          ],
          [
           "Palau"
          ],
          [
           "Portugal"
          ],
          [
           "Singapore"
          ],
          [
           "Slovak Republic"
          ],
          [
           "Slovenia"
          ],
          [
           "Sweden"
          ],
          [
           "Canada"
          ],
          [
           "Belgium"
          ],
          [
           "Austria"
          ],
          [
           "Australia"
          ],
          [
           "Australia"
          ],
          [
           "Austria"
          ],
          [
           "Belgium"
          ],
          [
           "Greece"
          ],
          [
           "Finland"
          ],
          [
           "Singapore"
          ],
          [
           "Australia"
          ],
          [
           "Canada"
          ],
          [
           "Lithuania"
          ],
          [
           "Luxembourg"
          ],
          [
           "Latvia"
          ],
          [
           "Malta"
          ],
          [
           "Malta"
          ],
          [
           "Netherlands"
          ],
          [
           "New Zealand"
          ],
          [
           "Palau"
          ],
          [
           "Portugal"
          ],
          [
           "Singapore"
          ],
          [
           "Latvia"
          ],
          [
           "Slovenia"
          ],
          [
           "Sweden"
          ],
          [
           "Luxembourg"
          ],
          [
           "Lithuania"
          ],
          [
           "Belgium"
          ],
          [
           "Belgium"
          ],
          [
           "Japan"
          ],
          [
           "Italy"
          ],
          [
           "Australia"
          ],
          [
           "Austria"
          ],
          [
           "Belgium"
          ],
          [
           "Austria"
          ],
          [
           "Canada"
          ],
          [
           "Cyprus"
          ],
          [
           "Ireland"
          ],
          [
           "Spain"
          ],
          [
           "Estonia"
          ],
          [
           "Cyprus"
          ],
          [
           "Canada"
          ],
          [
           "Cyprus"
          ],
          [
           "Spain"
          ],
          [
           "Belgium"
          ],
          [
           "Spain"
          ],
          [
           "Canada"
          ],
          [
           "Cyprus"
          ],
          [
           "Spain"
          ],
          [
           "Estonia"
          ],
          [
           "Finland"
          ],
          [
           "France"
          ],
          [
           "Malta"
          ],
          [
           "Greece"
          ],
          [
           "Latvia"
          ],
          [
           "Ireland"
          ],
          [
           "Luxembourg"
          ],
          [
           "Italy"
          ],
          [
           "Japan"
          ],
          [
           "Lithuania"
          ],
          [
           "Singapore"
          ],
          [
           "Lithuania"
          ],
          [
           "Luxembourg"
          ],
          [
           "Latvia"
          ],
          [
           "Malta"
          ],
          [
           "Portugal"
          ],
          [
           "Japan"
          ],
          [
           "Netherlands"
          ],
          [
           "Italy"
          ],
          [
           "New Zealand"
          ],
          [
           "Palau"
          ],
          [
           "Palau"
          ],
          [
           "Portugal"
          ],
          [
           "Austria"
          ],
          [
           "Australia"
          ],
          [
           "Netherlands"
          ],
          [
           "Sweden"
          ],
          [
           "Estonia"
          ],
          [
           "Finland"
          ],
          [
           "France"
          ],
          [
           "Greece"
          ],
          [
           "Ireland"
          ],
          [
           "Sweden"
          ],
          [
           "Japan"
          ],
          [
           "Slovenia"
          ],
          [
           "Slovak Republic"
          ],
          [
           "Lithuania"
          ],
          [
           "Luxembourg"
          ],
          [
           "Latvia"
          ],
          [
           "Malta"
          ],
          [
           "Netherlands"
          ],
          [
           "Slovak Republic"
          ],
          [
           "Singapore"
          ],
          [
           "New Zealand"
          ],
          [
           "Portugal"
          ],
          [
           "Palau"
          ],
          [
           "Portugal"
          ],
          [
           "Singapore"
          ],
          [
           "Palau"
          ],
          [
           "Slovak Republic"
          ],
          [
           "Slovenia"
          ],
          [
           "Sweden"
          ],
          [
           "Slovenia"
          ],
          [
           "New Zealand"
          ],
          [
           "Nauru"
          ],
          [
           "Austria"
          ],
          [
           "Belgium"
          ],
          [
           "Canada"
          ],
          [
           "Finland"
          ],
          [
           "Greece"
          ],
          [
           "Latvia"
          ],
          [
           "Luxembourg"
          ],
          [
           "Lithuania"
          ],
          [
           "Ireland"
          ],
          [
           "Sweden"
          ],
          [
           "Italy"
          ],
          [
           "Japan"
          ],
          [
           "Slovenia"
          ],
          [
           "Japan"
          ],
          [
           "Lithuania"
          ],
          [
           "Luxembourg"
          ],
          [
           "Latvia"
          ],
          [
           "Malta"
          ],
          [
           "Italy"
          ],
          [
           "Slovak Republic"
          ],
          [
           "Netherlands"
          ],
          [
           "Ireland"
          ],
          [
           "Nauru"
          ],
          [
           "New Zealand"
          ],
          [
           "Malta"
          ],
          [
           "Palau"
          ],
          [
           "Portugal"
          ],
          [
           "Singapore"
          ],
          [
           "Slovak Republic"
          ],
          [
           "Slovenia"
          ],
          [
           "Sweden"
          ],
          [
           "Singapore"
          ],
          [
           "Greece"
          ],
          [
           "France"
          ],
          [
           "Estonia"
          ],
          [
           "Slovenia"
          ],
          [
           "Spain"
          ],
          [
           "Slovak Republic"
          ],
          [
           "Italy"
          ],
          [
           "Japan"
          ],
          [
           "Latvia"
          ],
          [
           "Lithuania"
          ],
          [
           "Luxembourg"
          ],
          [
           "Latvia"
          ],
          [
           "Malta"
          ],
          [
           "Singapore"
          ],
          [
           "Portugal"
          ],
          [
           "Netherlands"
          ],
          [
           "Palau"
          ],
          [
           "Nauru"
          ],
          [
           "New Zealand"
          ],
          [
           "Palau"
          ],
          [
           "Portugal"
          ],
          [
           "Singapore"
          ],
          [
           "New Zealand"
          ],
          [
           "Slovak Republic"
          ],
          [
           "Slovenia"
          ],
          [
           "Sweden"
          ],
          [
           "Nauru"
          ],
          [
           "Netherlands"
          ],
          [
           "Australia"
          ],
          [
           "Austria"
          ],
          [
           "Belgium"
          ],
          [
           "Canada"
          ],
          [
           "Cyprus"
          ],
          [
           "Malta"
          ],
          [
           "Portugal"
          ],
          [
           "France"
          ],
          [
           "Finland"
          ],
          [
           "Australia"
          ],
          [
           "Slovak Republic"
          ],
          [
           "Slovenia"
          ],
          [
           "Sweden"
          ],
          [
           "Netherlands"
          ],
          [
           "Sweden"
          ],
          [
           "Slovenia"
          ],
          [
           "Slovak Republic"
          ],
          [
           "Australia"
          ],
          [
           "Austria"
          ],
          [
           "Belgium"
          ],
          [
           "Canada"
          ],
          [
           "Cyprus"
          ],
          [
           "Spain"
          ],
          [
           "Estonia"
          ],
          [
           "Singapore"
          ],
          [
           "Finland"
          ],
          [
           "France"
          ],
          [
           "Portugal"
          ],
          [
           "Greece"
          ],
          [
           "Palau"
          ],
          [
           "New Zealand"
          ],
          [
           "Ireland"
          ],
          [
           "Nauru"
          ],
          [
           "Italy"
          ],
          [
           "Japan"
          ],
          [
           "Netherlands"
          ],
          [
           "Lithuania"
          ],
          [
           "Luxembourg"
          ],
          [
           "Latvia"
          ],
          [
           "Singapore"
          ],
          [
           "Portugal"
          ],
          [
           "Palau"
          ],
          [
           "Canada"
          ],
          [
           "Austria"
          ],
          [
           "Belgium"
          ],
          [
           "Estonia"
          ],
          [
           "Canada"
          ],
          [
           "Cyprus"
          ],
          [
           "Spain"
          ],
          [
           "Spain"
          ],
          [
           "Estonia"
          ],
          [
           "Palau"
          ],
          [
           "Finland"
          ],
          [
           "France"
          ],
          [
           "Cyprus"
          ],
          [
           "Greece"
          ],
          [
           "Ireland"
          ],
          [
           "New Zealand"
          ],
          [
           "Italy"
          ],
          [
           "Japan"
          ],
          [
           "Belgium"
          ],
          [
           "Austria"
          ],
          [
           "Lithuania"
          ],
          [
           "Luxembourg"
          ],
          [
           "Latvia"
          ],
          [
           "Malta"
          ],
          [
           "Australia"
          ],
          [
           "New Zealand"
          ],
          [
           "Netherlands"
          ],
          [
           "Nauru"
          ],
          [
           "Nauru"
          ],
          [
           "Ireland"
          ],
          [
           "Sweden"
          ],
          [
           "Cyprus"
          ],
          [
           "Portugal"
          ],
          [
           "Finland"
          ],
          [
           "Australia"
          ],
          [
           "Austria"
          ],
          [
           "Belgium"
          ],
          [
           "New Zealand"
          ],
          [
           "Canada"
          ],
          [
           "Cyprus"
          ],
          [
           "Nauru"
          ],
          [
           "Spain"
          ],
          [
           "Estonia"
          ],
          [
           "Italy"
          ],
          [
           "Finland"
          ],
          [
           "France"
          ],
          [
           "Netherlands"
          ],
          [
           "Greece"
          ],
          [
           "Estonia"
          ],
          [
           "Ireland"
          ],
          [
           "Spain"
          ],
          [
           "Italy"
          ],
          [
           "Japan"
          ],
          [
           "Malta"
          ],
          [
           "Lithuania"
          ],
          [
           "Luxembourg"
          ],
          [
           "Latvia"
          ],
          [
           "Malta"
          ],
          [
           "Latvia"
          ],
          [
           "Netherlands"
          ],
          [
           "Luxembourg"
          ],
          [
           "Nauru"
          ],
          [
           "Palau"
          ],
          [
           "Singapore"
          ],
          [
           "Greece"
          ],
          [
           "France"
          ],
          [
           "Spain"
          ],
          [
           "Estonia"
          ],
          [
           "Belgium"
          ],
          [
           "Finland"
          ],
          [
           "France"
          ],
          [
           "Austria"
          ],
          [
           "Greece"
          ],
          [
           "Australia"
          ],
          [
           "Ireland"
          ],
          [
           "Greece"
          ],
          [
           "Ireland"
          ],
          [
           "Italy"
          ],
          [
           "Japan"
          ],
          [
           "Lithuania"
          ],
          [
           "Luxembourg"
          ],
          [
           "Latvia"
          ],
          [
           "Malta"
          ],
          [
           "Netherlands"
          ],
          [
           "Sweden"
          ],
          [
           "Nauru"
          ],
          [
           "New Zealand"
          ],
          [
           "Slovenia"
          ],
          [
           "Palau"
          ],
          [
           "Portugal"
          ],
          [
           "Singapore"
          ],
          [
           "Slovak Republic"
          ],
          [
           "Slovak Republic"
          ],
          [
           "Slovenia"
          ],
          [
           "Sweden"
          ],
          [
           "New Zealand"
          ],
          [
           "Lithuania"
          ],
          [
           "Palau"
          ],
          [
           "Portugal"
          ],
          [
           "Latvia"
          ],
          [
           "Malta"
          ],
          [
           "Austria"
          ],
          [
           "Cyprus"
          ],
          [
           "Netherlands"
          ],
          [
           "Nauru"
          ],
          [
           "New Zealand"
          ],
          [
           "Canada"
          ],
          [
           "Palau"
          ],
          [
           "Portugal"
          ],
          [
           "Singapore"
          ],
          [
           "Slovak Republic"
          ],
          [
           "Slovenia"
          ],
          [
           "Sweden"
          ],
          [
           "Australia"
          ],
          [
           "Belgium"
          ],
          [
           "Austria"
          ],
          [
           "Australia"
          ],
          [
           "Lithuania"
          ],
          [
           "Australia"
          ],
          [
           "Austria"
          ],
          [
           "Belgium"
          ],
          [
           "Canada"
          ],
          [
           "Cyprus"
          ],
          [
           "Luxembourg"
          ],
          [
           "Spain"
          ],
          [
           "Estonia"
          ],
          [
           "Finland"
          ],
          [
           "France"
          ],
          [
           "Luxembourg"
          ],
          [
           "Lithuania"
          ],
          [
           "Spain"
          ],
          [
           "Canada"
          ],
          [
           "Singapore"
          ],
          [
           "Japan"
          ],
          [
           "Slovak Republic"
          ],
          [
           "Slovenia"
          ],
          [
           "Sweden"
          ],
          [
           "Cyprus"
          ],
          [
           "Japan"
          ],
          [
           "Italy"
          ],
          [
           "Ireland"
          ],
          [
           "Canada"
          ],
          [
           "Australia"
          ],
          [
           "Austria"
          ],
          [
           "Belgium"
          ],
          [
           "Cyprus"
          ],
          [
           "Estonia"
          ],
          [
           "Spain"
          ],
          [
           "Estonia"
          ],
          [
           "Greece"
          ],
          [
           "Finland"
          ],
          [
           "France"
          ],
          [
           "Greece"
          ],
          [
           "Belgium"
          ],
          [
           "France"
          ],
          [
           "Cyprus"
          ],
          [
           "Ireland"
          ],
          [
           "Finland"
          ],
          [
           "Italy"
          ],
          [
           "Japan"
          ],
          [
           "Japan"
          ],
          [
           "Italy"
          ],
          [
           "New Zealand"
          ],
          [
           "Cyprus"
          ],
          [
           "Singapore"
          ],
          [
           "Australia"
          ],
          [
           "Austria"
          ],
          [
           "Belgium"
          ],
          [
           "Belgium"
          ],
          [
           "Canada"
          ],
          [
           "Cyprus"
          ],
          [
           "Austria"
          ],
          [
           "Spain"
          ],
          [
           "Australia"
          ],
          [
           "Finland"
          ],
          [
           "France"
          ],
          [
           "Sweden"
          ],
          [
           "Greece"
          ],
          [
           "Slovenia"
          ],
          [
           "Slovak Republic"
          ],
          [
           "Ireland"
          ],
          [
           "Japan"
          ],
          [
           "Luxembourg"
          ],
          [
           "Malta"
          ],
          [
           "Sweden"
          ],
          [
           "Slovenia"
          ],
          [
           "Netherlands"
          ],
          [
           "Slovak Republic"
          ],
          [
           "New Zealand"
          ],
          [
           "Palau"
          ],
          [
           "Portugal"
          ],
          [
           "Singapore"
          ],
          [
           "Sweden"
          ],
          [
           "Canada"
          ],
          [
           "Sweden"
          ],
          [
           "Latvia"
          ],
          [
           "Spain"
          ],
          [
           "Lithuania"
          ],
          [
           "Nauru"
          ],
          [
           "New Zealand"
          ],
          [
           "Australia"
          ],
          [
           "Austria"
          ],
          [
           "Belgium"
          ],
          [
           "Japan"
          ],
          [
           "Cyprus"
          ],
          [
           "Italy"
          ],
          [
           "Spain"
          ],
          [
           "Finland"
          ],
          [
           "France"
          ],
          [
           "Greece"
          ],
          [
           "Ireland"
          ],
          [
           "Palau"
          ],
          [
           "Ireland"
          ],
          [
           "Portugal"
          ],
          [
           "Japan"
          ],
          [
           "Greece"
          ],
          [
           "Luxembourg"
          ],
          [
           "Malta"
          ],
          [
           "France"
          ],
          [
           "Netherlands"
          ],
          [
           "Finland"
          ],
          [
           "New Zealand"
          ],
          [
           "Estonia"
          ],
          [
           "Palau"
          ],
          [
           "Portugal"
          ],
          [
           "Singapore"
          ],
          [
           "Singapore"
          ],
          [
           "Portugal"
          ],
          [
           "Palau"
          ],
          [
           "Singapore"
          ],
          [
           "Slovak Republic"
          ],
          [
           "Ireland"
          ],
          [
           "Netherlands"
          ],
          [
           "Slovenia"
          ],
          [
           "Australia"
          ],
          [
           "Austria"
          ],
          [
           "Belgium"
          ],
          [
           "Greece"
          ],
          [
           "Canada"
          ],
          [
           "Cyprus"
          ],
          [
           "Spain"
          ],
          [
           "Finland"
          ],
          [
           "France"
          ],
          [
           "France"
          ],
          [
           "Greece"
          ],
          [
           "Finland"
          ],
          [
           "Estonia"
          ],
          [
           "Spain"
          ],
          [
           "Ireland"
          ],
          [
           "Sweden"
          ],
          [
           "Japan"
          ],
          [
           "Cyprus"
          ],
          [
           "Luxembourg"
          ],
          [
           "Malta"
          ],
          [
           "Canada"
          ],
          [
           "Netherlands"
          ],
          [
           "Malta"
          ],
          [
           "New Zealand"
          ],
          [
           "Belgium"
          ],
          [
           "Italy"
          ],
          [
           "Sweden"
          ],
          [
           "Japan"
          ],
          [
           "Greece"
          ],
          [
           "Ireland"
          ],
          [
           "Nauru"
          ],
          [
           "Australia"
          ],
          [
           "Austria"
          ],
          [
           "Belgium"
          ],
          [
           "Portugal"
          ],
          [
           "Canada"
          ],
          [
           "Cyprus"
          ],
          [
           "Netherlands"
          ],
          [
           "Spain"
          ],
          [
           "Finland"
          ],
          [
           "France"
          ],
          [
           "Palau"
          ],
          [
           "Malta"
          ],
          [
           "Singapore"
          ],
          [
           "Ireland"
          ],
          [
           "Japan"
          ],
          [
           "Latvia"
          ],
          [
           "Luxembourg"
          ],
          [
           "Malta"
          ],
          [
           "Luxembourg"
          ],
          [
           "Lithuania"
          ],
          [
           "Netherlands"
          ],
          [
           "New Zealand"
          ],
          [
           "New Zealand"
          ],
          [
           "Nauru"
          ],
          [
           "Palau"
          ],
          [
           "Portugal"
          ],
          [
           "Luxembourg"
          ],
          [
           "Sweden"
          ],
          [
           "Portugal"
          ],
          [
           "Cyprus"
          ],
          [
           "Spain"
          ],
          [
           "Finland"
          ],
          [
           "Malta"
          ],
          [
           "Japan"
          ],
          [
           "Malta"
          ],
          [
           "Netherlands"
          ],
          [
           "New Zealand"
          ],
          [
           "Portugal"
          ],
          [
           "Singapore"
          ],
          [
           "Latvia"
          ],
          [
           "Sweden"
          ],
          [
           "Luxembourg"
          ],
          [
           "Lithuania"
          ],
          [
           "Greece"
          ],
          [
           "Japan"
          ],
          [
           "Australia"
          ],
          [
           "Austria"
          ],
          [
           "Belgium"
          ],
          [
           "Italy"
          ],
          [
           "Cyprus"
          ],
          [
           "Spain"
          ],
          [
           "Ireland"
          ],
          [
           "Finland"
          ],
          [
           "France"
          ],
          [
           "France"
          ],
          [
           "Ireland"
          ],
          [
           "Finland"
          ],
          [
           "Japan"
          ],
          [
           "Greece"
          ],
          [
           "Netherlands"
          ],
          [
           "Ireland"
          ],
          [
           "Singapore"
          ],
          [
           "Belgium"
          ],
          [
           "Latvia"
          ],
          [
           "Japan"
          ],
          [
           "Netherlands"
          ],
          [
           "New Zealand"
          ],
          [
           "Portugal"
          ],
          [
           "Singapore"
          ],
          [
           "Sweden"
          ],
          [
           "Austria"
          ],
          [
           "Belgium"
          ],
          [
           "Cyprus"
          ],
          [
           "Japan"
          ],
          [
           "Spain"
          ],
          [
           "Sweden"
          ],
          [
           "Finland"
          ],
          [
           "Slovenia"
          ],
          [
           "Japan"
          ],
          [
           "Slovak Republic"
          ],
          [
           "Italy"
          ],
          [
           "Netherlands"
          ],
          [
           "New Zealand"
          ],
          [
           "Singapore"
          ],
          [
           "Portugal"
          ],
          [
           "Singapore"
          ],
          [
           "Portugal"
          ],
          [
           "Sweden"
          ],
          [
           "Palau"
          ],
          [
           "New Zealand"
          ],
          [
           "Nauru"
          ],
          [
           "Austria"
          ],
          [
           "Luxembourg"
          ],
          [
           "Netherlands"
          ],
          [
           "New Zealand"
          ],
          [
           "France"
          ],
          [
           "Sweden"
          ],
          [
           "Sweden"
          ],
          [
           "Slovenia"
          ],
          [
           "Slovak Republic"
          ],
          [
           "Singapore"
          ],
          [
           "Australia"
          ],
          [
           "Austria"
          ],
          [
           "Belgium"
          ],
          [
           "Portugal"
          ],
          [
           "Cyprus"
          ],
          [
           "Palau"
          ],
          [
           "Spain"
          ],
          [
           "Finland"
          ],
          [
           "France"
          ],
          [
           "Greece"
          ],
          [
           "New Zealand"
          ],
          [
           "Nauru"
          ],
          [
           "Belgium"
          ],
          [
           "Ireland"
          ],
          [
           "Netherlands"
          ],
          [
           "Japan"
          ],
          [
           "Austria"
          ],
          [
           "Luxembourg"
          ],
          [
           "Malta"
          ],
          [
           "Netherlands"
          ],
          [
           "Australia"
          ],
          [
           "New Zealand"
          ],
          [
           "Malta"
          ],
          [
           "Portugal"
          ],
          [
           "Canada"
          ],
          [
           "Singapore"
          ],
          [
           "Portugal"
          ],
          [
           "Spain"
          ],
          [
           "Portugal"
          ],
          [
           "Singapore"
          ],
          [
           "Finland"
          ],
          [
           "Sweden"
          ],
          [
           "Estonia"
          ],
          [
           "Spain"
          ],
          [
           "Estonia"
          ],
          [
           "Cyprus"
          ],
          [
           "Canada"
          ],
          [
           "Australia"
          ],
          [
           "Austria"
          ],
          [
           "Belgium"
          ],
          [
           "Cyprus"
          ],
          [
           "Spain"
          ],
          [
           "New Zealand"
          ],
          [
           "Belgium"
          ],
          [
           "Finland"
          ],
          [
           "France"
          ],
          [
           "Greece"
          ],
          [
           "Austria"
          ],
          [
           "Australia"
          ],
          [
           "Ireland"
          ],
          [
           "Netherlands"
          ],
          [
           "Japan"
          ],
          [
           "Cyprus"
          ],
          [
           "Luxembourg"
          ],
          [
           "Malta"
          ],
          [
           "Netherlands"
          ],
          [
           "Palau"
          ],
          [
           "Malta"
          ],
          [
           "Japan"
          ],
          [
           "New Zealand"
          ],
          [
           "Sweden"
          ],
          [
           "Netherlands"
          ],
          [
           "Slovenia"
          ],
          [
           "Nauru"
          ],
          [
           "New Zealand"
          ],
          [
           "Greece"
          ],
          [
           "Spain"
          ],
          [
           "Palau"
          ],
          [
           "Malta"
          ],
          [
           "France"
          ],
          [
           "Luxembourg"
          ],
          [
           "Singapore"
          ],
          [
           "Portugal"
          ],
          [
           "Singapore"
          ],
          [
           "Belgium"
          ],
          [
           "Sweden"
          ],
          [
           "France"
          ],
          [
           "Portugal"
          ],
          [
           "Finland"
          ],
          [
           "Singapore"
          ],
          [
           "New Zealand"
          ],
          [
           "Greece"
          ],
          [
           "Austria"
          ],
          [
           "Singapore"
          ],
          [
           "Italy"
          ],
          [
           "Netherlands"
          ],
          [
           "Canada"
          ],
          [
           "Japan"
          ],
          [
           "Japan"
          ],
          [
           "Palau"
          ],
          [
           "Luxembourg"
          ],
          [
           "Slovak Republic"
          ],
          [
           "Malta"
          ],
          [
           "Slovenia"
          ],
          [
           "Ireland"
          ],
          [
           "Austria"
          ],
          [
           "Australia"
          ],
          [
           "Belgium"
          ],
          [
           "Luxembourg"
          ],
          [
           "Lithuania"
          ],
          [
           "Australia"
          ],
          [
           "Canada"
          ],
          [
           "Finland"
          ],
          [
           "Cyprus"
          ],
          [
           "Latvia"
          ],
          [
           "Greece"
          ],
          [
           "Spain"
          ],
          [
           "Luxembourg"
          ],
          [
           "Finland"
          ],
          [
           "Ireland"
          ],
          [
           "France"
          ],
          [
           "Australia"
          ],
          [
           "Italy"
          ],
          [
           "Latvia"
          ],
          [
           "Austria"
          ],
          [
           "Netherlands"
          ],
          [
           "Australia"
          ],
          [
           "Sweden"
          ],
          [
           "Palau"
          ],
          [
           "Japan"
          ],
          [
           "New Zealand"
          ],
          [
           "Belgium"
          ],
          [
           "Italy"
          ],
          [
           "Netherlands"
          ],
          [
           "Estonia"
          ],
          [
           "Italy"
          ],
          [
           "Malta"
          ],
          [
           "Italy"
          ],
          [
           "Malta"
          ],
          [
           "Ireland"
          ],
          [
           "Japan"
          ],
          [
           "Ireland"
          ],
          [
           "Ireland"
          ],
          [
           "Portugal"
          ],
          [
           "Austria"
          ],
          [
           "Canada"
          ],
          [
           "Sweden"
          ],
          [
           "Cyprus"
          ],
          [
           "Belgium"
          ],
          [
           "Austria"
          ],
          [
           "Australia"
          ],
          [
           "Palau"
          ],
          [
           "Spain"
          ],
          [
           "Lithuania"
          ],
          [
           "Estonia"
          ],
          [
           "Cyprus"
          ],
          [
           "Latvia"
          ],
          [
           "Finland"
          ],
          [
           "France"
          ],
          [
           "France"
          ],
          [
           "New Zealand"
          ],
          [
           "Canada"
          ],
          [
           "Finland"
          ],
          [
           "Greece"
          ],
          [
           "Estonia"
          ],
          [
           "Nauru"
          ],
          [
           "Spain"
          ],
          [
           "Netherlands"
          ],
          [
           "Australia"
          ],
          [
           "Austria"
          ],
          [
           "Cyprus"
          ],
          [
           "Australia"
          ],
          [
           "Sweden"
          ],
          [
           "Austria"
          ],
          [
           "Singapore"
          ],
          [
           "Singapore"
          ],
          [
           "Lithuania"
          ],
          [
           "Palau"
          ],
          [
           "Cyprus"
          ],
          [
           "Spain"
          ],
          [
           "Luxembourg"
          ],
          [
           "Finland"
          ],
          [
           "Portugal"
          ],
          [
           "Canada"
          ],
          [
           "Portugal"
          ],
          [
           "Slovenia"
          ],
          [
           "France"
          ],
          [
           "Sweden"
          ],
          [
           "Cyprus"
          ],
          [
           "Greece"
          ],
          [
           "Spain"
          ],
          [
           "Slovak Republic"
          ],
          [
           "Greece"
          ],
          [
           "Belgium"
          ]
         ],
         "hovertemplate": "IncomeGroup=High income<br>year=%{x}<br>value_=%{y}<br>Country Name=%{customdata[0]}<extra></extra>",
         "legendgroup": "High income",
         "marker": {
          "color": "#FFA15A",
          "pattern": {
           "shape": ""
          }
         },
         "name": "High income",
         "offsetgroup": "High income",
         "orientation": "v",
         "showlegend": true,
         "textposition": "auto",
         "type": "bar",
         "x": [
          2009,
          2014,
          1997,
          2014,
          1997,
          1997,
          1997,
          1997,
          1997,
          2010,
          1997,
          1997,
          1997,
          2013,
          1998,
          1998,
          1998,
          2013,
          1998,
          1998,
          2013,
          1998,
          1998,
          2007,
          1998,
          1998,
          1998,
          2013,
          2013,
          2013,
          1998,
          2014,
          1997,
          1998,
          1997,
          1996,
          2010,
          2009,
          2007,
          2014,
          2007,
          1997,
          1997,
          1997,
          2014,
          1997,
          1997,
          2014,
          1997,
          1997,
          2014,
          1997,
          1997,
          2014,
          1997,
          2010,
          2014,
          1997,
          2014,
          1997,
          1997,
          2007,
          1997,
          1997,
          1998,
          2013,
          1993,
          1999,
          2010,
          2013,
          1999,
          2007,
          1999,
          1999,
          2007,
          1999,
          1999,
          1999,
          1999,
          2013,
          1999,
          2007,
          1999,
          1999,
          2013,
          1999,
          1999,
          1999,
          2013,
          1999,
          1999,
          1999,
          2013,
          2013,
          2013,
          2013,
          2000,
          2013,
          2013,
          2013,
          1999,
          1998,
          1998,
          1998,
          1998,
          2013,
          1998,
          1998,
          1998,
          2007,
          1998,
          1998,
          1998,
          1998,
          1998,
          1998,
          2007,
          2013,
          2013,
          2013,
          1999,
          1999,
          1999,
          2013,
          1999,
          1999,
          2007,
          1999,
          1999,
          1999,
          1996,
          1996,
          2014,
          1994,
          2015,
          1994,
          2010,
          1994,
          1994,
          2015,
          2015,
          1994,
          1994,
          1994,
          1994,
          2015,
          2015,
          1994,
          1994,
          2015,
          1994,
          1994,
          1994,
          1994,
          1994,
          1994,
          2015,
          2015,
          2015,
          2015,
          1995,
          1995,
          1995,
          1994,
          1994,
          1996,
          2008,
          2008,
          1993,
          1993,
          1993,
          1993,
          2015,
          1993,
          1993,
          1993,
          1993,
          1993,
          2015,
          1993,
          1993,
          2015,
          2015,
          2010,
          2008,
          2015,
          2015,
          1994,
          1994,
          1994,
          2008,
          1994,
          1994,
          2015,
          1994,
          1994,
          2010,
          1995,
          1995,
          1995,
          1996,
          2010,
          1996,
          1996,
          1996,
          1996,
          1996,
          1996,
          2014,
          1996,
          2014,
          1996,
          2014,
          1996,
          1996,
          2014,
          2007,
          1996,
          1996,
          1996,
          1996,
          2007,
          2014,
          1996,
          2014,
          1996,
          2007,
          1996,
          1996,
          1996,
          1996,
          2014,
          2007,
          1995,
          1995,
          1995,
          1995,
          1995,
          2014,
          1995,
          2014,
          2014,
          1995,
          1995,
          1995,
          1995,
          1995,
          2007,
          2014,
          1995,
          2014,
          1995,
          1995,
          1995,
          2014,
          1995,
          1995,
          1995,
          2007,
          2014,
          2014,
          2000,
          2000,
          2000,
          2004,
          2004,
          2011,
          2011,
          2011,
          2004,
          2006,
          2004,
          2004,
          2006,
          2011,
          2004,
          2004,
          2004,
          2004,
          2011,
          2006,
          2004,
          2011,
          2004,
          2004,
          2010,
          2004,
          2004,
          2004,
          2004,
          2004,
          2004,
          2006,
          2011,
          2004,
          2004,
          2011,
          2004,
          2011,
          2003,
          2003,
          2010,
          2003,
          2003,
          2003,
          2003,
          2011,
          2011,
          2003,
          2011,
          2003,
          2003,
          2003,
          2003,
          2003,
          2011,
          2003,
          2003,
          2003,
          2011,
          2011,
          2004,
          2004,
          2004,
          2004,
          2004,
          2011,
          2006,
          2011,
          2011,
          2005,
          2005,
          2005,
          2005,
          2006,
          2010,
          2010,
          2010,
          2006,
          2006,
          2006,
          2006,
          2006,
          2006,
          2006,
          2010,
          2006,
          2006,
          2010,
          2006,
          2010,
          2010,
          2006,
          2010,
          2006,
          2006,
          2010,
          2006,
          2006,
          2006,
          2005,
          2005,
          2005,
          2011,
          2005,
          2005,
          2011,
          2005,
          2005,
          2011,
          2005,
          2005,
          2006,
          2005,
          2005,
          2011,
          2005,
          2005,
          2005,
          2005,
          2005,
          2011,
          2011,
          2005,
          2005,
          2005,
          2005,
          2011,
          2006,
          2005,
          2006,
          2005,
          2003,
          2011,
          2000,
          2012,
          2007,
          2001,
          2001,
          2001,
          2012,
          2001,
          2001,
          2012,
          2001,
          2001,
          2010,
          2001,
          2001,
          2012,
          2001,
          2007,
          2001,
          2007,
          2001,
          2001,
          2012,
          2001,
          2001,
          2001,
          2001,
          2012,
          2001,
          2012,
          2001,
          2012,
          2012,
          2003,
          2007,
          2000,
          2000,
          2013,
          2000,
          2000,
          2013,
          2000,
          2013,
          2010,
          2007,
          2000,
          2000,
          2000,
          2000,
          2000,
          2000,
          2000,
          2000,
          2012,
          2000,
          2000,
          2012,
          2000,
          2000,
          2000,
          2012,
          2000,
          2000,
          2000,
          2001,
          2012,
          2001,
          2001,
          2002,
          2002,
          2007,
          2012,
          2002,
          2002,
          2002,
          2012,
          2002,
          2002,
          2002,
          2002,
          2002,
          2002,
          2007,
          2012,
          2012,
          2012,
          2010,
          2003,
          2003,
          2003,
          2003,
          2003,
          2010,
          2003,
          2003,
          2003,
          2003,
          2002,
          2002,
          2012,
          2002,
          2001,
          2010,
          2001,
          2001,
          2001,
          2007,
          2012,
          2012,
          2012,
          2007,
          2002,
          2002,
          2002,
          2002,
          2012,
          2002,
          2002,
          2012,
          2002,
          2002,
          2002,
          2007,
          2012,
          1980,
          2002,
          2012,
          2002,
          2002,
          1993,
          1995,
          2017,
          2018,
          2009,
          1987,
          1987,
          1987,
          2018,
          1987,
          1987,
          2018,
          1987,
          2018,
          1987,
          1987,
          2008,
          1987,
          2008,
          2008,
          1987,
          1987,
          1987,
          1987,
          2017,
          2017,
          1987,
          2017,
          1987,
          1987,
          1987,
          1987,
          1987,
          2018,
          1986,
          2018,
          2018,
          2018,
          2009,
          2009,
          1986,
          1986,
          1986,
          2018,
          1986,
          2018,
          1986,
          1986,
          1986,
          1986,
          2018,
          2009,
          1986,
          2009,
          1986,
          2018,
          1986,
          1986,
          2018,
          1986,
          2018,
          1986,
          2018,
          1986,
          1986,
          1986,
          2017,
          2017,
          2017,
          2008,
          2009,
          2017,
          2008,
          2009,
          1989,
          1989,
          1989,
          2017,
          1989,
          1989,
          1989,
          1989,
          1989,
          2017,
          1989,
          2017,
          2017,
          2017,
          1989,
          2009,
          1989,
          2017,
          1989,
          1989,
          2017,
          1989,
          2008,
          1989,
          2017,
          2017,
          1988,
          2017,
          1988,
          1993,
          2017,
          1988,
          1988,
          1988,
          2008,
          1988,
          1988,
          2017,
          1988,
          1988,
          1988,
          2008,
          2017,
          1988,
          1988,
          1988,
          2017,
          1988,
          1988,
          2017,
          2017,
          1988,
          2008,
          1988,
          2008,
          1988,
          1988,
          2018,
          1985,
          1989,
          1982,
          1982,
          1982,
          2009,
          1982,
          2019,
          1982,
          1982,
          1982,
          1982,
          2019,
          1982,
          2019,
          2019,
          2009,
          2019,
          1983,
          1983,
          1983,
          2019,
          1983,
          1983,
          2019,
          1983,
          1983,
          2009,
          1983,
          2009,
          1983,
          2019,
          2019,
          2009,
          1985,
          1982,
          2009,
          1980,
          1980,
          1980,
          1980,
          1980,
          1980,
          1981,
          1981,
          1981,
          2009,
          1981,
          2019,
          1981,
          2019,
          1981,
          2019,
          2009,
          1981,
          1981,
          2019,
          1981,
          1981,
          2019,
          1981,
          2019,
          2019,
          2019,
          1982,
          1983,
          1983,
          1983,
          2019,
          1984,
          2018,
          2018,
          2018,
          2018,
          1985,
          1985,
          1985,
          2018,
          1985,
          2018,
          1985,
          1985,
          1985,
          1985,
          2018,
          2018,
          2009,
          1985,
          2018,
          1985,
          2009,
          1985,
          1985,
          1985,
          2009,
          1985,
          2018,
          1985,
          2009,
          1984,
          1984,
          2009,
          1983,
          1983,
          2019,
          1983,
          2019,
          2019,
          2009,
          2019,
          2019,
          1984,
          1984,
          1984,
          1984,
          1984,
          1984,
          2019,
          1984,
          1984,
          1984,
          2019,
          2019,
          1984,
          2009,
          1984,
          2009,
          1984,
          1984,
          1984,
          1989,
          2006,
          2008,
          2016,
          1992,
          1990,
          1992,
          2016,
          1990,
          1992,
          2008,
          1990,
          1991,
          2008,
          1991,
          1992,
          1990,
          1990,
          2016,
          2015,
          1992,
          1992,
          1992,
          2015,
          1991,
          2008,
          2010,
          2016,
          1990,
          1991,
          2016,
          1990,
          1992,
          2016,
          1990,
          2015,
          1990,
          2015,
          2016,
          2016,
          1993,
          1991,
          1992,
          1992,
          2010,
          1991,
          2008,
          1991,
          2016,
          1991,
          1991,
          2016,
          1991,
          1992,
          1991,
          2016,
          1992,
          1992,
          1991,
          2016,
          1991,
          1990,
          1992,
          1991,
          1992,
          1992,
          1991,
          1992,
          2008,
          2016,
          1992,
          2008,
          2016,
          1991,
          2016,
          2008,
          1990,
          2016,
          1993,
          1990,
          1991,
          1993,
          1990,
          1990,
          1990,
          2015,
          1993,
          2008,
          1993,
          2008,
          2008,
          1993,
          2016,
          1993,
          2015,
          1992,
          2016,
          1993,
          2016,
          2015,
          2016,
          2015,
          1992,
          1992,
          2016,
          2017,
          1989,
          2017,
          1989,
          1991,
          2016,
          1991,
          1990,
          1992,
          2008,
          1990,
          1991,
          1993,
          2015,
          2016,
          1990,
          2016,
          1992,
          1990,
          1990,
          2016,
          2016,
          1993
         ],
         "xaxis": "x",
         "y": [
          96,
          96,
          96,
          94,
          99,
          99,
          83,
          96,
          98,
          89,
          99,
          82,
          96,
          97,
          82,
          78,
          80,
          94,
          96,
          89,
          98,
          93,
          89,
          79,
          96,
          82,
          89,
          95,
          98,
          99,
          77,
          96,
          56,
          95,
          97,
          96,
          95,
          96,
          79,
          97,
          99,
          85,
          90,
          76,
          91,
          96,
          90,
          96,
          93,
          88,
          93,
          96,
          83,
          96,
          90,
          98,
          86,
          77,
          90,
          57,
          94,
          96,
          96,
          91,
          55,
          92,
          50,
          88,
          99,
          93,
          77,
          96,
          70,
          95,
          90,
          97,
          92,
          97,
          67,
          99,
          96,
          87,
          49,
          83,
          90,
          96,
          92,
          97,
          97,
          99,
          98,
          89,
          94,
          95,
          86,
          90,
          91,
          90,
          95,
          97,
          83,
          97,
          92,
          97,
          60,
          96,
          96,
          90,
          81,
          95,
          74,
          96,
          96,
          99,
          93,
          94,
          96,
          99,
          96,
          99,
          88,
          65,
          82,
          93,
          96,
          87,
          97,
          95,
          92,
          96,
          93,
          99,
          93,
          80,
          97,
          78,
          90,
          50,
          81,
          91,
          95,
          93,
          86,
          81,
          71,
          93,
          96,
          94,
          87,
          90,
          41,
          91,
          95,
          97,
          91,
          97,
          89,
          96,
          96,
          95,
          87,
          60,
          85,
          70,
          99,
          97,
          94,
          93,
          92,
          83,
          80,
          90,
          89,
          94,
          85,
          32,
          95,
          87,
          96,
          90,
          97,
          99,
          94,
          95,
          93,
          96,
          85,
          86,
          60,
          78,
          83,
          97,
          82,
          93,
          90,
          76,
          87,
          96,
          83,
          90,
          73,
          95,
          97,
          90,
          90,
          86,
          98,
          84,
          98,
          90,
          95,
          77,
          99,
          55,
          94,
          93,
          95,
          96,
          91,
          96,
          51,
          95,
          98,
          96,
          87,
          92,
          91,
          99,
          99,
          87,
          87,
          96,
          96,
          81,
          98,
          83,
          70,
          77,
          97,
          93,
          94,
          97,
          94,
          88,
          81,
          51,
          94,
          99,
          95,
          84,
          98,
          99,
          94,
          97,
          83,
          99,
          93,
          97,
          96,
          93,
          98,
          75,
          82,
          96,
          97,
          95,
          92,
          96,
          94,
          81,
          97,
          86,
          98,
          96,
          94,
          98,
          95,
          98,
          94,
          90,
          98,
          96,
          92,
          67,
          83,
          73,
          99,
          95,
          95,
          99,
          94,
          96,
          95,
          99,
          88,
          96,
          96,
          97,
          98,
          84,
          98,
          95,
          98,
          95,
          98,
          90,
          95,
          97,
          96,
          85,
          53,
          84,
          99,
          96,
          93,
          93,
          99,
          94,
          95,
          99,
          96,
          94,
          74,
          82,
          94,
          86,
          84,
          97,
          89,
          97,
          94,
          98,
          94,
          96,
          96,
          97,
          95,
          98,
          94,
          80,
          92,
          93,
          87,
          97,
          96,
          95,
          97,
          89,
          96,
          98,
          39,
          91,
          86,
          99,
          88,
          97,
          96,
          97,
          95,
          98,
          96,
          93,
          98,
          88,
          75,
          88,
          94,
          94,
          86,
          97,
          97,
          96,
          98,
          97,
          87,
          87,
          96,
          84,
          82,
          87,
          98,
          95,
          84,
          97,
          95,
          98,
          86,
          94,
          82,
          95,
          99,
          80,
          78,
          97,
          86,
          97,
          98,
          92,
          79,
          82,
          92,
          95,
          86,
          96,
          96,
          95,
          91,
          96,
          85,
          96,
          91,
          96,
          73,
          97,
          77,
          98,
          93,
          97,
          94,
          98,
          70,
          90,
          95,
          99,
          95,
          91,
          95,
          94,
          90,
          94,
          93,
          96,
          96,
          84,
          92,
          89,
          94,
          90,
          99,
          79,
          74,
          96,
          97,
          93,
          97,
          74,
          96,
          98,
          8,
          85,
          95,
          83,
          87,
          96,
          99,
          98,
          95,
          91,
          85,
          93,
          91,
          90,
          98,
          65,
          79,
          86,
          95,
          40,
          84,
          89,
          99,
          93,
          94,
          99,
          93,
          95,
          94,
          96,
          88,
          94,
          96,
          94,
          79,
          82,
          95,
          86,
          96,
          98,
          95,
          97,
          87,
          94,
          98,
          97,
          95,
          95,
          94,
          99,
          94,
          94,
          87,
          96,
          90,
          92,
          94,
          94,
          78,
          82,
          86,
          94,
          97,
          95,
          99,
          96,
          86,
          92,
          92,
          91,
          29,
          73,
          97,
          81,
          98,
          68,
          50,
          93,
          90,
          95,
          68,
          60,
          50,
          96,
          70,
          91,
          94,
          85,
          95,
          92,
          45,
          96,
          81,
          96,
          99,
          66,
          75,
          77,
          59,
          97,
          93,
          93,
          96,
          67,
          98,
          81,
          94,
          94,
          90,
          94,
          98,
          97,
          92,
          99,
          89,
          68,
          60,
          90,
          97,
          60,
          93,
          83,
          87,
          39,
          39,
          92,
          75,
          65,
          95,
          74,
          97,
          68,
          35,
          90,
          93,
          96,
          60,
          87,
          98,
          75,
          85,
          95,
          98,
          93,
          95,
          99,
          92,
          96,
          95,
          85,
          60,
          75,
          97,
          87,
          76,
          97,
          95,
          58,
          90,
          76,
          94,
          93,
          98,
          78,
          97,
          77,
          90,
          80,
          86,
          90,
          94,
          78,
          83,
          96,
          92,
          95,
          97,
          82,
          78,
          95,
          77,
          60,
          75,
          97,
          85,
          74,
          93,
          84,
          98,
          51,
          97,
          91,
          87,
          68,
          76,
          96,
          71,
          41,
          99,
          94,
          94,
          86,
          75,
          99,
          99,
          84,
          99,
          94,
          96,
          21,
          27,
          75,
          82,
          66,
          96,
          92,
          74,
          46,
          78,
          99,
          91,
          99,
          93,
          99,
          96,
          68,
          25,
          66,
          94,
          19,
          40,
          91,
          81,
          15,
          89,
          10,
          98,
          70,
          97,
          94,
          90,
          75,
          58,
          92,
          69,
          91,
          80,
          54,
          47,
          88,
          25,
          50,
          28,
          94,
          8,
          97,
          70,
          94,
          68,
          96,
          90,
          91,
          77,
          95,
          49,
          57,
          99,
          92,
          97,
          92,
          95,
          25,
          39,
          92,
          71,
          90,
          94,
          97,
          93,
          96,
          95,
          68,
          40,
          82,
          99,
          43,
          90,
          79,
          85,
          35,
          77,
          92,
          99,
          95,
          63,
          93,
          73,
          76,
          58,
          10,
          92,
          94,
          64,
          96,
          70,
          91,
          85,
          48,
          98,
          48,
          88,
          96,
          93,
          88,
          98,
          95,
          86,
          90,
          68,
          30,
          74,
          25,
          68,
          67,
          96,
          83,
          26,
          75,
          94,
          95,
          10,
          96,
          73,
          87,
          49,
          10,
          92,
          98,
          94,
          95,
          92,
          96,
          94,
          90,
          98,
          90,
          72,
          98,
          98,
          90,
          89,
          80,
          89,
          85,
          84,
          96,
          98,
          76,
          99,
          99,
          95,
          82,
          99,
          80,
          95,
          43,
          94,
          89,
          73,
          69,
          96,
          80,
          95,
          80,
          94,
          92,
          95,
          86,
          67,
          80,
          89,
          94,
          92,
          97,
          78,
          93,
          72,
          85,
          99,
          97,
          78,
          74,
          95,
          50,
          95,
          60,
          94,
          86,
          96,
          94,
          71,
          82,
          87,
          50,
          95,
          95,
          87,
          92,
          90,
          93,
          78,
          96,
          89,
          78,
          98,
          60,
          89,
          96,
          81,
          85,
          60,
          86,
          95,
          90,
          97,
          74,
          87,
          96,
          99,
          90,
          78,
          93,
          94,
          94,
          72,
          93,
          98,
          97,
          95,
          86,
          60,
          90,
          95,
          95,
          96,
          81,
          92,
          94,
          98,
          77,
          83,
          96,
          97,
          96,
          96,
          98,
          92,
          71,
          97,
          80,
          76,
          99,
          95,
          97,
          70
         ],
         "yaxis": "y"
        }
       ],
       "layout": {
        "autosize": true,
        "barmode": "relative",
        "legend": {
         "title": {
          "text": "IncomeGroup"
         },
         "tracegroupgap": 0
        },
        "template": {
         "data": {
          "bar": [
           {
            "error_x": {
             "color": "#2a3f5f"
            },
            "error_y": {
             "color": "#2a3f5f"
            },
            "marker": {
             "line": {
              "color": "#E5ECF6",
              "width": 0.5
             },
             "pattern": {
              "fillmode": "overlay",
              "size": 10,
              "solidity": 0.2
             }
            },
            "type": "bar"
           }
          ],
          "barpolar": [
           {
            "marker": {
             "line": {
              "color": "#E5ECF6",
              "width": 0.5
             },
             "pattern": {
              "fillmode": "overlay",
              "size": 10,
              "solidity": 0.2
             }
            },
            "type": "barpolar"
           }
          ],
          "carpet": [
           {
            "aaxis": {
             "endlinecolor": "#2a3f5f",
             "gridcolor": "white",
             "linecolor": "white",
             "minorgridcolor": "white",
             "startlinecolor": "#2a3f5f"
            },
            "baxis": {
             "endlinecolor": "#2a3f5f",
             "gridcolor": "white",
             "linecolor": "white",
             "minorgridcolor": "white",
             "startlinecolor": "#2a3f5f"
            },
            "type": "carpet"
           }
          ],
          "choropleth": [
           {
            "colorbar": {
             "outlinewidth": 0,
             "ticks": ""
            },
            "type": "choropleth"
           }
          ],
          "contour": [
           {
            "colorbar": {
             "outlinewidth": 0,
             "ticks": ""
            },
            "colorscale": [
             [
              0,
              "#0d0887"
             ],
             [
              0.1111111111111111,
              "#46039f"
             ],
             [
              0.2222222222222222,
              "#7201a8"
             ],
             [
              0.3333333333333333,
              "#9c179e"
             ],
             [
              0.4444444444444444,
              "#bd3786"
             ],
             [
              0.5555555555555556,
              "#d8576b"
             ],
             [
              0.6666666666666666,
              "#ed7953"
             ],
             [
              0.7777777777777778,
              "#fb9f3a"
             ],
             [
              0.8888888888888888,
              "#fdca26"
             ],
             [
              1,
              "#f0f921"
             ]
            ],
            "type": "contour"
           }
          ],
          "contourcarpet": [
           {
            "colorbar": {
             "outlinewidth": 0,
             "ticks": ""
            },
            "type": "contourcarpet"
           }
          ],
          "heatmap": [
           {
            "colorbar": {
             "outlinewidth": 0,
             "ticks": ""
            },
            "colorscale": [
             [
              0,
              "#0d0887"
             ],
             [
              0.1111111111111111,
              "#46039f"
             ],
             [
              0.2222222222222222,
              "#7201a8"
             ],
             [
              0.3333333333333333,
              "#9c179e"
             ],
             [
              0.4444444444444444,
              "#bd3786"
             ],
             [
              0.5555555555555556,
              "#d8576b"
             ],
             [
              0.6666666666666666,
              "#ed7953"
             ],
             [
              0.7777777777777778,
              "#fb9f3a"
             ],
             [
              0.8888888888888888,
              "#fdca26"
             ],
             [
              1,
              "#f0f921"
             ]
            ],
            "type": "heatmap"
           }
          ],
          "heatmapgl": [
           {
            "colorbar": {
             "outlinewidth": 0,
             "ticks": ""
            },
            "colorscale": [
             [
              0,
              "#0d0887"
             ],
             [
              0.1111111111111111,
              "#46039f"
             ],
             [
              0.2222222222222222,
              "#7201a8"
             ],
             [
              0.3333333333333333,
              "#9c179e"
             ],
             [
              0.4444444444444444,
              "#bd3786"
             ],
             [
              0.5555555555555556,
              "#d8576b"
             ],
             [
              0.6666666666666666,
              "#ed7953"
             ],
             [
              0.7777777777777778,
              "#fb9f3a"
             ],
             [
              0.8888888888888888,
              "#fdca26"
             ],
             [
              1,
              "#f0f921"
             ]
            ],
            "type": "heatmapgl"
           }
          ],
          "histogram": [
           {
            "marker": {
             "pattern": {
              "fillmode": "overlay",
              "size": 10,
              "solidity": 0.2
             }
            },
            "type": "histogram"
           }
          ],
          "histogram2d": [
           {
            "colorbar": {
             "outlinewidth": 0,
             "ticks": ""
            },
            "colorscale": [
             [
              0,
              "#0d0887"
             ],
             [
              0.1111111111111111,
              "#46039f"
             ],
             [
              0.2222222222222222,
              "#7201a8"
             ],
             [
              0.3333333333333333,
              "#9c179e"
             ],
             [
              0.4444444444444444,
              "#bd3786"
             ],
             [
              0.5555555555555556,
              "#d8576b"
             ],
             [
              0.6666666666666666,
              "#ed7953"
             ],
             [
              0.7777777777777778,
              "#fb9f3a"
             ],
             [
              0.8888888888888888,
              "#fdca26"
             ],
             [
              1,
              "#f0f921"
             ]
            ],
            "type": "histogram2d"
           }
          ],
          "histogram2dcontour": [
           {
            "colorbar": {
             "outlinewidth": 0,
             "ticks": ""
            },
            "colorscale": [
             [
              0,
              "#0d0887"
             ],
             [
              0.1111111111111111,
              "#46039f"
             ],
             [
              0.2222222222222222,
              "#7201a8"
             ],
             [
              0.3333333333333333,
              "#9c179e"
             ],
             [
              0.4444444444444444,
              "#bd3786"
             ],
             [
              0.5555555555555556,
              "#d8576b"
             ],
             [
              0.6666666666666666,
              "#ed7953"
             ],
             [
              0.7777777777777778,
              "#fb9f3a"
             ],
             [
              0.8888888888888888,
              "#fdca26"
             ],
             [
              1,
              "#f0f921"
             ]
            ],
            "type": "histogram2dcontour"
           }
          ],
          "mesh3d": [
           {
            "colorbar": {
             "outlinewidth": 0,
             "ticks": ""
            },
            "type": "mesh3d"
           }
          ],
          "parcoords": [
           {
            "line": {
             "colorbar": {
              "outlinewidth": 0,
              "ticks": ""
             }
            },
            "type": "parcoords"
           }
          ],
          "pie": [
           {
            "automargin": true,
            "type": "pie"
           }
          ],
          "scatter": [
           {
            "marker": {
             "colorbar": {
              "outlinewidth": 0,
              "ticks": ""
             }
            },
            "type": "scatter"
           }
          ],
          "scatter3d": [
           {
            "line": {
             "colorbar": {
              "outlinewidth": 0,
              "ticks": ""
             }
            },
            "marker": {
             "colorbar": {
              "outlinewidth": 0,
              "ticks": ""
             }
            },
            "type": "scatter3d"
           }
          ],
          "scattercarpet": [
           {
            "marker": {
             "colorbar": {
              "outlinewidth": 0,
              "ticks": ""
             }
            },
            "type": "scattercarpet"
           }
          ],
          "scattergeo": [
           {
            "marker": {
             "colorbar": {
              "outlinewidth": 0,
              "ticks": ""
             }
            },
            "type": "scattergeo"
           }
          ],
          "scattergl": [
           {
            "marker": {
             "colorbar": {
              "outlinewidth": 0,
              "ticks": ""
             }
            },
            "type": "scattergl"
           }
          ],
          "scattermapbox": [
           {
            "marker": {
             "colorbar": {
              "outlinewidth": 0,
              "ticks": ""
             }
            },
            "type": "scattermapbox"
           }
          ],
          "scatterpolar": [
           {
            "marker": {
             "colorbar": {
              "outlinewidth": 0,
              "ticks": ""
             }
            },
            "type": "scatterpolar"
           }
          ],
          "scatterpolargl": [
           {
            "marker": {
             "colorbar": {
              "outlinewidth": 0,
              "ticks": ""
             }
            },
            "type": "scatterpolargl"
           }
          ],
          "scatterternary": [
           {
            "marker": {
             "colorbar": {
              "outlinewidth": 0,
              "ticks": ""
             }
            },
            "type": "scatterternary"
           }
          ],
          "surface": [
           {
            "colorbar": {
             "outlinewidth": 0,
             "ticks": ""
            },
            "colorscale": [
             [
              0,
              "#0d0887"
             ],
             [
              0.1111111111111111,
              "#46039f"
             ],
             [
              0.2222222222222222,
              "#7201a8"
             ],
             [
              0.3333333333333333,
              "#9c179e"
             ],
             [
              0.4444444444444444,
              "#bd3786"
             ],
             [
              0.5555555555555556,
              "#d8576b"
             ],
             [
              0.6666666666666666,
              "#ed7953"
             ],
             [
              0.7777777777777778,
              "#fb9f3a"
             ],
             [
              0.8888888888888888,
              "#fdca26"
             ],
             [
              1,
              "#f0f921"
             ]
            ],
            "type": "surface"
           }
          ],
          "table": [
           {
            "cells": {
             "fill": {
              "color": "#EBF0F8"
             },
             "line": {
              "color": "white"
             }
            },
            "header": {
             "fill": {
              "color": "#C8D4E3"
             },
             "line": {
              "color": "white"
             }
            },
            "type": "table"
           }
          ]
         },
         "layout": {
          "annotationdefaults": {
           "arrowcolor": "#2a3f5f",
           "arrowhead": 0,
           "arrowwidth": 1
          },
          "autotypenumbers": "strict",
          "coloraxis": {
           "colorbar": {
            "outlinewidth": 0,
            "ticks": ""
           }
          },
          "colorscale": {
           "diverging": [
            [
             0,
             "#8e0152"
            ],
            [
             0.1,
             "#c51b7d"
            ],
            [
             0.2,
             "#de77ae"
            ],
            [
             0.3,
             "#f1b6da"
            ],
            [
             0.4,
             "#fde0ef"
            ],
            [
             0.5,
             "#f7f7f7"
            ],
            [
             0.6,
             "#e6f5d0"
            ],
            [
             0.7,
             "#b8e186"
            ],
            [
             0.8,
             "#7fbc41"
            ],
            [
             0.9,
             "#4d9221"
            ],
            [
             1,
             "#276419"
            ]
           ],
           "sequential": [
            [
             0,
             "#0d0887"
            ],
            [
             0.1111111111111111,
             "#46039f"
            ],
            [
             0.2222222222222222,
             "#7201a8"
            ],
            [
             0.3333333333333333,
             "#9c179e"
            ],
            [
             0.4444444444444444,
             "#bd3786"
            ],
            [
             0.5555555555555556,
             "#d8576b"
            ],
            [
             0.6666666666666666,
             "#ed7953"
            ],
            [
             0.7777777777777778,
             "#fb9f3a"
            ],
            [
             0.8888888888888888,
             "#fdca26"
            ],
            [
             1,
             "#f0f921"
            ]
           ],
           "sequentialminus": [
            [
             0,
             "#0d0887"
            ],
            [
             0.1111111111111111,
             "#46039f"
            ],
            [
             0.2222222222222222,
             "#7201a8"
            ],
            [
             0.3333333333333333,
             "#9c179e"
            ],
            [
             0.4444444444444444,
             "#bd3786"
            ],
            [
             0.5555555555555556,
             "#d8576b"
            ],
            [
             0.6666666666666666,
             "#ed7953"
            ],
            [
             0.7777777777777778,
             "#fb9f3a"
            ],
            [
             0.8888888888888888,
             "#fdca26"
            ],
            [
             1,
             "#f0f921"
            ]
           ]
          },
          "colorway": [
           "#636efa",
           "#EF553B",
           "#00cc96",
           "#ab63fa",
           "#FFA15A",
           "#19d3f3",
           "#FF6692",
           "#B6E880",
           "#FF97FF",
           "#FECB52"
          ],
          "font": {
           "color": "#2a3f5f"
          },
          "geo": {
           "bgcolor": "white",
           "lakecolor": "white",
           "landcolor": "#E5ECF6",
           "showlakes": true,
           "showland": true,
           "subunitcolor": "white"
          },
          "hoverlabel": {
           "align": "left"
          },
          "hovermode": "closest",
          "mapbox": {
           "style": "light"
          },
          "paper_bgcolor": "white",
          "plot_bgcolor": "#E5ECF6",
          "polar": {
           "angularaxis": {
            "gridcolor": "white",
            "linecolor": "white",
            "ticks": ""
           },
           "bgcolor": "#E5ECF6",
           "radialaxis": {
            "gridcolor": "white",
            "linecolor": "white",
            "ticks": ""
           }
          },
          "scene": {
           "xaxis": {
            "backgroundcolor": "#E5ECF6",
            "gridcolor": "white",
            "gridwidth": 2,
            "linecolor": "white",
            "showbackground": true,
            "ticks": "",
            "zerolinecolor": "white"
           },
           "yaxis": {
            "backgroundcolor": "#E5ECF6",
            "gridcolor": "white",
            "gridwidth": 2,
            "linecolor": "white",
            "showbackground": true,
            "ticks": "",
            "zerolinecolor": "white"
           },
           "zaxis": {
            "backgroundcolor": "#E5ECF6",
            "gridcolor": "white",
            "gridwidth": 2,
            "linecolor": "white",
            "showbackground": true,
            "ticks": "",
            "zerolinecolor": "white"
           }
          },
          "shapedefaults": {
           "line": {
            "color": "#2a3f5f"
           }
          },
          "ternary": {
           "aaxis": {
            "gridcolor": "white",
            "linecolor": "white",
            "ticks": ""
           },
           "baxis": {
            "gridcolor": "white",
            "linecolor": "white",
            "ticks": ""
           },
           "bgcolor": "#E5ECF6",
           "caxis": {
            "gridcolor": "white",
            "linecolor": "white",
            "ticks": ""
           }
          },
          "title": {
           "x": 0.05
          },
          "xaxis": {
           "automargin": true,
           "gridcolor": "white",
           "linecolor": "white",
           "ticks": "",
           "title": {
            "standoff": 15
           },
           "zerolinecolor": "white",
           "zerolinewidth": 2
          },
          "yaxis": {
           "automargin": true,
           "gridcolor": "white",
           "linecolor": "white",
           "ticks": "",
           "title": {
            "standoff": 15
           },
           "zerolinecolor": "white",
           "zerolinewidth": 2
          }
         }
        },
        "title": {
         "text": "Measles vaccination rates in different countries based on income group: 12-23 months old children"
        },
        "xaxis": {
         "anchor": "y",
         "autorange": true,
         "domain": [
          0,
          1
         ],
         "dtick": 1,
         "range": [
          1979.5,
          2019.5
         ],
         "tick0": 0,
         "title": {
          "text": "Time evolution"
         },
         "type": "linear"
        },
        "yaxis": {
         "anchor": "x",
         "autorange": true,
         "domain": [
          0,
          1
         ],
         "range": [
          0,
          5568.421052631579
         ],
         "title": {
          "text": "Vaccination count"
         },
         "type": "linear"
        }
       }
      },
      "image/png": "[encoded data removed]",
      "text/html": [
       "<div>                            <div id=\"2de89aa3-88e6-41df-a555-8dfd27511919\" class=\"plotly-graph-div\" style=\"height:525px; width:100%;\"></div>            <script type=\"text/javascript\">                require([\"plotly\"], function(Plotly) {                    window.PLOTLYENV=window.PLOTLYENV || {};                                    if (document.getElementById(\"2de89aa3-88e6-41df-a555-8dfd27511919\")) {                    Plotly.newPlot(                        \"2de89aa3-88e6-41df-a555-8dfd27511919\",                        [{\"alignmentgroup\":\"True\",\"customdata\":[[\"Uganda\"],[\"Afghanistan\"],[\"Ethiopia\"],[\"South Sudan\"],[\"Afghanistan\"],[\"South Sudan\"],[\"Afghanistan\"],[\"Uganda\"],[\"Uganda\"],[\"Uganda\"],[\"Afghanistan\"],[\"Ethiopia\"],[\"Ethiopia\"],[\"Uganda\"],[\"Ethiopia\"],[\"Afghanistan\"],[\"Afghanistan\"],[\"Uganda\"],[\"Uganda\"],[\"Uganda\"],[\"Afghanistan\"],[\"South Sudan\"],[\"Ethiopia\"],[\"Ethiopia\"],[\"Afghanistan\"],[\"Uganda\"],[\"Ethiopia\"],[\"Ethiopia\"],[\"Ethiopia\"],[\"Uganda\"],[\"Uganda\"],[\"Ethiopia\"],[\"Uganda\"],[\"Afghanistan\"],[\"Uganda\"],[\"Uganda\"],[\"Uganda\"],[\"Ethiopia\"],[\"Afghanistan\"],[\"Afghanistan\"],[\"South Sudan\"],[\"Ethiopia\"],[\"Ethiopia\"],[\"Afghanistan\"],[\"Ethiopia\"],[\"Ethiopia\"],[\"Afghanistan\"],[\"Afghanistan\"],[\"Ethiopia\"],[\"Ethiopia\"],[\"Uganda\"],[\"Uganda\"],[\"Uganda\"],[\"Afghanistan\"],[\"Ethiopia\"],[\"Afghanistan\"],[\"South Sudan\"],[\"Afghanistan\"],[\"Ethiopia\"],[\"Ethiopia\"],[\"South Sudan\"],[\"Uganda\"],[\"Uganda\"],[\"Afghanistan\"],[\"South Sudan\"],[\"Uganda\"],[\"Uganda\"],[\"Afghanistan\"],[\"Ethiopia\"],[\"Uganda\"],[\"Ethiopia\"],[\"Uganda\"],[\"Ethiopia\"],[\"Ethiopia\"],[\"Afghanistan\"],[\"Uganda\"],[\"Ethiopia\"],[\"Uganda\"],[\"Uganda\"],[\"Ethiopia\"],[\"Uganda\"],[\"South Sudan\"],[\"Afghanistan\"],[\"Afghanistan\"],[\"Ethiopia\"],[\"Afghanistan\"],[\"Afghanistan\"],[\"Ethiopia\"],[\"Afghanistan\"],[\"Afghanistan\"],[\"Ethiopia\"],[\"Afghanistan\"],[\"Ethiopia\"],[\"Uganda\"],[\"Ethiopia\"],[\"Uganda\"],[\"Uganda\"],[\"Afghanistan\"],[\"Ethiopia\"],[\"Ethiopia\"],[\"Ethiopia\"],[\"Afghanistan\"],[\"Uganda\"],[\"Uganda\"],[\"Ethiopia\"],[\"Afghanistan\"],[\"Afghanistan\"],[\"Afghanistan\"],[\"Uganda\"],[\"Afghanistan\"],[\"Ethiopia\"],[\"Uganda\"],[\"Ethiopia\"],[\"Afghanistan\"],[\"Afghanistan\"],[\"Uganda\"],[\"Uganda\"],[\"South Sudan\"],[\"Ethiopia\"],[\"Afghanistan\"],[\"Ethiopia\"],[\"Ethiopia\"],[\"Afghanistan\"],[\"Uganda\"],[\"Uganda\"],[\"Afghanistan\"],[\"Afghanistan\"]],\"hovertemplate\":\"IncomeGroup=Low income<br>year=%{x}<br>value_=%{y}<br>Country Name=%{customdata[0]}<extra></extra>\",\"legendgroup\":\"Low income\",\"marker\":{\"color\":\"#636efa\",\"pattern\":{\"shape\":\"\"}},\"name\":\"Low income\",\"offsetgroup\":\"Low income\",\"orientation\":\"v\",\"showlegend\":true,\"textposition\":\"auto\",\"x\":[2014,2019,2007,2018,1985,2014,2007,2018,1998,1984,2002,2008,1984,2013,1982,2014,1982,2008,1981,1996,2009,2019,2009,1981,1997,2019,2014,1980,1997,1997,2009,2010,1982,1984,1995,1983,2007,2019,1996,2008,2013,1998,1995,2010,1983,1996,1983,1998,1985,2018,2006,2015,1989,2017,2001,2016,2011,2001,2017,1989,2015,2000,2003,1989,2012,1992,1988,2004,2003,2011,1992,2016,2002,1991,1991,2001,2012,1990,1991,2016,2002,2016,1992,2012,1990,2003,1990,2004,1993,1999,2015,2011,1994,1986,2013,2010,2005,2006,1986,1993,2006,1986,1985,1994,1999,1995,2015,1987,1999,1994,1987,2012,1988,1988,2013,2004,1987,2017,2000,2005,2011,2005,2000,2017,1993,2018,1980],\"xaxis\":\"x\",\"y\":[85.0,64.0,49.0,49.0,14.0,55.0,55.0,86.0,50.0,18.0,35.0,54.0,8.0,83.0,7.0,60.0,8.0,70.0,22.0,55.0,60.0,49.0,59.0,3.0,38.0,87.0,54.0,4.0,51.0,54.0,77.0,64.0,21.0,14.0,57.0,20.0,75.0,58.0,42.0,59.0,58.0,44.0,38.0,62.0,7.0,54.0,9.0,31.0,12.0,55.0,75.0,79.0,51.0,64.0,35.0,64.0,62.0,37.0,59.0,23.0,53.0,57.0,64.0,22.0,60.0,56.0,49.0,48.0,35.0,75.0,12.0,79.0,36.0,17.0,19.0,59.0,62.0,52.0,54.0,57.0,62.0,51.0,22.0,59.0,38.0,39.0,20.0,35.0,25.0,31.0,56.0,64.0,54.0,27.0,55.0,73.0,68.0,53.0,10.0,22.0,44.0,14.0,17.0,59.0,37.0,41.0,63.0,31.0,55.0,40.0,13.0,80.0,15.0,34.0,57.0,66.0,38.0,50.0,36.0,50.0,68.0,40.0,27.0,83.0,57.0,64.0,11.0],\"yaxis\":\"y\",\"type\":\"bar\"},{\"alignmentgroup\":\"True\",\"customdata\":[[\"Mauritania\"],[\"Lesotho\"],[\"Micronesia, Fed. Sts.\"],[\"Zimbabwe\"],[\"Egypt, Arab Rep.\"],[\"Iran, Islamic Rep.\"],[\"Samoa\"],[\"Kenya\"],[\"Zambia\"],[\"Pakistan\"],[\"Mauritania\"],[\"Haiti\"],[\"Sao Tome and Principe\"],[\"Myanmar\"],[\"Myanmar\"],[\"Eswatini\"],[\"Indonesia\"],[\"Bangladesh\"],[\"India\"],[\"Nepal\"],[\"India\"],[\"Nepal\"],[\"Egypt, Arab Rep.\"],[\"Nepal\"],[\"Pakistan\"],[\"Sao Tome and Principe\"],[\"Eswatini\"],[\"Samoa\"],[\"Zambia\"],[\"Zimbabwe\"],[\"Bangladesh\"],[\"Micronesia, Fed. Sts.\"],[\"Pakistan\"],[\"Haiti\"],[\"Indonesia\"],[\"India\"],[\"Iran, Islamic Rep.\"],[\"Kenya\"],[\"Lesotho\"],[\"Myanmar\"],[\"Mauritania\"],[\"Mauritania\"],[\"Myanmar\"],[\"Lesotho\"],[\"Kenya\"],[\"Lesotho\"],[\"Myanmar\"],[\"Mauritania\"],[\"Nepal\"],[\"Pakistan\"],[\"Sao Tome and Principe\"],[\"Eswatini\"],[\"Samoa\"],[\"Zambia\"],[\"Zimbabwe\"],[\"Bangladesh\"],[\"Egypt, Arab Rep.\"],[\"Micronesia, Fed. Sts.\"],[\"Haiti\"],[\"Indonesia\"],[\"India\"],[\"Iran, Islamic Rep.\"],[\"Nepal\"],[\"Pakistan\"],[\"Sao Tome and Principe\"],[\"Zambia\"],[\"Bangladesh\"],[\"Egypt, Arab Rep.\"],[\"Micronesia, Fed. Sts.\"],[\"Haiti\"],[\"Indonesia\"],[\"India\"],[\"Iran, Islamic Rep.\"],[\"Kenya\"],[\"Lesotho\"],[\"Myanmar\"],[\"Mauritania\"],[\"Nepal\"],[\"Pakistan\"],[\"Sao Tome and Principe\"],[\"Eswatini\"],[\"Samoa\"],[\"Zambia\"],[\"Zimbabwe\"],[\"Samoa\"],[\"Eswatini\"],[\"Eswatini\"],[\"Samoa\"],[\"Zambia\"],[\"Zimbabwe\"],[\"Bangladesh\"],[\"Egypt, Arab Rep.\"],[\"Micronesia, Fed. Sts.\"],[\"Haiti\"],[\"Indonesia\"],[\"India\"],[\"Iran, Islamic Rep.\"],[\"Kenya\"],[\"Lesotho\"],[\"Myanmar\"],[\"Mauritania\"],[\"Nepal\"],[\"Pakistan\"],[\"Sao Tome and Principe\"],[\"Kenya\"],[\"Iran, Islamic Rep.\"],[\"India\"],[\"Eswatini\"],[\"Zambia\"],[\"Zimbabwe\"],[\"Bangladesh\"],[\"Egypt, Arab Rep.\"],[\"Micronesia, Fed. Sts.\"],[\"Haiti\"],[\"Indonesia\"],[\"India\"],[\"Iran, Islamic Rep.\"],[\"Kenya\"],[\"Lesotho\"],[\"Myanmar\"],[\"Mauritania\"],[\"Nepal\"],[\"Pakistan\"],[\"Sao Tome and Principe\"],[\"Eswatini\"],[\"Samoa\"],[\"Sao Tome and Principe\"],[\"Zambia\"],[\"Pakistan\"],[\"Sao Tome and Principe\"],[\"Eswatini\"],[\"Samoa\"],[\"Zambia\"],[\"Zimbabwe\"],[\"Bangladesh\"],[\"Egypt, Arab Rep.\"],[\"Micronesia, Fed. Sts.\"],[\"Haiti\"],[\"Indonesia\"],[\"India\"],[\"Iran, Islamic Rep.\"],[\"Kenya\"],[\"Lesotho\"],[\"Myanmar\"],[\"Mauritania\"],[\"Nepal\"],[\"Samoa\"],[\"Zimbabwe\"],[\"Indonesia\"],[\"Micronesia, Fed. Sts.\"],[\"India\"],[\"Iran, Islamic Rep.\"],[\"Kenya\"],[\"Lesotho\"],[\"Myanmar\"],[\"Mauritania\"],[\"Nepal\"],[\"Pakistan\"],[\"Sao Tome and Principe\"],[\"Eswatini\"],[\"Samoa\"],[\"Zambia\"],[\"Zimbabwe\"],[\"Bangladesh\"],[\"Egypt, Arab Rep.\"],[\"Micronesia, Fed. Sts.\"],[\"Haiti\"],[\"Haiti\"],[\"Egypt, Arab Rep.\"],[\"Bangladesh\"],[\"Bangladesh\"],[\"Egypt, Arab Rep.\"],[\"Micronesia, Fed. Sts.\"],[\"Haiti\"],[\"Indonesia\"],[\"India\"],[\"Iran, Islamic Rep.\"],[\"Kenya\"],[\"Lesotho\"],[\"Myanmar\"],[\"Mauritania\"],[\"Nepal\"],[\"Pakistan\"],[\"Sao Tome and Principe\"],[\"Eswatini\"],[\"Samoa\"],[\"Zambia\"],[\"Zimbabwe\"],[\"Indonesia\"],[\"Zimbabwe\"],[\"Lesotho\"],[\"Bangladesh\"],[\"Iran, Islamic Rep.\"],[\"India\"],[\"Indonesia\"],[\"Haiti\"],[\"Micronesia, Fed. Sts.\"],[\"Egypt, Arab Rep.\"],[\"Zimbabwe\"],[\"Haiti\"],[\"Zambia\"],[\"Samoa\"],[\"Eswatini\"],[\"Sao Tome and Principe\"],[\"Pakistan\"],[\"Nepal\"],[\"Kenya\"],[\"Lesotho\"],[\"Myanmar\"],[\"Mauritania\"],[\"Nepal\"],[\"Pakistan\"],[\"Sao Tome and Principe\"],[\"Eswatini\"],[\"Samoa\"],[\"Zambia\"],[\"Zimbabwe\"],[\"Bangladesh\"],[\"Egypt, Arab Rep.\"],[\"Micronesia, Fed. Sts.\"],[\"Haiti\"],[\"Indonesia\"],[\"India\"],[\"Mauritania\"],[\"Myanmar\"],[\"Lesotho\"],[\"Myanmar\"],[\"Sao Tome and Principe\"],[\"Eswatini\"],[\"Samoa\"],[\"Zambia\"],[\"Zimbabwe\"],[\"Bangladesh\"],[\"Egypt, Arab Rep.\"],[\"Micronesia, Fed. Sts.\"],[\"Haiti\"],[\"Indonesia\"],[\"India\"],[\"Iran, Islamic Rep.\"],[\"Kenya\"],[\"Lesotho\"],[\"Mauritania\"],[\"Kenya\"],[\"Nepal\"],[\"Pakistan\"],[\"Sao Tome and Principe\"],[\"Eswatini\"],[\"Samoa\"],[\"Zambia\"],[\"Zimbabwe\"],[\"Bangladesh\"],[\"Egypt, Arab Rep.\"],[\"Micronesia, Fed. Sts.\"],[\"Haiti\"],[\"Indonesia\"],[\"India\"],[\"Iran, Islamic Rep.\"],[\"Iran, Islamic Rep.\"],[\"Kenya\"],[\"Lesotho\"],[\"Indonesia\"],[\"Lesotho\"],[\"Myanmar\"],[\"Kenya\"],[\"Nepal\"],[\"Pakistan\"],[\"Sao Tome and Principe\"],[\"Eswatini\"],[\"Samoa\"],[\"Zambia\"],[\"Zimbabwe\"],[\"Bangladesh\"],[\"Egypt, Arab Rep.\"],[\"Micronesia, Fed. Sts.\"],[\"Haiti\"],[\"India\"],[\"Iran, Islamic Rep.\"],[\"Iran, Islamic Rep.\"],[\"Kenya\"],[\"Lesotho\"],[\"Myanmar\"],[\"Mauritania\"],[\"Nepal\"],[\"Pakistan\"],[\"Sao Tome and Principe\"],[\"Eswatini\"],[\"Samoa\"],[\"Zambia\"],[\"Zimbabwe\"],[\"Bangladesh\"],[\"Egypt, Arab Rep.\"],[\"Kenya\"],[\"India\"],[\"Myanmar\"],[\"Iran, Islamic Rep.\"],[\"Mauritania\"],[\"Nepal\"],[\"Pakistan\"],[\"Sao Tome and Principe\"],[\"Eswatini\"],[\"Samoa\"],[\"Zambia\"],[\"Zimbabwe\"],[\"Bangladesh\"],[\"Egypt, Arab Rep.\"],[\"Micronesia, Fed. Sts.\"],[\"Haiti\"],[\"Indonesia\"],[\"India\"],[\"Kenya\"],[\"Indonesia\"],[\"Lesotho\"],[\"Myanmar\"],[\"Mauritania\"],[\"Nepal\"],[\"Pakistan\"],[\"Sao Tome and Principe\"],[\"Eswatini\"],[\"Samoa\"],[\"Zambia\"],[\"Zimbabwe\"],[\"Bangladesh\"],[\"Egypt, Arab Rep.\"],[\"Micronesia, Fed. Sts.\"],[\"Haiti\"],[\"Pakistan\"],[\"Nepal\"],[\"Mauritania\"],[\"Pakistan\"],[\"Sao Tome and Principe\"],[\"Eswatini\"],[\"Samoa\"],[\"Zambia\"],[\"Zimbabwe\"],[\"Bangladesh\"],[\"Egypt, Arab Rep.\"],[\"Haiti\"],[\"Indonesia\"],[\"Iran, Islamic Rep.\"],[\"Kenya\"],[\"Lesotho\"],[\"Mauritania\"],[\"Nepal\"],[\"Sao Tome and Principe\"],[\"Nepal\"],[\"Eswatini\"],[\"Samoa\"],[\"Zambia\"],[\"Zimbabwe\"],[\"Bangladesh\"],[\"Egypt, Arab Rep.\"],[\"Haiti\"],[\"Indonesia\"],[\"India\"],[\"Iran, Islamic Rep.\"],[\"Kenya\"],[\"Lesotho\"],[\"Mauritania\"],[\"Nepal\"],[\"Pakistan\"],[\"Mauritania\"],[\"Sao Tome and Principe\"],[\"Egypt, Arab Rep.\"],[\"Egypt, Arab Rep.\"],[\"Iran, Islamic Rep.\"],[\"Lesotho\"],[\"Pakistan\"],[\"Egypt, Arab Rep.\"],[\"Iran, Islamic Rep.\"],[\"Lesotho\"],[\"Mauritania\"],[\"Nepal\"],[\"Pakistan\"],[\"Sao Tome and Principe\"],[\"Eswatini\"],[\"Zimbabwe\"],[\"Bangladesh\"],[\"Haiti\"],[\"Lesotho\"],[\"Iran, Islamic Rep.\"],[\"Lesotho\"],[\"Mauritania\"],[\"Nepal\"],[\"Pakistan\"],[\"Sao Tome and Principe\"],[\"Eswatini\"],[\"Samoa\"],[\"Zimbabwe\"],[\"Bangladesh\"],[\"Egypt, Arab Rep.\"],[\"Haiti\"],[\"Indonesia\"],[\"Iran, Islamic Rep.\"],[\"Pakistan\"],[\"Eswatini\"],[\"Myanmar\"],[\"Nepal\"],[\"Samoa\"],[\"Zambia\"],[\"Zimbabwe\"],[\"Bangladesh\"],[\"Egypt, Arab Rep.\"],[\"Micronesia, Fed. Sts.\"],[\"Haiti\"],[\"Indonesia\"],[\"India\"],[\"Iran, Islamic Rep.\"],[\"Kenya\"],[\"Lesotho\"],[\"Myanmar\"],[\"Mauritania\"],[\"Pakistan\"],[\"Sao Tome and Principe\"],[\"Sao Tome and Principe\"],[\"Eswatini\"],[\"Samoa\"],[\"Zambia\"],[\"Zimbabwe\"],[\"Bangladesh\"],[\"Egypt, Arab Rep.\"],[\"Micronesia, Fed. Sts.\"],[\"Haiti\"],[\"Indonesia\"],[\"India\"],[\"Iran, Islamic Rep.\"],[\"Kenya\"],[\"Lesotho\"],[\"Eswatini\"],[\"Pakistan\"],[\"Samoa\"],[\"Sao Tome and Principe\"],[\"Zambia\"],[\"Zimbabwe\"],[\"Bangladesh\"],[\"Egypt, Arab Rep.\"],[\"Haiti\"],[\"Indonesia\"],[\"India\"],[\"Iran, Islamic Rep.\"],[\"Kenya\"],[\"Lesotho\"],[\"Myanmar\"],[\"Mauritania\"],[\"Nepal\"],[\"Pakistan\"],[\"Eswatini\"],[\"Nepal\"],[\"Samoa\"],[\"Zambia\"],[\"Zimbabwe\"],[\"Bangladesh\"],[\"Egypt, Arab Rep.\"],[\"Micronesia, Fed. Sts.\"],[\"Haiti\"],[\"Indonesia\"],[\"India\"],[\"Iran, Islamic Rep.\"],[\"Kenya\"],[\"Lesotho\"],[\"Myanmar\"],[\"Mauritania\"],[\"Micronesia, Fed. Sts.\"],[\"Mauritania\"],[\"Indonesia\"],[\"Eswatini\"],[\"Bangladesh\"],[\"Egypt, Arab Rep.\"],[\"Micronesia, Fed. Sts.\"],[\"Haiti\"],[\"Indonesia\"],[\"India\"],[\"Iran, Islamic Rep.\"],[\"Kenya\"],[\"Lesotho\"],[\"Myanmar\"],[\"Mauritania\"],[\"Nepal\"],[\"Pakistan\"],[\"Sao Tome and Principe\"],[\"Samoa\"],[\"Sao Tome and Principe\"],[\"Zambia\"],[\"Zimbabwe\"],[\"Bangladesh\"],[\"Egypt, Arab Rep.\"],[\"Micronesia, Fed. Sts.\"],[\"Haiti\"],[\"Indonesia\"],[\"India\"],[\"Iran, Islamic Rep.\"],[\"Kenya\"],[\"Lesotho\"],[\"Myanmar\"],[\"Mauritania\"],[\"Nepal\"],[\"Zimbabwe\"],[\"Zambia\"],[\"Samoa\"],[\"Eswatini\"],[\"Micronesia, Fed. Sts.\"],[\"Haiti\"],[\"Indonesia\"],[\"Iran, Islamic Rep.\"],[\"Kenya\"],[\"Lesotho\"],[\"Myanmar\"],[\"Mauritania\"],[\"Nepal\"],[\"Pakistan\"],[\"Sao Tome and Principe\"],[\"Eswatini\"],[\"Samoa\"],[\"Zambia\"],[\"Zimbabwe\"],[\"Bangladesh\"],[\"Egypt, Arab Rep.\"],[\"Micronesia, Fed. Sts.\"],[\"Haiti\"],[\"Indonesia\"],[\"India\"],[\"Iran, Islamic Rep.\"],[\"Kenya\"],[\"Lesotho\"],[\"Myanmar\"],[\"Mauritania\"],[\"Nepal\"],[\"Pakistan\"],[\"Sao Tome and Principe\"],[\"Pakistan\"],[\"Eswatini\"],[\"Bangladesh\"],[\"Myanmar\"],[\"Sao Tome and Principe\"],[\"Eswatini\"],[\"Samoa\"],[\"Zambia\"],[\"Zimbabwe\"],[\"Bangladesh\"],[\"Egypt, Arab Rep.\"],[\"Micronesia, Fed. Sts.\"],[\"Haiti\"],[\"Indonesia\"],[\"India\"],[\"Iran, Islamic Rep.\"],[\"Kenya\"],[\"Lesotho\"],[\"Mauritania\"],[\"Samoa\"],[\"Nepal\"],[\"Pakistan\"],[\"Sao Tome and Principe\"],[\"Eswatini\"],[\"Samoa\"],[\"Zambia\"],[\"Zimbabwe\"],[\"Bangladesh\"],[\"Egypt, Arab Rep.\"],[\"Micronesia, Fed. Sts.\"],[\"Haiti\"],[\"Indonesia\"],[\"India\"],[\"Iran, Islamic Rep.\"],[\"Pakistan\"],[\"Nepal\"],[\"Mauritania\"],[\"Myanmar\"],[\"Zambia\"],[\"Zimbabwe\"],[\"Bangladesh\"],[\"Egypt, Arab Rep.\"],[\"Micronesia, Fed. Sts.\"],[\"Haiti\"],[\"Indonesia\"],[\"India\"],[\"Iran, Islamic Rep.\"],[\"Kenya\"],[\"Lesotho\"],[\"Myanmar\"],[\"Mauritania\"],[\"Nepal\"],[\"Pakistan\"],[\"Sao Tome and Principe\"],[\"Eswatini\"],[\"Samoa\"],[\"Zambia\"],[\"Zimbabwe\"],[\"Bangladesh\"],[\"Egypt, Arab Rep.\"],[\"Micronesia, Fed. Sts.\"],[\"Haiti\"],[\"Indonesia\"],[\"India\"],[\"Iran, Islamic Rep.\"],[\"Kenya\"],[\"Lesotho\"],[\"Egypt, Arab Rep.\"],[\"India\"],[\"Samoa\"],[\"Zimbabwe\"],[\"Lesotho\"],[\"Nepal\"],[\"Myanmar\"],[\"Mauritania\"],[\"Pakistan\"],[\"Nepal\"],[\"Mauritania\"],[\"Myanmar\"],[\"Pakistan\"],[\"Sao Tome and Principe\"],[\"Egypt, Arab Rep.\"],[\"Lesotho\"],[\"Bangladesh\"],[\"Eswatini\"],[\"Sao Tome and Principe\"],[\"Eswatini\"],[\"Kenya\"],[\"Zimbabwe\"],[\"Zambia\"],[\"Kenya\"],[\"Iran, Islamic Rep.\"],[\"Kenya\"],[\"India\"],[\"Iran, Islamic Rep.\"],[\"Samoa\"],[\"Zambia\"],[\"Zimbabwe\"],[\"Eswatini\"],[\"India\"],[\"Myanmar\"],[\"Bangladesh\"],[\"Egypt, Arab Rep.\"],[\"Indonesia\"],[\"Mauritania\"],[\"Nepal\"],[\"Micronesia, Fed. Sts.\"],[\"Haiti\"],[\"Haiti\"],[\"Micronesia, Fed. Sts.\"],[\"Sao Tome and Principe\"],[\"Indonesia\"],[\"Pakistan\"],[\"Samoa\"],[\"Lesotho\"],[\"Mauritania\"],[\"Egypt, Arab Rep.\"],[\"Iran, Islamic Rep.\"],[\"Zambia\"],[\"Myanmar\"],[\"Lesotho\"],[\"Kenya\"],[\"Samoa\"],[\"Lesotho\"],[\"Myanmar\"],[\"Micronesia, Fed. Sts.\"],[\"Bangladesh\"],[\"Mauritania\"],[\"Nepal\"],[\"Pakistan\"],[\"Sao Tome and Principe\"],[\"Kenya\"],[\"Iran, Islamic Rep.\"],[\"Zambia\"],[\"Eswatini\"],[\"Haiti\"],[\"Zimbabwe\"],[\"Zimbabwe\"],[\"Eswatini\"],[\"Sao Tome and Principe\"],[\"Egypt, Arab Rep.\"],[\"Iran, Islamic Rep.\"],[\"Micronesia, Fed. Sts.\"],[\"India\"],[\"Indonesia\"],[\"Pakistan\"],[\"Zambia\"],[\"India\"],[\"Indonesia\"],[\"Haiti\"],[\"Nepal\"],[\"Samoa\"],[\"Bangladesh\"]],\"hovertemplate\":\"IncomeGroup=Lower middle income<br>year=%{x}<br>value_=%{y}<br>Country Name=%{customdata[0]}<extra></extra>\",\"legendgroup\":\"Lower middle income\",\"marker\":{\"color\":\"#EF553B\",\"pattern\":{\"shape\":\"\"}},\"name\":\"Lower middle income\",\"offsetgroup\":\"Lower middle income\",\"orientation\":\"v\",\"showlegend\":true,\"textposition\":\"auto\",\"x\":[2010,2010,2010,2009,2010,2010,2009,2010,2009,2009,2009,2010,2009,2010,2009,2009,2010,2010,2010,2009,2002,2010,2017,2016,2016,2016,2016,2016,2016,2016,2017,2017,2010,2017,2017,2017,2017,2017,2017,2017,2017,2016,2016,2016,2016,2015,2015,2015,2015,2015,2015,2015,2015,2015,2015,2016,2016,2016,2016,2016,2016,2016,2017,2017,2017,2018,2019,2019,2019,2019,2019,2019,2019,2019,2019,2019,2019,2019,2019,2019,2019,2019,2019,2018,2018,2017,2018,2017,2017,2017,2018,2018,2018,2018,2018,2018,2018,2018,2018,2018,2018,2018,2018,2018,2015,2015,2015,2011,2011,2011,2012,2012,2012,2012,2012,2012,2012,2012,2012,2012,2012,2012,2012,2012,2012,2011,2011,2012,2011,2010,2010,2010,2010,2010,2011,2011,2011,2011,2011,2011,2011,2011,2011,2011,2011,2011,2012,2012,2015,2014,2014,2014,2014,2014,2014,2014,2014,2014,2014,2014,2014,2014,2014,2015,2015,2015,2015,2014,2014,2013,2014,2013,2013,2013,2013,2013,2013,2013,2013,2013,2013,2013,2013,2013,2013,2013,2013,2013,2014,2019,2009,1992,1992,1992,1992,1992,1992,1992,1991,1997,1991,1991,1991,1991,1991,1991,1992,1992,1992,1992,1992,1992,1992,1992,1992,1992,1992,1993,1993,1993,1993,1993,1993,1991,1991,1991,1990,1989,1989,1989,1989,1989,1990,1990,1990,1990,1990,1990,1990,1990,1990,1990,1991,1990,1990,1990,1990,1990,1990,1990,1991,1991,1991,1991,1991,1991,1991,1993,1993,1993,1996,1995,1995,2009,1995,1995,1995,1995,1995,1995,1995,1996,1996,1996,1996,1996,1995,1996,1996,1996,1996,1996,1996,1996,1996,1996,1996,1996,1996,1997,1997,1995,1995,1993,1994,1993,1993,1993,1993,1993,1993,1993,1993,1994,1994,1994,1994,1994,1994,1994,1995,1994,1994,1994,1994,1994,1994,1994,1994,1994,1994,1995,1995,1995,1995,1989,1989,1989,1984,1983,1983,1983,1983,1983,1984,1984,1984,1984,1984,1984,1984,1984,1984,1984,1983,1984,1984,1984,1984,1985,1985,1985,1985,1985,1985,1985,1985,1985,1985,1983,1983,1985,1982,1980,1980,1980,1980,1981,1981,1981,1981,1981,1981,1981,1981,1981,1982,1982,1983,1982,1982,1982,1982,1982,1982,1982,1982,1982,1983,1983,1983,1983,1983,1985,1985,1989,1988,1987,1987,1987,1988,1988,1988,1988,1988,1988,1988,1988,1988,1988,1988,1988,1987,1988,1988,1988,1988,1988,1989,1989,1989,1989,1989,1989,1989,1989,1989,1987,1987,1985,1986,1985,1985,1986,1986,1986,1986,1986,1986,1986,1986,1986,1986,1986,1986,1986,1987,1986,1986,1986,1987,1987,1987,1987,1987,1987,1987,1987,1987,1987,1987,1997,1995,1997,2004,2004,2004,2004,2004,2004,2004,2004,2004,2004,2004,2004,2004,2004,2004,2004,2005,2004,2004,2005,2005,2005,2005,2005,2005,2005,2005,2005,2005,2005,2005,2003,2003,2003,2003,2002,2002,2002,2002,2002,2002,2002,2002,2002,2002,2002,2002,2002,2002,2002,2003,2003,2003,2003,2003,1997,2003,2003,2003,2003,2003,2003,2003,2003,2005,2005,2002,2008,2007,2007,2007,2007,2007,2008,2008,2008,2008,2008,2008,2008,2008,2008,2008,2005,2008,2008,2008,2008,2008,2008,2008,2009,2009,2009,2009,2009,2009,2009,2007,2007,2007,2007,2005,2005,2006,2006,2006,2006,2006,2006,2006,2006,2006,2006,2006,2006,2006,2006,2006,2006,2006,2006,2007,2007,2007,2007,2007,2007,2007,2007,2007,2002,2003,1997,2001,2000,1999,2000,2000,1998,2000,1999,1999,2000,2000,1998,1999,1998,2000,1998,1998,1999,1997,1997,2000,2000,1998,2000,1998,1999,1999,1999,1999,1998,1998,2000,2000,1998,1998,1998,2000,2000,1998,1998,1999,2000,1999,2000,1998,1997,1999,2001,2000,1997,1997,2001,2001,2001,2001,1999,1999,2001,2001,2001,2001,1997,1997,2001,2001,2001,1998,2000,1997,1997,2001,1999,2001,2001,2001,1997,1998,1999,1999,1999,1997,1998,2001],\"xaxis\":\"x\",\"y\":[67.0,88.0,80.0,76.0,96.0,99.0,45.0,86.0,90.0,56.0,59.0,64.0,90.0,88.0,87.0,94.0,78.0,88.0,82.0,90.0,56.0,86.0,94.0,83.0,75.0,93.0,89.0,68.0,93.0,95.0,97.0,76.0,57.0,69.0,90.0,90.0,99.0,89.0,90.0,83.0,78.0,72.0,91.0,90.0,96.0,93.0,84.0,70.0,85.0,75.0,93.0,89.0,69.0,90.0,86.0,97.0,95.0,70.0,69.0,88.0,88.0,99.0,90.0,76.0,90.0,94.0,97.0,95.0,78.0,65.0,88.0,95.0,99.0,89.0,90.0,84.0,78.0,92.0,75.0,95.0,81.0,87.0,93.0,88.0,31.0,89.0,85.0,58.0,96.0,90.0,97.0,94.0,73.0,69.0,89.0,93.0,99.0,89.0,90.0,93.0,78.0,91.0,73.0,95.0,96.0,99.0,87.0,87.0,83.0,92.0,88.0,93.0,91.0,66.0,82.0,83.0,98.0,93.0,91.0,84.0,75.0,86.0,63.0,92.0,88.0,59.0,91.0,82.0,59.0,92.0,94.0,56.0,96.0,90.0,93.0,96.0,92.0,65.0,80.0,84.0,99.0,87.0,92.0,88.0,67.0,88.0,76.0,97.0,87.0,83.0,85.0,99.0,95.0,92.0,88.0,75.0,88.0,71.0,92.0,97.0,82.0,85.0,92.0,97.0,92.0,74.0,69.0,69.0,93.0,91.0,94.0,96.0,91.0,68.0,87.0,83.0,98.0,94.0,90.0,86.0,80.0,88.0,68.0,91.0,96.0,90.0,80.0,93.0,86.0,85.0,84.0,69.0,96.0,51.0,65.0,39.0,78.0,89.0,87.0,52.0,80.0,77.0,80.0,77.0,51.0,57.0,84.0,81.0,68.0,43.0,58.0,52.0,52.0,85.0,90.0,85.0,86.0,74.0,89.0,80.0,44.0,68.0,59.0,32.0,67.0,81.0,68.0,45.0,85.0,82.0,80.0,87.0,65.0,86.0,81.0,31.0,58.0,56.0,85.0,78.0,80.0,38.0,81.0,57.0,50.0,71.0,85.0,89.0,90.0,87.0,68.0,89.0,76.0,35.0,61.0,43.0,84.0,96.0,84.0,82.0,79.0,83.0,82.0,88.0,56.0,47.0,74.0,94.0,96.0,86.0,87.0,69.0,92.0,82.0,50.0,66.0,95.0,99.0,81.0,82.0,86.0,66.0,65.0,50.0,57.0,82.0,96.0,86.0,88.0,72.0,92.0,83.0,72.0,71.0,97.0,49.0,58.0,52.0,57.0,85.0,92.0,91.0,86.0,78.0,89.0,83.0,48.0,66.0,67.0,84.0,63.0,82.0,77.0,53.0,58.0,53.0,65.0,94.0,94.0,96.0,87.0,79.0,89.0,90.0,49.0,48.0,57.0,42.0,33.0,40.0,46.0,78.0,56.0,60.0,1.0,47.0,8.0,13.0,38.0,55.0,63.0,42.0,24.0,48.0,11.0,50.0,83.0,57.0,62.0,1.0,74.0,21.0,26.0,1.0,62.0,63.0,73.0,41.0,34.0,19.0,43.0,35.0,41.0,41.0,39.0,49.0,1.0,41.0,48.0,49.0,45.0,2.0,2.0,25.0,30.0,56.0,1.0,3.0,53.0,55.0,51.0,44.0,2.0,3.0,32.0,38.0,59.0,58.0,1.0,41.0,6.0,6.0,38.0,38.0,54.0,50.0,58.0,78.0,80.0,88.0,13.0,85.0,84.0,59.0,51.0,32.0,83.0,72.0,79.0,32.0,45.0,46.0,69.0,69.0,85.0,75.0,80.0,88.0,53.0,86.0,94.0,31.0,54.0,42.0,79.0,75.0,79.0,65.0,43.0,81.0,58.0,58.0,78.0,3.0,78.0,26.0,45.0,10.0,55.0,65.0,76.0,5.0,40.0,37.0,41.0,74.0,37.0,91.0,58.0,83.0,6.0,76.0,69.0,23.0,48.0,24.0,55.0,69.0,78.0,17.0,27.0,74.0,67.0,77.0,93.0,81.0,97.0,85.0,57.0,76.0,64.0,96.0,73.0,84.0,86.0,73.0,73.0,63.0,91.0,25.0,88.0,85.0,66.0,88.0,98.0,96.0,58.0,77.0,68.0,94.0,69.0,83.0,84.0,65.0,74.0,68.0,84.0,62.0,93.0,88.0,56.0,72.0,99.0,78.0,78.0,77.0,87.0,71.0,60.0,85.0,93.0,99.0,84.0,70.0,76.0,98.0,91.0,57.0,74.0,55.0,99.0,72.0,85.0,80.0,84.0,75.0,62.0,87.0,61.0,93.0,75.0,82.0,86.0,94.0,63.0,93.0,69.0,92.0,92.0,86.0,62.0,76.0,72.0,98.0,90.0,80.0,65.0,57.0,79.0,56.0,93.0,94.0,44.0,87.0,70.0,93.0,95.0,86.0,63.0,74.0,78.0,99.0,57.0,81.0,67.0,81.0,85.0,67.0,83.0,98.0,83.0,59.0,79.0,69.0,99.0,77.0,82.0,78.0,62.0,85.0,59.0,85.0,93.0,54.0,85.0,68.0,89.0,97.0,92.0,60.0,76.0,70.0,97.0,80.0,81.0,97.0,60.0,99.0,73.0,74.0,81.0,84.0,46.0,54.0,71.0,62.0,86.0,57.0,69.0,98.0,77.0,71.0,92.0,59.0,92.0,76.0,84.0,86.0,78.0,99.0,90.0,56.0,99.0,91.0,85.0,77.0,92.0,53.0,89.0,74.0,98.0,77.0,62.0,67.0,85.0,55.0,53.0,82.0,64.0,76.0,56.0,93.0,79.0,64.0,96.0,96.0,85.0,88.0,80.0,77.0,92.0,70.0,73.0,79.0,71.0,58.0,71.0,59.0,75.0,79.0,95.0,84.0,93.0,55.0,79.0,75.0,92.0,60.0,97.0,99.0,84.0,57.0,76.0,52.0,86.0,56.0,77.0,54.0,73.0,99.0,77.0],\"yaxis\":\"y\",\"type\":\"bar\"},{\"alignmentgroup\":\"True\",\"customdata\":[[\"Tonga\"],[\"Thailand\"],[\"China\"],[\"Thailand\"],[\"Thailand\"],[\"China\"],[\"Marshall Islands\"],[\"Belarus\"],[\"China\"],[\"South Africa\"],[\"Belarus\"],[\"Belarus\"],[\"Tonga\"],[\"Marshall Islands\"],[\"Belarus\"],[\"Moldova\"],[\"China\"],[\"China\"],[\"Tonga\"],[\"Namibia\"],[\"Tonga\"],[\"Serbia\"],[\"Namibia\"],[\"Montenegro\"],[\"Namibia\"],[\"Belarus\"],[\"Georgia\"],[\"Thailand\"],[\"Serbia\"],[\"Tonga\"],[\"South Africa\"],[\"South Africa\"],[\"Thailand\"],[\"China\"],[\"Belarus\"],[\"Georgia\"],[\"South Africa\"],[\"Thailand\"],[\"China\"],[\"China\"],[\"Thailand\"],[\"Serbia\"],[\"Tonga\"],[\"Tonga\"],[\"Georgia\"],[\"South Africa\"],[\"China\"],[\"Belarus\"],[\"Tonga\"],[\"South Africa\"],[\"Belarus\"],[\"Moldova\"],[\"Thailand\"],[\"South Africa\"],[\"Belarus\"],[\"Marshall Islands\"],[\"Belarus\"],[\"Thailand\"],[\"Tonga\"],[\"Thailand\"],[\"Tonga\"],[\"China\"],[\"Thailand\"],[\"Tonga\"],[\"Montenegro\"],[\"Serbia\"],[\"Tonga\"],[\"Serbia\"],[\"South Africa\"],[\"Marshall Islands\"],[\"South Africa\"],[\"Namibia\"],[\"Marshall Islands\"],[\"Moldova\"],[\"Serbia\"],[\"Namibia\"],[\"Belarus\"],[\"South Africa\"],[\"Serbia\"],[\"China\"],[\"Moldova\"],[\"Marshall Islands\"],[\"Moldova\"],[\"Montenegro\"],[\"South Africa\"],[\"Moldova\"],[\"Montenegro\"],[\"Tonga\"],[\"China\"],[\"Thailand\"],[\"Marshall Islands\"],[\"Namibia\"],[\"Georgia\"],[\"Belarus\"],[\"Georgia\"],[\"Namibia\"],[\"Marshall Islands\"],[\"Serbia\"],[\"Moldova\"],[\"China\"],[\"Belarus\"],[\"South Africa\"],[\"Montenegro\"],[\"China\"],[\"Marshall Islands\"],[\"Tonga\"],[\"Namibia\"],[\"Moldova\"],[\"Marshall Islands\"],[\"Namibia\"],[\"South Africa\"],[\"Georgia\"],[\"Marshall Islands\"],[\"Moldova\"],[\"Namibia\"],[\"Belarus\"],[\"Namibia\"],[\"Moldova\"],[\"South Africa\"],[\"Tonga\"],[\"Serbia\"],[\"South Africa\"],[\"Georgia\"],[\"Moldova\"],[\"China\"],[\"Serbia\"],[\"Serbia\"],[\"Thailand\"],[\"Georgia\"],[\"China\"],[\"Georgia\"],[\"Marshall Islands\"],[\"Tonga\"],[\"Moldova\"],[\"Thailand\"],[\"China\"],[\"Tonga\"],[\"Belarus\"],[\"Georgia\"],[\"Montenegro\"],[\"Belarus\"],[\"Serbia\"],[\"Georgia\"],[\"South Africa\"],[\"Georgia\"],[\"Tonga\"],[\"Thailand\"],[\"China\"],[\"South Africa\"],[\"Tonga\"],[\"Serbia\"],[\"China\"],[\"Tonga\"],[\"Thailand\"],[\"Belarus\"],[\"China\"],[\"China\"],[\"Serbia\"],[\"Marshall Islands\"],[\"Namibia\"],[\"Montenegro\"],[\"Namibia\"],[\"Georgia\"],[\"Marshall Islands\"],[\"Moldova\"],[\"Marshall Islands\"],[\"Georgia\"],[\"Moldova\"],[\"Serbia\"],[\"Marshall Islands\"],[\"China\"],[\"Georgia\"],[\"Belarus\"],[\"South Africa\"],[\"Thailand\"],[\"Thailand\"],[\"Georgia\"],[\"Marshall Islands\"],[\"Moldova\"],[\"Tonga\"],[\"Tonga\"],[\"Tonga\"],[\"Georgia\"],[\"Thailand\"],[\"Namibia\"],[\"South Africa\"],[\"Serbia\"],[\"Thailand\"],[\"Tonga\"],[\"Georgia\"],[\"Serbia\"],[\"Thailand\"],[\"Tonga\"],[\"South Africa\"],[\"China\"],[\"South Africa\"],[\"Belarus\"],[\"Belarus\"],[\"Georgia\"],[\"Moldova\"],[\"Marshall Islands\"],[\"China\"],[\"Moldova\"],[\"South Africa\"],[\"Marshall Islands\"],[\"Moldova\"],[\"Moldova\"],[\"Marshall Islands\"],[\"Tonga\"],[\"South Africa\"],[\"Thailand\"],[\"Tonga\"],[\"Montenegro\"],[\"Marshall Islands\"],[\"Tonga\"],[\"China\"],[\"South Africa\"],[\"Marshall Islands\"],[\"Thailand\"],[\"Georgia\"],[\"Serbia\"],[\"Belarus\"],[\"Thailand\"],[\"Serbia\"],[\"Namibia\"],[\"South Africa\"],[\"Namibia\"],[\"Thailand\"],[\"Belarus\"],[\"Tonga\"],[\"China\"],[\"South Africa\"],[\"Namibia\"],[\"Moldova\"],[\"South Africa\"],[\"Marshall Islands\"],[\"Tonga\"],[\"Namibia\"],[\"Thailand\"],[\"Thailand\"],[\"Montenegro\"],[\"Serbia\"],[\"Namibia\"],[\"China\"],[\"Tonga\"],[\"Georgia\"],[\"Montenegro\"],[\"Marshall Islands\"],[\"Namibia\"],[\"Moldova\"],[\"Tonga\"],[\"Namibia\"],[\"China\"],[\"South Africa\"],[\"Namibia\"],[\"South Africa\"],[\"China\"],[\"South Africa\"],[\"South Africa\"],[\"Namibia\"],[\"Thailand\"],[\"Namibia\"],[\"Marshall Islands\"],[\"South Africa\"],[\"Serbia\"],[\"Belarus\"],[\"Marshall Islands\"],[\"China\"],[\"Georgia\"],[\"Montenegro\"],[\"Moldova\"],[\"Belarus\"],[\"Belarus\"],[\"China\"],[\"Tonga\"],[\"Namibia\"],[\"Namibia\"],[\"Montenegro\"],[\"Marshall Islands\"],[\"Moldova\"],[\"Tonga\"],[\"Thailand\"],[\"Georgia\"],[\"Georgia\"],[\"Marshall Islands\"],[\"Serbia\"],[\"Moldova\"],[\"Thailand\"],[\"China\"],[\"Georgia\"],[\"Georgia\"],[\"South Africa\"],[\"Thailand\"],[\"China\"],[\"Tonga\"],[\"Serbia\"],[\"Belarus\"],[\"Thailand\"],[\"Serbia\"],[\"China\"],[\"Belarus\"],[\"China\"],[\"China\"],[\"Thailand\"],[\"Moldova\"],[\"Marshall Islands\"],[\"South Africa\"],[\"Moldova\"],[\"Serbia\"],[\"Tonga\"],[\"Thailand\"],[\"Namibia\"],[\"Marshall Islands\"],[\"Serbia\"],[\"South Africa\"],[\"South Africa\"],[\"China\"],[\"South Africa\"],[\"Tonga\"],[\"Marshall Islands\"],[\"Moldova\"],[\"Marshall Islands\"],[\"Serbia\"],[\"Georgia\"],[\"Namibia\"],[\"Belarus\"],[\"Tonga\"],[\"Marshall Islands\"],[\"Moldova\"],[\"Montenegro\"],[\"Thailand\"],[\"Montenegro\"],[\"Namibia\"],[\"Thailand\"],[\"Georgia\"],[\"Serbia\"],[\"Tonga\"]],\"hovertemplate\":\"IncomeGroup=Upper middle income<br>year=%{x}<br>value_=%{y}<br>Country Name=%{customdata[0]}<extra></extra>\",\"legendgroup\":\"Upper middle income\",\"marker\":{\"color\":\"#00cc96\",\"pattern\":{\"shape\":\"\"}},\"name\":\"Upper middle income\",\"offsetgroup\":\"Upper middle income\",\"orientation\":\"v\",\"showlegend\":true,\"textposition\":\"auto\",\"x\":[2014,2018,2003,1994,2014,1984,2010,2003,1992,2011,2004,1992,1994,2003,2019,2003,1985,2004,2018,2010,2007,2018,2011,2011,2003,2016,1992,1984,2003,1984,2014,2006,2007,2016,1995,2003,2018,2011,2010,2009,2003,2011,2003,2006,1995,1984,1995,2015,2011,2003,2009,2010,2006,1994,1998,2011,1993,2010,2005,2005,2010,1993,1993,1993,2010,2005,1981,2019,2010,2009,1993,2005,2005,2005,2015,2019,1994,2005,1993,2019,1993,2006,2006,2015,2019,2009,2006,2019,2008,2019,1993,2006,2006,2008,1993,1993,2015,2010,2015,2006,2006,1992,2019,1994,1992,2015,1992,1994,1994,2004,2015,2019,2004,2004,2009,2011,1994,1992,2007,1983,1994,1983,2004,2011,2015,2004,2006,2015,2009,2011,2005,2019,1992,2019,1992,2005,1982,2005,1994,2009,2010,1992,2015,2004,2011,2004,2004,1983,2002,1985,1996,2013,1999,1999,1997,1988,1997,1999,1990,2017,2017,1999,2013,1999,1999,2017,1997,2017,2016,1988,2014,1999,2014,1999,2009,2012,2014,2000,2000,2002,1990,2012,2007,1990,2016,2012,2008,1996,1996,2000,2017,1987,1987,1996,2000,1987,2000,2013,2010,1997,1997,1999,2007,1989,1998,1998,2008,2008,1989,2013,1997,1997,2007,2007,2013,2017,1997,1989,2013,1998,2013,2017,1989,1997,1998,2016,1997,1988,1999,1988,1990,1988,2008,2013,1998,2013,1998,2013,1998,2016,2013,1998,2007,1989,2016,2017,2008,1987,2015,2012,2001,1991,1986,1995,2018,2009,2007,2001,1991,2014,2001,2001,1991,2008,2001,1996,1995,1996,2018,2014,1995,2007,2002,2002,1995,2002,1995,2018,2002,2002,1991,1991,2008,2016,2018,1995,2018,1985,1998,2002,2012,1985,1995,2012,2008,2014,2018,2002,2007,2001,2001,1991,1987,2017,1996,1996,2000,2016,2012,2000,2000,1996,2016,2000,2017,1986,2018,1990,1986,2001,2001,2012,2002,1996,2000,2012,2009,2014,2014,2012,2008,2016,2012,1986,2001,2009,2017],\"xaxis\":\"x\",\"y\":[99.0,96.0,85.0,86.0,99.0,84.0,97.0,99.0,87.0,77.0,99.0,94.0,86.0,90.0,98.0,96.0,88.0,86.0,99.0,75.0,99.0,92.0,74.0,91.0,70.0,98.0,16.0,5.0,87.0,43.0,84.0,69.0,96.0,99.0,93.0,76.0,70.0,98.0,99.0,99.0,96.0,93.0,99.0,99.0,61.0,70.0,80.0,99.0,99.0,62.0,99.0,97.0,96.0,76.0,98.0,88.0,96.0,98.0,99.0,96.0,99.0,81.0,80.0,87.0,90.0,96.0,9.0,87.0,72.0,78.0,85.0,73.0,86.0,97.0,86.0,80.0,97.0,64.0,85.0,99.0,64.0,96.0,96.0,64.0,72.0,90.0,90.0,99.0,97.0,96.0,36.0,63.0,96.0,99.0,61.0,71.0,75.0,95.0,89.0,93.0,97.0,85.0,42.0,75.0,86.0,99.0,76.0,85.0,59.0,70.0,86.0,99.0,70.0,96.0,76.0,99.0,70.0,73.0,68.0,67.0,81.0,74.0,86.0,91.0,99.0,89.0,88.0,99.0,83.0,99.0,90.0,85.0,87.0,97.0,74.0,86.0,44.0,99.0,63.0,86.0,99.0,82.0,96.0,63.0,91.0,99.0,96.0,78.0,65.0,81.0,90.0,99.0,97.0,96.0,97.0,95.0,83.0,84.0,52.0,80.0,58.0,65.0,97.0,93.0,93.0,83.0,69.0,93.0,82.0,25.0,99.0,76.0,99.0,75.0,98.0,98.0,92.0,94.0,89.0,90.0,86.0,95.0,97.0,80.0,75.0,79.0,92.0,92.0,95.0,73.0,86.0,52.0,88.0,76.0,84.0,75.0,98.0,99.0,94.0,95.0,52.0,84.0,96.0,84.0,93.0,93.0,95.0,86.0,84.0,78.0,93.0,97.0,90.0,94.0,99.0,99.0,82.0,39.0,99.0,73.0,92.0,97.0,66.0,92.0,64.0,85.0,59.0,63.0,98.0,81.0,98.0,68.0,73.0,91.0,79.0,79.0,96.0,82.0,96.0,99.0,88.0,88.0,69.0,95.0,98.0,95.0,89.0,31.0,85.0,91.0,93.0,76.0,63.0,76.0,82.0,77.0,94.0,69.0,85.0,83.0,94.0,58.0,74.0,73.0,90.0,96.0,57.0,84.0,98.0,76.0,91.0,99.0,99.0,85.0,94.0,68.0,68.0,42.0,80.0,94.0,90.0,79.0,97.0,93.0,83.0,86.0,93.0,26.0,83.0,75.0,93.0,70.0,91.0,99.0,99.0,86.0,98.0,94.0,95.0,85.0,99.0,92.0,77.0,99.0,90.0,69.0,72.0,88.0,87.0,95.0,94.0,61.0,75.0,89.0,70.0,64.0,99.0,79.0,37.0,64.0,94.0,78.0,92.0,65.0,69.0,98.0,99.0,79.0,90.0,90.0,98.0,47.0,76.0,45.0,74.0,95.0,99.0],\"yaxis\":\"y\",\"type\":\"bar\"},{\"alignmentgroup\":\"True\",\"customdata\":[[\"Lithuania\"],[\"Belgium\"],[\"Netherlands\"],[\"Australia\"],[\"Nauru\"],[\"New Zealand\"],[\"Palau\"],[\"Portugal\"],[\"Singapore\"],[\"France\"],[\"Slovak Republic\"],[\"Slovenia\"],[\"Sweden\"],[\"Sweden\"],[\"Australia\"],[\"Austria\"],[\"Belgium\"],[\"Slovenia\"],[\"Canada\"],[\"Cyprus\"],[\"Slovak Republic\"],[\"Spain\"],[\"Estonia\"],[\"Malta\"],[\"Finland\"],[\"France\"],[\"Greece\"],[\"Singapore\"],[\"Portugal\"],[\"Palau\"],[\"Ireland\"],[\"Austria\"],[\"Malta\"],[\"Japan\"],[\"Latvia\"],[\"Sweden\"],[\"Estonia\"],[\"Luxembourg\"],[\"New Zealand\"],[\"Greece\"],[\"Nauru\"],[\"Australia\"],[\"Austria\"],[\"Belgium\"],[\"France\"],[\"Canada\"],[\"Cyprus\"],[\"Finland\"],[\"Spain\"],[\"Estonia\"],[\"Estonia\"],[\"Finland\"],[\"France\"],[\"Spain\"],[\"Greece\"],[\"Finland\"],[\"Cyprus\"],[\"Ireland\"],[\"Canada\"],[\"Italy\"],[\"Japan\"],[\"Netherlands\"],[\"Lithuania\"],[\"Luxembourg\"],[\"Italy\"],[\"New Zealand\"],[\"Italy\"],[\"Greece\"],[\"Greece\"],[\"Ireland\"],[\"Ireland\"],[\"Japan\"],[\"Italy\"],[\"Japan\"],[\"Italy\"],[\"Lithuania\"],[\"Luxembourg\"],[\"Latvia\"],[\"Malta\"],[\"Greece\"],[\"Netherlands\"],[\"Ireland\"],[\"Nauru\"],[\"New Zealand\"],[\"France\"],[\"Palau\"],[\"Portugal\"],[\"Singapore\"],[\"Finland\"],[\"Slovak Republic\"],[\"Slovenia\"],[\"Sweden\"],[\"Estonia\"],[\"Spain\"],[\"Cyprus\"],[\"Canada\"],[\"Australia\"],[\"Italy\"],[\"Japan\"],[\"Nauru\"],[\"France\"],[\"Lithuania\"],[\"Luxembourg\"],[\"Latvia\"],[\"Malta\"],[\"Netherlands\"],[\"Netherlands\"],[\"Nauru\"],[\"New Zealand\"],[\"Latvia\"],[\"Palau\"],[\"Portugal\"],[\"Singapore\"],[\"Slovak Republic\"],[\"Slovenia\"],[\"Sweden\"],[\"Luxembourg\"],[\"Malta\"],[\"Latvia\"],[\"Luxembourg\"],[\"Australia\"],[\"Austria\"],[\"Belgium\"],[\"Lithuania\"],[\"Canada\"],[\"Cyprus\"],[\"Lithuania\"],[\"Spain\"],[\"Estonia\"],[\"Finland\"],[\"Slovenia\"],[\"Slovak Republic\"],[\"Ireland\"],[\"France\"],[\"Greece\"],[\"Ireland\"],[\"Canada\"],[\"Italy\"],[\"Japan\"],[\"France\"],[\"Finland\"],[\"Lithuania\"],[\"Luxembourg\"],[\"Latvia\"],[\"Malta\"],[\"Estonia\"],[\"Spain\"],[\"Netherlands\"],[\"New Zealand\"],[\"Cyprus\"],[\"Palau\"],[\"Portugal\"],[\"Singapore\"],[\"Slovak Republic\"],[\"Slovenia\"],[\"Sweden\"],[\"Canada\"],[\"Belgium\"],[\"Austria\"],[\"Australia\"],[\"Australia\"],[\"Austria\"],[\"Belgium\"],[\"Greece\"],[\"Finland\"],[\"Singapore\"],[\"Australia\"],[\"Canada\"],[\"Lithuania\"],[\"Luxembourg\"],[\"Latvia\"],[\"Malta\"],[\"Malta\"],[\"Netherlands\"],[\"New Zealand\"],[\"Palau\"],[\"Portugal\"],[\"Singapore\"],[\"Latvia\"],[\"Slovenia\"],[\"Sweden\"],[\"Luxembourg\"],[\"Lithuania\"],[\"Belgium\"],[\"Belgium\"],[\"Japan\"],[\"Italy\"],[\"Australia\"],[\"Austria\"],[\"Belgium\"],[\"Austria\"],[\"Canada\"],[\"Cyprus\"],[\"Ireland\"],[\"Spain\"],[\"Estonia\"],[\"Cyprus\"],[\"Canada\"],[\"Cyprus\"],[\"Spain\"],[\"Belgium\"],[\"Spain\"],[\"Canada\"],[\"Cyprus\"],[\"Spain\"],[\"Estonia\"],[\"Finland\"],[\"France\"],[\"Malta\"],[\"Greece\"],[\"Latvia\"],[\"Ireland\"],[\"Luxembourg\"],[\"Italy\"],[\"Japan\"],[\"Lithuania\"],[\"Singapore\"],[\"Lithuania\"],[\"Luxembourg\"],[\"Latvia\"],[\"Malta\"],[\"Portugal\"],[\"Japan\"],[\"Netherlands\"],[\"Italy\"],[\"New Zealand\"],[\"Palau\"],[\"Palau\"],[\"Portugal\"],[\"Austria\"],[\"Australia\"],[\"Netherlands\"],[\"Sweden\"],[\"Estonia\"],[\"Finland\"],[\"France\"],[\"Greece\"],[\"Ireland\"],[\"Sweden\"],[\"Japan\"],[\"Slovenia\"],[\"Slovak Republic\"],[\"Lithuania\"],[\"Luxembourg\"],[\"Latvia\"],[\"Malta\"],[\"Netherlands\"],[\"Slovak Republic\"],[\"Singapore\"],[\"New Zealand\"],[\"Portugal\"],[\"Palau\"],[\"Portugal\"],[\"Singapore\"],[\"Palau\"],[\"Slovak Republic\"],[\"Slovenia\"],[\"Sweden\"],[\"Slovenia\"],[\"New Zealand\"],[\"Nauru\"],[\"Austria\"],[\"Belgium\"],[\"Canada\"],[\"Finland\"],[\"Greece\"],[\"Latvia\"],[\"Luxembourg\"],[\"Lithuania\"],[\"Ireland\"],[\"Sweden\"],[\"Italy\"],[\"Japan\"],[\"Slovenia\"],[\"Japan\"],[\"Lithuania\"],[\"Luxembourg\"],[\"Latvia\"],[\"Malta\"],[\"Italy\"],[\"Slovak Republic\"],[\"Netherlands\"],[\"Ireland\"],[\"Nauru\"],[\"New Zealand\"],[\"Malta\"],[\"Palau\"],[\"Portugal\"],[\"Singapore\"],[\"Slovak Republic\"],[\"Slovenia\"],[\"Sweden\"],[\"Singapore\"],[\"Greece\"],[\"France\"],[\"Estonia\"],[\"Slovenia\"],[\"Spain\"],[\"Slovak Republic\"],[\"Italy\"],[\"Japan\"],[\"Latvia\"],[\"Lithuania\"],[\"Luxembourg\"],[\"Latvia\"],[\"Malta\"],[\"Singapore\"],[\"Portugal\"],[\"Netherlands\"],[\"Palau\"],[\"Nauru\"],[\"New Zealand\"],[\"Palau\"],[\"Portugal\"],[\"Singapore\"],[\"New Zealand\"],[\"Slovak Republic\"],[\"Slovenia\"],[\"Sweden\"],[\"Nauru\"],[\"Netherlands\"],[\"Australia\"],[\"Austria\"],[\"Belgium\"],[\"Canada\"],[\"Cyprus\"],[\"Malta\"],[\"Portugal\"],[\"France\"],[\"Finland\"],[\"Australia\"],[\"Slovak Republic\"],[\"Slovenia\"],[\"Sweden\"],[\"Netherlands\"],[\"Sweden\"],[\"Slovenia\"],[\"Slovak Republic\"],[\"Australia\"],[\"Austria\"],[\"Belgium\"],[\"Canada\"],[\"Cyprus\"],[\"Spain\"],[\"Estonia\"],[\"Singapore\"],[\"Finland\"],[\"France\"],[\"Portugal\"],[\"Greece\"],[\"Palau\"],[\"New Zealand\"],[\"Ireland\"],[\"Nauru\"],[\"Italy\"],[\"Japan\"],[\"Netherlands\"],[\"Lithuania\"],[\"Luxembourg\"],[\"Latvia\"],[\"Singapore\"],[\"Portugal\"],[\"Palau\"],[\"Canada\"],[\"Austria\"],[\"Belgium\"],[\"Estonia\"],[\"Canada\"],[\"Cyprus\"],[\"Spain\"],[\"Spain\"],[\"Estonia\"],[\"Palau\"],[\"Finland\"],[\"France\"],[\"Cyprus\"],[\"Greece\"],[\"Ireland\"],[\"New Zealand\"],[\"Italy\"],[\"Japan\"],[\"Belgium\"],[\"Austria\"],[\"Lithuania\"],[\"Luxembourg\"],[\"Latvia\"],[\"Malta\"],[\"Australia\"],[\"New Zealand\"],[\"Netherlands\"],[\"Nauru\"],[\"Nauru\"],[\"Ireland\"],[\"Sweden\"],[\"Cyprus\"],[\"Portugal\"],[\"Finland\"],[\"Australia\"],[\"Austria\"],[\"Belgium\"],[\"New Zealand\"],[\"Canada\"],[\"Cyprus\"],[\"Nauru\"],[\"Spain\"],[\"Estonia\"],[\"Italy\"],[\"Finland\"],[\"France\"],[\"Netherlands\"],[\"Greece\"],[\"Estonia\"],[\"Ireland\"],[\"Spain\"],[\"Italy\"],[\"Japan\"],[\"Malta\"],[\"Lithuania\"],[\"Luxembourg\"],[\"Latvia\"],[\"Malta\"],[\"Latvia\"],[\"Netherlands\"],[\"Luxembourg\"],[\"Nauru\"],[\"Palau\"],[\"Singapore\"],[\"Greece\"],[\"France\"],[\"Spain\"],[\"Estonia\"],[\"Belgium\"],[\"Finland\"],[\"France\"],[\"Austria\"],[\"Greece\"],[\"Australia\"],[\"Ireland\"],[\"Greece\"],[\"Ireland\"],[\"Italy\"],[\"Japan\"],[\"Lithuania\"],[\"Luxembourg\"],[\"Latvia\"],[\"Malta\"],[\"Netherlands\"],[\"Sweden\"],[\"Nauru\"],[\"New Zealand\"],[\"Slovenia\"],[\"Palau\"],[\"Portugal\"],[\"Singapore\"],[\"Slovak Republic\"],[\"Slovak Republic\"],[\"Slovenia\"],[\"Sweden\"],[\"New Zealand\"],[\"Lithuania\"],[\"Palau\"],[\"Portugal\"],[\"Latvia\"],[\"Malta\"],[\"Austria\"],[\"Cyprus\"],[\"Netherlands\"],[\"Nauru\"],[\"New Zealand\"],[\"Canada\"],[\"Palau\"],[\"Portugal\"],[\"Singapore\"],[\"Slovak Republic\"],[\"Slovenia\"],[\"Sweden\"],[\"Australia\"],[\"Belgium\"],[\"Austria\"],[\"Australia\"],[\"Lithuania\"],[\"Australia\"],[\"Austria\"],[\"Belgium\"],[\"Canada\"],[\"Cyprus\"],[\"Luxembourg\"],[\"Spain\"],[\"Estonia\"],[\"Finland\"],[\"France\"],[\"Luxembourg\"],[\"Lithuania\"],[\"Spain\"],[\"Canada\"],[\"Singapore\"],[\"Japan\"],[\"Slovak Republic\"],[\"Slovenia\"],[\"Sweden\"],[\"Cyprus\"],[\"Japan\"],[\"Italy\"],[\"Ireland\"],[\"Canada\"],[\"Australia\"],[\"Austria\"],[\"Belgium\"],[\"Cyprus\"],[\"Estonia\"],[\"Spain\"],[\"Estonia\"],[\"Greece\"],[\"Finland\"],[\"France\"],[\"Greece\"],[\"Belgium\"],[\"France\"],[\"Cyprus\"],[\"Ireland\"],[\"Finland\"],[\"Italy\"],[\"Japan\"],[\"Japan\"],[\"Italy\"],[\"New Zealand\"],[\"Cyprus\"],[\"Singapore\"],[\"Australia\"],[\"Austria\"],[\"Belgium\"],[\"Belgium\"],[\"Canada\"],[\"Cyprus\"],[\"Austria\"],[\"Spain\"],[\"Australia\"],[\"Finland\"],[\"France\"],[\"Sweden\"],[\"Greece\"],[\"Slovenia\"],[\"Slovak Republic\"],[\"Ireland\"],[\"Japan\"],[\"Luxembourg\"],[\"Malta\"],[\"Sweden\"],[\"Slovenia\"],[\"Netherlands\"],[\"Slovak Republic\"],[\"New Zealand\"],[\"Palau\"],[\"Portugal\"],[\"Singapore\"],[\"Sweden\"],[\"Canada\"],[\"Sweden\"],[\"Latvia\"],[\"Spain\"],[\"Lithuania\"],[\"Nauru\"],[\"New Zealand\"],[\"Australia\"],[\"Austria\"],[\"Belgium\"],[\"Japan\"],[\"Cyprus\"],[\"Italy\"],[\"Spain\"],[\"Finland\"],[\"France\"],[\"Greece\"],[\"Ireland\"],[\"Palau\"],[\"Ireland\"],[\"Portugal\"],[\"Japan\"],[\"Greece\"],[\"Luxembourg\"],[\"Malta\"],[\"France\"],[\"Netherlands\"],[\"Finland\"],[\"New Zealand\"],[\"Estonia\"],[\"Palau\"],[\"Portugal\"],[\"Singapore\"],[\"Singapore\"],[\"Portugal\"],[\"Palau\"],[\"Singapore\"],[\"Slovak Republic\"],[\"Ireland\"],[\"Netherlands\"],[\"Slovenia\"],[\"Australia\"],[\"Austria\"],[\"Belgium\"],[\"Greece\"],[\"Canada\"],[\"Cyprus\"],[\"Spain\"],[\"Finland\"],[\"France\"],[\"France\"],[\"Greece\"],[\"Finland\"],[\"Estonia\"],[\"Spain\"],[\"Ireland\"],[\"Sweden\"],[\"Japan\"],[\"Cyprus\"],[\"Luxembourg\"],[\"Malta\"],[\"Canada\"],[\"Netherlands\"],[\"Malta\"],[\"New Zealand\"],[\"Belgium\"],[\"Italy\"],[\"Sweden\"],[\"Japan\"],[\"Greece\"],[\"Ireland\"],[\"Nauru\"],[\"Australia\"],[\"Austria\"],[\"Belgium\"],[\"Portugal\"],[\"Canada\"],[\"Cyprus\"],[\"Netherlands\"],[\"Spain\"],[\"Finland\"],[\"France\"],[\"Palau\"],[\"Malta\"],[\"Singapore\"],[\"Ireland\"],[\"Japan\"],[\"Latvia\"],[\"Luxembourg\"],[\"Malta\"],[\"Luxembourg\"],[\"Lithuania\"],[\"Netherlands\"],[\"New Zealand\"],[\"New Zealand\"],[\"Nauru\"],[\"Palau\"],[\"Portugal\"],[\"Luxembourg\"],[\"Sweden\"],[\"Portugal\"],[\"Cyprus\"],[\"Spain\"],[\"Finland\"],[\"Malta\"],[\"Japan\"],[\"Malta\"],[\"Netherlands\"],[\"New Zealand\"],[\"Portugal\"],[\"Singapore\"],[\"Latvia\"],[\"Sweden\"],[\"Luxembourg\"],[\"Lithuania\"],[\"Greece\"],[\"Japan\"],[\"Australia\"],[\"Austria\"],[\"Belgium\"],[\"Italy\"],[\"Cyprus\"],[\"Spain\"],[\"Ireland\"],[\"Finland\"],[\"France\"],[\"France\"],[\"Ireland\"],[\"Finland\"],[\"Japan\"],[\"Greece\"],[\"Netherlands\"],[\"Ireland\"],[\"Singapore\"],[\"Belgium\"],[\"Latvia\"],[\"Japan\"],[\"Netherlands\"],[\"New Zealand\"],[\"Portugal\"],[\"Singapore\"],[\"Sweden\"],[\"Austria\"],[\"Belgium\"],[\"Cyprus\"],[\"Japan\"],[\"Spain\"],[\"Sweden\"],[\"Finland\"],[\"Slovenia\"],[\"Japan\"],[\"Slovak Republic\"],[\"Italy\"],[\"Netherlands\"],[\"New Zealand\"],[\"Singapore\"],[\"Portugal\"],[\"Singapore\"],[\"Portugal\"],[\"Sweden\"],[\"Palau\"],[\"New Zealand\"],[\"Nauru\"],[\"Austria\"],[\"Luxembourg\"],[\"Netherlands\"],[\"New Zealand\"],[\"France\"],[\"Sweden\"],[\"Sweden\"],[\"Slovenia\"],[\"Slovak Republic\"],[\"Singapore\"],[\"Australia\"],[\"Austria\"],[\"Belgium\"],[\"Portugal\"],[\"Cyprus\"],[\"Palau\"],[\"Spain\"],[\"Finland\"],[\"France\"],[\"Greece\"],[\"New Zealand\"],[\"Nauru\"],[\"Belgium\"],[\"Ireland\"],[\"Netherlands\"],[\"Japan\"],[\"Austria\"],[\"Luxembourg\"],[\"Malta\"],[\"Netherlands\"],[\"Australia\"],[\"New Zealand\"],[\"Malta\"],[\"Portugal\"],[\"Canada\"],[\"Singapore\"],[\"Portugal\"],[\"Spain\"],[\"Portugal\"],[\"Singapore\"],[\"Finland\"],[\"Sweden\"],[\"Estonia\"],[\"Spain\"],[\"Estonia\"],[\"Cyprus\"],[\"Canada\"],[\"Australia\"],[\"Austria\"],[\"Belgium\"],[\"Cyprus\"],[\"Spain\"],[\"New Zealand\"],[\"Belgium\"],[\"Finland\"],[\"France\"],[\"Greece\"],[\"Austria\"],[\"Australia\"],[\"Ireland\"],[\"Netherlands\"],[\"Japan\"],[\"Cyprus\"],[\"Luxembourg\"],[\"Malta\"],[\"Netherlands\"],[\"Palau\"],[\"Malta\"],[\"Japan\"],[\"New Zealand\"],[\"Sweden\"],[\"Netherlands\"],[\"Slovenia\"],[\"Nauru\"],[\"New Zealand\"],[\"Greece\"],[\"Spain\"],[\"Palau\"],[\"Malta\"],[\"France\"],[\"Luxembourg\"],[\"Singapore\"],[\"Portugal\"],[\"Singapore\"],[\"Belgium\"],[\"Sweden\"],[\"France\"],[\"Portugal\"],[\"Finland\"],[\"Singapore\"],[\"New Zealand\"],[\"Greece\"],[\"Austria\"],[\"Singapore\"],[\"Italy\"],[\"Netherlands\"],[\"Canada\"],[\"Japan\"],[\"Japan\"],[\"Palau\"],[\"Luxembourg\"],[\"Slovak Republic\"],[\"Malta\"],[\"Slovenia\"],[\"Ireland\"],[\"Austria\"],[\"Australia\"],[\"Belgium\"],[\"Luxembourg\"],[\"Lithuania\"],[\"Australia\"],[\"Canada\"],[\"Finland\"],[\"Cyprus\"],[\"Latvia\"],[\"Greece\"],[\"Spain\"],[\"Luxembourg\"],[\"Finland\"],[\"Ireland\"],[\"France\"],[\"Australia\"],[\"Italy\"],[\"Latvia\"],[\"Austria\"],[\"Netherlands\"],[\"Australia\"],[\"Sweden\"],[\"Palau\"],[\"Japan\"],[\"New Zealand\"],[\"Belgium\"],[\"Italy\"],[\"Netherlands\"],[\"Estonia\"],[\"Italy\"],[\"Malta\"],[\"Italy\"],[\"Malta\"],[\"Ireland\"],[\"Japan\"],[\"Ireland\"],[\"Ireland\"],[\"Portugal\"],[\"Austria\"],[\"Canada\"],[\"Sweden\"],[\"Cyprus\"],[\"Belgium\"],[\"Austria\"],[\"Australia\"],[\"Palau\"],[\"Spain\"],[\"Lithuania\"],[\"Estonia\"],[\"Cyprus\"],[\"Latvia\"],[\"Finland\"],[\"France\"],[\"France\"],[\"New Zealand\"],[\"Canada\"],[\"Finland\"],[\"Greece\"],[\"Estonia\"],[\"Nauru\"],[\"Spain\"],[\"Netherlands\"],[\"Australia\"],[\"Austria\"],[\"Cyprus\"],[\"Australia\"],[\"Sweden\"],[\"Austria\"],[\"Singapore\"],[\"Singapore\"],[\"Lithuania\"],[\"Palau\"],[\"Cyprus\"],[\"Spain\"],[\"Luxembourg\"],[\"Finland\"],[\"Portugal\"],[\"Canada\"],[\"Portugal\"],[\"Slovenia\"],[\"France\"],[\"Sweden\"],[\"Cyprus\"],[\"Greece\"],[\"Spain\"],[\"Slovak Republic\"],[\"Greece\"],[\"Belgium\"]],\"hovertemplate\":\"IncomeGroup=High income<br>year=%{x}<br>value_=%{y}<br>Country Name=%{customdata[0]}<extra></extra>\",\"legendgroup\":\"High income\",\"marker\":{\"color\":\"#FFA15A\",\"pattern\":{\"shape\":\"\"}},\"name\":\"High income\",\"offsetgroup\":\"High income\",\"orientation\":\"v\",\"showlegend\":true,\"textposition\":\"auto\",\"x\":[2009,2014,1997,2014,1997,1997,1997,1997,1997,2010,1997,1997,1997,2013,1998,1998,1998,2013,1998,1998,2013,1998,1998,2007,1998,1998,1998,2013,2013,2013,1998,2014,1997,1998,1997,1996,2010,2009,2007,2014,2007,1997,1997,1997,2014,1997,1997,2014,1997,1997,2014,1997,1997,2014,1997,2010,2014,1997,2014,1997,1997,2007,1997,1997,1998,2013,1993,1999,2010,2013,1999,2007,1999,1999,2007,1999,1999,1999,1999,2013,1999,2007,1999,1999,2013,1999,1999,1999,2013,1999,1999,1999,2013,2013,2013,2013,2000,2013,2013,2013,1999,1998,1998,1998,1998,2013,1998,1998,1998,2007,1998,1998,1998,1998,1998,1998,2007,2013,2013,2013,1999,1999,1999,2013,1999,1999,2007,1999,1999,1999,1996,1996,2014,1994,2015,1994,2010,1994,1994,2015,2015,1994,1994,1994,1994,2015,2015,1994,1994,2015,1994,1994,1994,1994,1994,1994,2015,2015,2015,2015,1995,1995,1995,1994,1994,1996,2008,2008,1993,1993,1993,1993,2015,1993,1993,1993,1993,1993,2015,1993,1993,2015,2015,2010,2008,2015,2015,1994,1994,1994,2008,1994,1994,2015,1994,1994,2010,1995,1995,1995,1996,2010,1996,1996,1996,1996,1996,1996,2014,1996,2014,1996,2014,1996,1996,2014,2007,1996,1996,1996,1996,2007,2014,1996,2014,1996,2007,1996,1996,1996,1996,2014,2007,1995,1995,1995,1995,1995,2014,1995,2014,2014,1995,1995,1995,1995,1995,2007,2014,1995,2014,1995,1995,1995,2014,1995,1995,1995,2007,2014,2014,2000,2000,2000,2004,2004,2011,2011,2011,2004,2006,2004,2004,2006,2011,2004,2004,2004,2004,2011,2006,2004,2011,2004,2004,2010,2004,2004,2004,2004,2004,2004,2006,2011,2004,2004,2011,2004,2011,2003,2003,2010,2003,2003,2003,2003,2011,2011,2003,2011,2003,2003,2003,2003,2003,2011,2003,2003,2003,2011,2011,2004,2004,2004,2004,2004,2011,2006,2011,2011,2005,2005,2005,2005,2006,2010,2010,2010,2006,2006,2006,2006,2006,2006,2006,2010,2006,2006,2010,2006,2010,2010,2006,2010,2006,2006,2010,2006,2006,2006,2005,2005,2005,2011,2005,2005,2011,2005,2005,2011,2005,2005,2006,2005,2005,2011,2005,2005,2005,2005,2005,2011,2011,2005,2005,2005,2005,2011,2006,2005,2006,2005,2003,2011,2000,2012,2007,2001,2001,2001,2012,2001,2001,2012,2001,2001,2010,2001,2001,2012,2001,2007,2001,2007,2001,2001,2012,2001,2001,2001,2001,2012,2001,2012,2001,2012,2012,2003,2007,2000,2000,2013,2000,2000,2013,2000,2013,2010,2007,2000,2000,2000,2000,2000,2000,2000,2000,2012,2000,2000,2012,2000,2000,2000,2012,2000,2000,2000,2001,2012,2001,2001,2002,2002,2007,2012,2002,2002,2002,2012,2002,2002,2002,2002,2002,2002,2007,2012,2012,2012,2010,2003,2003,2003,2003,2003,2010,2003,2003,2003,2003,2002,2002,2012,2002,2001,2010,2001,2001,2001,2007,2012,2012,2012,2007,2002,2002,2002,2002,2012,2002,2002,2012,2002,2002,2002,2007,2012,1980,2002,2012,2002,2002,1993,1995,2017,2018,2009,1987,1987,1987,2018,1987,1987,2018,1987,2018,1987,1987,2008,1987,2008,2008,1987,1987,1987,1987,2017,2017,1987,2017,1987,1987,1987,1987,1987,2018,1986,2018,2018,2018,2009,2009,1986,1986,1986,2018,1986,2018,1986,1986,1986,1986,2018,2009,1986,2009,1986,2018,1986,1986,2018,1986,2018,1986,2018,1986,1986,1986,2017,2017,2017,2008,2009,2017,2008,2009,1989,1989,1989,2017,1989,1989,1989,1989,1989,2017,1989,2017,2017,2017,1989,2009,1989,2017,1989,1989,2017,1989,2008,1989,2017,2017,1988,2017,1988,1993,2017,1988,1988,1988,2008,1988,1988,2017,1988,1988,1988,2008,2017,1988,1988,1988,2017,1988,1988,2017,2017,1988,2008,1988,2008,1988,1988,2018,1985,1989,1982,1982,1982,2009,1982,2019,1982,1982,1982,1982,2019,1982,2019,2019,2009,2019,1983,1983,1983,2019,1983,1983,2019,1983,1983,2009,1983,2009,1983,2019,2019,2009,1985,1982,2009,1980,1980,1980,1980,1980,1980,1981,1981,1981,2009,1981,2019,1981,2019,1981,2019,2009,1981,1981,2019,1981,1981,2019,1981,2019,2019,2019,1982,1983,1983,1983,2019,1984,2018,2018,2018,2018,1985,1985,1985,2018,1985,2018,1985,1985,1985,1985,2018,2018,2009,1985,2018,1985,2009,1985,1985,1985,2009,1985,2018,1985,2009,1984,1984,2009,1983,1983,2019,1983,2019,2019,2009,2019,2019,1984,1984,1984,1984,1984,1984,2019,1984,1984,1984,2019,2019,1984,2009,1984,2009,1984,1984,1984,1989,2006,2008,2016,1992,1990,1992,2016,1990,1992,2008,1990,1991,2008,1991,1992,1990,1990,2016,2015,1992,1992,1992,2015,1991,2008,2010,2016,1990,1991,2016,1990,1992,2016,1990,2015,1990,2015,2016,2016,1993,1991,1992,1992,2010,1991,2008,1991,2016,1991,1991,2016,1991,1992,1991,2016,1992,1992,1991,2016,1991,1990,1992,1991,1992,1992,1991,1992,2008,2016,1992,2008,2016,1991,2016,2008,1990,2016,1993,1990,1991,1993,1990,1990,1990,2015,1993,2008,1993,2008,2008,1993,2016,1993,2015,1992,2016,1993,2016,2015,2016,2015,1992,1992,2016,2017,1989,2017,1989,1991,2016,1991,1990,1992,2008,1990,1991,1993,2015,2016,1990,2016,1992,1990,1990,2016,2016,1993],\"xaxis\":\"x\",\"y\":[96.0,96.0,96.0,94.0,99.0,99.0,83.0,96.0,98.0,89.0,99.0,82.0,96.0,97.0,82.0,78.0,80.0,94.0,96.0,89.0,98.0,93.0,89.0,79.0,96.0,82.0,89.0,95.0,98.0,99.0,77.0,96.0,56.0,95.0,97.0,96.0,95.0,96.0,79.0,97.0,99.0,85.0,90.0,76.0,91.0,96.0,90.0,96.0,93.0,88.0,93.0,96.0,83.0,96.0,90.0,98.0,86.0,77.0,90.0,57.0,94.0,96.0,96.0,91.0,55.0,92.0,50.0,88.0,99.0,93.0,77.0,96.0,70.0,95.0,90.0,97.0,92.0,97.0,67.0,99.0,96.0,87.0,49.0,83.0,90.0,96.0,92.0,97.0,97.0,99.0,98.0,89.0,94.0,95.0,86.0,90.0,91.0,90.0,95.0,97.0,83.0,97.0,92.0,97.0,60.0,96.0,96.0,90.0,81.0,95.0,74.0,96.0,96.0,99.0,93.0,94.0,96.0,99.0,96.0,99.0,88.0,65.0,82.0,93.0,96.0,87.0,97.0,95.0,92.0,96.0,93.0,99.0,93.0,80.0,97.0,78.0,90.0,50.0,81.0,91.0,95.0,93.0,86.0,81.0,71.0,93.0,96.0,94.0,87.0,90.0,41.0,91.0,95.0,97.0,91.0,97.0,89.0,96.0,96.0,95.0,87.0,60.0,85.0,70.0,99.0,97.0,94.0,93.0,92.0,83.0,80.0,90.0,89.0,94.0,85.0,32.0,95.0,87.0,96.0,90.0,97.0,99.0,94.0,95.0,93.0,96.0,85.0,86.0,60.0,78.0,83.0,97.0,82.0,93.0,90.0,76.0,87.0,96.0,83.0,90.0,73.0,95.0,97.0,90.0,90.0,86.0,98.0,84.0,98.0,90.0,95.0,77.0,99.0,55.0,94.0,93.0,95.0,96.0,91.0,96.0,51.0,95.0,98.0,96.0,87.0,92.0,91.0,99.0,99.0,87.0,87.0,96.0,96.0,81.0,98.0,83.0,70.0,77.0,97.0,93.0,94.0,97.0,94.0,88.0,81.0,51.0,94.0,99.0,95.0,84.0,98.0,99.0,94.0,97.0,83.0,99.0,93.0,97.0,96.0,93.0,98.0,75.0,82.0,96.0,97.0,95.0,92.0,96.0,94.0,81.0,97.0,86.0,98.0,96.0,94.0,98.0,95.0,98.0,94.0,90.0,98.0,96.0,92.0,67.0,83.0,73.0,99.0,95.0,95.0,99.0,94.0,96.0,95.0,99.0,88.0,96.0,96.0,97.0,98.0,84.0,98.0,95.0,98.0,95.0,98.0,90.0,95.0,97.0,96.0,85.0,53.0,84.0,99.0,96.0,93.0,93.0,99.0,94.0,95.0,99.0,96.0,94.0,74.0,82.0,94.0,86.0,84.0,97.0,89.0,97.0,94.0,98.0,94.0,96.0,96.0,97.0,95.0,98.0,94.0,80.0,92.0,93.0,87.0,97.0,96.0,95.0,97.0,89.0,96.0,98.0,39.0,91.0,86.0,99.0,88.0,97.0,96.0,97.0,95.0,98.0,96.0,93.0,98.0,88.0,75.0,88.0,94.0,94.0,86.0,97.0,97.0,96.0,98.0,97.0,87.0,87.0,96.0,84.0,82.0,87.0,98.0,95.0,84.0,97.0,95.0,98.0,86.0,94.0,82.0,95.0,99.0,80.0,78.0,97.0,86.0,97.0,98.0,92.0,79.0,82.0,92.0,95.0,86.0,96.0,96.0,95.0,91.0,96.0,85.0,96.0,91.0,96.0,73.0,97.0,77.0,98.0,93.0,97.0,94.0,98.0,70.0,90.0,95.0,99.0,95.0,91.0,95.0,94.0,90.0,94.0,93.0,96.0,96.0,84.0,92.0,89.0,94.0,90.0,99.0,79.0,74.0,96.0,97.0,93.0,97.0,74.0,96.0,98.0,8.0,85.0,95.0,83.0,87.0,96.0,99.0,98.0,95.0,91.0,85.0,93.0,91.0,90.0,98.0,65.0,79.0,86.0,95.0,40.0,84.0,89.0,99.0,93.0,94.0,99.0,93.0,95.0,94.0,96.0,88.0,94.0,96.0,94.0,79.0,82.0,95.0,86.0,96.0,98.0,95.0,97.0,87.0,94.0,98.0,97.0,95.0,95.0,94.0,99.0,94.0,94.0,87.0,96.0,90.0,92.0,94.0,94.0,78.0,82.0,86.0,94.0,97.0,95.0,99.0,96.0,86.0,92.0,92.0,91.0,29.0,73.0,97.0,81.0,98.0,68.0,50.0,93.0,90.0,95.0,68.0,60.0,50.0,96.0,70.0,91.0,94.0,85.0,95.0,92.0,45.0,96.0,81.0,96.0,99.0,66.0,75.0,77.0,59.0,97.0,93.0,93.0,96.0,67.0,98.0,81.0,94.0,94.0,90.0,94.0,98.0,97.0,92.0,99.0,89.0,68.0,60.0,90.0,97.0,60.0,93.0,83.0,87.0,39.0,39.0,92.0,75.0,65.0,95.0,74.0,97.0,68.0,35.0,90.0,93.0,96.0,60.0,87.0,98.0,75.0,85.0,95.0,98.0,93.0,95.0,99.0,92.0,96.0,95.0,85.0,60.0,75.0,97.0,87.0,76.0,97.0,95.0,58.0,90.0,76.0,94.0,93.0,98.0,78.0,97.0,77.0,90.0,80.0,86.0,90.0,94.0,78.0,83.0,96.0,92.0,95.0,97.0,82.0,78.0,95.0,77.0,60.0,75.0,97.0,85.0,74.0,93.0,84.0,98.0,51.0,97.0,91.0,87.0,68.0,76.0,96.0,71.0,41.0,99.0,94.0,94.0,86.0,75.0,99.0,99.0,84.0,99.0,94.0,96.0,21.0,27.0,75.0,82.0,66.0,96.0,92.0,74.0,46.0,78.0,99.0,91.0,99.0,93.0,99.0,96.0,68.0,25.0,66.0,94.0,19.0,40.0,91.0,81.0,15.0,89.0,10.0,98.0,70.0,97.0,94.0,90.0,75.0,58.0,92.0,69.0,91.0,80.0,54.0,47.0,88.0,25.0,50.0,28.0,94.0,8.0,97.0,70.0,94.0,68.0,96.0,90.0,91.0,77.0,95.0,49.0,57.0,99.0,92.0,97.0,92.0,95.0,25.0,39.0,92.0,71.0,90.0,94.0,97.0,93.0,96.0,95.0,68.0,40.0,82.0,99.0,43.0,90.0,79.0,85.0,35.0,77.0,92.0,99.0,95.0,63.0,93.0,73.0,76.0,58.0,10.0,92.0,94.0,64.0,96.0,70.0,91.0,85.0,48.0,98.0,48.0,88.0,96.0,93.0,88.0,98.0,95.0,86.0,90.0,68.0,30.0,74.0,25.0,68.0,67.0,96.0,83.0,26.0,75.0,94.0,95.0,10.0,96.0,73.0,87.0,49.0,10.0,92.0,98.0,94.0,95.0,92.0,96.0,94.0,90.0,98.0,90.0,72.0,98.0,98.0,90.0,89.0,80.0,89.0,85.0,84.0,96.0,98.0,76.0,99.0,99.0,95.0,82.0,99.0,80.0,95.0,43.0,94.0,89.0,73.0,69.0,96.0,80.0,95.0,80.0,94.0,92.0,95.0,86.0,67.0,80.0,89.0,94.0,92.0,97.0,78.0,93.0,72.0,85.0,99.0,97.0,78.0,74.0,95.0,50.0,95.0,60.0,94.0,86.0,96.0,94.0,71.0,82.0,87.0,50.0,95.0,95.0,87.0,92.0,90.0,93.0,78.0,96.0,89.0,78.0,98.0,60.0,89.0,96.0,81.0,85.0,60.0,86.0,95.0,90.0,97.0,74.0,87.0,96.0,99.0,90.0,78.0,93.0,94.0,94.0,72.0,93.0,98.0,97.0,95.0,86.0,60.0,90.0,95.0,95.0,96.0,81.0,92.0,94.0,98.0,77.0,83.0,96.0,97.0,96.0,96.0,98.0,92.0,71.0,97.0,80.0,76.0,99.0,95.0,97.0,70.0],\"yaxis\":\"y\",\"type\":\"bar\"}],                        {\"template\":{\"data\":{\"bar\":[{\"error_x\":{\"color\":\"#2a3f5f\"},\"error_y\":{\"color\":\"#2a3f5f\"},\"marker\":{\"line\":{\"color\":\"#E5ECF6\",\"width\":0.5},\"pattern\":{\"fillmode\":\"overlay\",\"size\":10,\"solidity\":0.2}},\"type\":\"bar\"}],\"barpolar\":[{\"marker\":{\"line\":{\"color\":\"#E5ECF6\",\"width\":0.5},\"pattern\":{\"fillmode\":\"overlay\",\"size\":10,\"solidity\":0.2}},\"type\":\"barpolar\"}],\"carpet\":[{\"aaxis\":{\"endlinecolor\":\"#2a3f5f\",\"gridcolor\":\"white\",\"linecolor\":\"white\",\"minorgridcolor\":\"white\",\"startlinecolor\":\"#2a3f5f\"},\"baxis\":{\"endlinecolor\":\"#2a3f5f\",\"gridcolor\":\"white\",\"linecolor\":\"white\",\"minorgridcolor\":\"white\",\"startlinecolor\":\"#2a3f5f\"},\"type\":\"carpet\"}],\"choropleth\":[{\"colorbar\":{\"outlinewidth\":0,\"ticks\":\"\"},\"type\":\"choropleth\"}],\"contour\":[{\"colorbar\":{\"outlinewidth\":0,\"ticks\":\"\"},\"colorscale\":[[0.0,\"#0d0887\"],[0.1111111111111111,\"#46039f\"],[0.2222222222222222,\"#7201a8\"],[0.3333333333333333,\"#9c179e\"],[0.4444444444444444,\"#bd3786\"],[0.5555555555555556,\"#d8576b\"],[0.6666666666666666,\"#ed7953\"],[0.7777777777777778,\"#fb9f3a\"],[0.8888888888888888,\"#fdca26\"],[1.0,\"#f0f921\"]],\"type\":\"contour\"}],\"contourcarpet\":[{\"colorbar\":{\"outlinewidth\":0,\"ticks\":\"\"},\"type\":\"contourcarpet\"}],\"heatmap\":[{\"colorbar\":{\"outlinewidth\":0,\"ticks\":\"\"},\"colorscale\":[[0.0,\"#0d0887\"],[0.1111111111111111,\"#46039f\"],[0.2222222222222222,\"#7201a8\"],[0.3333333333333333,\"#9c179e\"],[0.4444444444444444,\"#bd3786\"],[0.5555555555555556,\"#d8576b\"],[0.6666666666666666,\"#ed7953\"],[0.7777777777777778,\"#fb9f3a\"],[0.8888888888888888,\"#fdca26\"],[1.0,\"#f0f921\"]],\"type\":\"heatmap\"}],\"heatmapgl\":[{\"colorbar\":{\"outlinewidth\":0,\"ticks\":\"\"},\"colorscale\":[[0.0,\"#0d0887\"],[0.1111111111111111,\"#46039f\"],[0.2222222222222222,\"#7201a8\"],[0.3333333333333333,\"#9c179e\"],[0.4444444444444444,\"#bd3786\"],[0.5555555555555556,\"#d8576b\"],[0.6666666666666666,\"#ed7953\"],[0.7777777777777778,\"#fb9f3a\"],[0.8888888888888888,\"#fdca26\"],[1.0,\"#f0f921\"]],\"type\":\"heatmapgl\"}],\"histogram\":[{\"marker\":{\"pattern\":{\"fillmode\":\"overlay\",\"size\":10,\"solidity\":0.2}},\"type\":\"histogram\"}],\"histogram2d\":[{\"colorbar\":{\"outlinewidth\":0,\"ticks\":\"\"},\"colorscale\":[[0.0,\"#0d0887\"],[0.1111111111111111,\"#46039f\"],[0.2222222222222222,\"#7201a8\"],[0.3333333333333333,\"#9c179e\"],[0.4444444444444444,\"#bd3786\"],[0.5555555555555556,\"#d8576b\"],[0.6666666666666666,\"#ed7953\"],[0.7777777777777778,\"#fb9f3a\"],[0.8888888888888888,\"#fdca26\"],[1.0,\"#f0f921\"]],\"type\":\"histogram2d\"}],\"histogram2dcontour\":[{\"colorbar\":{\"outlinewidth\":0,\"ticks\":\"\"},\"colorscale\":[[0.0,\"#0d0887\"],[0.1111111111111111,\"#46039f\"],[0.2222222222222222,\"#7201a8\"],[0.3333333333333333,\"#9c179e\"],[0.4444444444444444,\"#bd3786\"],[0.5555555555555556,\"#d8576b\"],[0.6666666666666666,\"#ed7953\"],[0.7777777777777778,\"#fb9f3a\"],[0.8888888888888888,\"#fdca26\"],[1.0,\"#f0f921\"]],\"type\":\"histogram2dcontour\"}],\"mesh3d\":[{\"colorbar\":{\"outlinewidth\":0,\"ticks\":\"\"},\"type\":\"mesh3d\"}],\"parcoords\":[{\"line\":{\"colorbar\":{\"outlinewidth\":0,\"ticks\":\"\"}},\"type\":\"parcoords\"}],\"pie\":[{\"automargin\":true,\"type\":\"pie\"}],\"scatter\":[{\"marker\":{\"colorbar\":{\"outlinewidth\":0,\"ticks\":\"\"}},\"type\":\"scatter\"}],\"scatter3d\":[{\"line\":{\"colorbar\":{\"outlinewidth\":0,\"ticks\":\"\"}},\"marker\":{\"colorbar\":{\"outlinewidth\":0,\"ticks\":\"\"}},\"type\":\"scatter3d\"}],\"scattercarpet\":[{\"marker\":{\"colorbar\":{\"outlinewidth\":0,\"ticks\":\"\"}},\"type\":\"scattercarpet\"}],\"scattergeo\":[{\"marker\":{\"colorbar\":{\"outlinewidth\":0,\"ticks\":\"\"}},\"type\":\"scattergeo\"}],\"scattergl\":[{\"marker\":{\"colorbar\":{\"outlinewidth\":0,\"ticks\":\"\"}},\"type\":\"scattergl\"}],\"scattermapbox\":[{\"marker\":{\"colorbar\":{\"outlinewidth\":0,\"ticks\":\"\"}},\"type\":\"scattermapbox\"}],\"scatterpolar\":[{\"marker\":{\"colorbar\":{\"outlinewidth\":0,\"ticks\":\"\"}},\"type\":\"scatterpolar\"}],\"scatterpolargl\":[{\"marker\":{\"colorbar\":{\"outlinewidth\":0,\"ticks\":\"\"}},\"type\":\"scatterpolargl\"}],\"scatterternary\":[{\"marker\":{\"colorbar\":{\"outlinewidth\":0,\"ticks\":\"\"}},\"type\":\"scatterternary\"}],\"surface\":[{\"colorbar\":{\"outlinewidth\":0,\"ticks\":\"\"},\"colorscale\":[[0.0,\"#0d0887\"],[0.1111111111111111,\"#46039f\"],[0.2222222222222222,\"#7201a8\"],[0.3333333333333333,\"#9c179e\"],[0.4444444444444444,\"#bd3786\"],[0.5555555555555556,\"#d8576b\"],[0.6666666666666666,\"#ed7953\"],[0.7777777777777778,\"#fb9f3a\"],[0.8888888888888888,\"#fdca26\"],[1.0,\"#f0f921\"]],\"type\":\"surface\"}],\"table\":[{\"cells\":{\"fill\":{\"color\":\"#EBF0F8\"},\"line\":{\"color\":\"white\"}},\"header\":{\"fill\":{\"color\":\"#C8D4E3\"},\"line\":{\"color\":\"white\"}},\"type\":\"table\"}]},\"layout\":{\"annotationdefaults\":{\"arrowcolor\":\"#2a3f5f\",\"arrowhead\":0,\"arrowwidth\":1},\"autotypenumbers\":\"strict\",\"coloraxis\":{\"colorbar\":{\"outlinewidth\":0,\"ticks\":\"\"}},\"colorscale\":{\"diverging\":[[0,\"#8e0152\"],[0.1,\"#c51b7d\"],[0.2,\"#de77ae\"],[0.3,\"#f1b6da\"],[0.4,\"#fde0ef\"],[0.5,\"#f7f7f7\"],[0.6,\"#e6f5d0\"],[0.7,\"#b8e186\"],[0.8,\"#7fbc41\"],[0.9,\"#4d9221\"],[1,\"#276419\"]],\"sequential\":[[0.0,\"#0d0887\"],[0.1111111111111111,\"#46039f\"],[0.2222222222222222,\"#7201a8\"],[0.3333333333333333,\"#9c179e\"],[0.4444444444444444,\"#bd3786\"],[0.5555555555555556,\"#d8576b\"],[0.6666666666666666,\"#ed7953\"],[0.7777777777777778,\"#fb9f3a\"],[0.8888888888888888,\"#fdca26\"],[1.0,\"#f0f921\"]],\"sequentialminus\":[[0.0,\"#0d0887\"],[0.1111111111111111,\"#46039f\"],[0.2222222222222222,\"#7201a8\"],[0.3333333333333333,\"#9c179e\"],[0.4444444444444444,\"#bd3786\"],[0.5555555555555556,\"#d8576b\"],[0.6666666666666666,\"#ed7953\"],[0.7777777777777778,\"#fb9f3a\"],[0.8888888888888888,\"#fdca26\"],[1.0,\"#f0f921\"]]},\"colorway\":[\"#636efa\",\"#EF553B\",\"#00cc96\",\"#ab63fa\",\"#FFA15A\",\"#19d3f3\",\"#FF6692\",\"#B6E880\",\"#FF97FF\",\"#FECB52\"],\"font\":{\"color\":\"#2a3f5f\"},\"geo\":{\"bgcolor\":\"white\",\"lakecolor\":\"white\",\"landcolor\":\"#E5ECF6\",\"showlakes\":true,\"showland\":true,\"subunitcolor\":\"white\"},\"hoverlabel\":{\"align\":\"left\"},\"hovermode\":\"closest\",\"mapbox\":{\"style\":\"light\"},\"paper_bgcolor\":\"white\",\"plot_bgcolor\":\"#E5ECF6\",\"polar\":{\"angularaxis\":{\"gridcolor\":\"white\",\"linecolor\":\"white\",\"ticks\":\"\"},\"bgcolor\":\"#E5ECF6\",\"radialaxis\":{\"gridcolor\":\"white\",\"linecolor\":\"white\",\"ticks\":\"\"}},\"scene\":{\"xaxis\":{\"backgroundcolor\":\"#E5ECF6\",\"gridcolor\":\"white\",\"gridwidth\":2,\"linecolor\":\"white\",\"showbackground\":true,\"ticks\":\"\",\"zerolinecolor\":\"white\"},\"yaxis\":{\"backgroundcolor\":\"#E5ECF6\",\"gridcolor\":\"white\",\"gridwidth\":2,\"linecolor\":\"white\",\"showbackground\":true,\"ticks\":\"\",\"zerolinecolor\":\"white\"},\"zaxis\":{\"backgroundcolor\":\"#E5ECF6\",\"gridcolor\":\"white\",\"gridwidth\":2,\"linecolor\":\"white\",\"showbackground\":true,\"ticks\":\"\",\"zerolinecolor\":\"white\"}},\"shapedefaults\":{\"line\":{\"color\":\"#2a3f5f\"}},\"ternary\":{\"aaxis\":{\"gridcolor\":\"white\",\"linecolor\":\"white\",\"ticks\":\"\"},\"baxis\":{\"gridcolor\":\"white\",\"linecolor\":\"white\",\"ticks\":\"\"},\"bgcolor\":\"#E5ECF6\",\"caxis\":{\"gridcolor\":\"white\",\"linecolor\":\"white\",\"ticks\":\"\"}},\"title\":{\"x\":0.05},\"xaxis\":{\"automargin\":true,\"gridcolor\":\"white\",\"linecolor\":\"white\",\"ticks\":\"\",\"title\":{\"standoff\":15},\"zerolinecolor\":\"white\",\"zerolinewidth\":2},\"yaxis\":{\"automargin\":true,\"gridcolor\":\"white\",\"linecolor\":\"white\",\"ticks\":\"\",\"title\":{\"standoff\":15},\"zerolinecolor\":\"white\",\"zerolinewidth\":2}}},\"xaxis\":{\"anchor\":\"y\",\"domain\":[0.0,1.0],\"title\":{\"text\":\"Time evolution\"},\"tick0\":0,\"dtick\":1},\"yaxis\":{\"anchor\":\"x\",\"domain\":[0.0,1.0],\"title\":{\"text\":\"Vaccination count\"}},\"legend\":{\"title\":{\"text\":\"IncomeGroup\"},\"tracegroupgap\":0},\"title\":{\"text\":\"Measles vaccination rates in different countries based on income group: 12-23 months old children\"},\"barmode\":\"relative\"},                        {\"responsive\": true}                    ).then(function(){\n",
       "                            \n",
       "var gd = document.getElementById('2de89aa3-88e6-41df-a555-8dfd27511919');\n",
       "var x = new MutationObserver(function (mutations, observer) {{\n",
       "        var display = window.getComputedStyle(gd).display;\n",
       "        if (!display || display === 'none') {{\n",
       "            console.log([gd, 'removed!']);\n",
       "            Plotly.purge(gd);\n",
       "            observer.disconnect();\n",
       "        }}\n",
       "}});\n",
       "\n",
       "// Listen for the removal of the full notebook cells\n",
       "var notebookContainer = gd.closest('#notebook-container');\n",
       "if (notebookContainer) {{\n",
       "    x.observe(notebookContainer, {childList: true});\n",
       "}}\n",
       "\n",
       "// Listen for the clearing of the current output cell\n",
       "var outputEl = gd.closest('.output');\n",
       "if (outputEl) {{\n",
       "    x.observe(outputEl, {childList: true});\n",
       "}}\n",
       "\n",
       "                        })                };                });            </script>        </div>"
      ]
     },
     "metadata": {},
     "output_type": "display_data"
    }
   ],
   "source": [
    "fig_1_2 = px.bar(final_vax_rate_income_df_sorted, x='year', y=\"value_\", color=\"IncomeGroup\",\n",
    "             hover_data=[\"Country Name\"],\n",
    "             title='Measles vaccination rates in different countries based on income group: 12-23 months old children',\n",
    "             category_orders={\"IncomeGroup\": [\"Low income\", \"Lower middle income\", \"Upper middle income\", \"Hight income\"]}, color_continuous_scale='Inferno')\n",
    "\n",
    "fig_1_2.update_xaxes(tick0=0, dtick=1)\n",
    "\n",
    "fig_1_2.update_layout({\n",
    "    'yaxis': {\"title\": \"Vaccination count\"},\n",
    "    \"xaxis\": {\"title\": \"Time evolution\"},\n",
    "    \"title\": \"Measles vaccination rates in different countries based on income group: 12-23 months old children\"\n",
    "    })\n",
    "\n",
    "fig_1_2.show()"
   ]
  },
  {
   "cell_type": "code",
   "execution_count": null,
   "metadata": {
    "collapsed": false,
    "jupyter": {
     "outputs_hidden": false
    },
    "pycharm": {
     "name": "#%%\n"
    }
   },
   "outputs": [],
   "source": []
  }
 ],
 "metadata": {
  "kernelspec": {
   "display_name": "Python 3 (ipykernel)",
   "language": "python",
   "name": "python3"
  },
  "language_info": {
   "codemirror_mode": {
    "name": "ipython",
    "version": 3
   },
   "file_extension": ".py",
   "mimetype": "text/x-python",
   "name": "python",
   "nbconvert_exporter": "python",
   "pygments_lexer": "ipython3",
   "version": "3.9.7"
  }
 },
 "nbformat": 4,
 "nbformat_minor": 4
}
